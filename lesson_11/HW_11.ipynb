{
 "cells": [
  {
   "cell_type": "markdown",
   "id": "d2282c8a",
   "metadata": {},
   "source": [
    "Задание  \n",
    "1. Взять предобученную трансформерную архитектуру и решить задачу перевода (для тогоже корпуса что вы выбрали из предыдущего дз)    \n",
    "2. скачиваем готовый новостной датасет  \n",
    "!wget https://github.com/ods-ai-ml4sg/proj_news_viz/releases/download/data/gazeta.csv.gz  \n",
    "\n",
    "        ```  \n",
    "        # пример работы с ним   \n",
    "        from corus import load_ods_gazeta    \n",
    "        path = 'gazeta.csv.gz'  \n",
    "        records = load_ods_gazeta(path)  \n",
    "        next(records)  \n",
    "        ```  \n",
    "\n",
    "    реализовать метод поиска ближайших статей  \n",
    "    (на вход метода должен приходить запрос (какой-то вопрос) и количество вариантов вывода к примеру топ 5-ть или 3-ри, ваш   метод должен возвращать топ-k ближайших статей к этому запросу)  \n",
    "    визуально оценить качество  "
   ]
  },
  {
   "cell_type": "code",
   "execution_count": 19,
   "id": "1f65627a",
   "metadata": {},
   "outputs": [],
   "source": [
    "import transformers\n",
    "from transformers import AutoTokenizer, BertTokenizer\n",
    "\n",
    "import io\n",
    "\n",
    "from scipy.spatial import distance"
   ]
  },
  {
   "cell_type": "code",
   "execution_count": 2,
   "id": "c071c04b",
   "metadata": {},
   "outputs": [],
   "source": [
    "from transformers import pipeline\n",
    "from pprint import pprint\n",
    "\n",
    "nlp = pipeline(\"text-generation\", model= \"sberbank-ai/mGPT\")"
   ]
  },
  {
   "cell_type": "code",
   "execution_count": 6,
   "id": "e4e11d5b",
   "metadata": {},
   "outputs": [
    {
     "name": "stderr",
     "output_type": "stream",
     "text": [
      "Setting `pad_token_id` to `eos_token_id`:50256 for open-end generation.\n"
     ]
    },
    {
     "data": {
      "text/plain": [
       "'какие новости?\\nВот и я не знаю, что будет дальше.\\n'"
      ]
     },
     "execution_count": 6,
     "metadata": {},
     "output_type": "execute_result"
    }
   ],
   "source": [
    "nlp('какие новости?', do_sample=False)[0].get('generated_text')"
   ]
  },
  {
   "cell_type": "markdown",
   "id": "8c45b06d",
   "metadata": {},
   "source": [
    "translete"
   ]
  },
  {
   "cell_type": "code",
   "execution_count": 56,
   "id": "e65a1067",
   "metadata": {},
   "outputs": [
    {
     "name": "stdout",
     "output_type": "stream",
     "text": [
      "Requirement already satisfied: sentencepiece in c:\\program files\\python37\\lib\\site-packages (0.1.96)\n",
      "Requirement already satisfied: transformers[sentencepiece] in c:\\program files\\python37\\lib\\site-packages (4.21.1)\n",
      "Requirement already satisfied: huggingface-hub<1.0,>=0.1.0 in c:\\program files\\python37\\lib\\site-packages (from transformers[sentencepiece]) (0.8.1)\n",
      "Requirement already satisfied: importlib-metadata in c:\\program files\\python37\\lib\\site-packages (from transformers[sentencepiece]) (4.8.1)\n",
      "Requirement already satisfied: filelock in c:\\program files\\python37\\lib\\site-packages (from transformers[sentencepiece]) (3.7.1)\n",
      "Requirement already satisfied: regex!=2019.12.17 in c:\\program files\\python37\\lib\\site-packages (from transformers[sentencepiece]) (2021.11.2)\n",
      "Requirement already satisfied: tqdm>=4.27 in c:\\program files\\python37\\lib\\site-packages (from transformers[sentencepiece]) (4.62.3)\n",
      "Requirement already satisfied: numpy>=1.17 in c:\\program files\\python37\\lib\\site-packages (from transformers[sentencepiece]) (1.21.4)\n",
      "Requirement already satisfied: requests in c:\\program files\\python37\\lib\\site-packages (from transformers[sentencepiece]) (2.26.0)\n",
      "Requirement already satisfied: packaging>=20.0 in c:\\program files\\python37\\lib\\site-packages (from transformers[sentencepiece]) (21.3)\n",
      "Requirement already satisfied: tokenizers!=0.11.3,<0.13,>=0.11.1 in c:\\program files\\python37\\lib\\site-packages (from transformers[sentencepiece]) (0.12.1)\n",
      "Requirement already satisfied: pyyaml>=5.1 in c:\\program files\\python37\\lib\\site-packages (from transformers[sentencepiece]) (6.0)\n",
      "Requirement already satisfied: protobuf<=3.20.1 in c:\\program files\\python37\\lib\\site-packages (from transformers[sentencepiece]) (3.19.4)\n",
      "Requirement already satisfied: typing-extensions>=3.7.4.3 in c:\\program files\\python37\\lib\\site-packages (from huggingface-hub<1.0,>=0.1.0->transformers[sentencepiece]) (3.10.0.2)\n",
      "Requirement already satisfied: pyparsing!=3.0.5,>=2.0.2 in c:\\program files\\python37\\lib\\site-packages (from packaging>=20.0->transformers[sentencepiece]) (2.4.7)\n",
      "Requirement already satisfied: colorama in c:\\program files\\python37\\lib\\site-packages (from tqdm>=4.27->transformers[sentencepiece]) (0.4.4)\n",
      "Requirement already satisfied: zipp>=0.5 in c:\\program files\\python37\\lib\\site-packages (from importlib-metadata->transformers[sentencepiece]) (3.6.0)\n",
      "Requirement already satisfied: certifi>=2017.4.17 in c:\\program files\\python37\\lib\\site-packages (from requests->transformers[sentencepiece]) (2021.10.8)\n",
      "Requirement already satisfied: charset-normalizer~=2.0.0 in c:\\program files\\python37\\lib\\site-packages (from requests->transformers[sentencepiece]) (2.0.7)\n",
      "Requirement already satisfied: urllib3<1.27,>=1.21.1 in c:\\program files\\python37\\lib\\site-packages (from requests->transformers[sentencepiece]) (1.26.7)\n",
      "Requirement already satisfied: idna<4,>=2.5 in c:\\program files\\python37\\lib\\site-packages (from requests->transformers[sentencepiece]) (3.2)\n",
      "\n",
      "[notice] A new release of pip available: 22.1.2 -> 22.2.1\n",
      "[notice] To update, run: python.exe -m pip install --upgrade pip\n"
     ]
    }
   ],
   "source": [
    "!pip install sentencepiece transformers[sentencepiece]"
   ]
  },
  {
   "cell_type": "markdown",
   "id": "24975111",
   "metadata": {},
   "source": [
    "Превод ru -> en"
   ]
  },
  {
   "cell_type": "code",
   "execution_count": 41,
   "id": "5c1af420",
   "metadata": {},
   "outputs": [
    {
     "name": "stderr",
     "output_type": "stream",
     "text": [
      "c:\\program files\\python37\\lib\\site-packages\\transformers\\models\\marian\\tokenization_marian.py:198: UserWarning: Recommended: pip install sacremoses.\n",
      "  warnings.warn(\"Recommended: pip install sacremoses.\")\n"
     ]
    },
    {
     "name": "stdout",
     "output_type": "stream",
     "text": [
      "[{'translation_text': 'I saw a rainbow outside the window today.'}]\n"
     ]
    }
   ],
   "source": [
    "from transformers import pipeline\n",
    "translator = pipeline(\"translation\", model = 'Helsinki-NLP/opus-mt-ru-en')\n",
    "print(translator(\"сегодня увидел за окном радугу\", max_length=40))"
   ]
  },
  {
   "cell_type": "code",
   "execution_count": 42,
   "id": "571229cd",
   "metadata": {},
   "outputs": [
    {
     "name": "stdout",
     "output_type": "stream",
     "text": [
      "[{'translation_text': 'Hey, world.'}]\n"
     ]
    }
   ],
   "source": [
    "print(translator(\"Привет мир\", max_length=70))"
   ]
  },
  {
   "cell_type": "markdown",
   "id": "420b2024",
   "metadata": {},
   "source": [
    "Превод en -> ru"
   ]
  },
  {
   "cell_type": "code",
   "execution_count": 43,
   "id": "99870704",
   "metadata": {},
   "outputs": [
    {
     "data": {
      "application/vnd.jupyter.widget-view+json": {
       "model_id": "67f2464c4dc04a6e88c02e47a47669e6",
       "version_major": 2,
       "version_minor": 0
      },
      "text/plain": [
       "Downloading pytorch_model.bin:   0%|          | 0.00/293M [00:00<?, ?B/s]"
      ]
     },
     "metadata": {},
     "output_type": "display_data"
    },
    {
     "data": {
      "application/vnd.jupyter.widget-view+json": {
       "model_id": "745b49ec3ea34277ad4e3adb4cd84b5f",
       "version_major": 2,
       "version_minor": 0
      },
      "text/plain": [
       "Downloading tokenizer_config.json:   0%|          | 0.00/42.0 [00:00<?, ?B/s]"
      ]
     },
     "metadata": {},
     "output_type": "display_data"
    },
    {
     "data": {
      "application/vnd.jupyter.widget-view+json": {
       "model_id": "aceb6d862a9b463bb6d00b5eeffdb5b7",
       "version_major": 2,
       "version_minor": 0
      },
      "text/plain": [
       "Downloading source.spm:   0%|          | 0.00/784k [00:00<?, ?B/s]"
      ]
     },
     "metadata": {},
     "output_type": "display_data"
    },
    {
     "data": {
      "application/vnd.jupyter.widget-view+json": {
       "model_id": "99ae5a0796b047cba335073454ae620e",
       "version_major": 2,
       "version_minor": 0
      },
      "text/plain": [
       "Downloading target.spm:   0%|          | 0.00/1.03M [00:00<?, ?B/s]"
      ]
     },
     "metadata": {},
     "output_type": "display_data"
    },
    {
     "data": {
      "application/vnd.jupyter.widget-view+json": {
       "model_id": "25bd982f4baa4c34abccfd797589bffc",
       "version_major": 2,
       "version_minor": 0
      },
      "text/plain": [
       "Downloading vocab.json:   0%|          | 0.00/2.48M [00:00<?, ?B/s]"
      ]
     },
     "metadata": {},
     "output_type": "display_data"
    },
    {
     "name": "stdout",
     "output_type": "stream",
     "text": [
      "[{'translation_text': 'Сегодня я видел радугу за окном.'}]\n"
     ]
    }
   ],
   "source": [
    "from transformers import pipeline\n",
    "translator_en = pipeline(\"translation\", model = 'Helsinki-NLP/opus-mt-en-ru')\n",
    "print(translator_en(\"I saw a rainbow outside the window today.\", max_length=40))"
   ]
  },
  {
   "cell_type": "code",
   "execution_count": 44,
   "id": "5a0e5edb",
   "metadata": {},
   "outputs": [
    {
     "name": "stdout",
     "output_type": "stream",
     "text": [
      "[{'translation_text': 'Приветствую мир'}]\n"
     ]
    }
   ],
   "source": [
    "print(translator_en(\"hello world\", max_length=70))"
   ]
  },
  {
   "cell_type": "code",
   "execution_count": null,
   "id": "cf80de9f",
   "metadata": {},
   "outputs": [],
   "source": []
  },
  {
   "cell_type": "markdown",
   "id": "3f085035",
   "metadata": {},
   "source": [
    "# 2"
   ]
  },
  {
   "cell_type": "code",
   "execution_count": 2,
   "id": "2010884a",
   "metadata": {},
   "outputs": [],
   "source": [
    "import numpy as np\n",
    "import tensorflow as tf\n",
    "from transformers import TFAutoModel, AutoTokenizer"
   ]
  },
  {
   "cell_type": "markdown",
   "id": "60b44678",
   "metadata": {},
   "source": [
    "загружаю модель и токенайзер"
   ]
  },
  {
   "cell_type": "code",
   "execution_count": 16,
   "id": "5602820d",
   "metadata": {},
   "outputs": [
    {
     "name": "stderr",
     "output_type": "stream",
     "text": [
      "Some layers from the model checkpoint at Geotrend/bert-base-ru-cased were not used when initializing TFBertModel: ['mlm___cls']\n",
      "- This IS expected if you are initializing TFBertModel from the checkpoint of a model trained on another task or with another architecture (e.g. initializing a BertForSequenceClassification model from a BertForPreTraining model).\n",
      "- This IS NOT expected if you are initializing TFBertModel from the checkpoint of a model that you expect to be exactly identical (initializing a BertForSequenceClassification model from a BertForSequenceClassification model).\n",
      "All the layers of TFBertModel were initialized from the model checkpoint at Geotrend/bert-base-ru-cased.\n",
      "If your task is similar to the task the model of the checkpoint was trained on, you can already use TFBertModel for predictions without further training.\n"
     ]
    }
   ],
   "source": [
    "bert = TFAutoModel.from_pretrained(\"Geotrend/bert-base-ru-cased\")\n",
    "tokenizer = AutoTokenizer.from_pretrained(\"Geotrend/bert-base-ru-cased\")"
   ]
  },
  {
   "cell_type": "code",
   "execution_count": 3,
   "id": "fda0383c",
   "metadata": {},
   "outputs": [],
   "source": [
    "tok = tokenizer([\"Погода сегодня отличная в отличии от прошлой недели.\", \"Вечером идёт сильный дождь обычно до утра!\"], \n",
    "               max_length=20, truncation=True, padding='max_length', return_token_type_ids=False, return_tensors='tf')"
   ]
  },
  {
   "cell_type": "code",
   "execution_count": 4,
   "id": "387ce891",
   "metadata": {},
   "outputs": [
    {
     "data": {
      "text/plain": [
       "{'input_ids': <tf.Tensor: shape=(2, 20), dtype=int32, numpy=\n",
       "array([[   11,   965, 10728, 10148,   392,   625,  4266,   167,   392,\n",
       "          625,  1870,   288,   392,  1436,  4668,   429, 11241,    27,\n",
       "           12,     0],\n",
       "       [   11,   137,  9077,  3274, 11985,  3708,  3582,   403,  1203,\n",
       "         6243,  4985,   403,   184,  4539,    14,    12,     0,     0,\n",
       "            0,     0]])>, 'attention_mask': <tf.Tensor: shape=(2, 20), dtype=int32, numpy=\n",
       "array([[1, 1, 1, 1, 1, 1, 1, 1, 1, 1, 1, 1, 1, 1, 1, 1, 1, 1, 1, 0],\n",
       "       [1, 1, 1, 1, 1, 1, 1, 1, 1, 1, 1, 1, 1, 1, 1, 1, 0, 0, 0, 0]])>}"
      ]
     },
     "execution_count": 4,
     "metadata": {},
     "output_type": "execute_result"
    }
   ],
   "source": [
    "tok"
   ]
  },
  {
   "cell_type": "code",
   "execution_count": 5,
   "id": "1bdce978",
   "metadata": {},
   "outputs": [],
   "source": [
    "out = bert(**tok)"
   ]
  },
  {
   "cell_type": "code",
   "execution_count": 6,
   "id": "1589430e",
   "metadata": {},
   "outputs": [
    {
     "data": {
      "text/plain": [
       "TFBaseModelOutputWithPoolingAndCrossAttentions(last_hidden_state=<tf.Tensor: shape=(2, 20, 768), dtype=float32, numpy=\n",
       "array([[[ 0.03819018,  0.07156943,  0.09131993, ..., -0.1835718 ,\n",
       "          0.01867675, -0.22367653],\n",
       "        [ 0.14797847, -0.17483613,  0.17382078, ..., -0.41834867,\n",
       "         -0.21098769, -0.5299227 ],\n",
       "        [ 0.05723458, -0.5699748 ,  0.49159086, ..., -0.30470586,\n",
       "          0.0797454 , -0.6216985 ],\n",
       "        ...,\n",
       "        [-0.01815331, -0.1583628 ,  0.698445  , ..., -0.4177136 ,\n",
       "         -0.21134536, -0.17493863],\n",
       "        [ 0.20085657, -0.08146185,  0.7731839 , ..., -0.570418  ,\n",
       "         -0.07559601, -0.45889935],\n",
       "        [ 0.0134001 , -0.17168729,  0.67724174, ..., -0.31340474,\n",
       "         -0.16356654, -0.41178197]],\n",
       "\n",
       "       [[ 0.06399527,  0.1544463 , -0.13583916, ...,  0.15447147,\n",
       "          0.46281058, -0.09160701],\n",
       "        [ 0.2685944 , -0.20166266,  0.37964725, ...,  0.33930385,\n",
       "          0.65223634, -0.41767874],\n",
       "        [-0.23570526,  0.10125846,  0.02285784, ..., -0.5501144 ,\n",
       "          0.8288276 ,  0.06447223],\n",
       "        ...,\n",
       "        [-0.01996499,  0.20887825,  0.14996056, ...,  0.17891084,\n",
       "          0.34426045, -0.18655458],\n",
       "        [ 0.04150454,  0.15244213,  0.15443751, ..., -0.04336701,\n",
       "          0.36998278,  0.1036798 ],\n",
       "        [ 0.21945743,  0.04559727,  0.23187432, ..., -0.09085312,\n",
       "          0.3441566 , -0.2172923 ]]], dtype=float32)>, pooler_output=<tf.Tensor: shape=(2, 768), dtype=float32, numpy=\n",
       "array([[-0.3267656 ,  0.1162425 , -0.08803337, ...,  0.3300892 ,\n",
       "         0.08718193, -0.00109257],\n",
       "       [-0.34685668,  0.22584419,  0.09379828, ...,  0.19157435,\n",
       "         0.32265192, -0.27708763]], dtype=float32)>, past_key_values=None, hidden_states=None, attentions=None, cross_attentions=None)"
      ]
     },
     "execution_count": 6,
     "metadata": {},
     "output_type": "execute_result"
    }
   ],
   "source": [
    "out"
   ]
  },
  {
   "cell_type": "markdown",
   "id": "a5965096",
   "metadata": {},
   "source": [
    "# Загружаю данные"
   ]
  },
  {
   "cell_type": "code",
   "execution_count": 8,
   "id": "6e032501",
   "metadata": {},
   "outputs": [
    {
     "name": "stderr",
     "output_type": "stream",
     "text": [
      "No config specified, defaulting to: gazeta/default\n",
      "Reusing dataset gazeta (C:\\Users\\VoronkovSergey\\.cache\\huggingface\\datasets\\IlyaGusev___gazeta\\default\\1.0.0\\ef9349c3c0f3112ca4036520d76c4bc1b8a79d30bc29643c6cae5a094d44e457)\n"
     ]
    },
    {
     "data": {
      "application/vnd.jupyter.widget-view+json": {
       "model_id": "1e9b01a352604cd68eeac760938512e1",
       "version_major": 2,
       "version_minor": 0
      },
      "text/plain": [
       "  0%|          | 0/3 [00:00<?, ?it/s]"
      ]
     },
     "metadata": {},
     "output_type": "display_data"
    }
   ],
   "source": [
    "# по сути данные те же можно пользоваться любым способом загрузки\n",
    "from datasets import load_dataset\n",
    "\n",
    "dataset = load_dataset('IlyaGusev/gazeta', revision=\"v1.0\")[\"train\"]"
   ]
  },
  {
   "cell_type": "code",
   "execution_count": 3,
   "id": "7dcc13f3",
   "metadata": {},
   "outputs": [],
   "source": [
    "import pandas as pd"
   ]
  },
  {
   "cell_type": "code",
   "execution_count": 10,
   "id": "481ec6be",
   "metadata": {},
   "outputs": [],
   "source": [
    "df = pd.DataFrame(dataset)"
   ]
  },
  {
   "cell_type": "code",
   "execution_count": 22,
   "id": "5ec3fa4f",
   "metadata": {},
   "outputs": [],
   "source": [
    "# df.to_pickle('news.pkl')"
   ]
  },
  {
   "cell_type": "code",
   "execution_count": 11,
   "id": "6c73fd86",
   "metadata": {},
   "outputs": [
    {
     "data": {
      "text/html": [
       "<div>\n",
       "<style scoped>\n",
       "    .dataframe tbody tr th:only-of-type {\n",
       "        vertical-align: middle;\n",
       "    }\n",
       "\n",
       "    .dataframe tbody tr th {\n",
       "        vertical-align: top;\n",
       "    }\n",
       "\n",
       "    .dataframe thead th {\n",
       "        text-align: right;\n",
       "    }\n",
       "</style>\n",
       "<table border=\"1\" class=\"dataframe\">\n",
       "  <thead>\n",
       "    <tr style=\"text-align: right;\">\n",
       "      <th></th>\n",
       "      <th>text</th>\n",
       "      <th>summary</th>\n",
       "      <th>title</th>\n",
       "      <th>date</th>\n",
       "      <th>url</th>\n",
       "    </tr>\n",
       "  </thead>\n",
       "  <tbody>\n",
       "    <tr>\n",
       "      <th>0</th>\n",
       "      <td>«По итогам 2011 года чистый отток может состав...</td>\n",
       "      <td>В 2011 году из России уйдет $80 млрд, считают ...</td>\n",
       "      <td>Прогноз не успевает за оттоком</td>\n",
       "      <td>2011-11-30 18:33:39</td>\n",
       "      <td>https://www.gazeta.ru/financial/2011/11/30/385...</td>\n",
       "    </tr>\n",
       "    <tr>\n",
       "      <th>1</th>\n",
       "      <td>Российское подразделение интернет-корпорации G...</td>\n",
       "      <td>Юлия Соловьева, экс-директор холдинга «Профмед...</td>\n",
       "      <td>Google закончил поиск</td>\n",
       "      <td>2013-01-24 18:20:09</td>\n",
       "      <td>https://www.gazeta.ru/business/2013/01/24/4939...</td>\n",
       "    </tr>\n",
       "    <tr>\n",
       "      <th>2</th>\n",
       "      <td>Басманный районный суд Москвы вечером 6 феврал...</td>\n",
       "      <td>Суд арестовал на два месяца четверых экс-чинов...</td>\n",
       "      <td>«Фигуранты дела могут давить на свидетелей»</td>\n",
       "      <td>2018-02-06 21:21:14</td>\n",
       "      <td>https://www.gazeta.ru/social/2018/02/06/116393...</td>\n",
       "    </tr>\n",
       "    <tr>\n",
       "      <th>3</th>\n",
       "      <td>Как повлияло вступление в ВТО на конкурентносп...</td>\n",
       "      <td>Мнения предпринимателей по поводу вступления в...</td>\n",
       "      <td>«С последних традиционно «отжимают» больше»</td>\n",
       "      <td>2013-06-21 17:43:50</td>\n",
       "      <td>https://www.gazeta.ru/business/2013/06/21/5388...</td>\n",
       "    </tr>\n",
       "    <tr>\n",
       "      <th>4</th>\n",
       "      <td>К третьему сезону «Голос» на Первом канале ста...</td>\n",
       "      <td>На Первом канале завершился третий сезон шоу «...</td>\n",
       "      <td>Третий «Голос» за Градского</td>\n",
       "      <td>2014-12-27 01:10:01</td>\n",
       "      <td>https://www.gazeta.ru/culture/2014/12/27/a_636...</td>\n",
       "    </tr>\n",
       "  </tbody>\n",
       "</table>\n",
       "</div>"
      ],
      "text/plain": [
       "                                                text  \\\n",
       "0  «По итогам 2011 года чистый отток может состав...   \n",
       "1  Российское подразделение интернет-корпорации G...   \n",
       "2  Басманный районный суд Москвы вечером 6 феврал...   \n",
       "3  Как повлияло вступление в ВТО на конкурентносп...   \n",
       "4  К третьему сезону «Голос» на Первом канале ста...   \n",
       "\n",
       "                                             summary  \\\n",
       "0  В 2011 году из России уйдет $80 млрд, считают ...   \n",
       "1  Юлия Соловьева, экс-директор холдинга «Профмед...   \n",
       "2  Суд арестовал на два месяца четверых экс-чинов...   \n",
       "3  Мнения предпринимателей по поводу вступления в...   \n",
       "4  На Первом канале завершился третий сезон шоу «...   \n",
       "\n",
       "                                         title                 date  \\\n",
       "0               Прогноз не успевает за оттоком  2011-11-30 18:33:39   \n",
       "1                        Google закончил поиск  2013-01-24 18:20:09   \n",
       "2  «Фигуранты дела могут давить на свидетелей»  2018-02-06 21:21:14   \n",
       "3  «С последних традиционно «отжимают» больше»  2013-06-21 17:43:50   \n",
       "4                  Третий «Голос» за Градского  2014-12-27 01:10:01   \n",
       "\n",
       "                                                 url  \n",
       "0  https://www.gazeta.ru/financial/2011/11/30/385...  \n",
       "1  https://www.gazeta.ru/business/2013/01/24/4939...  \n",
       "2  https://www.gazeta.ru/social/2018/02/06/116393...  \n",
       "3  https://www.gazeta.ru/business/2013/06/21/5388...  \n",
       "4  https://www.gazeta.ru/culture/2014/12/27/a_636...  "
      ]
     },
     "execution_count": 11,
     "metadata": {},
     "output_type": "execute_result"
    }
   ],
   "source": [
    "df.head()"
   ]
  },
  {
   "cell_type": "code",
   "execution_count": 72,
   "id": "c5af306f",
   "metadata": {},
   "outputs": [],
   "source": [
    "data = df[['text', 'summary']]"
   ]
  },
  {
   "cell_type": "code",
   "execution_count": 73,
   "id": "9684e132",
   "metadata": {},
   "outputs": [
    {
     "data": {
      "text/html": [
       "<div>\n",
       "<style scoped>\n",
       "    .dataframe tbody tr th:only-of-type {\n",
       "        vertical-align: middle;\n",
       "    }\n",
       "\n",
       "    .dataframe tbody tr th {\n",
       "        vertical-align: top;\n",
       "    }\n",
       "\n",
       "    .dataframe thead th {\n",
       "        text-align: right;\n",
       "    }\n",
       "</style>\n",
       "<table border=\"1\" class=\"dataframe\">\n",
       "  <thead>\n",
       "    <tr style=\"text-align: right;\">\n",
       "      <th></th>\n",
       "      <th>text</th>\n",
       "      <th>summary</th>\n",
       "    </tr>\n",
       "  </thead>\n",
       "  <tbody>\n",
       "    <tr>\n",
       "      <th>0</th>\n",
       "      <td>«По итогам 2011 года чистый отток может состав...</td>\n",
       "      <td>В 2011 году из России уйдет $80 млрд, считают ...</td>\n",
       "    </tr>\n",
       "    <tr>\n",
       "      <th>1</th>\n",
       "      <td>Российское подразделение интернет-корпорации G...</td>\n",
       "      <td>Юлия Соловьева, экс-директор холдинга «Профмед...</td>\n",
       "    </tr>\n",
       "    <tr>\n",
       "      <th>2</th>\n",
       "      <td>Басманный районный суд Москвы вечером 6 феврал...</td>\n",
       "      <td>Суд арестовал на два месяца четверых экс-чинов...</td>\n",
       "    </tr>\n",
       "    <tr>\n",
       "      <th>3</th>\n",
       "      <td>Как повлияло вступление в ВТО на конкурентносп...</td>\n",
       "      <td>Мнения предпринимателей по поводу вступления в...</td>\n",
       "    </tr>\n",
       "    <tr>\n",
       "      <th>4</th>\n",
       "      <td>К третьему сезону «Голос» на Первом канале ста...</td>\n",
       "      <td>На Первом канале завершился третий сезон шоу «...</td>\n",
       "    </tr>\n",
       "  </tbody>\n",
       "</table>\n",
       "</div>"
      ],
      "text/plain": [
       "                                                text  \\\n",
       "0  «По итогам 2011 года чистый отток может состав...   \n",
       "1  Российское подразделение интернет-корпорации G...   \n",
       "2  Басманный районный суд Москвы вечером 6 феврал...   \n",
       "3  Как повлияло вступление в ВТО на конкурентносп...   \n",
       "4  К третьему сезону «Голос» на Первом канале ста...   \n",
       "\n",
       "                                             summary  \n",
       "0  В 2011 году из России уйдет $80 млрд, считают ...  \n",
       "1  Юлия Соловьева, экс-директор холдинга «Профмед...  \n",
       "2  Суд арестовал на два месяца четверых экс-чинов...  \n",
       "3  Мнения предпринимателей по поводу вступления в...  \n",
       "4  На Первом канале завершился третий сезон шоу «...  "
      ]
     },
     "execution_count": 73,
     "metadata": {},
     "output_type": "execute_result"
    }
   ],
   "source": [
    "data.head()"
   ]
  },
  {
   "cell_type": "markdown",
   "id": "e6f671f4",
   "metadata": {},
   "source": [
    "функция для преобразования в вектор"
   ]
  },
  {
   "cell_type": "markdown",
   "id": "258432f1",
   "metadata": {},
   "source": [
    "вектора будут длины самой длинной последовательности"
   ]
  },
  {
   "cell_type": "code",
   "execution_count": 70,
   "id": "7e6ad355",
   "metadata": {},
   "outputs": [
    {
     "name": "stdout",
     "output_type": "stream",
     "text": [
      "73\n"
     ]
    }
   ],
   "source": [
    "count = 0\n",
    "for i, data in data.iterrows():\n",
    "#     print(len(data['summary'].split()))\n",
    "    if count < len(data['summary'].split()):\n",
    "        count = len(data['summary'].split())\n",
    "print(count)"
   ]
  },
  {
   "cell_type": "code",
   "execution_count": 14,
   "id": "7134f885",
   "metadata": {},
   "outputs": [],
   "source": [
    "def emb(data):\n",
    "    tokinization = tokenizer([data], \n",
    "               max_length=73, truncation=True, padding='max_length', return_token_type_ids=False, return_tensors='tf')\n",
    "    out_emb = bert(**tokinization)\n",
    "    out_emb = out_emb[1].numpy()\n",
    "    return out_emb"
   ]
  },
  {
   "cell_type": "code",
   "execution_count": 75,
   "id": "cf95fcf0",
   "metadata": {},
   "outputs": [
    {
     "data": {
      "text/plain": [
       "(52400, 2)"
      ]
     },
     "execution_count": 75,
     "metadata": {},
     "output_type": "execute_result"
    }
   ],
   "source": [
    "data.shape"
   ]
  },
  {
   "cell_type": "code",
   "execution_count": 76,
   "id": "3956116b",
   "metadata": {},
   "outputs": [],
   "source": [
    "data = data.sample(1000)"
   ]
  },
  {
   "cell_type": "code",
   "execution_count": 77,
   "id": "1fa6a2be",
   "metadata": {},
   "outputs": [
    {
     "data": {
      "text/plain": [
       "(1000, 2)"
      ]
     },
     "execution_count": 77,
     "metadata": {},
     "output_type": "execute_result"
    }
   ],
   "source": [
    "data.shape"
   ]
  },
  {
   "cell_type": "markdown",
   "id": "e0a219bc",
   "metadata": {},
   "source": [
    "делаю эмбединги каждого текста в колонке summary"
   ]
  },
  {
   "cell_type": "code",
   "execution_count": 78,
   "id": "adb022d4",
   "metadata": {},
   "outputs": [],
   "source": [
    "data['embrding'] = data['summary'].apply(emb)"
   ]
  },
  {
   "cell_type": "code",
   "execution_count": 79,
   "id": "aa7136c4",
   "metadata": {},
   "outputs": [
    {
     "data": {
      "text/html": [
       "<div>\n",
       "<style scoped>\n",
       "    .dataframe tbody tr th:only-of-type {\n",
       "        vertical-align: middle;\n",
       "    }\n",
       "\n",
       "    .dataframe tbody tr th {\n",
       "        vertical-align: top;\n",
       "    }\n",
       "\n",
       "    .dataframe thead th {\n",
       "        text-align: right;\n",
       "    }\n",
       "</style>\n",
       "<table border=\"1\" class=\"dataframe\">\n",
       "  <thead>\n",
       "    <tr style=\"text-align: right;\">\n",
       "      <th></th>\n",
       "      <th>text</th>\n",
       "      <th>summary</th>\n",
       "      <th>embrding</th>\n",
       "    </tr>\n",
       "  </thead>\n",
       "  <tbody>\n",
       "    <tr>\n",
       "      <th>9758</th>\n",
       "      <td>Две главные точки притяжения россиян, покупающ...</td>\n",
       "      <td>Курортную недвижимость на берегу океана в США ...</td>\n",
       "      <td>[[-0.34230134, 0.082322955, 0.06668175, -0.155...</td>\n",
       "    </tr>\n",
       "    <tr>\n",
       "      <th>43431</th>\n",
       "      <td>Министр обороны Сергей Шойгу обрушился с крити...</td>\n",
       "      <td>Министр обороны Сергей Шойгу потребовал вернут...</td>\n",
       "      <td>[[-0.22858617, 0.0655227, 0.024531558, -0.1688...</td>\n",
       "    </tr>\n",
       "    <tr>\n",
       "      <th>26232</th>\n",
       "      <td>Общество защиты прав потребителей (ОЗПП) подал...</td>\n",
       "      <td>Компания МТС нарушала закон, посылая абонентам...</td>\n",
       "      <td>[[-0.3335981, 0.06889029, -0.027939957, -0.138...</td>\n",
       "    </tr>\n",
       "    <tr>\n",
       "      <th>40167</th>\n",
       "      <td>В центре Москвы произошел крупный пожар. Огонь...</td>\n",
       "      <td>Крупный пожар вспыхнул утром в центре Москвы, ...</td>\n",
       "      <td>[[-0.24017225, 0.08606251, -0.06971901, -0.005...</td>\n",
       "    </tr>\n",
       "    <tr>\n",
       "      <th>16675</th>\n",
       "      <td>В России, увы, пока до подобных стандартов кач...</td>\n",
       "      <td>В странах Европейского союза действует «Директ...</td>\n",
       "      <td>[[-0.30010387, 0.031129533, 0.07411454, -0.060...</td>\n",
       "    </tr>\n",
       "  </tbody>\n",
       "</table>\n",
       "</div>"
      ],
      "text/plain": [
       "                                                    text  \\\n",
       "9758   Две главные точки притяжения россиян, покупающ...   \n",
       "43431  Министр обороны Сергей Шойгу обрушился с крити...   \n",
       "26232  Общество защиты прав потребителей (ОЗПП) подал...   \n",
       "40167  В центре Москвы произошел крупный пожар. Огонь...   \n",
       "16675  В России, увы, пока до подобных стандартов кач...   \n",
       "\n",
       "                                                 summary  \\\n",
       "9758   Курортную недвижимость на берегу океана в США ...   \n",
       "43431  Министр обороны Сергей Шойгу потребовал вернут...   \n",
       "26232  Компания МТС нарушала закон, посылая абонентам...   \n",
       "40167  Крупный пожар вспыхнул утром в центре Москвы, ...   \n",
       "16675  В странах Европейского союза действует «Директ...   \n",
       "\n",
       "                                                embrding  \n",
       "9758   [[-0.34230134, 0.082322955, 0.06668175, -0.155...  \n",
       "43431  [[-0.22858617, 0.0655227, 0.024531558, -0.1688...  \n",
       "26232  [[-0.3335981, 0.06889029, -0.027939957, -0.138...  \n",
       "40167  [[-0.24017225, 0.08606251, -0.06971901, -0.005...  \n",
       "16675  [[-0.30010387, 0.031129533, 0.07411454, -0.060...  "
      ]
     },
     "execution_count": 79,
     "metadata": {},
     "output_type": "execute_result"
    }
   ],
   "source": [
    "data.head()"
   ]
  },
  {
   "cell_type": "code",
   "execution_count": 80,
   "id": "cbf7c44a",
   "metadata": {},
   "outputs": [],
   "source": [
    "# data.to_pickle('data_emb.pkl')"
   ]
  },
  {
   "cell_type": "code",
   "execution_count": 4,
   "id": "d790ecfd",
   "metadata": {},
   "outputs": [],
   "source": [
    "data = pd.read_pickle('data_emb.pkl')"
   ]
  },
  {
   "cell_type": "code",
   "execution_count": 5,
   "id": "3e14fff1",
   "metadata": {},
   "outputs": [],
   "source": [
    "from scipy.cluster.hierarchy import linkage, dendrogram\n",
    "import matplotlib.pyplot as plt"
   ]
  },
  {
   "cell_type": "markdown",
   "id": "1e3a2fbc",
   "metadata": {},
   "source": [
    "делаю список эмбедингов"
   ]
  },
  {
   "cell_type": "code",
   "execution_count": 6,
   "id": "931ce50a",
   "metadata": {},
   "outputs": [],
   "source": [
    "samples = data['embrding'].values"
   ]
  },
  {
   "cell_type": "code",
   "execution_count": 7,
   "id": "80b78ceb",
   "metadata": {},
   "outputs": [],
   "source": [
    "samples = [i[0] for i in samples]\n"
   ]
  },
  {
   "cell_type": "code",
   "execution_count": 18,
   "id": "aef60020",
   "metadata": {},
   "outputs": [],
   "source": []
  },
  {
   "cell_type": "code",
   "execution_count": 129,
   "id": "f77609e5",
   "metadata": {},
   "outputs": [
    {
     "data": {
      "text/plain": [
       "0.2532772421836853"
      ]
     },
     "execution_count": 129,
     "metadata": {},
     "output_type": "execute_result"
    }
   ],
   "source": [
    "distance.cosine(samples[0], samples[1])"
   ]
  },
  {
   "cell_type": "code",
   "execution_count": 9,
   "id": "afdc703c",
   "metadata": {},
   "outputs": [],
   "source": [
    "data['embrding'] = data['embrding'].apply(lambda x: x[0])"
   ]
  },
  {
   "cell_type": "code",
   "execution_count": 10,
   "id": "e75fe5fc",
   "metadata": {},
   "outputs": [
    {
     "data": {
      "text/html": [
       "<div>\n",
       "<style scoped>\n",
       "    .dataframe tbody tr th:only-of-type {\n",
       "        vertical-align: middle;\n",
       "    }\n",
       "\n",
       "    .dataframe tbody tr th {\n",
       "        vertical-align: top;\n",
       "    }\n",
       "\n",
       "    .dataframe thead th {\n",
       "        text-align: right;\n",
       "    }\n",
       "</style>\n",
       "<table border=\"1\" class=\"dataframe\">\n",
       "  <thead>\n",
       "    <tr style=\"text-align: right;\">\n",
       "      <th></th>\n",
       "      <th>text</th>\n",
       "      <th>summary</th>\n",
       "      <th>embrding</th>\n",
       "    </tr>\n",
       "  </thead>\n",
       "  <tbody>\n",
       "    <tr>\n",
       "      <th>9758</th>\n",
       "      <td>Две главные точки притяжения россиян, покупающ...</td>\n",
       "      <td>Курортную недвижимость на берегу океана в США ...</td>\n",
       "      <td>[-0.34230134, 0.082322955, 0.06668175, -0.1551...</td>\n",
       "    </tr>\n",
       "    <tr>\n",
       "      <th>43431</th>\n",
       "      <td>Министр обороны Сергей Шойгу обрушился с крити...</td>\n",
       "      <td>Министр обороны Сергей Шойгу потребовал вернут...</td>\n",
       "      <td>[-0.22858617, 0.0655227, 0.024531558, -0.16884...</td>\n",
       "    </tr>\n",
       "    <tr>\n",
       "      <th>26232</th>\n",
       "      <td>Общество защиты прав потребителей (ОЗПП) подал...</td>\n",
       "      <td>Компания МТС нарушала закон, посылая абонентам...</td>\n",
       "      <td>[-0.3335981, 0.06889029, -0.027939957, -0.1389...</td>\n",
       "    </tr>\n",
       "    <tr>\n",
       "      <th>40167</th>\n",
       "      <td>В центре Москвы произошел крупный пожар. Огонь...</td>\n",
       "      <td>Крупный пожар вспыхнул утром в центре Москвы, ...</td>\n",
       "      <td>[-0.24017225, 0.08606251, -0.06971901, -0.0053...</td>\n",
       "    </tr>\n",
       "    <tr>\n",
       "      <th>16675</th>\n",
       "      <td>В России, увы, пока до подобных стандартов кач...</td>\n",
       "      <td>В странах Европейского союза действует «Директ...</td>\n",
       "      <td>[-0.30010387, 0.031129533, 0.07411454, -0.0606...</td>\n",
       "    </tr>\n",
       "  </tbody>\n",
       "</table>\n",
       "</div>"
      ],
      "text/plain": [
       "                                                    text  \\\n",
       "9758   Две главные точки притяжения россиян, покупающ...   \n",
       "43431  Министр обороны Сергей Шойгу обрушился с крити...   \n",
       "26232  Общество защиты прав потребителей (ОЗПП) подал...   \n",
       "40167  В центре Москвы произошел крупный пожар. Огонь...   \n",
       "16675  В России, увы, пока до подобных стандартов кач...   \n",
       "\n",
       "                                                 summary  \\\n",
       "9758   Курортную недвижимость на берегу океана в США ...   \n",
       "43431  Министр обороны Сергей Шойгу потребовал вернут...   \n",
       "26232  Компания МТС нарушала закон, посылая абонентам...   \n",
       "40167  Крупный пожар вспыхнул утром в центре Москвы, ...   \n",
       "16675  В странах Европейского союза действует «Директ...   \n",
       "\n",
       "                                                embrding  \n",
       "9758   [-0.34230134, 0.082322955, 0.06668175, -0.1551...  \n",
       "43431  [-0.22858617, 0.0655227, 0.024531558, -0.16884...  \n",
       "26232  [-0.3335981, 0.06889029, -0.027939957, -0.1389...  \n",
       "40167  [-0.24017225, 0.08606251, -0.06971901, -0.0053...  \n",
       "16675  [-0.30010387, 0.031129533, 0.07411454, -0.0606...  "
      ]
     },
     "execution_count": 10,
     "metadata": {},
     "output_type": "execute_result"
    }
   ],
   "source": [
    "data.head()"
   ]
  },
  {
   "cell_type": "markdown",
   "id": "c4096d77",
   "metadata": {},
   "source": [
    "для поиска похожих 5 текстов я буду использовать косинусное расстояние"
   ]
  },
  {
   "cell_type": "code",
   "execution_count": 11,
   "id": "0c437dcd",
   "metadata": {},
   "outputs": [],
   "source": [
    "result = {}\n",
    "output_text = []\n",
    "def distance_cos(x, samples):\n",
    "    x = emb(x)\n",
    "    for i in samples:\n",
    "        dis = distance.cosine(i, x)\n",
    "        if len(result) < 5:\n",
    "            result[dis] = i\n",
    "        elif max(result) > dis:\n",
    "            result[dis] = result.pop(max(result))\n",
    "            result[dis] = i\n",
    "    return result\n",
    "            \n",
    "#     for i in result.values():\n",
    "        \n",
    "    "
   ]
  },
  {
   "cell_type": "code",
   "execution_count": 29,
   "id": "137c34c0",
   "metadata": {},
   "outputs": [],
   "source": [
    "test = data['summary'].iloc[1]"
   ]
  },
  {
   "cell_type": "code",
   "execution_count": 30,
   "id": "8ca72e53",
   "metadata": {},
   "outputs": [],
   "source": [
    "# test = 'Министр обороны Сергей Шойгу потребовал вернуть госпиталю им. Бурденко репутацию «образцовой клиники».'\n",
    "res = distance_cos(test, samples)"
   ]
  },
  {
   "cell_type": "code",
   "execution_count": 31,
   "id": "1fddd86b",
   "metadata": {},
   "outputs": [
    {
     "data": {
      "text/plain": [
       "dict_keys([0.06345844268798828, 0.05766087770462036, 0.0590246319770813, 0.06165957450866699, 0])"
      ]
     },
     "execution_count": 31,
     "metadata": {},
     "output_type": "execute_result"
    }
   ],
   "source": [
    "res.keys()"
   ]
  },
  {
   "cell_type": "markdown",
   "id": "a5a97007",
   "metadata": {},
   "source": [
    "функция возврата предложения по вектору"
   ]
  },
  {
   "cell_type": "code",
   "execution_count": 37,
   "id": "e792e697",
   "metadata": {},
   "outputs": [],
   "source": [
    "result_text = []\n",
    "def equality():\n",
    "    for i, d in data.iterrows():\n",
    "        for j in res.values():\n",
    "            x = set(d['embrding'])\n",
    "            j = set(j)\n",
    "            if x ==  j:\n",
    "                result_text.append(d['summary'])\n",
    "    return result_text\n",
    "            "
   ]
  },
  {
   "cell_type": "code",
   "execution_count": 38,
   "id": "7bbbcbef",
   "metadata": {},
   "outputs": [],
   "source": [
    "text_predict = equality()"
   ]
  },
  {
   "cell_type": "code",
   "execution_count": 39,
   "id": "59b2bb6f",
   "metadata": {},
   "outputs": [
    {
     "data": {
      "text/plain": [
       "'Министр обороны Сергей Шойгу потребовал вернуть госпиталю им. Бурденко репутацию «образцовой клиники». Для этого его руководству одновременно выделили средства и пригрозили кадровыми решениями. По мнению же экспертов, несмотря на потерю былого ореола, у главного госпиталя страны дела не так плохи. А в первую очередь спасать надо небольшие госпитали в регионах.'"
      ]
     },
     "execution_count": 39,
     "metadata": {},
     "output_type": "execute_result"
    }
   ],
   "source": [
    "test"
   ]
  },
  {
   "cell_type": "code",
   "execution_count": 40,
   "id": "5c1eab3b",
   "metadata": {},
   "outputs": [
    {
     "name": "stdout",
     "output_type": "stream",
     "text": [
      "Министр обороны Сергей Шойгу потребовал вернуть госпиталю им. Бурденко репутацию «образцовой клиники». Для этого его руководству одновременно выделили средства и пригрозили кадровыми решениями. По мнению же экспертов, несмотря на потерю былого ореола, у главного госпиталя страны дела не так плохи. А в первую очередь спасать надо небольшие госпитали в регионах.\n",
      "\n",
      "Немецкий телеканал ответил на требование Киева выгнать солиста группы Scooter из состава жюри одной из популярных программ после того, как коллектив выступил с концертом в Крыму.\n",
      "\n",
      "Музыкант Сергей Шнуров рассказал, что из совместно нажитого имущества досталось его бывшей супруге Матильде Мозговой после развода. По словам артиста, женщине отошло «больше половины».\n",
      "\n",
      "С помощью молотков и дымовых шашек в Петербурге поменяли гендиректора сети гипермакетов «Лента». Прежний руководитель считает свою отставку незаконной и намерен обратиться в прокуратуру.\n",
      "\n",
      "В Армении уволен мэр Еревана. Решение было принято на следующий день после драки, которую устроил градоначальник армянской столицы: он вступился за честь супруги на концерте Пласидо Доминго. Теперь следователи ищут состав преступления в его действиях.\n"
     ]
    }
   ],
   "source": [
    "print(\"\\n\\n\".join(text_predict))"
   ]
  },
  {
   "cell_type": "markdown",
   "id": "c35cb13e",
   "metadata": {},
   "source": [
    "## Вывод\n",
    "в целом текста которые по косинусному расстоянию оказались ближе можно отнести в одной тематике, думаю если делать на полных текстах точность будет лучше"
   ]
  }
 ],
 "metadata": {
  "kernelspec": {
   "display_name": "Python 3 (ipykernel)",
   "language": "python",
   "name": "python3"
  },
  "language_info": {
   "codemirror_mode": {
    "name": "ipython",
    "version": 3
   },
   "file_extension": ".py",
   "mimetype": "text/x-python",
   "name": "python",
   "nbconvert_exporter": "python",
   "pygments_lexer": "ipython3",
   "version": "3.7.9"
  }
 },
 "nbformat": 4,
 "nbformat_minor": 5
}
