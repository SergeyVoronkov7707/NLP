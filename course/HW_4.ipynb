{
 "cells": [
  {
   "cell_type": "markdown",
   "id": "33ac820c",
   "metadata": {},
   "source": [
    "Задача тематическое моделирование  \n",
    "\n",
    "продолжаем исследование датасета с твитами  \n",
    "\n",
    "Скачиваем датасет (источник): положительные, отрицательные.    \n",
    "\n",
    "или можно через ноутбук  \n",
    "\n",
    "!wget https://www.dropbox.com/s/fnpq3z4bcnoktiv/positive.csv  \n",
    "!wget https://www.dropbox.com/s/r6u59ljhhjdg6j0/negative.csv  \n",
    "\n",
    "как альтернатива можно скачать данные из Роспотребнадзора  \n",
    "https://zpp.rospotrebnadzor.ru/Forum/Appeals  \n",
    "для этого берём ноутбук parse_rospotrebnadzor.ipynb  \n",
    "устанавливаем количество скачанных страниц больше не 50-сят хотябы 500 и для анализа берём только вопросы так как ответы есть не всегда  \n",
    "  \n",
    "что надо сделать  \n",
    "1. объединить в одну выборку (это только для твитов), для роспотребнадзора сформировать датасет из вопросов  \n",
    "2. провести исследование и выявить тематики о которых говорят в твитах (для твитов), а для роспотребнадзора так же выявить тематики о которых люди пишут проанализировать  \n",
    "3. сделать визуализацию кластеров тематик  \n",
    "4. проинтерпритировать получившиеся тематики  "
   ]
  },
  {
   "cell_type": "code",
   "execution_count": 474,
   "id": "8eb276b6",
   "metadata": {},
   "outputs": [],
   "source": [
    "import pandas as pd\n",
    "import numpy as np\n",
    "import re\n",
    "import os\n",
    "\n",
    "from sklearn.metrics import *\n",
    "from sklearn.model_selection import train_test_split\n",
    "from sklearn.pipeline import Pipeline\n",
    "from sklearn.linear_model import LogisticRegression \n",
    "from sklearn.feature_extraction.text import CountVectorizer\n",
    "from sklearn.feature_extraction.text import TfidfVectorizer\n",
    "\n",
    "import matplotlib.pyplot as plt\n",
    "import seaborn as sns\n",
    "\n",
    "import nltk\n",
    "from nltk import ngrams\n",
    "from nltk.tokenize import word_tokenize\n",
    "from nltk.corpus import stopwords\n",
    "\n",
    "from collections import Counter\n",
    "\n",
    "import string\n",
    "from pymorphy2 import MorphAnalyzer\n",
    "from stop_words import get_stop_words\n",
    "\n",
    "import annoy\n",
    "from gensim.models import Word2Vec, FastText\n",
    "import pickle\n",
    "\n",
    "from tqdm import tqdm_notebook, tqdm\n",
    "\n",
    "import warnings \n",
    "\n",
    "warnings.filterwarnings(\"ignore\", category=DeprecationWarning)"
   ]
  },
  {
   "cell_type": "code",
   "execution_count": 475,
   "id": "b8443b41",
   "metadata": {},
   "outputs": [
    {
     "name": "stderr",
     "output_type": "stream",
     "text": [
      "c:\\program files\\python37\\lib\\site-packages\\IPython\\core\\interactiveshell.py:3444: DtypeWarning: Columns (3) have mixed types.Specify dtype option on import or set low_memory=False.\n",
      "  exec(code_obj, self.user_global_ns, self.user_ns)\n"
     ]
    }
   ],
   "source": [
    "df_lenta = pd.read_csv(\"lenta-ru-news.csv\")"
   ]
  },
  {
   "cell_type": "code",
   "execution_count": 476,
   "id": "e009a156",
   "metadata": {},
   "outputs": [
    {
     "data": {
      "text/html": [
       "<div>\n",
       "<style scoped>\n",
       "    .dataframe tbody tr th:only-of-type {\n",
       "        vertical-align: middle;\n",
       "    }\n",
       "\n",
       "    .dataframe tbody tr th {\n",
       "        vertical-align: top;\n",
       "    }\n",
       "\n",
       "    .dataframe thead th {\n",
       "        text-align: right;\n",
       "    }\n",
       "</style>\n",
       "<table border=\"1\" class=\"dataframe\">\n",
       "  <thead>\n",
       "    <tr style=\"text-align: right;\">\n",
       "      <th></th>\n",
       "      <th>url</th>\n",
       "      <th>title</th>\n",
       "      <th>text</th>\n",
       "      <th>topic</th>\n",
       "      <th>tags</th>\n",
       "      <th>date</th>\n",
       "    </tr>\n",
       "  </thead>\n",
       "  <tbody>\n",
       "    <tr>\n",
       "      <th>0</th>\n",
       "      <td>https://lenta.ru/news/1914/09/16/hungarnn/</td>\n",
       "      <td>1914. Русские войска вступили в пределы Венгрии</td>\n",
       "      <td>Бои у Сопоцкина и Друскеник закончились отступ...</td>\n",
       "      <td>Библиотека</td>\n",
       "      <td>Первая мировая</td>\n",
       "      <td>1914/09/16</td>\n",
       "    </tr>\n",
       "    <tr>\n",
       "      <th>1</th>\n",
       "      <td>https://lenta.ru/news/1914/09/16/lermontov/</td>\n",
       "      <td>1914. Празднование столетия М.Ю. Лермонтова от...</td>\n",
       "      <td>Министерство народного просвещения, в виду про...</td>\n",
       "      <td>Библиотека</td>\n",
       "      <td>Первая мировая</td>\n",
       "      <td>1914/09/16</td>\n",
       "    </tr>\n",
       "    <tr>\n",
       "      <th>2</th>\n",
       "      <td>https://lenta.ru/news/1914/09/17/nesteroff/</td>\n",
       "      <td>1914. Das ist Nesteroff!</td>\n",
       "      <td>Штабс-капитан П. Н. Нестеров на днях, увидев в...</td>\n",
       "      <td>Библиотека</td>\n",
       "      <td>Первая мировая</td>\n",
       "      <td>1914/09/17</td>\n",
       "    </tr>\n",
       "    <tr>\n",
       "      <th>3</th>\n",
       "      <td>https://lenta.ru/news/1914/09/17/bulldogn/</td>\n",
       "      <td>1914. Бульдог-гонец под Льежем</td>\n",
       "      <td>Фотограф-корреспондент Daily Mirror рассказыва...</td>\n",
       "      <td>Библиотека</td>\n",
       "      <td>Первая мировая</td>\n",
       "      <td>1914/09/17</td>\n",
       "    </tr>\n",
       "    <tr>\n",
       "      <th>4</th>\n",
       "      <td>https://lenta.ru/news/1914/09/18/zver/</td>\n",
       "      <td>1914. Под Люблином пойман швабский зверь</td>\n",
       "      <td>Лица, приехавшие в Варшаву из Люблина, передаю...</td>\n",
       "      <td>Библиотека</td>\n",
       "      <td>Первая мировая</td>\n",
       "      <td>1914/09/18</td>\n",
       "    </tr>\n",
       "  </tbody>\n",
       "</table>\n",
       "</div>"
      ],
      "text/plain": [
       "                                           url  \\\n",
       "0   https://lenta.ru/news/1914/09/16/hungarnn/   \n",
       "1  https://lenta.ru/news/1914/09/16/lermontov/   \n",
       "2  https://lenta.ru/news/1914/09/17/nesteroff/   \n",
       "3   https://lenta.ru/news/1914/09/17/bulldogn/   \n",
       "4       https://lenta.ru/news/1914/09/18/zver/   \n",
       "\n",
       "                                               title  \\\n",
       "0  1914. Русские войска вступили в пределы Венгрии     \n",
       "1  1914. Празднование столетия М.Ю. Лермонтова от...   \n",
       "2                           1914. Das ist Nesteroff!   \n",
       "3                    1914. Бульдог-гонец под Льежем    \n",
       "4           1914. Под Люблином пойман швабский зверь   \n",
       "\n",
       "                                                text       topic  \\\n",
       "0  Бои у Сопоцкина и Друскеник закончились отступ...  Библиотека   \n",
       "1  Министерство народного просвещения, в виду про...  Библиотека   \n",
       "2  Штабс-капитан П. Н. Нестеров на днях, увидев в...  Библиотека   \n",
       "3  Фотограф-корреспондент Daily Mirror рассказыва...  Библиотека   \n",
       "4  Лица, приехавшие в Варшаву из Люблина, передаю...  Библиотека   \n",
       "\n",
       "             tags        date  \n",
       "0  Первая мировая  1914/09/16  \n",
       "1  Первая мировая  1914/09/16  \n",
       "2  Первая мировая  1914/09/17  \n",
       "3  Первая мировая  1914/09/17  \n",
       "4  Первая мировая  1914/09/18  "
      ]
     },
     "execution_count": 476,
     "metadata": {},
     "output_type": "execute_result"
    }
   ],
   "source": [
    "df_lenta.head()"
   ]
  },
  {
   "cell_type": "code",
   "execution_count": 477,
   "id": "7a8db778",
   "metadata": {},
   "outputs": [
    {
     "name": "stdout",
     "output_type": "stream",
     "text": [
      "<class 'pandas.core.frame.DataFrame'>\n",
      "RangeIndex: 800975 entries, 0 to 800974\n",
      "Data columns (total 6 columns):\n",
      " #   Column  Non-Null Count   Dtype \n",
      "---  ------  --------------   ----- \n",
      " 0   url     800975 non-null  object\n",
      " 1   title   800975 non-null  object\n",
      " 2   text    800970 non-null  object\n",
      " 3   topic   738973 non-null  object\n",
      " 4   tags    773756 non-null  object\n",
      " 5   date    800975 non-null  object\n",
      "dtypes: object(6)\n",
      "memory usage: 36.7+ MB\n"
     ]
    }
   ],
   "source": [
    "df_lenta.info()"
   ]
  },
  {
   "cell_type": "code",
   "execution_count": 478,
   "id": "e94d2720",
   "metadata": {},
   "outputs": [],
   "source": [
    "df_lenta = df_lenta.dropna(axis=0, how='any')"
   ]
  },
  {
   "cell_type": "code",
   "execution_count": 479,
   "id": "0dab4001",
   "metadata": {},
   "outputs": [
    {
     "name": "stdout",
     "output_type": "stream",
     "text": [
      "<class 'pandas.core.frame.DataFrame'>\n",
      "Int64Index: 712654 entries, 0 to 739175\n",
      "Data columns (total 6 columns):\n",
      " #   Column  Non-Null Count   Dtype \n",
      "---  ------  --------------   ----- \n",
      " 0   url     712654 non-null  object\n",
      " 1   title   712654 non-null  object\n",
      " 2   text    712654 non-null  object\n",
      " 3   topic   712654 non-null  object\n",
      " 4   tags    712654 non-null  object\n",
      " 5   date    712654 non-null  object\n",
      "dtypes: object(6)\n",
      "memory usage: 38.1+ MB\n"
     ]
    }
   ],
   "source": [
    "df_lenta.info()"
   ]
  },
  {
   "cell_type": "code",
   "execution_count": 480,
   "id": "ad20b015",
   "metadata": {},
   "outputs": [],
   "source": [
    "data = pd.DataFrame( columns=['title','topic','text','tags'])"
   ]
  },
  {
   "cell_type": "code",
   "execution_count": 481,
   "id": "002feb9f",
   "metadata": {},
   "outputs": [],
   "source": [
    "data['title'] = df_lenta.title"
   ]
  },
  {
   "cell_type": "code",
   "execution_count": 482,
   "id": "c95d258c",
   "metadata": {},
   "outputs": [],
   "source": [
    "data['topic'] = df_lenta.topic"
   ]
  },
  {
   "cell_type": "code",
   "execution_count": 483,
   "id": "daa36344",
   "metadata": {},
   "outputs": [],
   "source": [
    "data['text'] = df_lenta.text"
   ]
  },
  {
   "cell_type": "code",
   "execution_count": 484,
   "id": "b34cb817",
   "metadata": {},
   "outputs": [],
   "source": [
    "data['tags'] = df_lenta.tags"
   ]
  },
  {
   "cell_type": "code",
   "execution_count": 485,
   "id": "51d2cb95",
   "metadata": {},
   "outputs": [
    {
     "data": {
      "text/html": [
       "<div>\n",
       "<style scoped>\n",
       "    .dataframe tbody tr th:only-of-type {\n",
       "        vertical-align: middle;\n",
       "    }\n",
       "\n",
       "    .dataframe tbody tr th {\n",
       "        vertical-align: top;\n",
       "    }\n",
       "\n",
       "    .dataframe thead th {\n",
       "        text-align: right;\n",
       "    }\n",
       "</style>\n",
       "<table border=\"1\" class=\"dataframe\">\n",
       "  <thead>\n",
       "    <tr style=\"text-align: right;\">\n",
       "      <th></th>\n",
       "      <th>title</th>\n",
       "      <th>topic</th>\n",
       "      <th>text</th>\n",
       "      <th>tags</th>\n",
       "    </tr>\n",
       "  </thead>\n",
       "  <tbody>\n",
       "    <tr>\n",
       "      <th>125889</th>\n",
       "      <td>Старьевщик-любитель устроил взрыв в Каире</td>\n",
       "      <td>Мир</td>\n",
       "      <td>В воскресенье в Каире произошел взрыв, в резул...</td>\n",
       "      <td>Все</td>\n",
       "    </tr>\n",
       "    <tr>\n",
       "      <th>123453</th>\n",
       "      <td>В Китае утвержден девиз Олимпиады-2008</td>\n",
       "      <td>Спорт</td>\n",
       "      <td>Организационный комитет по проведению Олимпийс...</td>\n",
       "      <td>Все</td>\n",
       "    </tr>\n",
       "    <tr>\n",
       "      <th>599064</th>\n",
       "      <td>Звезды YouTube сравнили «Евровидение» с Олимпи...</td>\n",
       "      <td>Интернет и СМИ</td>\n",
       "      <td>Популярные американские YouTube-блогеры проком...</td>\n",
       "      <td>Мемы</td>\n",
       "    </tr>\n",
       "  </tbody>\n",
       "</table>\n",
       "</div>"
      ],
      "text/plain": [
       "                                                    title           topic  \\\n",
       "125889          Старьевщик-любитель устроил взрыв в Каире             Мир   \n",
       "123453             В Китае утвержден девиз Олимпиады-2008           Спорт   \n",
       "599064  Звезды YouTube сравнили «Евровидение» с Олимпи...  Интернет и СМИ   \n",
       "\n",
       "                                                     text  tags  \n",
       "125889  В воскресенье в Каире произошел взрыв, в резул...   Все  \n",
       "123453  Организационный комитет по проведению Олимпийс...   Все  \n",
       "599064  Популярные американские YouTube-блогеры проком...  Мемы  "
      ]
     },
     "execution_count": 485,
     "metadata": {},
     "output_type": "execute_result"
    }
   ],
   "source": [
    "data.sample(3)"
   ]
  },
  {
   "cell_type": "code",
   "execution_count": 486,
   "id": "55b7e36f",
   "metadata": {},
   "outputs": [
    {
     "data": {
      "text/plain": [
       "Россия               155004\n",
       "Мир                  136620\n",
       "Экономика             76423\n",
       "Спорт                 57894\n",
       "Культура              53530\n",
       "Наука и техника       53136\n",
       "Бывший СССР           51370\n",
       "Интернет и СМИ        44421\n",
       "Из жизни              27513\n",
       "Дом                   21734\n",
       "Силовые структуры     11223\n",
       "Ценности               7581\n",
       "Бизнес                 7375\n",
       "Путешествия            6370\n",
       "69-я параллель         1268\n",
       "Name: topic, dtype: int64"
      ]
     },
     "execution_count": 486,
     "metadata": {},
     "output_type": "execute_result"
    }
   ],
   "source": [
    "data.topic.value_counts().head(15)"
   ]
  },
  {
   "cell_type": "markdown",
   "id": "027187d5",
   "metadata": {},
   "source": [
    "Для ускорения вычислений оставим тексты из 9 тем:"
   ]
  },
  {
   "cell_type": "code",
   "execution_count": 487,
   "id": "a487fc5b",
   "metadata": {},
   "outputs": [
    {
     "data": {
      "text/plain": [
       "array(['Библиотека', 'Россия', 'Мир', 'Экономика', 'Интернет и СМИ',\n",
       "       'Спорт', 'Культура', 'Из жизни', 'Наука и техника', 'Бывший СССР',\n",
       "       'Дом', 'Сочи', 'ЧМ-2014', 'Путешествия', 'Силовые структуры',\n",
       "       'Ценности', 'Легпром', 'Бизнес', 'МедНовости', 'Оружие',\n",
       "       '69-я параллель', 'Культпросвет ', 'Крым'], dtype=object)"
      ]
     },
     "execution_count": 487,
     "metadata": {},
     "output_type": "execute_result"
    }
   ],
   "source": [
    "data.topic.unique()"
   ]
  },
  {
   "cell_type": "code",
   "execution_count": 488,
   "id": "4ef1de5f",
   "metadata": {},
   "outputs": [
    {
     "data": {
      "text/plain": [
       "571934"
      ]
     },
     "execution_count": 488,
     "metadata": {},
     "output_type": "execute_result"
    }
   ],
   "source": [
    "topics = ['Россия', 'Мир','Экономика', 'Спорт', 'Культура', 'Путешествия', \n",
    "          'Наука и техника','Дом', 'Силовые структуры' ]\n",
    "\n",
    "data = data[data.topic.isin(topics)]\n",
    "data.dropna(inplace=True)\n",
    "len(data)"
   ]
  },
  {
   "cell_type": "markdown",
   "id": "3ff7b029",
   "metadata": {},
   "source": [
    "# Предобработка\n",
    "Все модели, с которыми мы будем работать далее, работают с предобработанными текстами, поэтому сперва проведем стандартную предобработку текста:"
   ]
  },
  {
   "cell_type": "code",
   "execution_count": 489,
   "id": "84a3f6b2",
   "metadata": {},
   "outputs": [],
   "source": [
    "import re\n",
    "import numpy as np\n",
    "from nltk.corpus import stopwords\n",
    "from tqdm.notebook import tqdm\n",
    "from multiprocessing import Pool\n",
    "from pymystem3 import Mystem"
   ]
  },
  {
   "cell_type": "code",
   "execution_count": 490,
   "id": "81048bc5",
   "metadata": {},
   "outputs": [],
   "source": [
    "import pymorphy2\n",
    "morph = pymorphy2.MorphAnalyzer()"
   ]
  },
  {
   "cell_type": "code",
   "execution_count": 491,
   "id": "a35fc940",
   "metadata": {},
   "outputs": [],
   "source": [
    "words_regex = re.compile('\\w+')\n",
    "\n",
    "def find_words(text, regex = words_regex):\n",
    "    tokens =  regex.findall(text.lower())\n",
    "    return [w for w in tokens if w.isalpha() and len(w) >= 3]\n",
    "\n",
    "\n",
    "stopwords_list = stopwords.words('russian')\n",
    "\n",
    "# mystem = Mystem()\n",
    "# def lemmatize(words, lemmer = mystem, stopwords = stopwords_list):\n",
    "#     lemmas = lemmer.lemmatize(' '.join(words))\n",
    "#     return [w for w in lemmas if not w in stopwords \n",
    "#             and w.isalpha()]\n",
    "\n",
    "def lemmatize(words, lemmer = morph, stopwords = stopwords_list):\n",
    "    lemmas = [lemmer.parse(w)[0].normal_form for w in words]\n",
    "    return [w for w in lemmas if not w in stopwords \n",
    "            and w.isalpha()]\n",
    "\n",
    "def preprocess(text):\n",
    "    return (lemmatize(find_words(text)))"
   ]
  },
  {
   "cell_type": "code",
   "execution_count": 492,
   "id": "140399e1",
   "metadata": {},
   "outputs": [
    {
     "data": {
      "text/plain": [
       "'В зале игровых автоматов в третьем ярусе подземного комплекса \"Охотный ряд\" на Манежной площади в центре Москвы около 20.00 прогремел мощный взрыв. По данным ФСБ, погибли не менее четырех человек, 20 человек ранены. Однако уточненная оценка числа пострадавших в результате этого взрыва может достигнуть ста человек. Агентство ИТАР-ТАСС, в сообщении от 21.15 со ссылкой на источники в ГУВД Москвы, говорит только о 30 раненых, в том числе о двух пострадавших в тяжелом состоянии. Однако число пострадавших в результате этого взрыва может составить до ста человек. По данным РИА \"Новости\", Боткинская больница, Институт им. Склифосовского, 1-ая Градская, 36-ая и 64-ая горбольница работают только на прием пострадавших. С места происшествия запросили 20 машин скорой помощи. Из торгового центра эвакуированы все посетитетели. Среди причин происшедшего называют террористический акт, связанный с последними событиями в Дагестане, однако, по сообщению ОРТ, не исключается и версия об аварии (взорвался игровой автомат). Более точных данных о причнах взрыва и количестве жертв представители УФСБ называть не торопятся.'"
      ]
     },
     "execution_count": 492,
     "metadata": {},
     "output_type": "execute_result"
    }
   ],
   "source": [
    "data.text.iloc[1]"
   ]
  },
  {
   "cell_type": "code",
   "execution_count": 493,
   "id": "86eb7249",
   "metadata": {},
   "outputs": [
    {
     "name": "stdout",
     "output_type": "stream",
     "text": [
      "['зал', 'игровой', 'автомат', 'третий', 'ярус', 'подземный', 'комплекс', 'охотный', 'ряд', 'манежный', 'площадь', 'центр', 'москва', 'около', 'прогреметь', 'мощный', 'взрыв', 'данные', 'фсб', 'погибнуть', 'менее', 'четыре', 'человек', 'человек', 'ранить', 'однако', 'уточнить', 'оценка', 'число', 'пострадать', 'результат', 'это', 'взрыв', 'мочь', 'достигнуть', 'сто', 'человек', 'агентство', 'итар', 'тасс', 'сообщение', 'ссылка', 'источник', 'гувд', 'москва', 'говорить', 'раненый', 'число', 'пострадать', 'тяжёлый', 'состояние', 'однако', 'число', 'пострадать', 'результат', 'это', 'взрыв', 'мочь', 'составить', 'сто', 'человек', 'данные', 'риа', 'новость', 'боткинский', 'больница', 'институт', 'склифосовский', 'градский', 'горбольница', 'работать', 'приём', 'пострадать', 'место', 'происшествие', 'запросить', 'машина', 'скорый', 'помощь', 'торговый', 'центр', 'эвакуировать', 'всё', 'посетитететь', 'среди', 'причина', 'произойти', 'называть', 'террористический', 'акт', 'связанный', 'последний', 'событие', 'дагестан', 'однако', 'сообщение', 'орт', 'исключаться', 'версия', 'авария', 'взорваться', 'игровой', 'автомат', 'точный', 'данные', 'причич', 'взрыв', 'количество', 'жертва', 'представитель', 'уфсб', 'называть', 'торопиться']\n"
     ]
    }
   ],
   "source": [
    "print(preprocess(data.text.iloc[1]))"
   ]
  },
  {
   "cell_type": "markdown",
   "id": "ab5c0489",
   "metadata": {},
   "source": [
    "Ниже мы оставим только случайные 10,000 текстов из нашей коллекции, чтобы ускорить вычисления:"
   ]
  },
  {
   "cell_type": "code",
   "execution_count": 494,
   "id": "1679512b",
   "metadata": {},
   "outputs": [
    {
     "data": {
      "text/plain": [
       "Россия               2750\n",
       "Мир                  2316\n",
       "Экономика            1380\n",
       "Спорт                1043\n",
       "Наука и техника       908\n",
       "Культура              895\n",
       "Дом                   420\n",
       "Силовые структуры     174\n",
       "Путешествия           114\n",
       "Name: topic, dtype: int64"
      ]
     },
     "execution_count": 494,
     "metadata": {},
     "output_type": "execute_result"
    }
   ],
   "source": [
    "data = data.sample(10000)\n",
    "data.topic.value_counts()"
   ]
  },
  {
   "cell_type": "code",
   "execution_count": 495,
   "id": "df1530a5",
   "metadata": {},
   "outputs": [
    {
     "data": {
      "application/vnd.jupyter.widget-view+json": {
       "model_id": "7024b44e3da24d09ad9f9988a8e65d2e",
       "version_major": 2,
       "version_minor": 0
      },
      "text/plain": [
       "  0%|          | 0/10000 [00:00<?, ?it/s]"
      ]
     },
     "metadata": {},
     "output_type": "display_data"
    }
   ],
   "source": [
    "preprocessed_text = list(tqdm(map(preprocess, data['text']), total=len(data)))"
   ]
  },
  {
   "cell_type": "code",
   "execution_count": 496,
   "id": "f1b08fa9",
   "metadata": {},
   "outputs": [
    {
     "data": {
      "text/html": [
       "<div>\n",
       "<style scoped>\n",
       "    .dataframe tbody tr th:only-of-type {\n",
       "        vertical-align: middle;\n",
       "    }\n",
       "\n",
       "    .dataframe tbody tr th {\n",
       "        vertical-align: top;\n",
       "    }\n",
       "\n",
       "    .dataframe thead th {\n",
       "        text-align: right;\n",
       "    }\n",
       "</style>\n",
       "<table border=\"1\" class=\"dataframe\">\n",
       "  <thead>\n",
       "    <tr style=\"text-align: right;\">\n",
       "      <th></th>\n",
       "      <th>title</th>\n",
       "      <th>topic</th>\n",
       "      <th>text</th>\n",
       "      <th>tags</th>\n",
       "    </tr>\n",
       "  </thead>\n",
       "  <tbody>\n",
       "    <tr>\n",
       "      <th>325576</th>\n",
       "      <td>Российский теннисист дисквалифицирован за допинг</td>\n",
       "      <td>Спорт</td>\n",
       "      <td>[международный, теннисный, федерация, itf, дис...</td>\n",
       "      <td>Все</td>\n",
       "    </tr>\n",
       "    <tr>\n",
       "      <th>678927</th>\n",
       "      <td>Следователи попросили поместить Серебренникова...</td>\n",
       "      <td>Культура</td>\n",
       "      <td>[следственный, комитет, россия, скр, попросить...</td>\n",
       "      <td>Театр</td>\n",
       "    </tr>\n",
       "    <tr>\n",
       "      <th>508571</th>\n",
       "      <td>SMS-рассылки сотовых операторов предложили при...</td>\n",
       "      <td>Экономика</td>\n",
       "      <td>[оператор, сотовый, связь, смочь, рассылать, s...</td>\n",
       "      <td>Бизнес</td>\n",
       "    </tr>\n",
       "  </tbody>\n",
       "</table>\n",
       "</div>"
      ],
      "text/plain": [
       "                                                    title      topic  \\\n",
       "325576   Российский теннисист дисквалифицирован за допинг      Спорт   \n",
       "678927  Следователи попросили поместить Серебренникова...   Культура   \n",
       "508571  SMS-рассылки сотовых операторов предложили при...  Экономика   \n",
       "\n",
       "                                                     text    tags  \n",
       "325576  [международный, теннисный, федерация, itf, дис...     Все  \n",
       "678927  [следственный, комитет, россия, скр, попросить...   Театр  \n",
       "508571  [оператор, сотовый, связь, смочь, рассылать, s...  Бизнес  "
      ]
     },
     "execution_count": 496,
     "metadata": {},
     "output_type": "execute_result"
    }
   ],
   "source": [
    "data['text'] = preprocessed_text\n",
    "data.sample(3)"
   ]
  },
  {
   "cell_type": "code",
   "execution_count": 497,
   "id": "a7efd399",
   "metadata": {},
   "outputs": [
    {
     "data": {
      "text/html": [
       "<div>\n",
       "<style scoped>\n",
       "    .dataframe tbody tr th:only-of-type {\n",
       "        vertical-align: middle;\n",
       "    }\n",
       "\n",
       "    .dataframe tbody tr th {\n",
       "        vertical-align: top;\n",
       "    }\n",
       "\n",
       "    .dataframe thead th {\n",
       "        text-align: right;\n",
       "    }\n",
       "</style>\n",
       "<table border=\"1\" class=\"dataframe\">\n",
       "  <thead>\n",
       "    <tr style=\"text-align: right;\">\n",
       "      <th></th>\n",
       "      <th>title</th>\n",
       "      <th>topic</th>\n",
       "      <th>text</th>\n",
       "      <th>tags</th>\n",
       "    </tr>\n",
       "  </thead>\n",
       "  <tbody>\n",
       "    <tr>\n",
       "      <th>402252</th>\n",
       "      <td>Куба построит электростанцию на сахарном трост...</td>\n",
       "      <td>Экономика</td>\n",
       "      <td>[куба, открыть, первый, электростанция, качест...</td>\n",
       "      <td>Все</td>\n",
       "    </tr>\n",
       "    <tr>\n",
       "      <th>603687</th>\n",
       "      <td>ЦБ начал проверку данных об иностранных счетах...</td>\n",
       "      <td>Экономика</td>\n",
       "      <td>[банк, россия, начать, проверка, информация, н...</td>\n",
       "      <td>Госэкономика</td>\n",
       "    </tr>\n",
       "    <tr>\n",
       "      <th>173052</th>\n",
       "      <td>Замначальника Дальневосточной таможни отпустил...</td>\n",
       "      <td>Россия</td>\n",
       "      <td>[первый, заместитель, начальник, дальневосточн...</td>\n",
       "      <td>Все</td>\n",
       "    </tr>\n",
       "  </tbody>\n",
       "</table>\n",
       "</div>"
      ],
      "text/plain": [
       "                                                    title      topic  \\\n",
       "402252  Куба построит электростанцию на сахарном трост...  Экономика   \n",
       "603687  ЦБ начал проверку данных об иностранных счетах...  Экономика   \n",
       "173052  Замначальника Дальневосточной таможни отпустил...     Россия   \n",
       "\n",
       "                                                     text          tags  \n",
       "402252  [куба, открыть, первый, электростанция, качест...           Все  \n",
       "603687  [банк, россия, начать, проверка, информация, н...  Госэкономика  \n",
       "173052  [первый, заместитель, начальник, дальневосточн...           Все  "
      ]
     },
     "execution_count": 497,
     "metadata": {},
     "output_type": "execute_result"
    }
   ],
   "source": [
    "data.sample(3)"
   ]
  },
  {
   "cell_type": "markdown",
   "id": "b46e1e22",
   "metadata": {},
   "source": [
    "# Модель LDA\n",
    "Первая модель, которую мы рассмотрим, LDA - латентное размещение Дирихле. Воспользуемся реализацией из библиотеки gensim."
   ]
  },
  {
   "cell_type": "code",
   "execution_count": 498,
   "id": "0d6c8482",
   "metadata": {},
   "outputs": [],
   "source": [
    "from gensim.models import *\n",
    "from gensim import corpora"
   ]
  },
  {
   "cell_type": "code",
   "execution_count": 499,
   "id": "b14df1ac",
   "metadata": {},
   "outputs": [],
   "source": [
    "dictionary = corpora.Dictionary(data['text'])\n",
    "\n",
    "dictionary.filter_extremes(no_below = 10, no_above = 0.9, keep_n=None) # игнорируем слова, которые встречаются реже 10 раз или составляют более 0.9 словаря \n",
    "dictionary.save('lenta.dict')"
   ]
  },
  {
   "cell_type": "markdown",
   "id": "013f40b1",
   "metadata": {},
   "source": [
    "Векторизуем документы:"
   ]
  },
  {
   "cell_type": "code",
   "execution_count": 500,
   "id": "f74c7ede",
   "metadata": {},
   "outputs": [],
   "source": [
    "corpus = [dictionary.doc2bow(text) for text in data['text']]\n",
    "corpora.MmCorpus.serialize('lenta.model', corpus) "
   ]
  },
  {
   "cell_type": "markdown",
   "id": "0a14b380",
   "metadata": {},
   "source": [
    "Теперь можем обучать модель:"
   ]
  },
  {
   "cell_type": "code",
   "execution_count": 501,
   "id": "a3f5f287",
   "metadata": {},
   "outputs": [
    {
     "name": "stdout",
     "output_type": "stream",
     "text": [
      "Wall time: 8.57 s\n"
     ]
    }
   ],
   "source": [
    "%time lda = ldamodel.LdaModel(corpus, id2word=dictionary, num_topics=9, chunksize=50, update_every=1, passes=2)"
   ]
  },
  {
   "cell_type": "markdown",
   "id": "95d3b7e8",
   "metadata": {},
   "source": [
    "Посмотрим на получившиеся темы:"
   ]
  },
  {
   "cell_type": "code",
   "execution_count": 502,
   "id": "9ee290d6",
   "metadata": {},
   "outputs": [
    {
     "data": {
      "text/plain": [
       "['Россия',\n",
       " 'Мир',\n",
       " 'Экономика',\n",
       " 'Спорт',\n",
       " 'Культура',\n",
       " 'Путешествия',\n",
       " 'Наука и техника',\n",
       " 'Дом',\n",
       " 'Силовые структуры']"
      ]
     },
     "execution_count": 502,
     "metadata": {},
     "output_type": "execute_result"
    }
   ],
   "source": [
    "topics"
   ]
  },
  {
   "cell_type": "code",
   "execution_count": 503,
   "id": "1437abff",
   "metadata": {},
   "outputs": [
    {
     "data": {
      "text/plain": [
       "[(0,\n",
       "  '0.032*\"год\" + 0.023*\"тысяча\" + 0.015*\"метр\" + 0.015*\"проект\" + 0.013*\"москва\" + 0.012*\"строительство\" + 0.011*\"дом\" + 0.011*\"площадь\" + 0.009*\"город\" + 0.009*\"объект\" + 0.009*\"квадратный\" + 0.008*\"хороший\" + 0.007*\"новый\" + 0.007*\"квартира\" + 0.007*\"первый\" + 0.007*\"место\" + 0.007*\"миллион\" + 0.007*\"центр\" + 0.007*\"построить\" + 0.006*\"недвижимость\"'),\n",
       " (1,\n",
       "  '0.018*\"человек\" + 0.012*\"сообщать\" + 0.010*\"находиться\" + 0.009*\"произойти\" + 0.009*\"результат\" + 0.009*\"погибнуть\" + 0.009*\"данные\" + 0.008*\"время\" + 0.008*\"который\" + 0.007*\"город\" + 0.007*\"полиция\" + 0.007*\"задержать\" + 0.007*\"сотрудник\" + 0.006*\"сообщить\" + 0.006*\"район\" + 0.006*\"место\" + 0.006*\"пострадать\" + 0.006*\"обнаружить\" + 0.006*\"агентство\" + 0.005*\"около\"'),\n",
       " (2,\n",
       "  '0.041*\"компания\" + 0.024*\"миллион\" + 0.023*\"доллар\" + 0.022*\"год\" + 0.014*\"фильм\" + 0.012*\"который\" + 0.011*\"банк\" + 0.010*\"миллиард\" + 0.009*\"продажа\" + 0.009*\"крупный\" + 0.008*\"проект\" + 0.008*\"картина\" + 0.007*\"акция\" + 0.007*\"финансовый\" + 0.007*\"предприятие\" + 0.007*\"исследование\" + 0.006*\"сумма\" + 0.006*\"продать\" + 0.006*\"получить\" + 0.006*\"также\"'),\n",
       " (3,\n",
       "  '0.018*\"страна\" + 0.015*\"президент\" + 0.013*\"россия\" + 0.012*\"сша\" + 0.011*\"который\" + 0.010*\"это\" + 0.008*\"самолёт\" + 0.007*\"российский\" + 0.007*\"также\" + 0.007*\"заявить\" + 0.007*\"власть\" + 0.007*\"сообщать\" + 0.006*\"год\" + 0.006*\"партия\" + 0.006*\"свой\" + 0.005*\"государство\" + 0.005*\"время\" + 0.005*\"министр\" + 0.005*\"американский\" + 0.005*\"принять\"'),\n",
       " (4,\n",
       "  '0.022*\"игра\" + 0.022*\"матч\" + 0.016*\"команда\" + 0.015*\"клуб\" + 0.012*\"сборная\" + 0.011*\"чемпионат\" + 0.011*\"это\" + 0.010*\"счёт\" + 0.010*\"мир\" + 0.009*\"победа\" + 0.009*\"россия\" + 0.009*\"который\" + 0.008*\"стать\" + 0.008*\"сезон\" + 0.008*\"первый\" + 0.008*\"российский\" + 0.007*\"свой\" + 0.007*\"россиянин\" + 0.006*\"второй\" + 0.006*\"провести\"'),\n",
       " (5,\n",
       "  '0.046*\"процент\" + 0.034*\"год\" + 0.030*\"рубль\" + 0.016*\"россия\" + 0.014*\"это\" + 0.011*\"доллар\" + 0.010*\"цена\" + 0.009*\"миллиард\" + 0.009*\"составить\" + 0.008*\"рынок\" + 0.008*\"тысяча\" + 0.007*\"правительство\" + 0.007*\"российский\" + 0.007*\"уровень\" + 0.006*\"нефть\" + 0.006*\"составлять\" + 0.006*\"бюджет\" + 0.006*\"завод\" + 0.005*\"евро\" + 0.005*\"курс\"'),\n",
       " (6,\n",
       "  '0.024*\"год\" + 0.019*\"который\" + 0.012*\"the\" + 0.010*\"это\" + 0.008*\"новый\" + 0.008*\"британский\" + 0.007*\"свой\" + 0.007*\"время\" + 0.007*\"учёный\" + 0.007*\"работа\" + 0.006*\"стать\" + 0.006*\"также\" + 0.005*\"выйти\" + 0.005*\"первый\" + 0.005*\"получить\" + 0.005*\"весь\" + 0.005*\"актёр\" + 0.005*\"группа\" + 0.005*\"американский\" + 0.004*\"показать\"'),\n",
       " (7,\n",
       "  '0.023*\"год\" + 0.016*\"это\" + 0.013*\"который\" + 0.010*\"суд\" + 0.008*\"дело\" + 0.008*\"свой\" + 0.008*\"слово\" + 0.007*\"заявить\" + 0.007*\"решение\" + 0.006*\"также\" + 0.006*\"россия\" + 0.006*\"бывший\" + 0.006*\"мочь\" + 0.005*\"глава\" + 0.004*\"однако\" + 0.004*\"действие\" + 0.004*\"закон\" + 0.004*\"право\" + 0.004*\"документ\" + 0.004*\"информация\"'),\n",
       " (8,\n",
       "  '0.011*\"военный\" + 0.011*\"боевик\" + 0.010*\"заявить\" + 0.010*\"депутат\" + 0.008*\"представитель\" + 0.008*\"администрация\" + 0.007*\"сила\" + 0.007*\"министр\" + 0.007*\"территория\" + 0.007*\"израиль\" + 0.006*\"украина\" + 0.006*\"операция\" + 0.006*\"сирия\" + 0.006*\"аль\" + 0.006*\"президент\" + 0.006*\"армия\" + 0.006*\"организация\" + 0.006*\"республика\" + 0.006*\"глава\" + 0.005*\"выборы\"')]"
      ]
     },
     "execution_count": 503,
     "metadata": {},
     "output_type": "execute_result"
    }
   ],
   "source": [
    "lda.show_topics(num_topics=9, num_words=20, formatted=True)"
   ]
  },
  {
   "cell_type": "code",
   "execution_count": 504,
   "id": "122b14a4",
   "metadata": {},
   "outputs": [
    {
     "name": "stdout",
     "output_type": "stream",
     "text": [
      "-7.858298369096038\n"
     ]
    }
   ],
   "source": [
    "print(lda.log_perplexity(corpus))"
   ]
  },
  {
   "cell_type": "code",
   "execution_count": 505,
   "id": "a7a1a738",
   "metadata": {},
   "outputs": [
    {
     "name": "stdout",
     "output_type": "stream",
     "text": [
      "Персплексия:  0.0003865308827564778\n",
      "Wall time: 305 ms\n",
      "Средняя когерентность:  -1.8680302400181672\n"
     ]
    }
   ],
   "source": [
    "\n",
    "\n",
    "print('Персплексия: ', np.exp(lda.log_perplexity(corpus)))\n",
    "\n",
    "coherence_model_lda = CoherenceModel(model=lda, texts=data['text'], dictionary=dictionary, coherence='u_mass')\n",
    "%time coherence_lda = coherence_model_lda.get_coherence()\n",
    "print('Средняя когерентность: ', coherence_lda)"
   ]
  },
  {
   "cell_type": "code",
   "execution_count": null,
   "id": "b8fa7fde",
   "metadata": {},
   "outputs": [],
   "source": []
  },
  {
   "cell_type": "code",
   "execution_count": null,
   "id": "f387e475",
   "metadata": {},
   "outputs": [],
   "source": []
  },
  {
   "cell_type": "code",
   "execution_count": null,
   "id": "2169b44f",
   "metadata": {},
   "outputs": [],
   "source": []
  },
  {
   "cell_type": "markdown",
   "id": "71f96352",
   "metadata": {},
   "source": [
    "# объединяю в одну выборку"
   ]
  },
  {
   "cell_type": "code",
   "execution_count": 506,
   "id": "193f1a25",
   "metadata": {},
   "outputs": [],
   "source": [
    "# считываем данные и заполняем общий датасет\n",
    "positive = pd.read_csv('positive.csv', sep=';', usecols=[3], names=['text'])\n",
    "positive['label'] = ['positive'] * len(positive)\n",
    "negative = pd.read_csv('negative.csv', sep=';', usecols=[3], names=['text'])\n",
    "negative['label'] = ['negative'] * len(negative)\n",
    "df = positive.append(negative)"
   ]
  },
  {
   "cell_type": "code",
   "execution_count": 507,
   "id": "9aa1fd90",
   "metadata": {},
   "outputs": [],
   "source": [
    "def funk_del(input_txt):\n",
    "    pattern = \"@[\\w]*\"\n",
    "    if re.findall(pattern, input_txt):\n",
    "        return re.sub(pattern, ' ', input_txt)\n",
    "    else:\n",
    "        return re.sub(pattern, ' ', input_txt)\n"
   ]
  },
  {
   "cell_type": "code",
   "execution_count": 508,
   "id": "b9ddebe3",
   "metadata": {},
   "outputs": [
    {
     "data": {
      "text/html": [
       "<div>\n",
       "<style scoped>\n",
       "    .dataframe tbody tr th:only-of-type {\n",
       "        vertical-align: middle;\n",
       "    }\n",
       "\n",
       "    .dataframe tbody tr th {\n",
       "        vertical-align: top;\n",
       "    }\n",
       "\n",
       "    .dataframe thead th {\n",
       "        text-align: right;\n",
       "    }\n",
       "</style>\n",
       "<table border=\"1\" class=\"dataframe\">\n",
       "  <thead>\n",
       "    <tr style=\"text-align: right;\">\n",
       "      <th></th>\n",
       "      <th>text</th>\n",
       "      <th>label</th>\n",
       "    </tr>\n",
       "  </thead>\n",
       "  <tbody>\n",
       "    <tr>\n",
       "      <th>0</th>\n",
       "      <td>@first_timee хоть я и школота, но поверь, у на...</td>\n",
       "      <td>positive</td>\n",
       "    </tr>\n",
       "    <tr>\n",
       "      <th>1</th>\n",
       "      <td>Да, все-таки он немного похож на него. Но мой ...</td>\n",
       "      <td>positive</td>\n",
       "    </tr>\n",
       "    <tr>\n",
       "      <th>2</th>\n",
       "      <td>RT @KatiaCheh: Ну ты идиотка) я испугалась за ...</td>\n",
       "      <td>positive</td>\n",
       "    </tr>\n",
       "    <tr>\n",
       "      <th>3</th>\n",
       "      <td>RT @digger2912: \"Кто то в углу сидит и погибае...</td>\n",
       "      <td>positive</td>\n",
       "    </tr>\n",
       "    <tr>\n",
       "      <th>4</th>\n",
       "      <td>@irina_dyshkant Вот что значит страшилка :D\\nН...</td>\n",
       "      <td>positive</td>\n",
       "    </tr>\n",
       "  </tbody>\n",
       "</table>\n",
       "</div>"
      ],
      "text/plain": [
       "                                                text     label\n",
       "0  @first_timee хоть я и школота, но поверь, у на...  positive\n",
       "1  Да, все-таки он немного похож на него. Но мой ...  positive\n",
       "2  RT @KatiaCheh: Ну ты идиотка) я испугалась за ...  positive\n",
       "3  RT @digger2912: \"Кто то в углу сидит и погибае...  positive\n",
       "4  @irina_dyshkant Вот что значит страшилка :D\\nН...  positive"
      ]
     },
     "execution_count": 508,
     "metadata": {},
     "output_type": "execute_result"
    }
   ],
   "source": [
    "df.head()"
   ]
  },
  {
   "cell_type": "code",
   "execution_count": 509,
   "id": "00cfe729",
   "metadata": {},
   "outputs": [],
   "source": [
    "stopwords_list = stopwords.words('russian')"
   ]
  },
  {
   "cell_type": "code",
   "execution_count": 510,
   "id": "f7119d51",
   "metadata": {},
   "outputs": [
    {
     "name": "stdout",
     "output_type": "stream",
     "text": [
      "['и', 'в', 'во', 'не', 'что', 'он', 'на', 'я', 'с', 'со', 'как', 'а', 'то', 'все', 'она', 'так', 'его', 'но', 'да', 'ты', 'к', 'у', 'же', 'вы', 'за', 'бы', 'по', 'только', 'ее', 'мне', 'было', 'вот', 'от', 'меня', 'еще', 'нет', 'о', 'из', 'ему', 'теперь', 'когда', 'даже', 'ну', 'вдруг', 'ли', 'если', 'уже', 'или', 'ни', 'быть', 'был', 'него', 'до', 'вас', 'нибудь', 'опять', 'уж', 'вам', 'ведь', 'там', 'потом', 'себя', 'ничего', 'ей', 'может', 'они', 'тут', 'где', 'есть', 'надо', 'ней', 'для', 'мы', 'тебя', 'их', 'чем', 'была', 'сам', 'чтоб', 'без', 'будто', 'чего', 'раз', 'тоже', 'себе', 'под', 'будет', 'ж', 'тогда', 'кто', 'этот', 'того', 'потому', 'этого', 'какой', 'совсем', 'ним', 'здесь', 'этом', 'один', 'почти', 'мой', 'тем', 'чтобы', 'нее', 'сейчас', 'были', 'куда', 'зачем', 'всех', 'никогда', 'можно', 'при', 'наконец', 'два', 'об', 'другой', 'хоть', 'после', 'над', 'больше', 'тот', 'через', 'эти', 'нас', 'про', 'всего', 'них', 'какая', 'много', 'разве', 'три', 'эту', 'моя', 'впрочем', 'хорошо', 'свою', 'этой', 'перед', 'иногда', 'лучше', 'чуть', 'том', 'нельзя', 'такой', 'им', 'более', 'всегда', 'конечно', 'всю', 'между']\n"
     ]
    }
   ],
   "source": [
    "print(stopwords_list)"
   ]
  },
  {
   "cell_type": "code",
   "execution_count": 511,
   "id": "4b17245d",
   "metadata": {},
   "outputs": [],
   "source": [
    "df['text'] = df.text.apply(funk_del)"
   ]
  },
  {
   "cell_type": "code",
   "execution_count": 512,
   "id": "9450cdad",
   "metadata": {},
   "outputs": [],
   "source": [
    "df = df.sample(10000)"
   ]
  },
  {
   "cell_type": "code",
   "execution_count": 513,
   "id": "730d67ab",
   "metadata": {},
   "outputs": [
    {
     "data": {
      "application/vnd.jupyter.widget-view+json": {
       "model_id": "aaf5c3d6ed464663aad5cf7e6b82850f",
       "version_major": 2,
       "version_minor": 0
      },
      "text/plain": [
       "  0%|          | 0/10000 [00:00<?, ?it/s]"
      ]
     },
     "metadata": {},
     "output_type": "display_data"
    }
   ],
   "source": [
    "df['token_text'] = list(tqdm(map(preprocess, df['text']), total=len(df)))"
   ]
  },
  {
   "cell_type": "code",
   "execution_count": 514,
   "id": "4098be1c",
   "metadata": {},
   "outputs": [
    {
     "data": {
      "text/html": [
       "<div>\n",
       "<style scoped>\n",
       "    .dataframe tbody tr th:only-of-type {\n",
       "        vertical-align: middle;\n",
       "    }\n",
       "\n",
       "    .dataframe tbody tr th {\n",
       "        vertical-align: top;\n",
       "    }\n",
       "\n",
       "    .dataframe thead th {\n",
       "        text-align: right;\n",
       "    }\n",
       "</style>\n",
       "<table border=\"1\" class=\"dataframe\">\n",
       "  <thead>\n",
       "    <tr style=\"text-align: right;\">\n",
       "      <th></th>\n",
       "      <th>text</th>\n",
       "      <th>label</th>\n",
       "      <th>token_text</th>\n",
       "    </tr>\n",
       "  </thead>\n",
       "  <tbody>\n",
       "    <tr>\n",
       "      <th>105076</th>\n",
       "      <td>Да так,так называемые мысли вслух:(</td>\n",
       "      <td>negative</td>\n",
       "      <td>[называть, мысль, вслух]</td>\n",
       "    </tr>\n",
       "    <tr>\n",
       "      <th>50242</th>\n",
       "      <td>дожить бы до них((( завтра первый зачёт, а е...</td>\n",
       "      <td>negative</td>\n",
       "      <td>[дожить, завтра, первый, зачёт, ещё, готовиться]</td>\n",
       "    </tr>\n",
       "    <tr>\n",
       "      <th>23582</th>\n",
       "      <td>RT  :   Скоро и до замера черепов доберутся......</td>\n",
       "      <td>negative</td>\n",
       "      <td>[скоро, замер, черепов, добраться]</td>\n",
       "    </tr>\n",
       "    <tr>\n",
       "      <th>31809</th>\n",
       "      <td>RT  :   Спасибо... В аварии я попадал и ранее,...</td>\n",
       "      <td>negative</td>\n",
       "      <td>[спасибо, авария, попадать, ранее, переворачив...</td>\n",
       "    </tr>\n",
       "    <tr>\n",
       "      <th>106992</th>\n",
       "      <td>музыку надо хранить у себя на носителях :) а...</td>\n",
       "      <td>positive</td>\n",
       "      <td>[музыка, хранить, носитель, сеть]</td>\n",
       "    </tr>\n",
       "  </tbody>\n",
       "</table>\n",
       "</div>"
      ],
      "text/plain": [
       "                                                     text     label  \\\n",
       "105076                Да так,так называемые мысли вслух:(  negative   \n",
       "50242     дожить бы до них((( завтра первый зачёт, а е...  negative   \n",
       "23582   RT  :   Скоро и до замера черепов доберутся......  negative   \n",
       "31809   RT  :   Спасибо... В аварии я попадал и ранее,...  negative   \n",
       "106992    музыку надо хранить у себя на носителях :) а...  positive   \n",
       "\n",
       "                                               token_text  \n",
       "105076                           [называть, мысль, вслух]  \n",
       "50242    [дожить, завтра, первый, зачёт, ещё, готовиться]  \n",
       "23582                  [скоро, замер, черепов, добраться]  \n",
       "31809   [спасибо, авария, попадать, ранее, переворачив...  \n",
       "106992                  [музыка, хранить, носитель, сеть]  "
      ]
     },
     "execution_count": 514,
     "metadata": {},
     "output_type": "execute_result"
    }
   ],
   "source": [
    "df[:5]"
   ]
  },
  {
   "cell_type": "code",
   "execution_count": 515,
   "id": "985ed1df",
   "metadata": {},
   "outputs": [],
   "source": [
    "topics_dict = {0:'Экономика',\n",
    " 1:'Спорт',\n",
    " 2:'Культура',\n",
    " 3:'Путешествия',\n",
    " 4:'Наука и техника',\n",
    " 5:'Дом',\n",
    " 6:'Силовые структуры',\n",
    " 7:'Россия',\n",
    " 8: 'Мир'}"
   ]
  },
  {
   "cell_type": "code",
   "execution_count": 516,
   "id": "5a947006",
   "metadata": {},
   "outputs": [],
   "source": [
    "def topic_team(line):\n",
    "    other_corpus = dictionary.doc2bow(line)\n",
    "    pr = lda[other_corpus]\n",
    "    topic_ = ['topic']\n",
    "    max_prob = 0\n",
    "    res_dict = {i:j for i,j in pr}\n",
    "    max_prob = max(res_dict.values())\n",
    "    for i, j in res_dict.items():\n",
    "        if j == max_prob:\n",
    "            topik_team = topics_dict[i]\n",
    "#     print(topik_team, max_prob)\n",
    "    return topik_team, max_prob"
   ]
  },
  {
   "cell_type": "code",
   "execution_count": 517,
   "id": "4864b348",
   "metadata": {},
   "outputs": [],
   "source": [
    "top = []\n",
    "top = [{i:v} for i, v in df.token_text.apply(lambda x: topic_team(x))]"
   ]
  },
  {
   "cell_type": "code",
   "execution_count": 518,
   "id": "64e336ab",
   "metadata": {},
   "outputs": [],
   "source": [
    "df['topik'] = [i.keys() for i in top]"
   ]
  },
  {
   "cell_type": "code",
   "execution_count": 519,
   "id": "47d6f944",
   "metadata": {},
   "outputs": [],
   "source": [
    "df['topik_prob'] = [i.values() for i in top]"
   ]
  },
  {
   "cell_type": "code",
   "execution_count": 520,
   "id": "5fcb6fc1",
   "metadata": {},
   "outputs": [
    {
     "data": {
      "text/html": [
       "<div>\n",
       "<style scoped>\n",
       "    .dataframe tbody tr th:only-of-type {\n",
       "        vertical-align: middle;\n",
       "    }\n",
       "\n",
       "    .dataframe tbody tr th {\n",
       "        vertical-align: top;\n",
       "    }\n",
       "\n",
       "    .dataframe thead th {\n",
       "        text-align: right;\n",
       "    }\n",
       "</style>\n",
       "<table border=\"1\" class=\"dataframe\">\n",
       "  <thead>\n",
       "    <tr style=\"text-align: right;\">\n",
       "      <th></th>\n",
       "      <th>text</th>\n",
       "      <th>label</th>\n",
       "      <th>token_text</th>\n",
       "      <th>topik</th>\n",
       "      <th>topik_prob</th>\n",
       "    </tr>\n",
       "  </thead>\n",
       "  <tbody>\n",
       "    <tr>\n",
       "      <th>105076</th>\n",
       "      <td>Да так,так называемые мысли вслух:(</td>\n",
       "      <td>negative</td>\n",
       "      <td>[называть, мысль, вслух]</td>\n",
       "      <td>(Россия)</td>\n",
       "      <td>(0.70319366)</td>\n",
       "    </tr>\n",
       "    <tr>\n",
       "      <th>50242</th>\n",
       "      <td>дожить бы до них((( завтра первый зачёт, а е...</td>\n",
       "      <td>negative</td>\n",
       "      <td>[дожить, завтра, первый, зачёт, ещё, готовиться]</td>\n",
       "      <td>(Наука и техника)</td>\n",
       "      <td>(0.44276345)</td>\n",
       "    </tr>\n",
       "    <tr>\n",
       "      <th>23582</th>\n",
       "      <td>RT  :   Скоро и до замера черепов доберутся......</td>\n",
       "      <td>negative</td>\n",
       "      <td>[скоро, замер, черепов, добраться]</td>\n",
       "      <td>(Спорт)</td>\n",
       "      <td>(0.3704079)</td>\n",
       "    </tr>\n",
       "    <tr>\n",
       "      <th>31809</th>\n",
       "      <td>RT  :   Спасибо... В аварии я попадал и ранее,...</td>\n",
       "      <td>negative</td>\n",
       "      <td>[спасибо, авария, попадать, ранее, переворачив...</td>\n",
       "      <td>(Дом)</td>\n",
       "      <td>(0.32498994)</td>\n",
       "    </tr>\n",
       "    <tr>\n",
       "      <th>106992</th>\n",
       "      <td>музыку надо хранить у себя на носителях :) а...</td>\n",
       "      <td>positive</td>\n",
       "      <td>[музыка, хранить, носитель, сеть]</td>\n",
       "      <td>(Силовые структуры)</td>\n",
       "      <td>(0.6221783)</td>\n",
       "    </tr>\n",
       "    <tr>\n",
       "      <th>37688</th>\n",
       "      <td>RT  : Девочка из Индонезии просит, чтоб я ей н...</td>\n",
       "      <td>positive</td>\n",
       "      <td>[девочка, индонезия, просить, научить, русский...</td>\n",
       "      <td>(Путешествия)</td>\n",
       "      <td>(0.46432483)</td>\n",
       "    </tr>\n",
       "    <tr>\n",
       "      <th>4193</th>\n",
       "      <td>В среду или четверг приедет мой аппарат)))) жд...</td>\n",
       "      <td>positive</td>\n",
       "      <td>[среда, четверг, приехать, аппарат, ждать, дож...</td>\n",
       "      <td>(Мир)</td>\n",
       "      <td>(0.5713337)</td>\n",
       "    </tr>\n",
       "    <tr>\n",
       "      <th>20370</th>\n",
       "      <td>По   реклама \"мы за мир, за Украину без насили...</td>\n",
       "      <td>negative</td>\n",
       "      <td>[реклама, мир, украина, насилие, реклама, част...</td>\n",
       "      <td>(Силовые структуры)</td>\n",
       "      <td>(0.57419026)</td>\n",
       "    </tr>\n",
       "    <tr>\n",
       "      <th>56245</th>\n",
       "      <td>Вышла в школу первый день после болезни.Русски...</td>\n",
       "      <td>positive</td>\n",
       "      <td>[выйти, школа, первый, день, болезнь, русский,...</td>\n",
       "      <td>(Силовые структуры)</td>\n",
       "      <td>(0.39772594)</td>\n",
       "    </tr>\n",
       "    <tr>\n",
       "      <th>92936</th>\n",
       "      <td>жалко,могут замерзнуть и погибнуть..((</td>\n",
       "      <td>negative</td>\n",
       "      <td>[жалко, мочь, замёрзнуть, погибнуть]</td>\n",
       "      <td>(Спорт)</td>\n",
       "      <td>(0.3799035)</td>\n",
       "    </tr>\n",
       "    <tr>\n",
       "      <th>54422</th>\n",
       "      <td>Нужно идти в больницу,оттягиваю время до после...</td>\n",
       "      <td>negative</td>\n",
       "      <td>[нужно, идти, больница, оттягивать, время, пос...</td>\n",
       "      <td>(Спорт)</td>\n",
       "      <td>(0.55962574)</td>\n",
       "    </tr>\n",
       "    <tr>\n",
       "      <th>21554</th>\n",
       "      <td>Мы с Настей смешные такие: только мы можем пер...</td>\n",
       "      <td>positive</td>\n",
       "      <td>[настя, смешной, мочь, перепутать, дом, заблуд...</td>\n",
       "      <td>(Экономика)</td>\n",
       "      <td>(0.37455583)</td>\n",
       "    </tr>\n",
       "    <tr>\n",
       "      <th>96493</th>\n",
       "      <td>это же про нас во время файналов)) http://t.co...</td>\n",
       "      <td>positive</td>\n",
       "      <td>[это, время, файналов, http]</td>\n",
       "      <td>(Силовые структуры)</td>\n",
       "      <td>(0.7035109)</td>\n",
       "    </tr>\n",
       "    <tr>\n",
       "      <th>93211</th>\n",
       "      <td>Ну это на самом деле жутко.\\nВ темноте такое у...</td>\n",
       "      <td>positive</td>\n",
       "      <td>[это, дело, жутко, темнота, увидеть, http]</td>\n",
       "      <td>(Россия)</td>\n",
       "      <td>(0.4467852)</td>\n",
       "    </tr>\n",
       "    <tr>\n",
       "      <th>48198</th>\n",
       "      <td>Я на радио победителем стала !!! Хаха блин оде...</td>\n",
       "      <td>positive</td>\n",
       "      <td>[радио, победитель, стать, хах, блин, оделать,...</td>\n",
       "      <td>(Россия)</td>\n",
       "      <td>(0.30511692)</td>\n",
       "    </tr>\n",
       "  </tbody>\n",
       "</table>\n",
       "</div>"
      ],
      "text/plain": [
       "                                                     text     label  \\\n",
       "105076                Да так,так называемые мысли вслух:(  negative   \n",
       "50242     дожить бы до них((( завтра первый зачёт, а е...  negative   \n",
       "23582   RT  :   Скоро и до замера черепов доберутся......  negative   \n",
       "31809   RT  :   Спасибо... В аварии я попадал и ранее,...  negative   \n",
       "106992    музыку надо хранить у себя на носителях :) а...  positive   \n",
       "37688   RT  : Девочка из Индонезии просит, чтоб я ей н...  positive   \n",
       "4193    В среду или четверг приедет мой аппарат)))) жд...  positive   \n",
       "20370   По   реклама \"мы за мир, за Украину без насили...  negative   \n",
       "56245   Вышла в школу первый день после болезни.Русски...  positive   \n",
       "92936              жалко,могут замерзнуть и погибнуть..((  negative   \n",
       "54422   Нужно идти в больницу,оттягиваю время до после...  negative   \n",
       "21554   Мы с Настей смешные такие: только мы можем пер...  positive   \n",
       "96493   это же про нас во время файналов)) http://t.co...  positive   \n",
       "93211   Ну это на самом деле жутко.\\nВ темноте такое у...  positive   \n",
       "48198   Я на радио победителем стала !!! Хаха блин оде...  positive   \n",
       "\n",
       "                                               token_text  \\\n",
       "105076                           [называть, мысль, вслух]   \n",
       "50242    [дожить, завтра, первый, зачёт, ещё, готовиться]   \n",
       "23582                  [скоро, замер, черепов, добраться]   \n",
       "31809   [спасибо, авария, попадать, ранее, переворачив...   \n",
       "106992                  [музыка, хранить, носитель, сеть]   \n",
       "37688   [девочка, индонезия, просить, научить, русский...   \n",
       "4193    [среда, четверг, приехать, аппарат, ждать, дож...   \n",
       "20370   [реклама, мир, украина, насилие, реклама, част...   \n",
       "56245   [выйти, школа, первый, день, болезнь, русский,...   \n",
       "92936                [жалко, мочь, замёрзнуть, погибнуть]   \n",
       "54422   [нужно, идти, больница, оттягивать, время, пос...   \n",
       "21554   [настя, смешной, мочь, перепутать, дом, заблуд...   \n",
       "96493                        [это, время, файналов, http]   \n",
       "93211          [это, дело, жутко, темнота, увидеть, http]   \n",
       "48198   [радио, победитель, стать, хах, блин, оделать,...   \n",
       "\n",
       "                      topik    topik_prob  \n",
       "105076             (Россия)  (0.70319366)  \n",
       "50242     (Наука и техника)  (0.44276345)  \n",
       "23582               (Спорт)   (0.3704079)  \n",
       "31809                 (Дом)  (0.32498994)  \n",
       "106992  (Силовые структуры)   (0.6221783)  \n",
       "37688         (Путешествия)  (0.46432483)  \n",
       "4193                  (Мир)   (0.5713337)  \n",
       "20370   (Силовые структуры)  (0.57419026)  \n",
       "56245   (Силовые структуры)  (0.39772594)  \n",
       "92936               (Спорт)   (0.3799035)  \n",
       "54422               (Спорт)  (0.55962574)  \n",
       "21554           (Экономика)  (0.37455583)  \n",
       "96493   (Силовые структуры)   (0.7035109)  \n",
       "93211              (Россия)   (0.4467852)  \n",
       "48198              (Россия)  (0.30511692)  "
      ]
     },
     "execution_count": 520,
     "metadata": {},
     "output_type": "execute_result"
    }
   ],
   "source": [
    "df.head(15)"
   ]
  },
  {
   "cell_type": "code",
   "execution_count": 521,
   "id": "a8a02eef",
   "metadata": {},
   "outputs": [],
   "source": [
    "corpus_twit = [dictionary.doc2bow(text) for text in df['token_text']]"
   ]
  },
  {
   "cell_type": "code",
   "execution_count": 522,
   "id": "1858db83",
   "metadata": {},
   "outputs": [],
   "source": [
    "from gensim.models import *\n",
    "from gensim import corpora"
   ]
  },
  {
   "cell_type": "code",
   "execution_count": 523,
   "id": "c184889e",
   "metadata": {},
   "outputs": [
    {
     "name": "stderr",
     "output_type": "stream",
     "text": [
      "c:\\program files\\python37\\lib\\site-packages\\pyLDAvis\\_prepare.py:247: FutureWarning: In a future version of pandas all arguments of DataFrame.drop except for the argument 'labels' will be keyword-only\n",
      "  by='saliency', ascending=False).head(R).drop('saliency', 1)\n"
     ]
    },
    {
     "name": "stdout",
     "output_type": "stream",
     "text": [
      "Wall time: 3.83 s\n"
     ]
    },
    {
     "data": {
      "text/html": [
       "\n",
       "<link rel=\"stylesheet\" type=\"text/css\" href=\"https://cdn.jsdelivr.net/gh/bmabey/pyLDAvis@3.3.1/pyLDAvis/js/ldavis.v1.0.0.css\">\n",
       "\n",
       "\n",
       "<div id=\"ldavis_el790824804384762323141415973\"></div>\n",
       "<script type=\"text/javascript\">\n",
       "\n",
       "var ldavis_el790824804384762323141415973_data = {\"mdsDat\": {\"x\": [-0.32217348369721943, 0.05204988065804595, -0.3422212072049581, -0.016762253286739835, -0.09372706080418405, -0.1746281837555004, 0.2437803681769727, 0.3416616866089587, 0.3120202533046246], \"y\": [-0.19469058288256877, 0.22589838426638958, 0.11281208872161176, -0.009450904151143226, -0.3956059588254295, 0.38229592610772833, -0.3009220593451754, -0.04876229717409114, 0.22842540328267824], \"topics\": [1, 2, 3, 4, 5, 6, 7, 8, 9], \"cluster\": [1, 1, 1, 1, 1, 1, 1, 1, 1], \"Freq\": [23.353495328908107, 23.0086731378604, 11.96534429370801, 10.550267393345612, 8.322980504291865, 6.608817913334808, 6.327988065392997, 5.825159213312552, 4.037274149845647]}, \"tinfo\": {\"Term\": [\"\\u0433\\u043e\\u0434\", \"\\u043a\\u043e\\u043c\\u043f\\u0430\\u043d\\u0438\\u044f\", \"\\u043f\\u0440\\u043e\\u0446\\u0435\\u043d\\u0442\", \"\\u0438\\u0433\\u0440\\u0430\", \"\\u0440\\u043e\\u0441\\u0441\\u0438\\u044f\", \"\\u043c\\u0430\\u0442\\u0447\", \"\\u0434\\u043e\\u043b\\u043b\\u0430\\u0440\", \"\\u0440\\u0443\\u0431\\u043b\\u044c\", \"\\u043c\\u0438\\u043b\\u043b\\u0438\\u043e\\u043d\", \"\\u0442\\u044b\\u0441\\u044f\\u0447\\u0430\", \"\\u0441\\u0442\\u0440\\u0430\\u043d\\u0430\", \"the\", \"\\u0447\\u0435\\u043b\\u043e\\u0432\\u0435\\u043a\", \"\\u043f\\u0440\\u0435\\u0437\\u0438\\u0434\\u0435\\u043d\\u0442\", \"\\u043f\\u0440\\u043e\\u0435\\u043a\\u0442\", \"\\u0441\\u0443\\u0434\", \"\\u043a\\u043e\\u043c\\u0430\\u043d\\u0434\\u0430\", \"\\u043a\\u043b\\u0443\\u0431\", \"\\u0437\\u0430\\u044f\\u0432\\u0438\\u0442\\u044c\", \"\\u043c\\u0435\\u0442\\u0440\", \"\\u043c\\u043e\\u0441\\u043a\\u0432\\u0430\", \"\\u0441\\u0448\\u0430\", \"\\u0434\\u043e\\u043c\", \"\\u0434\\u0435\\u043b\\u043e\", \"\\u0441\\u0431\\u043e\\u0440\\u043d\\u0430\\u044f\", \"\\u043d\\u043e\\u0432\\u044b\\u0439\", \"\\u0431\\u0440\\u0438\\u0442\\u0430\\u043d\\u0441\\u043a\\u0438\\u0439\", \"\\u0433\\u043e\\u0440\\u043e\\u0434\", \"\\u0443\\u0447\\u0451\\u043d\\u044b\\u0439\", \"\\u0440\\u043e\\u0441\\u0441\\u0438\\u0439\\u0441\\u043a\\u0438\\u0439\", \"\\u0443\\u0447\\u0451\\u043d\\u044b\\u0439\", \"\\u0430\\u043a\\u0442\\u0451\\u0440\", \"\\u043f\\u0440\\u0435\\u043c\\u0438\\u044f\", \"\\u0441\\u0442\\u0443\\u0434\\u0438\\u044f\", \"\\u043a\\u043d\\u0438\\u0433\\u0430\", \"\\u043a\\u043e\\u0441\\u043c\\u0438\\u0447\\u0435\\u0441\\u043a\\u0438\\u0439\", \"windows\", \"\\u0438\\u0441\\u043a\\u0443\\u0441\\u0441\\u0442\\u0432\\u043e\", \"\\u0438\\u0441\\u043a\", \"\\u043f\\u043b\\u0430\\u043d\\u0435\\u0442\\u0430\", \"\\u0442\\u0435\\u0430\\u0442\\u0440\", \"\\u043d\\u0430\\u043f\\u0440\\u0438\\u043c\\u0435\\u0440\", \"\\u043f\\u0440\\u0438\\u0437\", \"\\u043d\\u044c\\u044e\", \"apple\", \"\\u043d\\u0430\\u0433\\u0440\\u0430\\u0434\\u0430\", \"\\u0441\\u043e\\u0431\\u0440\\u0430\\u0442\\u044c\", \"\\u043c\\u0443\\u0437\\u044b\\u043a\\u0430\\u043b\\u044c\\u043d\\u044b\\u0439\", \"\\u0443\\u043d\\u0438\\u0432\\u0435\\u0440\\u0441\\u0438\\u0442\\u0435\\u0442\", \"\\u0432\\u0435\\u043a\", \"\\u0437\\u0432\\u0435\\u0437\\u0434\\u0430\", \"microsoft\", \"\\u043f\\u043e\\u0437\\u0432\\u043e\\u043b\\u044f\\u0442\\u044c\", \"\\u0430\\u043c\\u0435\\u0440\\u0438\\u043a\\u0430\\u043d\\u0435\\u0446\", \"the\", \"\\u0439\\u043e\\u0440\\u043a\", \"\\u0432\\u044b\\u0441\\u0442\\u0430\\u0432\\u043a\\u0430\", \"\\u043a\\u043e\\u043c\\u043f\\u044c\\u044e\\u0442\\u0435\\u0440\", \"\\u0440\\u0430\\u0437\\u0440\\u0430\\u0431\\u043e\\u0442\\u0447\\u0438\\u043a\", \"\\u0444\\u0443\\u043d\\u0442\", \"\\u0440\\u043e\\u043b\\u044c\", \"\\u0431\\u0440\\u0438\\u0442\\u0430\\u043d\\u0441\\u043a\\u0438\\u0439\", \"\\u043f\\u043e\\u043a\\u0430\\u0437\\u0430\\u0442\\u044c\", \"\\u0438\\u0441\\u0442\\u043e\\u0440\\u0438\\u044f\", \"\\u043b\\u043e\\u043d\\u0434\\u043e\\u043d\", \"\\u0438\\u0437\\u0432\\u0435\\u0441\\u0442\\u043d\\u044b\\u0439\", \"\\u0440\\u0435\\u043b\\u0438\\u0437\", \"\\u043f\\u043e\\u044f\\u0432\\u0438\\u0442\\u044c\\u0441\\u044f\", \"\\u0440\\u0430\\u0431\\u043e\\u0442\\u0430\", \"\\u0432\\u044b\\u0439\\u0442\\u0438\", \"\\u0433\\u043e\\u0434\", \"\\u043d\\u043e\\u0432\\u044b\\u0439\", \"\\u043a\\u043e\\u0442\\u043e\\u0440\\u044b\\u0439\", \"\\u0438\\u043c\\u044f\", \"\\u043e\\u043f\\u0443\\u0431\\u043b\\u0438\\u043a\\u043e\\u0432\\u0430\\u0442\\u044c\", \"\\u0430\\u043c\\u0435\\u0440\\u0438\\u043a\\u0430\\u043d\\u0441\\u043a\\u0438\\u0439\", \"\\u0433\\u0440\\u0443\\u043f\\u043f\\u0430\", \"\\u0432\\u0435\\u0440\\u0441\\u0438\\u044f\", \"\\u0432\\u0440\\u0435\\u043c\\u044f\", \"\\u044d\\u0442\\u043e\", \"\\u0441\\u0432\\u043e\\u0439\", \"\\u0441\\u0442\\u0430\\u0442\\u044c\", \"\\u0441\\u0438\\u0441\\u0442\\u0435\\u043c\\u0430\", \"\\u043f\\u043e\\u043b\\u0443\\u0447\\u0438\\u0442\\u044c\", \"\\u0432\\u0435\\u0441\\u044c\", \"\\u043f\\u0435\\u0440\\u0432\\u044b\\u0439\", \"\\u0442\\u0430\\u043a\\u0436\\u0435\", \"\\u0433\\u043b\\u0430\\u0432\\u043d\\u044b\\u0439\", \"\\u0441\\u0430\\u0439\\u0442\", \"\\u043c\\u043e\\u0447\\u044c\", \"\\u043f\\u043e\\u0441\\u043b\\u0435\\u0434\\u043d\\u0438\\u0439\", \"\\u0441\\u0443\\u0434\", \"\\u043f\\u043e\\u0434\\u0434\\u0435\\u0440\\u0436\\u043a\\u0430\", \"\\u043f\\u043e\\u0434\\u0430\\u0442\\u044c\", \"\\u0430\\u0434\\u0432\\u043e\\u043a\\u0430\\u0442\", \"\\u0441\\u0443\\u0434\\u0435\\u0431\\u043d\\u044b\\u0439\", \"\\u0437\\u0430\\u043a\\u043e\\u043d\\u043e\\u043f\\u0440\\u043e\\u0435\\u043a\\u0442\", \"\\u043d\\u0435\\u0437\\u0430\\u043a\\u043e\\u043d\\u043d\\u044b\\u0439\", \"\\u043d\\u0430\\u043b\\u043e\\u0433\", \"\\u0437\\u0430\\u043a\\u043e\\u043d\\u043e\\u0434\\u0430\\u0442\\u0435\\u043b\\u044c\\u0441\\u0442\\u0432\\u043e\", \"\\u043f\\u043e\\u0434\\u0434\\u0435\\u0440\\u0436\\u0438\\u0432\\u0430\\u0442\\u044c\", \"\\u043f\\u043e\\u043f\\u0440\\u0430\\u0432\\u043a\\u0430\", \"\\u043e\\u0431\\u0440\\u0430\\u0449\\u0435\\u043d\\u0438\\u0435\", \"\\u044e\\u043a\\u043e\\u0441\", \"\\u0436\\u0430\\u043b\\u043e\\u0431\\u0430\", \"\\u043f\\u0438\\u0441\\u044c\\u043c\\u043e\", \"\\u043e\\u0431\\u0432\\u0438\\u043d\\u044f\\u0442\\u044c\", \"\\u0437\\u0430\\u043a\\u043b\\u044e\\u0447\\u0435\\u043d\\u0438\\u0435\", \"\\u043a\\u043e\\u0440\\u0440\\u0443\\u043f\\u0446\\u0438\\u044f\", \"\\u043d\\u0438\\u043a\\u0442\\u043e\", \"\\u043f\\u043e\\u0445\\u0438\\u0442\\u0438\\u0442\\u044c\", \"\\u043e\\u0441\\u0443\\u0434\\u0438\\u0442\\u044c\", \"\\u0432\\u0435\\u0440\\u0445\\u043e\\u0432\\u043d\\u044b\\u0439\", \"\\u0441\\u0443\\u0434\\u044c\\u044f\", \"\\u0441\\u043e\\u0432\\u0435\\u0442\\u0441\\u043a\\u0438\\u0439\", \"\\u0432\\u0438\\u043d\\u043e\\u0432\\u043d\\u044b\\u0439\", \"\\u043f\\u043e\\u043b\\u044c\\u0437\\u043e\\u0432\\u0430\\u0442\\u0435\\u043b\\u044c\", \"\\u0434\\u043e\\u043b\\u0433\", \"\\u0430\\u043b\\u044c\\u0431\\u043e\\u043c\", \"\\u043f\\u0440\\u0438\\u0433\\u043e\\u0432\\u043e\\u0440\\u0438\\u0442\\u044c\", \"\\u043f\\u0440\\u0438\\u0433\\u043e\\u0432\\u043e\\u0440\", \"\\u043e\\u0431\\u0432\\u0438\\u043d\\u0435\\u043d\\u0438\\u0435\", \"\\u0437\\u0430\\u043a\\u043e\\u043d\", \"\\u0434\\u043e\\u043b\\u0436\\u043d\\u043e\\u0441\\u0442\\u044c\", \"\\u043f\\u0440\\u043e\\u0446\\u0435\\u0441\\u0441\", \"\\u0440\\u0443\\u043a\\u043e\\u0432\\u043e\\u0434\\u0438\\u0442\\u0435\\u043b\\u044c\", \"\\u043f\\u0440\\u0438\\u0437\\u043d\\u0430\\u0442\\u044c\", \"\\u0431\\u044b\\u0432\\u0448\\u0438\\u0439\", \"\\u043f\\u0440\\u0430\\u0432\\u043e\", \"\\u043a\\u043e\\u043c\\u0438\\u0442\\u0435\\u0442\", \"\\u0441\\u0440\\u043e\\u043a\", \"\\u0440\\u0435\\u0431\\u0451\\u043d\\u043e\\u043a\", \"\\u0440\\u0435\\u0448\\u0435\\u043d\\u0438\\u0435\", \"\\u0434\\u0435\\u043b\\u043e\", \"\\u0441\\u0435\\u0440\\u0433\\u0435\\u0439\", \"\\u0434\\u043e\\u043a\\u0443\\u043c\\u0435\\u043d\\u0442\", \"\\u0447\\u0438\\u043d\\u043e\\u0432\\u043d\\u0438\\u043a\", \"\\u0434\\u0435\\u0439\\u0441\\u0442\\u0432\\u0438\\u0435\", \"\\u043c\\u0430\\u0442\\u0435\\u0440\\u0438\\u0430\\u043b\", \"\\u043b\\u0438\\u0446\\u043e\", \"\\u043d\\u0430\\u0440\\u0443\\u0448\\u0435\\u043d\\u0438\\u0435\", \"\\u0436\\u0443\\u0440\\u043d\\u0430\\u043b\\u0438\\u0441\\u0442\", \"\\u043e\\u0442\\u043d\\u043e\\u0448\\u0435\\u043d\\u0438\\u0435\", \"\\u0441\\u043b\\u043e\\u0432\\u043e\", \"\\u0444\\u0435\\u0434\\u0435\\u0440\\u0430\\u043b\\u044c\\u043d\\u044b\\u0439\", \"\\u0433\\u043e\\u0434\", \"\\u044d\\u0442\\u043e\", \"\\u0430\\u043b\\u0435\\u043a\\u0441\\u0430\\u043d\\u0434\\u0440\", \"\\u0437\\u0430\\u044f\\u0432\\u0438\\u0442\\u044c\", \"\\u0432\\u043b\\u0430\\u0434\\u0438\\u043c\\u0438\\u0440\", \"\\u0433\\u043b\\u0430\\u0432\\u0430\", \"\\u043a\\u043e\\u0442\\u043e\\u0440\\u044b\\u0439\", \"\\u0441\\u0432\\u043e\\u0439\", \"\\u043c\\u043e\\u0447\\u044c\", \"\\u0438\\u043d\\u0444\\u043e\\u0440\\u043c\\u0430\\u0446\\u0438\\u044f\", \"\\u0433\\u0430\\u0437\\u0435\\u0442\\u0430\", \"\\u0440\\u043e\\u0441\\u0441\\u0438\\u044f\", \"\\u0442\\u0430\\u043a\\u0436\\u0435\", \"\\u0441\\u043e\\u043e\\u0431\\u0449\\u0430\\u0442\\u044c\\u0441\\u044f\", \"\\u043e\\u0434\\u043d\\u0430\\u043a\\u043e\", \"\\u0441\\u043a\\u0430\\u0437\\u0430\\u0442\\u044c\", \"\\u0441\\u043e\\u043e\\u0431\\u0449\\u0438\\u0442\\u044c\", \"\\u043f\\u043e\\u0433\\u0438\\u0431\\u043d\\u0443\\u0442\\u044c\", \"\\u043f\\u043e\\u043b\\u0438\\u0446\\u0438\\u044f\", \"\\u0437\\u0430\\u0434\\u0435\\u0440\\u0436\\u0430\\u0442\\u044c\", \"\\u043e\\u0431\\u043d\\u0430\\u0440\\u0443\\u0436\\u0438\\u0442\\u044c\", \"\\u0432\\u0437\\u0440\\u044b\\u0432\", \"\\u0430\\u0432\\u0442\\u043e\\u043c\\u043e\\u0431\\u0438\\u043b\\u044c\", \"\\u0430\\u044d\\u0440\\u043e\\u043f\\u043e\\u0440\\u0442\", \"\\u043c\\u0432\\u0434\", \"\\u043c\\u0443\\u0436\\u0447\\u0438\\u043d\\u0430\", \"\\u043f\\u0440\\u0430\\u0432\\u043e\\u043e\\u0445\\u0440\\u0430\\u043d\\u0438\\u0442\\u0435\\u043b\\u044c\\u043d\\u044b\\u0439\", \"\\u043f\\u043e\\u0436\\u0430\\u0440\", \"\\u043f\\u043e\\u043b\\u0438\\u0446\\u0435\\u0439\\u0441\\u043a\\u0438\\u0439\", \"\\u0441\\u043e\\u0432\\u0435\\u0440\\u0448\\u0438\\u0442\\u044c\", \"\\u043c\\u0430\\u0448\\u0438\\u043d\\u0430\", \"\\u043f\\u0430\\u0441\\u0441\\u0430\\u0436\\u0438\\u0440\", \"\\u043f\\u0440\\u043e\\u0438\\u0441\\u0448\\u0435\\u0441\\u0442\\u0432\\u0438\\u0435\", \"\\u0431\\u043e\\u0440\\u0442\", \"\\u0438\\u043d\\u0446\\u0438\\u0434\\u0435\\u043d\\u0442\", \"\\u0440\\u0430\\u043d\\u0435\\u043d\\u0438\\u0435\", \"\\u0442\\u0435\\u043b\\u043e\", \"\\u0434\\u0432\\u043e\\u0435\", \"\\u043d\\u043e\\u0447\\u044c\", \"\\u0441\\u043b\\u0435\\u0434\\u0441\\u0442\\u0432\\u0435\\u043d\\u043d\\u044b\\u0439\", \"\\u0432\\u043e\\u0437\\u0431\\u0443\\u0434\\u0438\\u0442\\u044c\", \"\\u0432\\u043e\\u0434\\u0430\", \"\\u043a\\u0440\\u0430\\u0439\", \"\\u0431\\u043e\\u043b\\u044c\\u043d\\u0438\\u0446\\u0430\", \"\\u0443\\u0431\\u0438\\u0442\\u044c\", \"\\u044d\\u043a\\u0438\\u043f\\u0430\\u0436\", \"\\u043c\\u0447\\u0441\", \"\\u043f\\u043e\\u0441\\u0442\\u0440\\u0430\\u0434\\u0430\\u0442\\u044c\", \"\\u043f\\u0440\\u043e\\u0438\\u0437\\u043e\\u0439\\u0442\\u0438\", \"\\u0443\\u0431\\u0438\\u0439\\u0441\\u0442\\u0432\\u043e\", \"\\u0436\\u0435\\u043d\\u0449\\u0438\\u043d\\u0430\", \"\\u043a\\u043e\\u0440\\u0430\\u0431\\u043b\\u044c\", \"\\u0447\\u0435\\u043b\\u043e\\u0432\\u0435\\u043a\", \"\\u043d\\u0430\\u0445\\u043e\\u0434\\u0438\\u0442\\u044c\\u0441\\u044f\", \"\\u0440\\u0430\\u0439\\u043e\\u043d\", \"\\u043c\\u0435\\u0441\\u0442\\u043d\\u044b\\u0439\", \"\\u0441\\u043e\\u0442\\u0440\\u0443\\u0434\\u043d\\u0438\\u043a\", \"\\u0434\\u0430\\u043d\\u043d\\u044b\\u0435\", \"\\u0440\\u0435\\u0437\\u0443\\u043b\\u044c\\u0442\\u0430\\u0442\", \"\\u0433\\u043e\\u0440\\u043e\\u0434\", \"\\u0441\\u043e\\u043e\\u0431\\u0449\\u0430\\u0442\\u044c\", \"\\u043e\\u043a\\u043e\\u043b\\u043e\", \"\\u0430\\u0433\\u0435\\u043d\\u0442\\u0441\\u0442\\u0432\\u043e\", \"\\u0441\\u043e\\u043e\\u0431\\u0449\\u0438\\u0442\\u044c\", \"\\u0441\\u043b\\u0443\\u0436\\u0431\\u0430\", \"\\u043c\\u0435\\u0441\\u0442\\u043e\", \"\\u0432\\u0440\\u0435\\u043c\\u044f\", \"\\u0438\\u043d\\u0442\\u0435\\u0440\\u0444\\u0430\\u043a\\u0441\", \"\\u0434\\u043e\\u043c\", \"\\u043d\\u0435\\u0441\\u043a\\u043e\\u043b\\u044c\\u043a\\u043e\", \"\\u043a\\u043e\\u0442\\u043e\\u0440\\u044b\\u0439\", \"\\u043f\\u043e\\u043b\\u0443\\u0447\\u0438\\u0442\\u044c\", \"\\u044d\\u0442\\u043e\", \"\\u0441\\u0430\\u043c\\u043e\\u043b\\u0451\\u0442\", \"\\u043f\\u0430\\u0440\\u0442\\u0438\\u044f\", \"\\u043a\\u0430\\u043d\\u0434\\u0438\\u0434\\u0430\\u0442\", \"\\u0438\\u0440\\u0430\\u043a\", \"\\u0433\\u043e\\u043b\\u043e\\u0441\", \"\\u0432\\u0435\\u0440\\u0442\\u043e\\u043b\\u0451\\u0442\", \"\\u043f\\u0430\\u0440\\u043b\\u0430\\u043c\\u0435\\u043d\\u0442\", \"\\u0438\\u0440\\u0430\\u043d\", \"\\u0440\\u0430\\u043a\\u0435\\u0442\\u0430\", \"\\u0442\\u0443\\u0440\\u0446\\u0438\\u044f\", \"\\u043e\\u0431\\u0430\\u043c\\u0430\", \"\\u044f\\u0434\\u0435\\u0440\\u043d\\u044b\\u0439\", \"\\u043f\\u043e\\u043b\\u0451\\u0442\", \"\\u0432\\u0430\\u0448\\u0438\\u043d\\u0433\\u0442\\u043e\\u043d\", \"\\u043f\\u0430\\u043b\\u0430\\u0442\\u0430\", \"\\u043f\\u0438\\u043b\\u043e\\u0442\", \"\\u0435\\u0432\\u0440\\u043e\\u0441\\u043e\\u044e\\u0437\", \"\\u0441\\u0442\\u043e\\u0440\\u043e\\u043d\\u043d\\u0438\\u043a\", \"\\u0432\\u043e\\u043e\\u0440\\u0443\\u0436\\u0435\\u043d\\u0438\\u0435\", \"\\u043c\\u0438\\u0434\", \"\\u0441\\u0443\\u0434\\u043d\\u043e\", \"\\u0431\\u043e\\u0435\\u0432\\u043e\\u0439\", \"\\u043e\\u0442\\u0435\\u043b\\u044c\", \"\\u043f\\u043e\\u0434\\u0440\\u043e\\u0441\\u0442\\u043e\\u043a\", \"\\u0441\\u043e\\u0442\\u0440\\u0443\\u0434\\u043d\\u0438\\u0447\\u0435\\u0441\\u0442\\u0432\\u043e\", \"\\u0442\\u0440\\u0430\\u043c\\u043f\", \"\\u0444\\u043e\\u0440\\u0443\\u043c\", \"\\u0432\\u0432\\u0441\", \"\\u0442\\u0443\\u0440\\u0435\\u0446\\u043a\\u0438\\u0439\", \"\\u043b\\u0430\\u0439\\u043d\\u0435\\u0440\", \"\\u0448\\u0442\\u0430\\u0442\", \"\\u0432\\u043e\\u0439\\u043d\\u0430\", \"\\u0441\\u0442\\u0440\\u0430\\u043d\\u0430\", \"\\u043f\\u0443\\u0442\\u0438\\u043d\", \"\\u0441\\u0448\\u0430\", \"\\u0433\\u043e\\u0441\\u0443\\u0434\\u0430\\u0440\\u0441\\u0442\\u0432\\u043e\", \"\\u043f\\u0440\\u0435\\u0437\\u0438\\u0434\\u0435\\u043d\\u0442\", \"\\u0432\\u043b\\u0430\\u0441\\u0442\\u044c\", \"\\u0440\\u043e\\u0441\\u0441\\u0438\\u044f\", \"\\u043f\\u0440\\u0430\\u0432\\u0438\\u0442\\u0435\\u043b\\u044c\\u0441\\u0442\\u0432\\u043e\", \"\\u043c\\u0438\\u043d\\u0438\\u0441\\u0442\\u0440\", \"\\u0440\\u043e\\u0441\\u0441\\u0438\\u0439\\u0441\\u043a\\u0438\\u0439\", \"\\u0443\\u0447\\u0430\\u0441\\u0442\\u0438\\u0435\", \"\\u043b\\u0438\\u0434\\u0435\\u0440\", \"\\u043c\\u0435\\u0436\\u0434\\u0443\\u043d\\u0430\\u0440\\u043e\\u0434\\u043d\\u044b\\u0439\", \"\\u043f\\u0440\\u0438\\u043d\\u044f\\u0442\\u044c\", \"\\u0437\\u0430\\u044f\\u0432\\u0438\\u0442\\u044c\", \"\\u043a\\u043e\\u0442\\u043e\\u0440\\u044b\\u0439\", \"\\u044d\\u0442\\u043e\", \"\\u0442\\u0430\\u043a\\u0436\\u0435\", \"\\u0430\\u043c\\u0435\\u0440\\u0438\\u043a\\u0430\\u043d\\u0441\\u043a\\u0438\\u0439\", \"\\u0441\\u043e\\u043e\\u0431\\u0449\\u0430\\u0442\\u044c\", \"\\u0434\\u043e\\u043b\\u0436\\u043d\\u044b\\u0439\", \"\\u043f\\u0440\\u043e\\u0439\\u0442\\u0438\", \"\\u0441\\u0432\\u043e\\u0439\", \"\\u0432\\u0440\\u0435\\u043c\\u044f\", \"\\u0433\\u043e\\u0434\", \"\\u043c\\u043e\\u0447\\u044c\", \"\\u0441\\u043b\\u043e\\u0432\\u043e\", \"\\u043d\\u043e\\u0432\\u044b\\u0439\", \"\\u0432\\u0435\\u0441\\u044c\", \"\\u0447\\u0435\\u043b\\u043e\\u0432\\u0435\\u043a\", \"\\u0438\\u0433\\u0440\\u0430\", \"\\u043c\\u0430\\u0442\\u0447\", \"\\u043a\\u043e\\u043c\\u0430\\u043d\\u0434\\u0430\", \"\\u043a\\u043b\\u0443\\u0431\", \"\\u0441\\u0431\\u043e\\u0440\\u043d\\u0430\\u044f\", \"\\u0447\\u0435\\u043c\\u043f\\u0438\\u043e\\u043d\\u0430\\u0442\", \"\\u0441\\u0435\\u0437\\u043e\\u043d\", \"\\u0447\\u0435\\u043c\\u043f\\u0438\\u043e\\u043d\", \"\\u0442\\u0440\\u0435\\u043d\\u0435\\u0440\", \"\\u0441\\u043f\\u043e\\u0440\\u0442\", \"\\u0438\\u0433\\u0440\\u043e\\u043a\", \"\\u0442\\u0443\\u0440\", \"\\u043b\\u0438\\u0433\\u0430\", \"\\u0444\\u0443\\u0442\\u0431\\u043e\\u043b\\u044c\\u043d\\u044b\\u0439\", \"\\u043d\\u0430\\u0431\\u0440\\u0430\\u0442\\u044c\", \"\\u0444\\u0443\\u0442\\u0431\\u043e\\u043b\", \"\\u043a\\u0443\\u0431\\u043e\\u043a\", \"\\u043e\\u0447\\u043a\\u043e\", \"\\u0441\\u0442\\u0430\\u0434\\u0438\\u043e\\u043d\", \"\\u0444\\u0438\\u043d\\u0430\\u043b\", \"\\u0444\\u0443\\u0442\\u0431\\u043e\\u043b\\u0438\\u0441\\u0442\", \"\\u043e\\u043a\\u043e\\u043d\\u0447\\u0430\\u043d\\u0438\\u0435\", \"\\u0437\\u0430\\u0449\\u0438\\u0442\\u043d\\u0438\\u043a\", \"\\u0431\\u043e\\u043b\\u0435\\u043b\\u044c\\u0449\\u0438\\u043a\", \"\\u0444\\u043e\\u0440\\u0432\\u0430\\u0440\\u0434\", \"\\u043f\\u043e\\u0440\\u0430\\u0436\\u0435\\u043d\\u0438\\u0435\", \"\\u0441\\u043f\\u0430\\u0440\\u0442\\u0430\\u043a\", \"\\u0432\\u0438\\u0434\\u0435\\u043e\", \"\\u0441\\u043f\\u043e\\u0440\\u0442\\u0441\\u043c\\u0435\\u043d\", \"\\u0446\\u0441\\u043a\\u0430\", \"\\u043f\\u043e\\u0431\\u0435\\u0434\\u0430\", \"\\u0441\\u0447\\u0451\\u0442\", \"\\u0440\\u043e\\u0441\\u0441\\u0438\\u044f\\u043d\\u0438\\u043d\", \"\\u0441\\u044b\\u0433\\u0440\\u0430\\u0442\\u044c\", \"\\u043c\\u0438\\u0440\", \"\\u0441\\u0435\\u0440\\u0438\\u044f\", \"\\u0440\\u043e\\u0441\\u0441\\u0438\\u0439\\u0441\\u043a\\u0438\\u0439\", \"\\u0441\\u043e\\u0441\\u0442\\u043e\\u044f\\u0442\\u044c\\u0441\\u044f\", \"\\u0440\\u043e\\u0441\\u0441\\u0438\\u044f\", \"\\u0441\\u0442\\u0430\\u0442\\u044c\", \"\\u043f\\u0435\\u0440\\u0432\\u044b\\u0439\", \"\\u044d\\u0442\\u043e\", \"\\u043f\\u0440\\u043e\\u0432\\u0435\\u0441\\u0442\\u0438\", \"\\u0432\\u0442\\u043e\\u0440\\u043e\\u0439\", \"\\u043a\\u043e\\u0442\\u043e\\u0440\\u044b\\u0439\", \"\\u0441\\u0432\\u043e\\u0439\", \"\\u043f\\u043e\\u0441\\u043b\\u0435\\u0434\\u043d\\u0438\\u0439\", \"\\u043c\\u0435\\u0441\\u0442\\u043e\", \"\\u0441\\u043e\\u043e\\u0431\\u0449\\u0430\\u0442\\u044c\", \"\\u0432\\u0440\\u0435\\u043c\\u044f\", \"\\u0431\\u043e\\u0435\\u0432\\u0438\\u043a\", \"\\u0434\\u0435\\u043f\\u0443\\u0442\\u0430\\u0442\", \"\\u0438\\u0437\\u0440\\u0430\\u0438\\u043b\\u044c\", \"\\u0441\\u0438\\u0440\\u0438\\u044f\", \"\\u0430\\u043b\\u044c\", \"\\u0430\\u0440\\u043c\\u0438\\u044f\", \"\\u043e\\u043e\\u043d\", \"\\u0441\\u0438\\u0440\\u0438\\u0439\\u0441\\u043a\\u0438\\u0439\", \"\\u0432\\u043e\\u0437\\u0433\\u043b\\u0430\\u0432\\u043b\\u044f\\u0442\\u044c\", \"\\u0433\\u0435\\u043d\\u0435\\u0440\\u0430\\u043b\", \"\\u0438\\u0437\\u0440\\u0430\\u0438\\u043b\\u044c\\u0441\\u043a\\u0438\\u0439\", \"\\u043e\\u0441\\u0432\\u043e\\u0431\\u043e\\u0436\\u0434\\u0435\\u043d\\u0438\\u0435\", \"\\u0448\\u0442\\u0430\\u0431\", \"\\u0438\\u0440\\u0430\\u043a\\u0441\\u043a\\u0438\\u0439\", \"\\u043f\\u043e\\u0432\\u043e\\u0434\", \"\\u043c\\u0438\\u0440\\u043d\\u044b\\u0439\", \"\\u0431\\u0435\\u0436\\u0435\\u043d\\u0435\\u0446\", \"\\u0431\\u0443\\u0448\", \"\\u0438\\u043d\\u0433\\u0443\\u0448\\u0435\\u0442\\u0438\\u044f\", \"\\u043a\\u0430\\u043d\\u0430\\u0434\\u0430\", \"\\u0434\\u0435\\u0432\\u043e\\u0447\\u043a\\u0430\", \"\\u043a\\u0440\\u0435\\u043c\\u043b\\u044c\", \"\\u0446\\u0435\\u0440\\u043a\\u043e\\u0432\\u044c\", \"\\u0438\\u0437\\u0431\\u0438\\u0440\\u0430\\u0442\\u0435\\u043b\\u044c\\u043d\\u044b\\u0439\", \"\\u043f\\u0430\\u043b\\u0435\\u0441\\u0442\\u0438\\u043d\\u0441\\u043a\\u0438\\u0439\", \"\\u043b\\u0438\\u0447\\u043d\\u043e\\u0441\\u0442\\u044c\", \"\\u0441\\u0435\\u043a\\u0442\\u043e\\u0440\", \"\\u0441\\u043e\\u043b\\u0434\\u0430\\u0442\", \"\\u043f\\u0440\\u043e\\u0433\\u043e\\u043b\\u043e\\u0441\\u043e\\u0432\\u0430\\u0442\\u044c\", \"\\u0432\\u043e\\u0441\\u0441\\u0442\\u0430\\u043d\\u043e\\u0432\\u043b\\u0435\\u043d\\u0438\\u0435\", \"\\u043a\\u043e\\u043d\\u0444\\u043b\\u0438\\u043a\\u0442\", \"\\u0443\\u043a\\u0440\\u0430\\u0438\\u043d\\u0430\", \"\\u0442\\u0435\\u0440\\u0440\\u043e\\u0440\\u0438\\u0441\\u0442\\u0438\\u0447\\u0435\\u0441\\u043a\\u0438\\u0439\", \"\\u0432\\u043e\\u0439\\u0441\\u043a\\u043e\", \"\\u0430\\u0434\\u043c\\u0438\\u043d\\u0438\\u0441\\u0442\\u0440\\u0430\\u0446\\u0438\\u044f\", \"\\u0433\\u0440\\u0443\\u043f\\u043f\\u0438\\u0440\\u043e\\u0432\\u043a\\u0430\", \"\\u0447\\u0435\\u0447\\u043d\\u044f\", \"\\u0432\\u043e\\u0435\\u043d\\u043d\\u044b\\u0439\", \"\\u043e\\u0442\\u0441\\u0442\\u0430\\u0432\\u043a\\u0430\", \"\\u0441\\u0438\\u043b\\u0430\", \"\\u043e\\u043f\\u0435\\u0440\\u0430\\u0446\\u0438\\u044f\", \"\\u0442\\u0435\\u0440\\u0440\\u043e\\u0440\\u0438\\u0441\\u0442\", \"\\u0440\\u0435\\u0441\\u043f\\u0443\\u0431\\u043b\\u0438\\u043a\\u0430\", \"\\u0432\\u043e\\u043e\\u0440\\u0443\\u0436\\u0451\\u043d\\u043d\\u044b\\u0439\", \"\\u043c\\u0438\\u043d\\u0438\\u0441\\u0442\\u0440\", \"\\u0442\\u0435\\u0440\\u0440\\u0438\\u0442\\u043e\\u0440\\u0438\\u044f\", \"\\u043f\\u0440\\u0435\\u0434\\u0441\\u0442\\u0430\\u0432\\u0438\\u0442\\u0435\\u043b\\u044c\", \"\\u0437\\u0430\\u044f\\u0432\\u0438\\u0442\\u044c\", \"\\u0432\\u044b\\u0431\\u043e\\u0440\\u044b\", \"\\u043e\\u0440\\u0433\\u0430\\u043d\\u0438\\u0437\\u0430\\u0446\\u0438\\u044f\", \"\\u043f\\u0440\\u0435\\u0437\\u0438\\u0434\\u0435\\u043d\\u0442\", \"\\u0433\\u043b\\u0430\\u0432\\u0430\", \"\\u043f\\u0440\\u043e\\u0442\\u0438\\u0432\", \"\\u0441\\u0442\\u043e\\u0440\\u043e\\u043d\\u0430\", \"\\u043a\\u043e\\u0442\\u043e\\u0440\\u044b\\u0439\", \"\\u0441\\u0442\\u0440\\u043e\\u0438\\u0442\\u0435\\u043b\\u044c\\u0441\\u0442\\u0432\\u043e\", \"\\u043a\\u0432\\u0430\\u0434\\u0440\\u0430\\u0442\\u043d\\u044b\\u0439\", \"\\u043f\\u043e\\u0441\\u0442\\u0440\\u043e\\u0438\\u0442\\u044c\", \"\\u043d\\u0435\\u0434\\u0432\\u0438\\u0436\\u0438\\u043c\\u043e\\u0441\\u0442\\u044c\", \"\\u0440\\u0435\\u0439\\u0442\\u0438\\u043d\\u0433\", \"\\u0436\\u0438\\u043b\\u044c\\u0451\", \"\\u0442\\u0443\\u0440\\u043d\\u0438\\u0440\", \"\\u043c\\u0443\\u0437\\u0435\\u0439\", \"\\u043f\\u043e\\u043a\\u0430\\u0437\\u0430\\u0442\\u0435\\u043b\\u044c\", \"\\u0432\\u044b\\u0438\\u0433\\u0440\\u0430\\u0442\\u044c\", \"\\u043c\\u043e\\u0434\\u0435\\u043b\\u044c\", \"\\u0433\\u043e\\u0441\\u0442\\u0438\\u043d\\u0438\\u0446\\u0430\", \"\\u043e\\u043b\\u0438\\u043c\\u043f\\u0438\\u0439\\u0441\\u043a\\u0438\\u0439\", \"\\u043a\\u0438\\u0442\\u0430\\u0439\\u0441\\u043a\\u0438\\u0439\", \"\\u0434\\u0435\\u0442\\u0441\\u043a\\u0438\\u0439\", \"\\u043a\\u043b\\u0430\\u0441\\u0441\", \"\\u043a\\u043e\\u043d\\u043a\\u0443\\u0440\\u0441\", \"\\u043d\\u0430\\u0443\\u0447\\u043d\\u044b\\u0439\", \"\\u0437\\u0430\\u043f\\u043b\\u0430\\u0442\\u0438\\u0442\\u044c\", \"new\", \"\\u0430\\u0440\\u0435\\u043d\\u0434\\u0430\", \"\\u0441\\u043f\\u043e\\u0440\\u0442\\u0438\\u0432\\u043d\\u044b\\u0439\", \"\\u0433\\u0435\\u043a\\u0442\\u0430\\u0440\", \"\\u0440\\u0435\\u0441\\u0442\\u043e\\u0440\\u0430\\u043d\", \"\\u043e\\u0444\\u0438\\u0441\\u043d\\u044b\\u0439\", \"\\u043c\\u0435\\u0434\\u0430\\u043b\\u044c\", \"\\u0448\\u0432\\u0435\\u0446\\u0438\\u044f\", \"\\u043e\\u0441\\u043e\\u0431\\u043d\\u044f\\u043a\", \"\\u043b\\u043e\\u0434\\u043a\\u0430\", \"\\u0434\\u0435\\u043b\\u043e\\u0432\\u043e\\u0439\", \"\\u043c\\u0435\\u0442\\u0440\", \"\\u043f\\u043b\\u043e\\u0449\\u0430\\u0434\\u044c\", \"\\u0430\\u0443\\u043a\\u0446\\u0438\\u043e\\u043d\", \"\\u043e\\u0431\\u044a\\u0435\\u043a\\u0442\", \"\\u043f\\u0440\\u0438\\u043e\\u0431\\u0440\\u0435\\u0441\\u0442\\u0438\", \"\\u043a\\u043e\\u043c\\u043f\\u043b\\u0435\\u043a\\u0441\", \"\\u0442\\u044b\\u0441\\u044f\\u0447\\u0430\", \"\\u043a\\u0432\\u0430\\u0440\\u0442\\u0438\\u0440\\u0430\", \"\\u0445\\u043e\\u0440\\u043e\\u0448\\u0438\\u0439\", \"\\u043f\\u0440\\u043e\\u0435\\u043a\\u0442\", \"\\u0437\\u0435\\u043c\\u043b\\u044f\", \"\\u0434\\u043e\\u043c\", \"\\u0441\\u043a\\u043e\\u0440\\u043e\\u0441\\u0442\\u044c\", \"\\u043c\\u043e\\u0441\\u043a\\u0432\\u0430\", \"\\u0433\\u043e\\u0434\", \"\\u0433\\u043e\\u0440\\u043e\\u0434\", \"\\u0446\\u0435\\u043d\\u0442\\u0440\", \"\\u0441\\u043e\\u0441\\u0442\\u0430\\u0432\\u043b\\u044f\\u0442\\u044c\", \"\\u043a\\u0438\\u043b\\u043e\\u043c\\u0435\\u0442\\u0440\", \"\\u043c\\u0435\\u0441\\u0442\\u043e\", \"\\u043e\\u0431\\u0449\\u0438\\u0439\", \"\\u043c\\u0438\\u043b\\u043b\\u0438\\u043e\\u043d\", \"\\u043d\\u043e\\u0432\\u044b\\u0439\", \"\\u043f\\u0435\\u0440\\u0432\\u044b\\u0439\", \"\\u0441\\u0430\\u043c\\u044b\\u0439\", \"\\u043c\\u043e\\u0441\\u043a\\u043e\\u0432\\u0441\\u043a\\u0438\\u0439\", \"\\u0442\\u0435\\u0440\\u0440\\u0438\\u0442\\u043e\\u0440\\u0438\\u044f\", \"\\u0442\\u0430\\u043a\\u0436\\u0435\", \"\\u0444\\u0438\\u043b\\u044c\\u043c\", \"\\u043a\\u0430\\u0440\\u0442\\u0438\\u043d\\u0430\", \"\\u0444\\u0438\\u043d\\u0430\\u043d\\u0441\\u043e\\u0432\\u044b\\u0439\", \"\\u0438\\u0441\\u0441\\u043b\\u0435\\u0434\\u043e\\u0432\\u0430\\u043d\\u0438\\u0435\", \"\\u043f\\u0440\\u043e\\u0434\\u0430\\u0442\\u044c\", \"\\u043a\\u043e\\u043c\\u043f\\u0430\\u043d\\u0438\\u044f\", \"\\u0440\\u0435\\u0436\\u0438\\u0441\\u0441\\u0451\\u0440\", \"\\u0441\\u0434\\u0435\\u043b\\u043a\\u0430\", \"\\u043e\\u0430\\u043e\", \"\\u043a\\u0430\\u043f\\u0438\\u0442\\u0430\\u043b\", \"\\u0442\\u043e\\u043d\\u043d\\u0430\", \"\\u0434\\u0435\\u0432\\u0443\\u0448\\u043a\\u0430\", \"\\u0438\\u043d\\u0432\\u0435\\u0441\\u0442\\u043e\\u0440\", \"\\u0437\\u0430\\u0434\\u043e\\u043b\\u0436\\u0435\\u043d\\u043d\\u043e\\u0441\\u0442\\u044c\", \"\\u0433\\u043e\\u0434\\u043e\\u0432\\u043e\\u0439\", \"group\", \"\\u0432\\u044b\\u043f\\u0443\\u0441\\u043a\", \"\\u0431\\u0430\\u043d\\u043a\\u043e\\u0432\\u0441\\u043a\\u0438\\u0439\", \"\\u043b\\u043e\\u043d\\u0434\\u043e\\u043d\\u0441\\u043a\\u0438\\u0439\", \"\\u0438\\u0441\\u0442\\u043e\\u0440\\u0438\\u0447\\u0435\\u0441\\u043a\\u0438\\u0439\", \"\\u0441\\u0435\\u0440\\u0438\\u0430\\u043b\", \"\\u044d\\u043a\\u0440\\u0430\\u043d\", \"\\u043f\\u043e\\u043a\\u0443\\u043f\\u043a\\u0430\", \"\\u0433\\u0440\\u0435\\u0446\\u0438\\u044f\", \"\\u0430\\u043a\\u0442\\u0440\\u0438\\u0441\\u0430\", \"\\u043a\\u0440\\u0435\\u0434\\u0438\\u0442\\u043d\\u044b\\u0439\", \"\\u0442\\u0435\\u043b\\u0435\\u0444\\u043e\\u043d\", \"\\u0432\\u043a\\u043b\\u0430\\u0434\", \"\\u0431\\u0443\\u043c\\u0430\\u0433\\u0430\", \"\\u0434\\u043e\\u0441\\u0442\\u0438\\u0433\\u0430\\u0442\\u044c\", \"\\u0431\\u0430\\u043d\\u043a\", \"\\u0434\\u043e\\u043b\\u043b\\u0430\\u0440\", \"\\u043a\\u0440\\u0435\\u0434\\u0438\\u0442\", \"\\u0430\\u043a\\u0442\\u0438\\u0432\", \"\\u0441\\u0443\\u043c\\u043c\\u0430\", \"\\u043f\\u0440\\u0435\\u0434\\u043f\\u0440\\u0438\\u044f\\u0442\\u0438\\u0435\", \"\\u043c\\u0438\\u043b\\u043b\\u0438\\u043e\\u043d\", \"\\u0432\\u0435\\u0434\\u043e\\u043c\\u043e\\u0441\\u0442\\u044c\", \"\\u0441\\u0431\\u0435\\u0440\\u0431\\u0430\\u043d\\u043a\", \"\\u043f\\u0440\\u043e\\u0434\\u0430\\u0436\\u0430\", \"\\u043a\\u0440\\u0443\\u043f\\u043d\\u044b\\u0439\", \"\\u043a\\u0432\\u0430\\u0440\\u0442\\u0430\\u043b\", \"\\u0431\\u0435\\u043b\\u043e\\u0440\\u0443\\u0441\\u0441\\u0438\\u044f\", \"\\u043c\\u0438\\u043b\\u043b\\u0438\\u0430\\u0440\\u0434\", \"\\u0430\\u043a\\u0446\\u0438\\u044f\", \"\\u043a\\u0443\\u043f\\u0438\\u0442\\u044c\", \"\\u043c\\u0430\\u0433\\u0430\\u0437\\u0438\\u043d\", \"\\u0441\\u0435\\u0442\\u044c\", \"\\u0433\\u043e\\u0434\", \"\\u043f\\u0440\\u043e\\u0435\\u043a\\u0442\", \"\\u0441\\u0440\\u0435\\u0434\\u0441\\u0442\\u0432\\u043e\", \"\\u0440\\u044b\\u043d\\u043e\\u043a\", \"\\u043a\\u043e\\u0442\\u043e\\u0440\\u044b\\u0439\", \"\\u043f\\u043e\\u043b\\u0443\\u0447\\u0438\\u0442\\u044c\", \"\\u043f\\u0438\\u0441\\u0430\\u0442\\u044c\", \"\\u044f\\u0432\\u043b\\u044f\\u0442\\u044c\\u0441\\u044f\", \"\\u043e\\u043a\\u043e\\u043b\\u043e\", \"\\u0442\\u0430\\u043a\\u0436\\u0435\", \"\\u0441\\u043e\\u043e\\u0431\\u0449\\u0430\\u0442\\u044c\", \"\\u0441\\u0442\\u0430\\u0442\\u044c\", \"\\u043d\\u043e\\u0432\\u044b\\u0439\", \"\\u043d\\u0435\\u0444\\u0442\\u044c\", \"\\u0437\\u0430\\u0432\\u043e\\u0434\", \"\\u043a\\u0443\\u0440\\u0441\", \"\\u0442\\u0440\\u0438\\u043b\\u043b\\u0438\\u043e\\u043d\", \"\\u0441\\u0442\\u0430\\u0432\\u043a\\u0430\", \"\\u0432\\u0430\\u043b\\u044e\\u0442\\u0430\", \"\\u0430\\u0432\\u0430\\u0440\\u0438\\u044f\", \"\\u044d\\u043a\\u043e\\u043d\\u043e\\u043c\\u0438\\u043a\\u0430\", \"\\u0440\\u043e\\u0441\\u0442\", \"\\u043d\\u0430\\u043b\\u043e\\u0433\\u043e\\u0432\\u044b\\u0439\", \"\\u0432\\u044b\\u0440\\u0430\\u0441\\u0442\\u0438\", \"\\u0440\\u0430\\u0441\\u0445\\u043e\\u0434\", \"\\u043e\\u043f\\u0440\\u043e\\u0441\", \"\\u0437\\u0430\\u0440\\u043f\\u043b\\u0430\\u0442\\u0430\", \"\\u043e\\u043f\\u0435\\u0440\\u0430\\u0442\\u043e\\u0440\", \"\\u0441\\u0440\\u0430\\u0432\\u043d\\u0435\\u043d\\u0438\\u0435\", \"\\u0433\\u0430\\u0437\\u043f\\u0440\\u043e\\u043c\", \"\\u043e\\u043f\\u0440\\u043e\\u0441\\u0438\\u0442\\u044c\", \"\\u0440\\u0430\\u0431\\u043e\\u0442\\u043d\\u0438\\u043a\", \"\\u0443\\u0432\\u0435\\u043b\\u0438\\u0447\\u0435\\u043d\\u0438\\u0435\", \"\\u043c\\u0438\\u043d\\u0444\\u0438\\u043d\", \"\\u0442\\u043e\\u0432\\u0430\\u0440\", \"\\u0438\\u043d\\u0434\\u0435\\u043a\\u0441\", \"\\u0441\\u0440\\u0435\\u0434\\u043d\\u0438\\u0439\", \"\\u043d\\u0438\\u0436\\u0435\", \"\\u0431\\u0430\\u0440\\u0440\\u0435\\u043b\\u044c\", \"\\u043b\\u0443\\u0436\\u043a\\u043e\\u0432\", \"\\u0443\\u0432\\u0435\\u043b\\u0438\\u0447\\u0438\\u0442\\u044c\\u0441\\u044f\", \"\\u0441\\u043d\\u0438\\u0437\\u0438\\u0442\\u044c\\u0441\\u044f\", \"\\u043f\\u043e\\u0435\\u0437\\u0434\", \"\\u043f\\u0440\\u043e\\u0446\\u0435\\u043d\\u0442\", \"\\u0440\\u0443\\u0431\\u043b\\u044c\", \"\\u0446\\u0435\\u043d\\u0430\", \"\\u0431\\u044e\\u0434\\u0436\\u0435\\u0442\", \"\\u0431\\u0438\\u0440\\u0436\\u0430\", \"\\u0434\\u043e\\u0445\\u043e\\u0434\", \"\\u0440\\u044b\\u043d\\u043e\\u043a\", \"\\u0441\\u043e\\u0441\\u0442\\u0430\\u0432\\u0438\\u0442\\u044c\", \"\\u0433\\u0430\\u0437\", \"\\u043c\\u0438\\u043b\\u043b\\u0438\\u0430\\u0440\\u0434\", \"\\u0443\\u0440\\u043e\\u0432\\u0435\\u043d\\u044c\", \"\\u0433\\u043e\\u0434\", \"\\u0434\\u043e\\u043b\\u043b\\u0430\\u0440\", \"\\u0440\\u043e\\u0441\\u0441\\u0438\\u044f\", \"\\u043f\\u0440\\u0430\\u0432\\u0438\\u0442\\u0435\\u043b\\u044c\\u0441\\u0442\\u0432\\u043e\", \"\\u043e\\u0431\\u044a\\u0451\\u043c\", \"\\u0441\\u043e\\u0441\\u0442\\u0430\\u0432\\u043b\\u044f\\u0442\\u044c\", \"\\u0435\\u0432\\u0440\\u043e\", \"\\u044d\\u0442\\u043e\", \"\\u0442\\u044b\\u0441\\u044f\\u0447\\u0430\", \"\\u0440\\u043e\\u0441\\u0441\\u0438\\u0439\\u0441\\u043a\\u0438\\u0439\", \"\\u0434\\u0430\\u043d\\u043d\\u044b\\u0435\", \"\\u0441\\u0442\\u0440\\u0430\\u043d\\u0430\", \"\\u043c\\u0435\\u0441\\u044f\\u0446\", \"\\u0432\\u0435\\u0441\\u044c\"], \"Freq\": [680.0, 100.0, 80.0, 77.0, 176.0, 74.0, 75.0, 60.0, 79.0, 102.0, 87.0, 112.0, 143.0, 97.0, 76.0, 93.0, 53.0, 52.0, 134.0, 43.0, 91.0, 72.0, 60.0, 96.0, 40.0, 145.0, 78.0, 64.0, 66.0, 99.0, 66.93803993682464, 44.788888371173, 36.35830954237898, 29.203439971801853, 28.073870904504176, 27.98726512348298, 26.560580128390093, 25.558582212979836, 25.414765977761217, 25.19425242245108, 25.15418001121689, 24.7929857523581, 24.169702189852945, 23.919368304147337, 21.91591050976334, 21.467432272694463, 21.015542703765473, 20.781598583458027, 20.767722668973345, 20.657870548974316, 19.633153027736256, 19.51464937226429, 19.154250864773797, 18.73540871453075, 112.06796202508804, 18.519966943864855, 18.047771020771865, 17.912414165155994, 17.73151071666295, 17.55914351012073, 40.11915258444489, 75.74282536787494, 41.06734459554595, 35.798141270929186, 24.56598184995029, 39.288650392189126, 30.20573177266063, 40.309025190761, 64.79264451343525, 51.51560075311768, 237.25871412053803, 80.29132210380257, 182.25684976056283, 36.9814325982161, 35.81459885604624, 44.3641244291423, 44.69012477521232, 34.43346610547376, 68.05472325753341, 99.89364428733191, 72.08966647546092, 58.19801781599869, 33.28866698997092, 47.57015695755064, 47.10810121276019, 49.00529907158898, 55.75358716676953, 35.83948869287848, 38.24219665104716, 39.49860667792555, 36.19225522133667, 93.29009750268538, 27.722988570023585, 21.99074358106485, 20.216407115703685, 17.111907973154434, 16.631601055072377, 16.185167693436142, 16.164337076566657, 15.565641427227646, 15.47656590084846, 15.272510492088959, 14.911368511623545, 14.827801043572958, 14.77330957530026, 15.458141857785709, 14.391134295673448, 14.27990292205457, 13.991510520718588, 13.984715095744646, 13.840054507627599, 13.772057939607441, 13.70269270929738, 13.541682787512283, 13.481124214149771, 13.193707360548496, 12.7113803013811, 12.071191577787069, 11.910205042420268, 11.724324221595008, 11.582674913243538, 24.686854609992423, 39.40633310492716, 22.006575072613455, 17.42739409690783, 26.917437823563144, 31.17320913426831, 54.20650587937875, 38.04010745708499, 32.09865425186849, 35.22479251317695, 33.67731544169351, 66.30884816633841, 81.00569751747267, 34.21992489175971, 37.4974178250132, 24.5099107418738, 39.813960603134674, 19.927152757807587, 24.95194077503626, 21.383351525035984, 24.901671112085786, 34.80536935103564, 73.78128099538775, 26.7565793566775, 219.0939448183565, 152.69447762203126, 28.486029489852537, 66.42489380120972, 31.917745829028917, 44.19988958169539, 127.74158802659551, 74.0843600674147, 54.08952033321967, 36.06636279837178, 33.360952884073434, 56.189219786328636, 58.50218110153366, 35.41848105679675, 41.29595570338444, 29.740693013302753, 30.879457902225244, 44.530690242301844, 35.066221996739166, 33.54422898321758, 27.83688143342747, 26.782697868597392, 23.07150239130276, 22.46660992981677, 19.280672700993915, 18.834371080345704, 16.92356115217994, 15.605009327791283, 15.524687105198856, 15.489509430283508, 15.118096609784345, 14.824696430902955, 14.226278672349919, 14.190599468566955, 14.161291882106745, 14.1173774121604, 13.603240826937686, 13.544559632896124, 13.335829804480205, 12.742215372056501, 12.488277291372928, 12.394208776399765, 12.374356109446122, 12.291876038631138, 12.005184532269906, 11.284173659614922, 11.094015456749451, 28.11662798115078, 46.80600972987904, 24.53977274446007, 22.778530770576147, 15.06534689225793, 90.5367973345582, 48.67452791776019, 30.78734448844587, 20.963406295718862, 32.88338535896247, 42.485337377107605, 46.122332063831394, 35.942873608555686, 60.28613738160263, 27.299759073660127, 27.556854585505636, 31.267211478735245, 26.96873843838117, 30.31681543286946, 41.431348400845096, 22.39855026177733, 26.016389557247948, 27.176081823253124, 41.096929415225304, 25.3703717286175, 25.691994199388763, 35.51686917061565, 25.68147828442407, 14.397135334436157, 14.019957983753537, 11.300891827484648, 10.472272455363424, 9.96504282387427, 9.715509567554262, 9.519555906402802, 9.323112029181331, 9.065690379268089, 8.946103190272778, 8.409932938192185, 8.052552146470111, 7.958339256156921, 7.2968478189871275, 6.926307278993999, 6.751324142162408, 6.710312972130467, 6.646754416086791, 6.643520521949948, 6.591759322016092, 6.483077908653271, 6.401236335765203, 5.830759639693527, 5.748210317354384, 5.7390504258295625, 5.6861729630529565, 5.6890172375424894, 5.683284773373818, 13.640164104797242, 12.474655993963816, 78.13958368137406, 19.764835853115336, 53.534895633229986, 23.088363955792783, 64.58181672767756, 29.584366206875153, 55.46931684142446, 18.618547276076715, 21.361208144565243, 32.891633433996994, 19.71449066272537, 16.724480041995335, 14.948863308396932, 20.133478337762398, 29.624974480574558, 49.43593762331082, 44.00403718256303, 32.64164570652875, 20.697359585125486, 29.459354981321884, 19.206814730355816, 15.177040505883678, 24.60337467758984, 22.95623029925567, 26.722384704379383, 19.42205022359431, 18.22769596089127, 18.549236851478263, 17.62105765938857, 17.3020720200665, 77.25383921089967, 74.9444491086126, 53.65690804884928, 52.827223661726094, 40.62685830485577, 37.42441559842388, 28.838175270886943, 20.307810351310195, 19.307823276682562, 18.732468999456817, 18.305722101949847, 17.56396462064519, 17.381757229195372, 17.129260843321994, 16.567137416677667, 15.590671317075838, 15.171576752952271, 14.351840882634542, 14.257987406551921, 14.196056519784653, 13.940277800135325, 13.808768527287747, 12.625723264826544, 12.329740387652974, 12.157633786225025, 12.091332899850306, 11.718478635776615, 11.703641262478154, 11.203751657677126, 10.668091543552409, 32.64083226706072, 33.94135510746475, 23.779327082244325, 14.372827193433753, 33.90063934416051, 17.17072266481881, 26.95469093786382, 20.327522078890564, 30.920676669366138, 29.39670053782499, 27.928000389519113, 37.416516727452006, 20.74611389969646, 22.1819294786849, 30.43812365224084, 23.865948789065058, 19.68307604533431, 19.59531510926488, 20.631958939449273, 20.220109035441897, 29.443523401573724, 27.35093162276642, 18.033169294216243, 17.304007595969477, 17.149971171620304, 16.868390146644632, 13.341395021790337, 11.863357255824747, 11.027772764534873, 10.875018388356194, 10.462966570971668, 10.448524976460298, 10.320828116619943, 10.117215324544002, 10.015935438308587, 9.499823404674185, 8.39232698823343, 8.054669790435065, 7.851273871777189, 7.819636582268431, 7.529079940610094, 7.450617824882208, 7.359559777802575, 7.0837978696726305, 7.040347056453102, 6.9810516888230545, 6.973685029799469, 6.925473237296091, 6.809254035253576, 6.757100136549301, 12.625766480728542, 17.83035874186376, 10.350860926681792, 14.320928444638774, 21.478708298633112, 14.888861709787502, 10.398414421995827, 31.01997179926142, 13.36468428406516, 20.300047972816277, 17.72831691981444, 11.492352731212366, 16.348089705139852, 14.237162846209584, 19.89250379585556, 19.16049651364554, 22.905448783908543, 27.467626155043806, 15.007547127247813, 16.672199671372134, 17.100676291515803, 15.696467610913462, 12.293069862527995, 11.598052612861933, 12.939176078847192, 30.729400420408492, 23.02841624623864, 17.207864465878934, 16.79459977275985, 16.406986633759118, 16.02026905718367, 15.28990665881799, 14.321423890015138, 13.309141870506142, 12.050739449592696, 11.70042385159775, 10.180016741147195, 10.023641250688668, 9.836982028916188, 8.547363560675603, 8.422427701870635, 7.9408521777119025, 7.124369997287309, 7.103802689495787, 6.996099975499578, 6.75203164941981, 6.665400992489017, 6.5392877937515, 6.509953530125087, 6.320684191051568, 6.30158212629785, 6.111188127434445, 6.104657627423561, 5.984165277396283, 5.978119312185944, 40.300652171093624, 28.061979375347754, 9.295462015444535, 23.048944350203065, 10.821050156670069, 15.45255476161227, 60.02803266846723, 18.507595071271727, 20.946029012489632, 40.13386683942087, 13.633143124680853, 30.010323823768783, 9.297909804398994, 33.95859270587643, 83.47662083211186, 23.598682465930228, 17.261913067132127, 16.325229502584502, 13.314215090756601, 18.187499498371697, 13.400110675929298, 17.671659216769125, 19.34806509340218, 18.316168909147994, 14.735541266373614, 14.235645916323737, 13.989510813484122, 14.624796580418485, 33.42851101474774, 18.53928438167876, 16.84019925047249, 16.237102679591768, 15.204167754158933, 100.05122975184402, 14.214437707151065, 11.243377723046578, 8.152613384772893, 7.565731330716889, 7.218855703233818, 7.096256926708118, 6.573431659185625, 5.666637272760705, 5.47816881901843, 5.324798267231325, 5.2489359816805194, 5.204182674697019, 5.140778867140485, 5.0827674930527325, 4.979327277599423, 4.9298982351434635, 4.854200604049719, 4.562433751963557, 4.460746373427293, 4.419488026460471, 4.411767593245182, 4.358883626616555, 4.272547456775688, 4.248126719698836, 25.871401487621533, 56.59661337078495, 9.888016665348998, 11.464144389088842, 15.375959869157539, 16.304059527333052, 56.95641268149201, 6.91717490478863, 7.928269995370545, 22.63170099019888, 22.003343493402188, 7.8469667822300435, 7.207809757482491, 24.736176672394315, 17.286430873434554, 7.572848124903805, 7.6830538341099555, 12.46206317590991, 52.59449055986902, 19.239977062557344, 11.088917181309126, 10.90895324305113, 28.36710292641779, 14.69283333775291, 11.694736189582642, 12.430811534405493, 11.364093123248349, 14.411589991847979, 12.173832165512128, 11.210581036294386, 11.150037817986743, 10.781090159286599, 9.607816237176689, 8.857788567305121, 7.4454305213514385, 7.43916732222904, 7.413754194428399, 7.102084806226405, 6.730870082651463, 6.655581161015771, 5.803235031401479, 5.586499655954958, 5.376259232849329, 5.377833825964527, 5.207886025242535, 5.0894343368106965, 4.89496133967494, 4.878292303797706, 4.856158112764625, 4.807265609144973, 4.708093990743414, 4.469490960005824, 4.460710913114284, 4.396305404005771, 5.08551407283985, 4.158875990325747, 4.082322000952678, 4.066681589815876, 3.937955378425853, 3.9118763020850533, 3.8830392451997158, 77.44049819381516, 50.601840322807796, 16.75723185079829, 9.76406949400451, 7.7467159584313725, 8.654464004156436, 12.834007066489589, 15.015624782115989, 7.904466817844806, 15.922787387164318, 10.914957540304425, 56.25503683545985, 18.994906488259232, 26.302228505612923, 11.022612186295573, 7.143264187552306, 10.198064718454411, 8.895662436452236, 23.12213819848136, 12.67779054625964, 10.942727281777103, 8.667197534282856, 8.262078057390518, 7.429131977971899, 7.305022462652816], \"Total\": [680.0, 100.0, 80.0, 77.0, 176.0, 74.0, 75.0, 60.0, 79.0, 102.0, 87.0, 112.0, 143.0, 97.0, 76.0, 93.0, 53.0, 52.0, 134.0, 43.0, 91.0, 72.0, 60.0, 96.0, 40.0, 145.0, 78.0, 64.0, 66.0, 99.0, 66.96612386370079, 44.816980353574706, 36.386395042462446, 29.23152877177965, 28.101954955253785, 28.015361336113845, 26.588666254867054, 25.586670747774015, 25.4428829951699, 25.222334699418724, 25.18226321260756, 24.821096152239296, 24.197804815996967, 23.947468176508217, 21.943996213479412, 21.4955282162903, 21.04365884099882, 20.80968355396417, 20.795823194909406, 20.68596050083576, 19.661245945716892, 19.542743835895752, 19.182360105448407, 18.763513361630654, 112.23705773516191, 18.5480679944834, 18.07586571282269, 17.940497574519586, 17.759600318742315, 17.587233285101533, 40.25178708619988, 78.3783467755649, 41.872485890671975, 37.902769254566415, 25.253440232752872, 44.20420079575797, 33.26247827665686, 49.32429523080288, 97.07262141459069, 74.64616599806723, 680.7724918813898, 145.61171119263255, 483.6124935725043, 50.14318272973226, 47.9538486638153, 68.21330663744016, 73.40970633601319, 47.402327513526956, 183.4754845499549, 417.28750569811905, 216.82606864696058, 155.99607993998757, 46.701087418229925, 118.4515832703529, 117.47944050210648, 132.5566316763226, 210.01019287584992, 60.484929975184706, 79.61500586692017, 134.32921569098485, 77.96626766425841, 93.32237508590308, 27.755290045070474, 22.023038657694208, 20.24868204184439, 17.144184576421644, 16.663879545184113, 16.217449983142814, 16.19662255391573, 15.597960399656921, 15.50888884866495, 15.30488533641648, 14.943659635251747, 14.860082764634502, 14.805588396177736, 15.492569024124537, 14.423411730587853, 14.312182506244655, 14.023793537417179, 14.017049761364797, 13.872477891553805, 13.804336609552372, 13.734974779838316, 13.573971729693442, 13.513420089626361, 13.225985583630328, 12.743698687464619, 12.103487858855567, 11.942505349835328, 11.75660125286842, 11.614953325589736, 24.77063406801316, 39.74760558648773, 22.11932803063328, 17.61419377465615, 27.756806624271658, 32.514036587026354, 59.765105734925875, 41.29696246338261, 34.50227945691899, 38.24747087145227, 36.460310206775844, 76.51191901729403, 96.11114507962792, 37.72369071405852, 42.267218143854016, 26.359184597631856, 46.05816409917538, 21.163360497416633, 27.949703094924963, 23.176132436441044, 28.399431445478914, 43.646342457427174, 122.99148079316927, 32.60948265006738, 680.7724918813898, 417.28750569811905, 36.51706872672654, 134.18323562396176, 43.681843802931695, 76.65342627920168, 483.6124935725043, 216.82606864696058, 134.32921569098485, 60.20588693096727, 52.47282196609197, 176.34482947293267, 210.01019287584992, 65.482574039672, 104.90798087632066, 48.57859225348422, 80.44152185432397, 44.56445802307256, 35.09998874055602, 33.57799380391831, 27.87066850356876, 26.81646138004046, 23.10528237913859, 22.50038404164029, 19.314457952840836, 18.868144147600805, 16.95733091289029, 15.638774827299299, 15.558452613381432, 15.523291896800705, 15.151868134724511, 14.858463320696456, 14.260043246399949, 14.22436640036516, 14.19505672639215, 14.151141366801076, 13.63701693861213, 13.578346322442673, 13.36965999552967, 12.775983771456868, 12.522043887379287, 12.427995129212702, 12.408168807684063, 12.325642988155222, 12.038956261764032, 11.317939122812419, 11.12777735581474, 28.289609037592395, 47.967171423814385, 24.960973701656123, 23.32244947356534, 15.320645023988341, 143.36679437587586, 66.78711291961245, 38.83108324358499, 25.050789686825375, 48.299160955630406, 74.88267554726087, 91.30178515783102, 64.13383786806264, 192.87849711785174, 56.127788595159025, 58.82039607857537, 80.44152185432397, 57.77484035027591, 76.795916201477, 183.4754845499549, 39.258849244592646, 60.11575786250441, 73.90083648954338, 483.6124935725043, 118.4515832703529, 417.28750569811905, 35.55145897576754, 25.716068590136928, 14.431728528909998, 14.054547356021482, 11.335488659223103, 10.506862576479614, 9.999630313414627, 9.750089065194, 9.554142675345364, 9.357697472145848, 9.100270956614152, 8.980685430727661, 8.444882555339051, 8.087162727460838, 7.992935470637625, 7.331443654444787, 6.96090801617364, 6.785913750603734, 6.744898507879984, 6.681338803053066, 6.678109891476424, 6.626402749268866, 6.517718704763563, 6.435860519504892, 5.865350375862123, 5.782798305196084, 5.7736504783671245, 5.720754865001285, 5.723619127046376, 5.717886892335456, 13.986487715725145, 12.864405570557976, 87.04936290120753, 21.97973312365209, 72.84411241884584, 28.051993373210166, 97.34310491725405, 46.820217055001564, 176.34482947293267, 35.94936887453286, 46.67984308908199, 99.02974231558593, 42.760487750615454, 32.84126992474858, 29.23718804873801, 53.36853603511944, 134.18323562396176, 483.6124935725043, 417.28750569811905, 210.01019287584992, 68.21330663744016, 192.87849711785174, 63.21350037857052, 34.979652716451945, 216.82606864696058, 183.4754845499549, 680.7724918813898, 134.32921569098485, 122.99148079316927, 145.61171119263255, 117.47944050210648, 143.36679437587586, 77.28536241485573, 74.9759557939835, 53.688422382852075, 52.85874208703347, 40.6583650708148, 37.455923258141254, 28.86969618595264, 20.339319570088634, 19.339330385129827, 18.763987159987813, 18.337250678223842, 17.595483982990462, 17.413266939969088, 17.160776429416558, 16.598661474259732, 15.622180317364183, 15.203084549115271, 14.38334817064392, 14.289503138672375, 14.227564638697462, 13.97178534313981, 13.840368085087015, 12.65726277254766, 12.361249506029282, 12.18914012808095, 12.122854787994212, 11.749985863820577, 11.735189332373972, 11.235266131141294, 10.699598773166636, 34.84370853459371, 44.48186583736055, 29.207827607796133, 15.38598329135218, 66.22851460140079, 25.380022125638156, 99.02974231558593, 46.20676759761464, 176.34482947293267, 155.99607993998757, 132.5566316763226, 417.28750569811905, 52.73379350720963, 67.1216965913634, 483.6124935725043, 216.82606864696058, 77.96626766425841, 76.795916201477, 192.87849711785174, 183.4754845499549, 29.476876752305134, 27.384287355295083, 18.06651345424662, 17.337350077587313, 17.18338829736435, 16.901737816834753, 13.37474212893358, 11.896700261220415, 11.061176543980155, 10.908367858769273, 10.49630802665074, 10.48189155769635, 10.354192302922744, 10.150561541307596, 10.049312888642993, 9.533168030291744, 8.425686562339287, 8.088289048607773, 7.884627025699564, 7.853025703059363, 7.562443407755707, 7.484019920113944, 7.392911273911854, 7.117141030921311, 7.073687418464338, 7.014416998751105, 7.007089845632224, 6.958821796562458, 6.842613613536534, 6.790479759079041, 12.859832940149014, 18.594536505219487, 10.640323217055418, 15.030815026051537, 23.220437313405046, 16.125482243006374, 11.563098905992002, 46.31704451592587, 16.25437523265822, 28.57596411236, 24.04715127178636, 13.460873123664848, 22.857782265326904, 19.531986690139814, 46.67984308908199, 43.05300375867102, 77.26691800166425, 134.18323562396176, 28.26583219068098, 53.02405135556559, 97.34310491725405, 76.65342627920168, 41.138622778674296, 31.224863070458287, 483.6124935725043, 30.762317669842812, 23.061325692588873, 17.240780552969824, 16.827516608372942, 16.43990948841343, 16.053184740255745, 15.322840137906718, 14.354341118842186, 13.342076814419178, 12.08369126059866, 11.733359619133362, 10.212937342875227, 10.056574001383828, 9.869906549293178, 8.580291293696945, 8.4553526208522, 7.97377446274833, 7.157311177073454, 7.136768471916566, 7.02905188126152, 6.7849457492168375, 6.69834005514331, 6.572198958852022, 6.542884471191679, 6.353596147370062, 6.334506247008239, 6.144137980617888, 6.137580146724302, 6.017086463900289, 6.011070921675743, 43.28796168090606, 30.621883288114546, 9.580567798859711, 27.11415361515378, 11.689532563031504, 17.855512124656848, 102.77405214390762, 23.905090382549215, 30.50212123723708, 76.36055667147951, 17.75382169526404, 60.11575786250441, 10.839310103103681, 91.96669092877653, 680.7724918813898, 64.13383786806264, 35.02028902484043, 31.86949481269543, 22.830822347525032, 76.795916201477, 27.369948211461857, 79.29021651490038, 145.61171119263255, 132.5566316763226, 53.030053071599994, 51.87364674255974, 43.05300375867102, 210.01019287584992, 33.46276286738539, 18.573534825113274, 16.8744488858555, 16.27138475624462, 15.238412351112638, 100.28891451850772, 14.248694421412004, 11.277617306281646, 8.1868804790616, 7.599972749893135, 7.253111022944142, 7.1305495401434404, 6.607670778094665, 5.700879241687767, 5.512411427780328, 5.359046320003051, 5.28320057847908, 5.238428162983478, 5.175049341128423, 5.117052821631575, 5.013571595643892, 4.964154317368905, 4.888438213941877, 4.596699805109163, 4.494995817959563, 4.453726376177981, 4.446031525437402, 4.3931572157423044, 4.306793150161751, 4.282411244544987, 27.72775339058534, 75.68741646145082, 10.898571246568116, 12.887947200087982, 17.93220325746911, 19.20998765067287, 79.29021651490038, 7.337577496009198, 8.697597622742897, 31.200129698697243, 30.866559720015243, 8.820034618705074, 8.023694907482568, 40.691137483396815, 25.466116153025748, 9.134688182731528, 9.496490473803851, 24.75318601717877, 680.7724918813898, 76.36055667147951, 23.764217318966836, 23.775166736513235, 483.6124935725043, 118.4515832703529, 49.26736149387726, 78.17192384260478, 56.127788595159025, 210.01019287584992, 192.87849711785174, 155.99607993998757, 145.61171119263255, 10.81597386926087, 9.642725684080945, 8.892698675070276, 7.480312493888876, 7.4740517124997865, 7.448636642584886, 7.136980964994878, 6.765759021317757, 6.690478369828585, 5.838123076842711, 5.621380469933328, 5.411145881870948, 5.412735746296438, 5.242784029604456, 5.124346067695871, 4.9298622347315275, 4.9131751764614675, 4.8910477762356335, 4.842186755534742, 4.743577927281268, 4.504372299515174, 4.4956193592928395, 4.431183439433658, 5.126550312571157, 4.193787930234065, 4.117198720969069, 4.101600778496675, 3.9728456420346165, 3.946761414352693, 3.9179429203975116, 80.40762552631236, 60.60191141238623, 20.033446574790403, 10.990731937402119, 8.917604281269151, 10.529279489035773, 23.775166736513235, 33.004932823496404, 11.561052842753096, 40.691137483396815, 21.10090366630339, 680.7724918813898, 75.68741646145082, 176.34482947293267, 35.94936887453286, 12.250980027651398, 31.86949481269543, 22.871183516049555, 417.28750569811905, 102.77405214390762, 99.02974231558593, 74.88267554726087, 87.04936290120753, 26.98823732461011, 117.47944050210648], \"Category\": [\"Default\", \"Default\", \"Default\", \"Default\", \"Default\", \"Default\", \"Default\", \"Default\", \"Default\", \"Default\", \"Default\", \"Default\", \"Default\", \"Default\", \"Default\", \"Default\", \"Default\", \"Default\", \"Default\", \"Default\", \"Default\", \"Default\", \"Default\", \"Default\", \"Default\", \"Default\", \"Default\", \"Default\", \"Default\", \"Default\", \"Topic1\", \"Topic1\", \"Topic1\", \"Topic1\", \"Topic1\", \"Topic1\", \"Topic1\", \"Topic1\", \"Topic1\", \"Topic1\", \"Topic1\", \"Topic1\", \"Topic1\", \"Topic1\", \"Topic1\", \"Topic1\", \"Topic1\", \"Topic1\", \"Topic1\", \"Topic1\", \"Topic1\", \"Topic1\", \"Topic1\", \"Topic1\", \"Topic1\", \"Topic1\", \"Topic1\", \"Topic1\", \"Topic1\", \"Topic1\", \"Topic1\", \"Topic1\", \"Topic1\", \"Topic1\", \"Topic1\", \"Topic1\", \"Topic1\", \"Topic1\", \"Topic1\", \"Topic1\", \"Topic1\", \"Topic1\", \"Topic1\", \"Topic1\", \"Topic1\", \"Topic1\", \"Topic1\", \"Topic1\", \"Topic1\", \"Topic1\", \"Topic1\", \"Topic1\", \"Topic1\", \"Topic1\", \"Topic1\", \"Topic1\", \"Topic1\", \"Topic1\", \"Topic1\", \"Topic1\", \"Topic1\", \"Topic2\", \"Topic2\", \"Topic2\", \"Topic2\", \"Topic2\", \"Topic2\", \"Topic2\", \"Topic2\", \"Topic2\", \"Topic2\", \"Topic2\", \"Topic2\", \"Topic2\", \"Topic2\", \"Topic2\", \"Topic2\", \"Topic2\", \"Topic2\", \"Topic2\", \"Topic2\", \"Topic2\", \"Topic2\", \"Topic2\", \"Topic2\", \"Topic2\", \"Topic2\", \"Topic2\", \"Topic2\", \"Topic2\", \"Topic2\", \"Topic2\", \"Topic2\", \"Topic2\", \"Topic2\", \"Topic2\", \"Topic2\", \"Topic2\", \"Topic2\", \"Topic2\", \"Topic2\", \"Topic2\", \"Topic2\", \"Topic2\", \"Topic2\", \"Topic2\", \"Topic2\", \"Topic2\", \"Topic2\", \"Topic2\", \"Topic2\", \"Topic2\", \"Topic2\", \"Topic2\", \"Topic2\", \"Topic2\", \"Topic2\", \"Topic2\", \"Topic2\", \"Topic2\", \"Topic2\", \"Topic2\", \"Topic2\", \"Topic2\", \"Topic2\", \"Topic2\", \"Topic2\", \"Topic2\", \"Topic2\", \"Topic2\", \"Topic2\", \"Topic2\", \"Topic3\", \"Topic3\", \"Topic3\", \"Topic3\", \"Topic3\", \"Topic3\", \"Topic3\", \"Topic3\", \"Topic3\", \"Topic3\", \"Topic3\", \"Topic3\", \"Topic3\", \"Topic3\", \"Topic3\", \"Topic3\", \"Topic3\", \"Topic3\", \"Topic3\", \"Topic3\", \"Topic3\", \"Topic3\", \"Topic3\", \"Topic3\", \"Topic3\", \"Topic3\", \"Topic3\", \"Topic3\", \"Topic3\", \"Topic3\", \"Topic3\", \"Topic3\", \"Topic3\", \"Topic3\", \"Topic3\", \"Topic3\", \"Topic3\", \"Topic3\", \"Topic3\", \"Topic3\", \"Topic3\", \"Topic3\", \"Topic3\", \"Topic3\", \"Topic3\", \"Topic3\", \"Topic3\", \"Topic3\", \"Topic3\", \"Topic3\", \"Topic3\", \"Topic3\", \"Topic3\", \"Topic3\", \"Topic3\", \"Topic3\", \"Topic4\", \"Topic4\", \"Topic4\", \"Topic4\", \"Topic4\", \"Topic4\", \"Topic4\", \"Topic4\", \"Topic4\", \"Topic4\", \"Topic4\", \"Topic4\", \"Topic4\", \"Topic4\", \"Topic4\", \"Topic4\", \"Topic4\", \"Topic4\", \"Topic4\", \"Topic4\", \"Topic4\", \"Topic4\", \"Topic4\", \"Topic4\", \"Topic4\", \"Topic4\", \"Topic4\", \"Topic4\", \"Topic4\", \"Topic4\", \"Topic4\", \"Topic4\", \"Topic4\", \"Topic4\", \"Topic4\", \"Topic4\", \"Topic4\", \"Topic4\", \"Topic4\", \"Topic4\", \"Topic4\", \"Topic4\", \"Topic4\", \"Topic4\", \"Topic4\", \"Topic4\", \"Topic4\", \"Topic4\", \"Topic4\", \"Topic4\", \"Topic4\", \"Topic4\", \"Topic4\", \"Topic4\", \"Topic4\", \"Topic4\", \"Topic4\", \"Topic4\", \"Topic4\", \"Topic4\", \"Topic4\", \"Topic4\", \"Topic5\", \"Topic5\", \"Topic5\", \"Topic5\", \"Topic5\", \"Topic5\", \"Topic5\", \"Topic5\", \"Topic5\", \"Topic5\", \"Topic5\", \"Topic5\", \"Topic5\", \"Topic5\", \"Topic5\", \"Topic5\", \"Topic5\", \"Topic5\", \"Topic5\", \"Topic5\", \"Topic5\", \"Topic5\", \"Topic5\", \"Topic5\", \"Topic5\", \"Topic5\", \"Topic5\", \"Topic5\", \"Topic5\", \"Topic5\", \"Topic5\", \"Topic5\", \"Topic5\", \"Topic5\", \"Topic5\", \"Topic5\", \"Topic5\", \"Topic5\", \"Topic5\", \"Topic5\", \"Topic5\", \"Topic5\", \"Topic5\", \"Topic5\", \"Topic5\", \"Topic5\", \"Topic5\", \"Topic5\", \"Topic5\", \"Topic5\", \"Topic6\", \"Topic6\", \"Topic6\", \"Topic6\", \"Topic6\", \"Topic6\", \"Topic6\", \"Topic6\", \"Topic6\", \"Topic6\", \"Topic6\", \"Topic6\", \"Topic6\", \"Topic6\", \"Topic6\", \"Topic6\", \"Topic6\", \"Topic6\", \"Topic6\", \"Topic6\", \"Topic6\", \"Topic6\", \"Topic6\", \"Topic6\", \"Topic6\", \"Topic6\", \"Topic6\", \"Topic6\", \"Topic6\", \"Topic6\", \"Topic6\", \"Topic6\", \"Topic6\", \"Topic6\", \"Topic6\", \"Topic6\", \"Topic6\", \"Topic6\", \"Topic6\", \"Topic6\", \"Topic6\", \"Topic6\", \"Topic6\", \"Topic6\", \"Topic6\", \"Topic6\", \"Topic6\", \"Topic6\", \"Topic6\", \"Topic6\", \"Topic6\", \"Topic6\", \"Topic6\", \"Topic6\", \"Topic6\", \"Topic7\", \"Topic7\", \"Topic7\", \"Topic7\", \"Topic7\", \"Topic7\", \"Topic7\", \"Topic7\", \"Topic7\", \"Topic7\", \"Topic7\", \"Topic7\", \"Topic7\", \"Topic7\", \"Topic7\", \"Topic7\", \"Topic7\", \"Topic7\", \"Topic7\", \"Topic7\", \"Topic7\", \"Topic7\", \"Topic7\", \"Topic7\", \"Topic7\", \"Topic7\", \"Topic7\", \"Topic7\", \"Topic7\", \"Topic7\", \"Topic7\", \"Topic7\", \"Topic7\", \"Topic7\", \"Topic7\", \"Topic7\", \"Topic7\", \"Topic7\", \"Topic7\", \"Topic7\", \"Topic7\", \"Topic7\", \"Topic7\", \"Topic7\", \"Topic7\", \"Topic7\", \"Topic7\", \"Topic7\", \"Topic7\", \"Topic7\", \"Topic7\", \"Topic7\", \"Topic7\", \"Topic7\", \"Topic7\", \"Topic7\", \"Topic7\", \"Topic7\", \"Topic8\", \"Topic8\", \"Topic8\", \"Topic8\", \"Topic8\", \"Topic8\", \"Topic8\", \"Topic8\", \"Topic8\", \"Topic8\", \"Topic8\", \"Topic8\", \"Topic8\", \"Topic8\", \"Topic8\", \"Topic8\", \"Topic8\", \"Topic8\", \"Topic8\", \"Topic8\", \"Topic8\", \"Topic8\", \"Topic8\", \"Topic8\", \"Topic8\", \"Topic8\", \"Topic8\", \"Topic8\", \"Topic8\", \"Topic8\", \"Topic8\", \"Topic8\", \"Topic8\", \"Topic8\", \"Topic8\", \"Topic8\", \"Topic8\", \"Topic8\", \"Topic8\", \"Topic8\", \"Topic8\", \"Topic8\", \"Topic8\", \"Topic8\", \"Topic8\", \"Topic8\", \"Topic8\", \"Topic8\", \"Topic8\", \"Topic8\", \"Topic8\", \"Topic8\", \"Topic8\", \"Topic8\", \"Topic8\", \"Topic8\", \"Topic8\", \"Topic8\", \"Topic8\", \"Topic8\", \"Topic8\", \"Topic9\", \"Topic9\", \"Topic9\", \"Topic9\", \"Topic9\", \"Topic9\", \"Topic9\", \"Topic9\", \"Topic9\", \"Topic9\", \"Topic9\", \"Topic9\", \"Topic9\", \"Topic9\", \"Topic9\", \"Topic9\", \"Topic9\", \"Topic9\", \"Topic9\", \"Topic9\", \"Topic9\", \"Topic9\", \"Topic9\", \"Topic9\", \"Topic9\", \"Topic9\", \"Topic9\", \"Topic9\", \"Topic9\", \"Topic9\", \"Topic9\", \"Topic9\", \"Topic9\", \"Topic9\", \"Topic9\", \"Topic9\", \"Topic9\", \"Topic9\", \"Topic9\", \"Topic9\", \"Topic9\", \"Topic9\", \"Topic9\", \"Topic9\", \"Topic9\", \"Topic9\", \"Topic9\", \"Topic9\", \"Topic9\", \"Topic9\", \"Topic9\", \"Topic9\", \"Topic9\", \"Topic9\", \"Topic9\"], \"logprob\": [30.0, 29.0, 28.0, 27.0, 26.0, 25.0, 24.0, 23.0, 22.0, 21.0, 20.0, 19.0, 18.0, 17.0, 16.0, 15.0, 14.0, 13.0, 12.0, 11.0, 10.0, 9.0, 8.0, 7.0, 6.0, 5.0, 4.0, 3.0, 2.0, 1.0, -4.9771, -5.3789, -5.5874, -5.8066, -5.846, -5.8491, -5.9014, -5.9399, -5.9455, -5.9542, -5.9558, -5.9703, -5.9958, -6.0062, -6.0936, -6.1143, -6.1356, -6.1468, -6.1475, -6.1528, -6.2036, -6.2097, -6.2283, -6.2504, -4.4617, -6.262, -6.2878, -6.2954, -6.3055, -6.3153, -5.489, -4.8535, -5.4656, -5.603, -5.9795, -5.5099, -5.7728, -5.4843, -5.0097, -5.239, -3.7117, -4.7952, -3.9754, -5.5704, -5.6025, -5.3884, -5.3811, -5.6418, -4.9605, -4.5767, -4.9029, -5.117, -5.6756, -5.3186, -5.3284, -5.2889, -5.1599, -5.6018, -5.5369, -5.5046, -5.592, -4.6303, -5.8437, -6.0754, -6.1595, -6.3262, -6.3547, -6.3819, -6.3832, -6.4209, -6.4267, -6.4399, -6.4639, -6.4695, -6.4732, -6.4278, -6.4994, -6.5071, -6.5275, -6.528, -6.5384, -6.5433, -6.5484, -6.5602, -6.5647, -6.5862, -6.6235, -6.6752, -6.6886, -6.7043, -6.7165, -5.9597, -5.4921, -6.0746, -6.3079, -5.8732, -5.7264, -5.1732, -5.5273, -5.6972, -5.6042, -5.6492, -4.9717, -4.7715, -5.6332, -5.5417, -5.9669, -5.4818, -6.1739, -5.949, -6.1034, -5.951, -5.6162, -4.8649, -5.8792, -3.7765, -4.1375, -5.8166, -4.9699, -5.7028, -5.3773, -4.316, -4.8608, -5.1753, -5.5806, -5.6586, -5.1373, -5.0969, -5.5987, -5.4452, -5.7735, -5.7359, -4.7159, -4.9549, -4.9993, -5.1858, -5.2244, -5.3735, -5.4001, -5.553, -5.5764, -5.6834, -5.7645, -5.7697, -5.772, -5.7962, -5.8158, -5.857, -5.8595, -5.8616, -5.8647, -5.9018, -5.9061, -5.9217, -5.9672, -5.9873, -5.9949, -5.9965, -6.0032, -6.0268, -6.0887, -6.1057, -5.1758, -4.6661, -5.3118, -5.3863, -5.7997, -4.0064, -4.627, -5.085, -5.4693, -5.0192, -4.763, -4.6808, -4.9302, -4.413, -5.2052, -5.1959, -5.0696, -5.2174, -5.1004, -4.7881, -5.4031, -5.2534, -5.2098, -4.7962, -5.2785, -5.2659, -4.8163, -5.1405, -5.7192, -5.7458, -5.9614, -6.0375, -6.0872, -6.1125, -6.1329, -6.1538, -6.1818, -6.195, -6.2568, -6.3003, -6.312, -6.3988, -6.4509, -6.4765, -6.4826, -6.4921, -6.4926, -6.5004, -6.5171, -6.5298, -6.6231, -6.6374, -6.639, -6.6482, -6.6477, -6.6487, -5.7732, -5.8626, -4.0278, -5.4024, -4.4059, -5.2469, -4.2183, -4.999, -4.3704, -5.4621, -5.3247, -4.893, -5.4049, -5.5694, -5.6816, -5.3839, -4.9976, -4.4856, -4.602, -4.9007, -5.3563, -5.0032, -5.431, -5.6665, -5.1834, -5.2527, -5.1008, -5.4199, -5.4833, -5.4658, -5.5172, -5.5354, -3.802, -3.8324, -4.1665, -4.1821, -4.4447, -4.5268, -4.7874, -5.1381, -5.1886, -5.2189, -5.2419, -5.2833, -5.2937, -5.3083, -5.3417, -5.4025, -5.4297, -5.4853, -5.4918, -5.4962, -5.5143, -5.5238, -5.6134, -5.6371, -5.6512, -5.6566, -5.688, -5.6892, -5.7329, -5.7819, -4.6636, -4.6245, -4.9803, -5.4838, -4.6257, -5.3059, -4.855, -5.1372, -4.7177, -4.7682, -4.8195, -4.527, -5.1168, -5.0499, -4.7334, -4.9767, -5.1694, -5.1738, -5.1223, -5.1425, -4.536, -4.6098, -5.0263, -5.0676, -5.0765, -5.0931, -5.3276, -5.4451, -5.5181, -5.532, -5.5707, -5.5721, -5.5843, -5.6043, -5.6143, -5.6672, -5.7912, -5.8323, -5.8578, -5.8619, -5.8997, -5.9102, -5.9225, -5.9607, -5.9669, -5.9753, -5.9764, -5.9833, -6.0002, -6.0079, -5.3828, -5.0376, -5.5814, -5.2568, -4.8515, -5.2179, -5.5769, -4.4839, -5.3259, -4.9079, -5.0433, -5.4768, -5.1244, -5.2627, -4.9282, -4.9657, -4.7871, -4.6055, -5.21, -5.1048, -5.0794, -5.1651, -5.4095, -5.4677, -5.3583, -4.4499, -4.7384, -5.0297, -5.054, -5.0774, -5.1012, -5.1479, -5.2133, -5.2866, -5.386, -5.4155, -5.5547, -5.5701, -5.5889, -5.7295, -5.7442, -5.8031, -5.9116, -5.9145, -5.9297, -5.9652, -5.9782, -5.9973, -6.0018, -6.0313, -6.0343, -6.065, -6.066, -6.086, -6.087, -4.1787, -4.5407, -5.6456, -4.7375, -5.4936, -5.1373, -3.7803, -4.9569, -4.8331, -4.1829, -5.2626, -4.4735, -5.6453, -4.3499, -3.4505, -4.7139, -5.0266, -5.0824, -5.2863, -4.9744, -5.2798, -5.0031, -4.9125, -4.9673, -5.1848, -5.2193, -5.2368, -5.1924, -4.2829, -4.8724, -4.9685, -5.005, -5.0707, -3.1866, -5.138, -5.3725, -5.694, -5.7687, -5.8156, -5.8327, -5.9093, -6.0577, -6.0915, -6.1199, -6.1343, -6.1428, -6.1551, -6.1664, -6.187, -6.197, -6.2125, -6.2744, -6.297, -6.3063, -6.308, -6.3201, -6.3401, -6.3458, -4.5392, -3.7563, -5.501, -5.3531, -5.0595, -5.0009, -3.75, -5.8583, -5.7219, -4.6729, -4.7011, -5.7322, -5.8171, -4.584, -4.9424, -5.7677, -5.7533, -5.2696, -3.8297, -4.8353, -5.3863, -5.4027, -4.4471, -5.1049, -5.3332, -5.2721, -5.3618, -5.1243, -5.293, -5.3754, -5.3809, -5.0479, -5.1631, -5.2444, -5.4181, -5.4189, -5.4223, -5.4653, -5.519, -5.5302, -5.6673, -5.7053, -5.7437, -5.7434, -5.7755, -5.7985, -5.8375, -5.8409, -5.8454, -5.8555, -5.8764, -5.9284, -5.9304, -5.9449, -5.7993, -6.0004, -6.019, -6.0229, -6.055, -6.0617, -6.0691, -3.0762, -3.5017, -4.6068, -5.147, -5.3784, -5.2676, -4.8736, -4.7166, -5.3582, -4.6579, -5.0355, -3.3958, -4.4815, -4.156, -5.0257, -5.4595, -5.1035, -5.2401, -4.2849, -4.8858, -5.033, -5.2661, -5.314, -5.4203, -5.4371], \"loglift\": [30.0, 29.0, 28.0, 27.0, 26.0, 25.0, 24.0, 23.0, 22.0, 21.0, 20.0, 19.0, 18.0, 17.0, 16.0, 15.0, 14.0, 13.0, 12.0, 11.0, 10.0, 9.0, 8.0, 7.0, 6.0, 5.0, 4.0, 3.0, 2.0, 1.0, 1.454, 1.4538, 1.4537, 1.4535, 1.4534, 1.4534, 1.4534, 1.4533, 1.4533, 1.4533, 1.4533, 1.4533, 1.4533, 1.4532, 1.4531, 1.4531, 1.4531, 1.4531, 1.4531, 1.4531, 1.453, 1.453, 1.453, 1.4529, 1.4529, 1.4529, 1.4529, 1.4529, 1.4528, 1.4528, 1.4511, 1.4202, 1.435, 1.3973, 1.4268, 1.3365, 1.358, 1.2526, 1.0502, 1.0835, 0.4003, 0.8591, 0.4786, 1.15, 1.1625, 1.0242, 0.9581, 1.1348, 0.4627, 0.0248, 0.3532, 0.4684, 1.1159, 0.5421, 0.5406, 0.4593, 0.1282, 0.9311, 0.7212, 0.2304, 0.687, 1.469, 1.4681, 1.4678, 1.4677, 1.4674, 1.4674, 1.4673, 1.4673, 1.4672, 1.4672, 1.4672, 1.4671, 1.4671, 1.4671, 1.4671, 1.4671, 1.467, 1.467, 1.467, 1.467, 1.467, 1.4669, 1.4669, 1.4669, 1.4669, 1.4668, 1.4666, 1.4666, 1.4665, 1.4665, 1.4659, 1.4607, 1.4642, 1.4586, 1.4386, 1.4272, 1.3717, 1.3872, 1.3971, 1.387, 1.3899, 1.3262, 1.2983, 1.3718, 1.3496, 1.3966, 1.3236, 1.4091, 1.3558, 1.3888, 1.3379, 1.243, 0.9583, 1.2715, 0.3356, 0.464, 1.2209, 0.7662, 1.1555, 0.9187, 0.138, 0.3954, 0.5596, 0.9569, 1.0164, 0.3256, 0.1912, 0.8547, 0.537, 0.9786, 0.5119, 2.1224, 2.1222, 2.1221, 2.1219, 2.1219, 2.1217, 2.1217, 2.1214, 2.1214, 2.1212, 2.121, 2.121, 2.121, 2.1209, 2.1209, 2.1208, 2.1208, 2.1208, 2.1208, 2.1207, 2.1207, 2.1206, 2.1205, 2.1205, 2.1204, 2.1204, 2.1204, 2.1203, 2.1202, 2.1201, 2.117, 2.0987, 2.1061, 2.0996, 2.1064, 1.6635, 1.8068, 1.891, 1.945, 1.7387, 1.5564, 1.4403, 1.5441, 0.9602, 1.4024, 1.3649, 1.1782, 1.3613, 1.1937, 0.6351, 1.562, 1.2856, 1.1228, -0.3422, 0.5822, -0.6644, 2.248, 2.2477, 2.2466, 2.2466, 2.246, 2.2457, 2.2456, 2.2455, 2.2454, 2.2453, 2.2452, 2.2452, 2.2449, 2.2447, 2.2447, 2.2443, 2.244, 2.2439, 2.2439, 2.2438, 2.2438, 2.2438, 2.2437, 2.2436, 2.2431, 2.243, 2.243, 2.243, 2.243, 2.2429, 2.2239, 2.2183, 2.141, 2.1428, 1.941, 2.0543, 1.8387, 1.7899, 1.0924, 1.5911, 1.4673, 1.1468, 1.4748, 1.5742, 1.5782, 1.2742, 0.7384, -0.0316, -0.0005, 0.3875, 1.0564, 0.37, 1.0578, 1.414, 0.0728, 0.1705, -0.9887, 0.3151, 0.3398, 0.1885, 0.3519, 0.1344, 2.4857, 2.4857, 2.4856, 2.4856, 2.4854, 2.4853, 2.4851, 2.4846, 2.4845, 2.4845, 2.4844, 2.4844, 2.4843, 2.4843, 2.4842, 2.4841, 2.4841, 2.484, 2.4839, 2.4839, 2.4839, 2.4839, 2.4837, 2.4836, 2.4836, 2.4835, 2.4835, 2.4835, 2.4833, 2.4832, 2.4208, 2.2157, 2.2805, 2.418, 1.8165, 2.0954, 1.1849, 1.665, 0.7451, 0.8172, 0.9288, 0.0745, 1.5533, 1.3789, -0.2794, 0.2795, 1.1096, 1.1203, 0.2509, 0.2807, 2.7156, 2.7155, 2.7149, 2.7148, 2.7148, 2.7148, 2.7143, 2.714, 2.7137, 2.7137, 2.7136, 2.7136, 2.7135, 2.7135, 2.7134, 2.7133, 2.7128, 2.7126, 2.7125, 2.7125, 2.7123, 2.7123, 2.7122, 2.7121, 2.712, 2.712, 2.712, 2.712, 2.7119, 2.7118, 2.6984, 2.6748, 2.6892, 2.6684, 2.6388, 2.637, 2.6106, 2.3159, 2.521, 2.3748, 2.4119, 2.5587, 2.3816, 2.4006, 1.8638, 1.9072, 1.5009, 1.1306, 2.0837, 1.5598, 0.9776, 1.1309, 1.5089, 1.7264, -0.9043, 2.7591, 2.7588, 2.7583, 2.7582, 2.7582, 2.7581, 2.758, 2.7579, 2.7577, 2.7575, 2.7574, 2.757, 2.7569, 2.7568, 2.7563, 2.7563, 2.7561, 2.7556, 2.7556, 2.7555, 2.7553, 2.7553, 2.7552, 2.7551, 2.755, 2.755, 2.7548, 2.7548, 2.7547, 2.7547, 2.6887, 2.6729, 2.73, 2.5978, 2.683, 2.6156, 2.2225, 2.5043, 2.3843, 2.1169, 2.4961, 2.0655, 2.6068, 1.7639, 0.6615, 1.7604, 2.0528, 2.0913, 2.2209, 1.3198, 2.046, 1.259, 0.7418, 0.781, 1.4796, 1.4671, 1.6361, 0.0958, 2.842, 2.8411, 2.841, 2.8409, 2.8407, 2.8406, 2.8406, 2.8399, 2.8388, 2.8385, 2.8382, 2.8382, 2.8378, 2.837, 2.8368, 2.8366, 2.8365, 2.8364, 2.8363, 2.8363, 2.8361, 2.8361, 2.836, 2.8355, 2.8353, 2.8353, 2.8352, 2.8352, 2.835, 2.8349, 2.7737, 2.5523, 2.7457, 2.7259, 2.6892, 2.679, 2.5122, 2.784, 2.7504, 2.5219, 2.5045, 2.7261, 2.7357, 2.3452, 2.4556, 2.6555, 2.6311, 2.1567, 0.2824, 1.4645, 2.0807, 2.0639, 0.0069, 0.7558, 1.4049, 1.0043, 1.2458, 0.1639, 0.0802, 0.21, 0.2735, 3.2064, 3.206, 3.2057, 3.2049, 3.2049, 3.2049, 3.2047, 3.2044, 3.2044, 3.2036, 3.2034, 3.2031, 3.2031, 3.2029, 3.2028, 3.2025, 3.2025, 3.2024, 3.2024, 3.2021, 3.2018, 3.2018, 3.2017, 3.2016, 3.2012, 3.2011, 3.2011, 3.2008, 3.2007, 3.2007, 3.172, 3.0293, 3.031, 3.0913, 3.0688, 3.0135, 2.5931, 2.422, 2.8294, 2.2713, 2.5504, 0.7163, 1.8272, 1.3068, 2.0274, 2.6702, 2.0701, 2.2653, 0.3166, 1.1169, 1.0069, 1.0532, 0.8548, 1.9196, 0.4319]}, \"token.table\": {\"Topic\": [1, 8, 1, 7, 1, 1, 9, 3, 2, 3, 4, 6, 8, 9, 2, 4, 6, 5, 8, 8, 1, 4, 8, 2, 5, 6, 2, 1, 1, 4, 8, 9, 7, 6, 7, 3, 8, 9, 8, 9, 6, 7, 8, 8, 9, 6, 4, 5, 3, 3, 1, 8, 8, 6, 2, 4, 6, 8, 9, 9, 4, 4, 8, 1, 1, 2, 3, 4, 2, 1, 2, 3, 4, 5, 6, 7, 8, 9, 3, 5, 2, 8, 2, 4, 5, 6, 2, 3, 4, 6, 7, 3, 4, 6, 3, 6, 4, 4, 6, 4, 3, 4, 6, 6, 1, 2, 3, 4, 5, 6, 7, 8, 9, 1, 2, 3, 4, 5, 7, 8, 4, 6, 7, 1, 2, 3, 5, 8, 8, 9, 1, 6, 9, 2, 3, 6, 7, 8, 9, 7, 6, 2, 4, 6, 9, 1, 2, 4, 5, 8, 1, 2, 4, 5, 7, 8, 9, 8, 4, 3, 4, 6, 7, 7, 4, 6, 8, 9, 8, 1, 2, 3, 4, 5, 7, 8, 3, 6, 2, 3, 4, 6, 7, 9, 3, 6, 8, 2, 3, 2, 3, 7, 6, 7, 2, 4, 6, 2, 2, 1, 2, 4, 7, 8, 9, 8, 9, 3, 6, 7, 8, 8, 9, 5, 7, 8, 9, 4, 2, 3, 8, 7, 2, 3, 4, 9, 3, 8, 2, 2, 2, 2, 7, 9, 5, 2, 4, 5, 6, 9, 1, 3, 4, 7, 5, 5, 6, 1, 2, 3, 4, 6, 6, 1, 2, 3, 8, 6, 9, 2, 3, 4, 6, 9, 2, 3, 6, 8, 3, 4, 6, 4, 1, 1, 8, 8, 1, 2, 4, 1, 6, 4, 8, 8, 7, 7, 8, 3, 7, 3, 7, 7, 7, 5, 1, 5, 2, 3, 8, 4, 7, 1, 7, 6, 3, 2, 1, 1, 2, 3, 4, 5, 6, 7, 8, 9, 3, 8, 9, 8, 6, 2, 3, 4, 7, 8, 5, 2, 8, 9, 4, 5, 1, 4, 5, 6, 8, 2, 3, 6, 6, 7, 1, 2, 8, 9, 3, 8, 2, 9, 5, 3, 3, 7, 2, 4, 5, 6, 7, 8, 9, 3, 4, 6, 1, 3, 4, 5, 6, 7, 2, 3, 4, 6, 7, 9, 3, 7, 4, 8, 9, 2, 7, 8, 9, 4, 6, 9, 9, 1, 4, 5, 6, 7, 8, 6, 7, 2, 3, 4, 6, 7, 9, 2, 3, 5, 7, 9, 1, 2, 3, 4, 5, 6, 8, 9, 3, 7, 1, 3, 5, 1, 2, 9, 1, 2, 3, 6, 7, 2, 3, 4, 6, 7, 8, 7, 2, 1, 2, 3, 4, 5, 6, 8, 9, 9, 2, 1, 2, 4, 7, 8, 3, 1, 8, 4, 2, 2, 3, 2, 2, 4, 7, 8, 9, 1, 4, 6, 7, 8, 9, 1, 2, 3, 4, 5, 6, 8, 3, 4, 7, 8, 9, 5, 7, 6, 9, 3, 4, 6, 9, 9, 1, 2, 6, 7, 9, 2, 4, 6, 8, 6, 7, 2, 4, 2, 4, 6, 9, 4, 5, 6, 7, 5, 4, 6, 4, 4, 3, 1, 2, 4, 5, 6, 7, 8, 9, 4, 1, 2, 5, 7, 8, 2, 1, 3, 7, 4, 5, 6, 3, 2, 2, 2, 4, 9, 3, 1, 7, 1, 8, 3, 3, 1, 2, 3, 4, 5, 6, 7, 8, 2, 4, 2, 5, 1, 2, 3, 4, 5, 8, 9, 3, 7, 2, 1, 2, 7, 4, 6, 9, 2, 4, 6, 3, 2, 8, 9, 1, 2, 3, 4, 6, 8, 2, 4, 6, 1, 2, 2, 1, 2, 5, 2, 4, 5, 6, 9, 4, 7, 1, 2, 3, 4, 5, 6, 7, 9, 6, 1, 7, 8, 8, 1, 2, 7, 8, 3, 4, 9, 3, 1, 4, 5, 2, 4, 5, 6, 8, 9, 2, 2, 4, 1, 2, 3, 4, 7, 8, 9, 9, 1, 3, 7, 9, 4, 3, 9, 2, 4, 6, 8, 1, 3, 4, 5, 6, 8, 9, 7, 1, 7, 3, 4, 6, 7, 2, 4, 6, 1, 2, 4, 5, 6, 8, 9, 2, 4, 5, 6, 9, 5, 9, 9, 2, 8, 9, 2, 8, 9, 1, 2, 3, 5, 7, 4, 1, 2, 4, 7, 8, 9, 8, 9, 5, 1, 2, 4, 5, 6, 8, 8, 5, 6, 2, 6, 7, 8, 2, 4, 5, 8, 1, 3, 8, 2, 3, 4, 6, 6, 6, 1, 2, 4, 8, 9, 2, 4, 5, 6, 3, 7, 3, 1, 2, 3, 4, 5, 6, 9, 2, 3, 4, 9, 9, 1, 3, 2, 6, 1, 2, 3, 4, 5, 6, 7, 8, 9, 2, 4, 7, 8, 2, 3, 4, 6, 9, 7, 8, 9, 7, 8, 9, 1, 4, 5, 2, 3, 8, 4, 5, 5, 7, 5, 9, 9, 2, 4, 8, 9, 2, 7, 9, 5, 1, 2, 3, 4, 5, 7, 8, 9, 2, 3, 4, 6, 8, 4, 4, 8, 9, 7, 1, 2, 2, 4, 2, 2, 8, 5, 8, 9, 1, 4, 8, 9, 5, 8, 1, 2, 3, 4, 5, 6, 7, 8, 9, 1, 8, 3, 3, 4, 6, 7, 3, 6, 6, 9, 8, 4, 5, 9, 5, 4, 7, 4, 2, 3, 4, 6, 7, 8, 9, 3, 3, 9, 9, 6, 9, 1, 1, 4, 7, 9, 1, 2, 4, 5, 6, 7, 8, 1, 2, 9, 8, 5, 8, 5, 4, 1, 5, 5, 5, 2, 4, 7, 8, 8, 9, 3, 4, 7, 6, 5, 1, 2, 3, 4, 6, 9, 5, 5, 3, 6, 2, 9, 7, 6, 4, 3, 9, 8, 1, 2, 3, 4, 5, 6, 7, 8, 9, 2, 1, 2, 4, 6, 7, 8, 4], \"Freq\": [1.0025521234134276, 0.933001825592945, 1.0233977463934398, 0.9958668847872687, 0.9978878835569507, 1.0154702662100492, 0.9808068753907659, 0.9954433632356882, 0.15300815023376121, 0.47602535628281273, 0.15300815023376121, 0.10200543348917415, 0.0680036223261161, 0.051002716744587076, 0.9877186060144318, 0.08613102212529863, 0.9043757323156356, 0.07759187591901162, 0.8535106351091278, 0.8898784697458831, 1.0040837121327988, 0.31414291649060444, 0.6675536975425344, 0.7667647206169927, 0.21907563446199793, 0.9893275823027011, 1.004814287160061, 1.0126035371847224, 0.6450354361776354, 0.30785782181205323, 0.02931979255352888, 0.01465989627676444, 1.0316957951812638, 1.0058137325421872, 0.9394015249358383, 0.9777610888456723, 0.9376886628264668, 0.07212989714049745, 0.9544847890311271, 0.9715343540810477, 0.9494775221948085, 0.12463086041163418, 0.8724160228814393, 0.11213774108595904, 0.8971019286876724, 0.9838220054209833, 1.056380100164053, 0.9707756480562034, 0.9735800405327203, 0.984226615509609, 0.9696555633869739, 0.03827587750211739, 0.928765292535531, 0.989084335626832, 0.9035372620188166, 0.08366085759433488, 0.016732171518866974, 0.09098575105784722, 0.9098575105784722, 0.9397692941524401, 0.9892220880921727, 1.0488126377704268, 0.9539933314240563, 1.015181286803267, 0.7172643577532685, 0.1476720736550847, 0.12657606313292974, 0.9517589030226526, 1.019295646654606, 0.4000700020286295, 0.09363340473010477, 0.06809702162189438, 0.15321829864926237, 0.05107276621642079, 0.05958489391915758, 0.06809702162189438, 0.05107276621642079, 0.05958489391915758, 1.006844252019625, 1.0225655215374747, 0.9829135165616673, 0.9105069096244776, 0.7325698096528683, 0.22892806551652137, 0.022892806551652135, 0.022892806551652135, 0.04271658966575317, 0.08543317933150633, 0.6407488449862975, 0.19222465349588924, 0.06407488449862975, 0.9655620134411965, 0.32385486070559466, 0.669300045458229, 0.9583100097656226, 0.9944692552607842, 0.9328064117835113, 0.06652999177135714, 0.931419884799, 1.0378213981755224, 0.20479227553535503, 0.05119806888383876, 0.7167729643737426, 1.0308549982261306, 0.3706217218436375, 0.09265543046090938, 0.22346309699395792, 0.1253573470941715, 0.10900638877754044, 0.02180127775550809, 0.016350958316631067, 0.010900638877754045, 0.02725159719438511, 0.20857637263300924, 0.0446949369927877, 0.10428818631650462, 0.0446949369927877, 0.3277628712804431, 0.16388143564022156, 0.0893898739855754, 0.4599192379089407, 0.5306760437410853, 0.993074031867104, 0.6966198371306358, 0.02679307065887061, 0.02679307065887061, 0.21434456527096488, 0.04018960598830591, 0.9463960199367242, 1.0673534787570005, 0.9958029278360443, 0.34598924980326085, 0.6919784996065217, 0.6288969939776569, 0.0190574846659896, 0.095287423329948, 0.0381149693319792, 0.2096323313258856, 1.0176718355076166, 1.0650925274518321, 1.0084001697061458, 0.574012175786309, 0.1956859690180599, 0.20873170028593058, 0.026091462535741322, 0.5951895788714611, 0.11573130700278411, 0.016533043857540588, 0.23146261400556822, 0.033066087715081176, 0.34813392554247363, 0.32169337423545036, 0.039660826960534974, 0.007344597585284255, 0.12192031991571863, 0.0778527344040131, 0.08225949295518364, 0.9070440524090816, 0.9704036879830379, 0.5613261453970662, 0.046777178783088846, 0.031184785855392565, 0.37421743026471077, 0.9791502350669197, 0.8199060827515077, 0.10694427166324014, 0.03564809055441338, 0.03564809055441338, 1.0877369008179683, 0.6129979568917576, 0.13622176819816836, 0.1089774145585347, 0.013622176819816837, 0.04086653045945051, 0.013622176819816837, 0.06811088409908418, 0.062013649262098826, 0.9302047389314825, 0.12018801323838663, 0.5608773951124709, 0.053416894772616276, 0.06677111846577034, 0.06677111846577034, 0.12018801323838663, 1.0310533895324503, 1.057859155917194, 0.981691517686193, 0.8684670955157797, 0.13027006432736696, 0.8427742686125698, 0.15606930900232774, 0.9981582447088053, 0.9859668666812768, 1.048915437942226, 0.8753829001490624, 0.02365899730132601, 0.09463598920530404, 0.9914497490258686, 0.9946052596865501, 0.07909702785095267, 0.45876276153552553, 0.30056870583362016, 0.03163881114038107, 0.06327762228076214, 0.03163881114038107, 0.7530974455843831, 0.25103248186146104, 0.432498914169338, 0.06653829448759047, 0.49903720865692847, 0.9340532171204419, 0.1899465202801974, 0.8547593412608884, 0.3497851343978812, 0.04372314179973515, 0.21861570899867577, 0.3935082761976164, 1.005615931676662, 1.0131309610006756, 0.9861742878280938, 0.042877142949047556, 0.9966869664109468, 0.8802993133152991, 0.07042394506522393, 0.07042394506522393, 1.0370511749088616, 1.012567939542369, 1.0524692324869658, 0.9781876379714664, 0.9811911793061094, 1.0257751391875518, 1.0201706003637687, 0.9808360783378702, 0.9536917736390578, 1.0270783054449737, 0.49186472284034005, 0.2235748740183364, 0.04471497480366728, 0.20121738661650276, 0.029809983202444854, 1.0172295313948252, 0.1689777024628039, 0.05632590082093464, 0.7885626114930849, 0.9963076783760948, 0.9816084382472701, 0.9835409990595413, 0.8822690897681067, 0.06786685305908513, 0.022622284353028377, 0.022622284353028377, 0.9963184122705764, 0.952715943035343, 0.7378869466548831, 0.1595431236010558, 0.09971445225065986, 1.0593748137703773, 1.014632648307191, 0.902693389852358, 0.2801916055019136, 0.5603832110038272, 0.025471964136537597, 0.07641589240961279, 0.050943928273075194, 0.5979481714350956, 0.28236441428879516, 0.08304835714376328, 0.033219342857505316, 0.9862588272698136, 0.9961188820500781, 0.9851671712254649, 1.0256316566069263, 0.9825930498814157, 1.0161540849257202, 0.9833213484709428, 0.9771249534230423, 0.9497986745562879, 0.02638329651545244, 0.02638329651545244, 1.0243654490403538, 1.0187156266257194, 0.9700847664889796, 1.0526353532139296, 1.0229609053366677, 0.9973407559736004, 0.11337823979502888, 0.907025918360231, 0.20916047251802128, 0.7948097955684809, 0.39420393461979886, 0.5694056833397094, 1.0131808188919618, 0.9461462293448023, 1.0026723661477595, 0.9963719621849751, 1.0058034414743289, 0.927474952487025, 0.057967184530439066, 0.9971191779281408, 0.11201022888826476, 0.8400767166619857, 1.0033166541358878, 1.0032889740453772, 1.0108996019235506, 0.9790710493268208, 0.9983033451431174, 0.9994516816710108, 0.37633436360492645, 0.2646747172606076, 0.08477862037253837, 0.10132079020132635, 0.06203313685795491, 0.02688102597178046, 0.022745483514583466, 0.05789759440075792, 0.002067771228598497, 0.9671048311793361, 0.9175514637433719, 0.0917551463743372, 0.898124326046417, 0.9353262116776174, 0.032397520458088365, 0.12959008183235346, 0.032397520458088365, 0.06479504091617673, 0.712745450077944, 0.9866418851740787, 0.21894562353872749, 0.8757824941549099, 1.0120662274580978, 1.0493387002885108, 0.9762671219941786, 0.030449492431059075, 0.5176413713280044, 0.09134847729317723, 0.3349444167416498, 0.030449492431059075, 0.8944638844675039, 0.07155711075740032, 0.03577855537870016, 0.997944661865174, 0.997160342633798, 0.9899641304148269, 0.03959856521659307, 0.9661743628727889, 0.9752289937554787, 0.21060411796515954, 0.8424164718606382, 0.9450295005106282, 0.04725147502553141, 1.0003206922240853, 0.9899769366144057, 0.9837190381625706, 0.9471930038483702, 0.20521809381935358, 0.5130452345483839, 0.10260904690967679, 0.10260904690967679, 0.03420301563655893, 0.03420301563655893, 0.03420301563655893, 0.8382969264655257, 0.11975670378078938, 0.03991890126026312, 0.05208610298372961, 0.39064577237797204, 0.05208610298372961, 0.26043051491864805, 0.013021525745932402, 0.23438746342678324, 0.4446381531207822, 0.03705317942673185, 0.0741063588534637, 0.03705317942673185, 0.1482127177069274, 0.25937225598712293, 0.06930333246259719, 0.9240444328346292, 1.0476942131420308, 0.6143843978360334, 0.3932060146150614, 0.025223792895358733, 0.22701413605822862, 0.7188780975177239, 0.037835689343038104, 0.4498729775060387, 0.4284504547676559, 0.10711261369191398, 0.8880260631277167, 0.2264885463652349, 0.07549618212174497, 0.5133740384278658, 0.015099236424348994, 0.060396945697395975, 0.12079389139479195, 0.9440723137788407, 1.0227249815501975, 0.28271105263682544, 0.22834354251435904, 0.07611451417145301, 0.04349400809797315, 0.36969906883277176, 0.010873502024493288, 0.05783283398000722, 0.32771939255337423, 0.269886558573367, 0.269886558573367, 0.05783283398000722, 0.290331480008912, 0.40199743385849357, 0.007444396923305436, 0.14144354154280328, 0.029777587693221745, 0.014888793846610873, 0.05955517538644349, 0.05211077846313805, 1.0069882788348297, 0.9753147068257239, 1.0091455713654798, 0.988517261648125, 1.0241789692718681, 0.9769473812737123, 0.987860274371326, 1.0277275626132967, 1.0072077335611371, 0.9061045909014829, 0.04314783766197538, 0.04314783766197538, 0.9780209113196925, 0.044918845400772386, 0.7336744748792823, 0.07486474233462065, 0.01497294846692413, 0.08983769080154477, 0.044918845400772386, 1.0102500800112855, 0.9865916045143447, 0.39241775029303444, 0.05412658624731509, 0.36535445716937687, 0.05412658624731509, 0.027063293123657545, 0.027063293123657545, 0.06765823280914386, 1.0170142913586482, 0.9537916715251623, 0.9987836412329939, 0.5494063584910862, 0.10988127169821725, 0.130484010141633, 0.130484010141633, 0.07554337429252436, 0.9723508304883393, 1.0021936274475693, 0.9771731760907519, 0.9889815416384636, 1.0092595906651831, 0.970644134793024, 1.0046404160135118, 1.0037701852239291, 0.1096092684144603, 0.0365364228048201, 0.47497349646266124, 0.2557549596337407, 0.0730728456096402, 0.07376221394874091, 0.036881106974370456, 0.036881106974370456, 0.8482654604105205, 0.4081306139357519, 0.5713828595100526, 0.26690057101575604, 0.39081869327307134, 0.10485379575618987, 0.09532163250562715, 0.04766081625281358, 0.02859648975168815, 0.06672514275393901, 0.4810451413781288, 0.0712659468708339, 0.19598135389479324, 0.19598135389479324, 0.053449460153125426, 1.0115337911485887, 0.9943744259848292, 0.9719813567004855, 0.9757342564196132, 0.2079248366465061, 0.04158496732930122, 0.748529411927422, 0.923747294225689, 1.022275845329857, 0.7507218086369081, 0.20853383573247447, 0.020853383573247446, 0.020853383573247446, 0.020853383573247446, 0.5092028864212012, 0.09429683081874095, 0.3206092247837192, 0.07543746465499276, 0.9540262790314291, 0.9775839755350926, 1.0141740523997533, 0.9205674978907602, 0.8018999537965672, 0.16037999075931345, 0.022911427251330493, 0.022911427251330493, 0.06152189706995347, 0.12304379413990695, 0.7997846619093951, 0.9443470848369193, 0.9733477792447294, 1.0008838466653869, 0.9895828845543848, 1.0000369700252696, 1.011041011532065, 1.0095256606452967, 0.36965332764073566, 0.0754394546205583, 0.0754394546205583, 0.21123047293756322, 0.00754394546205583, 0.13579101831700494, 0.08298340008261412, 0.03771972731027915, 0.9547914885434815, 0.26386637331117446, 0.4262456799642049, 0.020297413331628805, 0.06089223999488642, 0.24356895997954567, 0.968206110725889, 0.9911850071744608, 0.065312769341534, 0.914378770781476, 0.05739917144624114, 0.9470863288629788, 0.9950929094168496, 1.009773303575283, 0.9989538837917737, 0.9671872786225586, 1.0088166960075775, 0.9322762638836022, 1.0209439191100218, 1.0230980480689664, 0.9904933436529215, 0.9743610519428666, 0.9791632650387653, 1.02282156001071, 1.0283799036826327, 0.997151317019071, 0.4052288595454668, 0.09286494697916947, 0.21105669767993063, 0.05909587535038058, 0.09286494697916947, 0.008442267907197225, 0.008442267907197225, 0.12663401860795837, 1.0201120034945186, 0.9473192726572869, 0.9800792145962025, 0.9898658533701252, 0.46173814751559866, 0.012826059653211075, 0.0513042386128443, 0.11543453687889967, 0.2565211930642215, 0.03847817895963322, 0.06413029826605537, 0.9897627062570024, 0.9860342429259475, 1.0091924535359207, 0.8109593824468903, 0.1419178919282058, 0.04054796912234451, 0.5285211005042127, 0.16690140015922508, 0.3059859002919127, 0.9201645286549591, 0.024214856017235765, 0.0726445680517073, 1.0025162619830268, 0.05205625418322291, 0.8329000669315666, 0.05205625418322291, 0.012942149445878778, 0.3106115867010907, 0.15530579335054534, 0.1941322416881817, 0.2976694372552119, 0.025884298891757557, 0.164367060343932, 0.6677411826472237, 0.17464000161542775, 0.9893807825146864, 1.033150944615674, 1.0207031557757558, 0.9918255057638038, 0.9534343703226784, 0.03075594742976382, 0.48717843755149226, 0.37475264427037863, 0.09368816106759466, 0.018737632213518932, 0.018737632213518932, 0.08554661998740051, 0.9410128198614056, 0.0568895161996993, 0.20859489273223075, 0.07585268826626573, 0.20859489273223075, 0.39822661339789506, 0.03792634413313287, 0.03792634413313287, 0.018963172066566433, 1.0230009168064251, 0.16025574407175538, 0.09615344644305324, 0.7371764227300748, 0.9843545150492512, 0.17024496109855455, 0.0523830649534014, 0.523830649534014, 0.24881955852865664, 0.9798368051501529, 0.020847591598939424, 0.020847591598939424, 0.9817642035226226, 0.1715282895641221, 0.4288207239103053, 0.3716446273889313, 0.3403128022860651, 0.21877251575532758, 0.14584834383688505, 0.2916966876737701, 0.03730989418433067, 0.9576206173978206, 0.9651307472533956, 0.0909929155530932, 0.909929155530932, 0.6696017790885582, 0.1751266191462383, 0.041206263328526664, 0.051507829160658325, 0.041206263328526664, 0.010301565832131666, 0.010301565832131666, 1.0325913171946277, 1.0135363227180278, 0.7983295187913999, 0.2060205209784258, 0.025752565122303225, 1.0466663875352393, 0.9893194928321714, 0.9240187030905197, 0.9325208646656381, 0.027427084254871708, 0.054854168509743416, 0.982546160788017, 0.20810107893460347, 0.50382366478904, 0.021905376729958258, 0.08762150691983303, 0.1095268836497913, 0.021905376729958258, 0.05476344182489565, 0.973241367981772, 0.9019171617483951, 0.09019171617483951, 0.17499510466803345, 0.08749755233401672, 0.6999804186721338, 1.0698645270019669, 0.8626106997144063, 0.10455887269265532, 0.02613971817316383, 0.9937446979519027, 0.1514696458786928, 0.33323322093312413, 0.272645362581647, 0.04039190556765141, 0.09088178752721568, 0.11107774031104138, 0.3175596368057703, 0.3118889290056673, 0.17579194180319427, 0.03969495460072129, 0.14743840280267909, 0.8216975367792823, 0.17118698682901715, 1.0462630043865375, 0.11550790786723095, 0.04950338908595612, 0.841557614461254, 0.9727343770298895, 0.46266762802998596, 0.5467890149445288, 0.47729695660034993, 0.25120892452649995, 0.07536267735794998, 0.16328580094222497, 0.025120892452649996, 1.0126166699526506, 0.5845741839659201, 0.01885723174083613, 0.01885723174083613, 0.28285847611254195, 0.05657169522250839, 0.03771446348167226, 0.9197942175528119, 0.11497427719410148, 1.0084025741957447, 0.33206339278895225, 0.3412873759219787, 0.11529978916283065, 0.11068779759631743, 0.05073190723164549, 0.05073190723164549, 0.9753833368572443, 1.004513515251704, 0.998988189706652, 0.9012903922290189, 0.05301708189582464, 0.02650854094791232, 0.9972930284558649, 0.0788021377640825, 0.0788021377640825, 0.6698181709947013, 0.19700534441020626, 0.48478607932215156, 0.04039883994351263, 0.48478607932215156, 0.034994444844206274, 0.034994444844206274, 0.24496111390944392, 0.6998888968841255, 1.0086830580338575, 0.980542004627142, 0.706621661814203, 0.021412777630733428, 0.149889443415134, 0.06423833289220028, 0.042825555261466856, 0.6175559769920731, 0.14409639463148372, 0.12351119539841462, 0.12351119539841462, 0.1845135881320831, 0.830311146594374, 1.0175341666481772, 0.016261288888482724, 0.6016676888738608, 0.10569837777513771, 0.14635159999634453, 0.03252257777696545, 0.056914511109689536, 0.02439193333272409, 0.46733145148138966, 0.46733145148138966, 0.017308572277088506, 0.05192571683126552, 1.013489182663462, 0.9979253208138045, 0.9662898887504296, 0.9620066507056574, 1.005917410251529, 0.13479988898976955, 0.12961527787477842, 0.31107666689946817, 0.15035372233474295, 0.10887683341481387, 0.04666150003492023, 0.036292277804937954, 0.062215333379893635, 0.020738444459964547, 0.5344933444246645, 0.2137973377698658, 0.16798362253346596, 0.07635619206066635, 0.3853731168356017, 0.3853731168356017, 0.06215695432832286, 0.1367452995223103, 0.024862781731329144, 0.2726865116838792, 0.2726865116838792, 0.454477519473132, 0.502047493819271, 0.15688984181852222, 0.31377968363704445, 0.34626962308495207, 0.19477666298528556, 0.43283702885619013, 0.31056440118658823, 0.6832416826104941, 0.020704293412439217, 1.022956791241663, 1.0212778244226866, 1.0125779685308813, 1.0450350299288047, 0.9790600304082521, 1.0142271248016512, 0.9753147233801969, 0.37872065716285414, 0.0420800730180949, 0.46288080319904396, 0.12624021905428473, 0.9150931866222776, 0.07843655885333808, 0.9365736643610626, 0.9797401536034602, 0.3718042147104778, 0.16026043737520596, 0.07051459244509062, 0.09615626242512358, 0.1859021073552389, 0.025641669980032953, 0.07051459244509062, 0.012820834990016476, 0.25620608749982854, 0.03202576093747857, 0.2882318484373071, 0.38430913124974275, 0.03202576093747857, 1.031548625176266, 0.8960433184160387, 0.011487734851487675, 0.0919018788119014, 1.007726411667291, 0.9920794846691984, 0.9965455756392149, 0.9915898842678151, 1.0482007804235773, 1.031385675378608, 0.16729678762426708, 0.8364839381213355, 0.7643564261516032, 0.17984857085920075, 0.04496214271480019, 0.13727945427491892, 0.7413090530845621, 0.10982356341993513, 0.013727945427491891, 0.9099190955100553, 0.0649942211078611, 0.2666537239604607, 0.28093874488691395, 0.07142510463226627, 0.15713523019098577, 0.03809338913720867, 0.028570041852906507, 0.07142510463226627, 0.06666343099011518, 0.02380836821075542, 0.9927622386014809, 0.8996787308219726, 1.026617482622619, 0.16259028148739046, 0.06968154920888163, 0.4413164783229169, 0.32518056297478093, 0.14857877209197565, 0.8171832465058662, 0.9398210746052299, 0.8897550438142965, 0.9651031092529174, 1.0375599637650774, 0.9824538710300569, 0.9357897822743003, 1.0229897635893723, 1.0482877820516767, 0.9789307899187661, 0.9617750548988604, 0.0681105770763847, 0.11676098927380234, 0.07784065951586823, 0.009730082439483529, 0.5838049463690117, 0.019460164878967057, 0.12649107171328586, 1.0015634926269439, 0.996764149572687, 1.054056679715115, 1.0068349894287554, 0.9680262799208466, 0.05377923777338037, 1.0098181641177144, 0.23695667631451425, 0.14217400578870856, 0.0947826705258057, 0.5213046878919314, 0.21047468056232502, 0.11693037809018057, 0.4677215123607223, 0.1637025293262528, 0.023386075618036115, 0.023386075618036115, 0.023386075618036115, 1.0005058697494298, 0.8279800170317702, 0.18399555934039336, 0.9861708111425423, 0.9840053695431114, 1.0074403090135726, 0.9844828982115633, 1.0392038836574828, 1.023469678727019, 1.024184824074516, 1.0020194024004272, 0.9906311681130605, 0.09835381535162188, 0.09835381535162188, 0.6884767074613531, 0.13113842046882918, 0.14974956949120907, 0.8485808937835181, 0.39976825976706204, 0.08566462709294186, 0.48543288686000385, 0.9468529704531473, 1.028075933799194, 0.19530324383615794, 0.013950231702582711, 0.6347355424675133, 0.11857696947195304, 0.034875579256456776, 0.006975115851291356, 0.9833170638319857, 0.9878277394205693, 0.08648200695419112, 0.8648200695419112, 0.9484360150596628, 0.07587488120477302, 0.9765405690639466, 0.9657923773713606, 1.0009660956023765, 0.9719083907977928, 1.0346215373536345, 1.0072209041740858, 0.23964292875891577, 0.3666536810011411, 0.0623071614773181, 0.10544288865392294, 0.08866788364079883, 0.026360722163480736, 0.03355001002624821, 0.023964292875891576, 0.05511787361455062, 1.0094156430742423, 0.39656181498637455, 0.2430540156368102, 0.10233853289970957, 0.02558463322492739, 0.06396158306231847, 0.15350779934956435, 1.0021506787451049], \"Term\": [\"apple\", \"group\", \"microsoft\", \"new\", \"the\", \"windows\", \"\\u0430\\u0432\\u0430\\u0440\\u0438\\u044f\", \"\\u0430\\u0432\\u0442\\u043e\\u043c\\u043e\\u0431\\u0438\\u043b\\u044c\", \"\\u0430\\u0433\\u0435\\u043d\\u0442\\u0441\\u0442\\u0432\\u043e\", \"\\u0430\\u0433\\u0435\\u043d\\u0442\\u0441\\u0442\\u0432\\u043e\", \"\\u0430\\u0433\\u0435\\u043d\\u0442\\u0441\\u0442\\u0432\\u043e\", \"\\u0430\\u0433\\u0435\\u043d\\u0442\\u0441\\u0442\\u0432\\u043e\", \"\\u0430\\u0433\\u0435\\u043d\\u0442\\u0441\\u0442\\u0432\\u043e\", \"\\u0430\\u0433\\u0435\\u043d\\u0442\\u0441\\u0442\\u0432\\u043e\", \"\\u0430\\u0434\\u0432\\u043e\\u043a\\u0430\\u0442\", \"\\u0430\\u0434\\u043c\\u0438\\u043d\\u0438\\u0441\\u0442\\u0440\\u0430\\u0446\\u0438\\u044f\", \"\\u0430\\u0434\\u043c\\u0438\\u043d\\u0438\\u0441\\u0442\\u0440\\u0430\\u0446\\u0438\\u044f\", \"\\u0430\\u043a\\u0442\\u0438\\u0432\", \"\\u0430\\u043a\\u0442\\u0438\\u0432\", \"\\u0430\\u043a\\u0442\\u0440\\u0438\\u0441\\u0430\", \"\\u0430\\u043a\\u0442\\u0451\\u0440\", \"\\u0430\\u043a\\u0446\\u0438\\u044f\", \"\\u0430\\u043a\\u0446\\u0438\\u044f\", \"\\u0430\\u043b\\u0435\\u043a\\u0441\\u0430\\u043d\\u0434\\u0440\", \"\\u0430\\u043b\\u0435\\u043a\\u0441\\u0430\\u043d\\u0434\\u0440\", \"\\u0430\\u043b\\u044c\", \"\\u0430\\u043b\\u044c\\u0431\\u043e\\u043c\", \"\\u0430\\u043c\\u0435\\u0440\\u0438\\u043a\\u0430\\u043d\\u0435\\u0446\", \"\\u0430\\u043c\\u0435\\u0440\\u0438\\u043a\\u0430\\u043d\\u0441\\u043a\\u0438\\u0439\", \"\\u0430\\u043c\\u0435\\u0440\\u0438\\u043a\\u0430\\u043d\\u0441\\u043a\\u0438\\u0439\", \"\\u0430\\u043c\\u0435\\u0440\\u0438\\u043a\\u0430\\u043d\\u0441\\u043a\\u0438\\u0439\", \"\\u0430\\u043c\\u0435\\u0440\\u0438\\u043a\\u0430\\u043d\\u0441\\u043a\\u0438\\u0439\", \"\\u0430\\u0440\\u0435\\u043d\\u0434\\u0430\", \"\\u0430\\u0440\\u043c\\u0438\\u044f\", \"\\u0430\\u0443\\u043a\\u0446\\u0438\\u043e\\u043d\", \"\\u0430\\u044d\\u0440\\u043e\\u043f\\u043e\\u0440\\u0442\", \"\\u0431\\u0430\\u043d\\u043a\", \"\\u0431\\u0430\\u043d\\u043a\", \"\\u0431\\u0430\\u043d\\u043a\\u043e\\u0432\\u0441\\u043a\\u0438\\u0439\", \"\\u0431\\u0430\\u0440\\u0440\\u0435\\u043b\\u044c\", \"\\u0431\\u0435\\u0436\\u0435\\u043d\\u0435\\u0446\", \"\\u0431\\u0435\\u043b\\u043e\\u0440\\u0443\\u0441\\u0441\\u0438\\u044f\", \"\\u0431\\u0435\\u043b\\u043e\\u0440\\u0443\\u0441\\u0441\\u0438\\u044f\", \"\\u0431\\u0438\\u0440\\u0436\\u0430\", \"\\u0431\\u0438\\u0440\\u0436\\u0430\", \"\\u0431\\u043e\\u0435\\u0432\\u0438\\u043a\", \"\\u0431\\u043e\\u0435\\u0432\\u043e\\u0439\", \"\\u0431\\u043e\\u043b\\u0435\\u043b\\u044c\\u0449\\u0438\\u043a\", \"\\u0431\\u043e\\u043b\\u044c\\u043d\\u0438\\u0446\\u0430\", \"\\u0431\\u043e\\u0440\\u0442\", \"\\u0431\\u0440\\u0438\\u0442\\u0430\\u043d\\u0441\\u043a\\u0438\\u0439\", \"\\u0431\\u0440\\u0438\\u0442\\u0430\\u043d\\u0441\\u043a\\u0438\\u0439\", \"\\u0431\\u0443\\u043c\\u0430\\u0433\\u0430\", \"\\u0431\\u0443\\u0448\", \"\\u0431\\u044b\\u0432\\u0448\\u0438\\u0439\", \"\\u0431\\u044b\\u0432\\u0448\\u0438\\u0439\", \"\\u0431\\u044b\\u0432\\u0448\\u0438\\u0439\", \"\\u0431\\u044e\\u0434\\u0436\\u0435\\u0442\", \"\\u0431\\u044e\\u0434\\u0436\\u0435\\u0442\", \"\\u0432\\u0430\\u043b\\u044e\\u0442\\u0430\", \"\\u0432\\u0430\\u0448\\u0438\\u043d\\u0433\\u0442\\u043e\\u043d\", \"\\u0432\\u0432\\u0441\", \"\\u0432\\u0435\\u0434\\u043e\\u043c\\u043e\\u0441\\u0442\\u044c\", \"\\u0432\\u0435\\u043a\", \"\\u0432\\u0435\\u0440\\u0441\\u0438\\u044f\", \"\\u0432\\u0435\\u0440\\u0441\\u0438\\u044f\", \"\\u0432\\u0435\\u0440\\u0441\\u0438\\u044f\", \"\\u0432\\u0435\\u0440\\u0442\\u043e\\u043b\\u0451\\u0442\", \"\\u0432\\u0435\\u0440\\u0445\\u043e\\u0432\\u043d\\u044b\\u0439\", \"\\u0432\\u0435\\u0441\\u044c\", \"\\u0432\\u0435\\u0441\\u044c\", \"\\u0432\\u0435\\u0441\\u044c\", \"\\u0432\\u0435\\u0441\\u044c\", \"\\u0432\\u0435\\u0441\\u044c\", \"\\u0432\\u0435\\u0441\\u044c\", \"\\u0432\\u0435\\u0441\\u044c\", \"\\u0432\\u0435\\u0441\\u044c\", \"\\u0432\\u0435\\u0441\\u044c\", \"\\u0432\\u0437\\u0440\\u044b\\u0432\", \"\\u0432\\u0438\\u0434\\u0435\\u043e\", \"\\u0432\\u0438\\u043d\\u043e\\u0432\\u043d\\u044b\\u0439\", \"\\u0432\\u043a\\u043b\\u0430\\u0434\", \"\\u0432\\u043b\\u0430\\u0434\\u0438\\u043c\\u0438\\u0440\", \"\\u0432\\u043b\\u0430\\u0434\\u0438\\u043c\\u0438\\u0440\", \"\\u0432\\u043b\\u0430\\u0434\\u0438\\u043c\\u0438\\u0440\", \"\\u0432\\u043b\\u0430\\u0434\\u0438\\u043c\\u0438\\u0440\", \"\\u0432\\u043b\\u0430\\u0441\\u0442\\u044c\", \"\\u0432\\u043b\\u0430\\u0441\\u0442\\u044c\", \"\\u0432\\u043b\\u0430\\u0441\\u0442\\u044c\", \"\\u0432\\u043b\\u0430\\u0441\\u0442\\u044c\", \"\\u0432\\u043b\\u0430\\u0441\\u0442\\u044c\", \"\\u0432\\u043e\\u0434\\u0430\", \"\\u0432\\u043e\\u0435\\u043d\\u043d\\u044b\\u0439\", \"\\u0432\\u043e\\u0435\\u043d\\u043d\\u044b\\u0439\", \"\\u0432\\u043e\\u0437\\u0431\\u0443\\u0434\\u0438\\u0442\\u044c\", \"\\u0432\\u043e\\u0437\\u0433\\u043b\\u0430\\u0432\\u043b\\u044f\\u0442\\u044c\", \"\\u0432\\u043e\\u0439\\u043d\\u0430\", \"\\u0432\\u043e\\u0439\\u0441\\u043a\\u043e\", \"\\u0432\\u043e\\u0439\\u0441\\u043a\\u043e\", \"\\u0432\\u043e\\u043e\\u0440\\u0443\\u0436\\u0435\\u043d\\u0438\\u0435\", \"\\u0432\\u043e\\u043e\\u0440\\u0443\\u0436\\u0451\\u043d\\u043d\\u044b\\u0439\", \"\\u0432\\u043e\\u043e\\u0440\\u0443\\u0436\\u0451\\u043d\\u043d\\u044b\\u0439\", \"\\u0432\\u043e\\u043e\\u0440\\u0443\\u0436\\u0451\\u043d\\u043d\\u044b\\u0439\", \"\\u0432\\u043e\\u0441\\u0441\\u0442\\u0430\\u043d\\u043e\\u0432\\u043b\\u0435\\u043d\\u0438\\u0435\", \"\\u0432\\u0440\\u0435\\u043c\\u044f\", \"\\u0432\\u0440\\u0435\\u043c\\u044f\", \"\\u0432\\u0440\\u0435\\u043c\\u044f\", \"\\u0432\\u0440\\u0435\\u043c\\u044f\", \"\\u0432\\u0440\\u0435\\u043c\\u044f\", \"\\u0432\\u0440\\u0435\\u043c\\u044f\", \"\\u0432\\u0440\\u0435\\u043c\\u044f\", \"\\u0432\\u0440\\u0435\\u043c\\u044f\", \"\\u0432\\u0440\\u0435\\u043c\\u044f\", \"\\u0432\\u0442\\u043e\\u0440\\u043e\\u0439\", \"\\u0432\\u0442\\u043e\\u0440\\u043e\\u0439\", \"\\u0432\\u0442\\u043e\\u0440\\u043e\\u0439\", \"\\u0432\\u0442\\u043e\\u0440\\u043e\\u0439\", \"\\u0432\\u0442\\u043e\\u0440\\u043e\\u0439\", \"\\u0432\\u0442\\u043e\\u0440\\u043e\\u0439\", \"\\u0432\\u0442\\u043e\\u0440\\u043e\\u0439\", \"\\u0432\\u044b\\u0431\\u043e\\u0440\\u044b\", \"\\u0432\\u044b\\u0431\\u043e\\u0440\\u044b\", \"\\u0432\\u044b\\u0438\\u0433\\u0440\\u0430\\u0442\\u044c\", \"\\u0432\\u044b\\u0439\\u0442\\u0438\", \"\\u0432\\u044b\\u0439\\u0442\\u0438\", \"\\u0432\\u044b\\u0439\\u0442\\u0438\", \"\\u0432\\u044b\\u0439\\u0442\\u0438\", \"\\u0432\\u044b\\u0439\\u0442\\u0438\", \"\\u0432\\u044b\\u043f\\u0443\\u0441\\u043a\", \"\\u0432\\u044b\\u0440\\u0430\\u0441\\u0442\\u0438\", \"\\u0432\\u044b\\u0441\\u0442\\u0430\\u0432\\u043a\\u0430\", \"\\u0433\\u0430\\u0437\", \"\\u0433\\u0430\\u0437\", \"\\u0433\\u0430\\u0437\\u0435\\u0442\\u0430\", \"\\u0433\\u0430\\u0437\\u0435\\u0442\\u0430\", \"\\u0433\\u0430\\u0437\\u0435\\u0442\\u0430\", \"\\u0433\\u0430\\u0437\\u0435\\u0442\\u0430\", \"\\u0433\\u0430\\u0437\\u0435\\u0442\\u0430\", \"\\u0433\\u0430\\u0437\\u043f\\u0440\\u043e\\u043c\", \"\\u0433\\u0435\\u043a\\u0442\\u0430\\u0440\", \"\\u0433\\u0435\\u043d\\u0435\\u0440\\u0430\\u043b\", \"\\u0433\\u043b\\u0430\\u0432\\u0430\", \"\\u0433\\u043b\\u0430\\u0432\\u0430\", \"\\u0433\\u043b\\u0430\\u0432\\u0430\", \"\\u0433\\u043b\\u0430\\u0432\\u0430\", \"\\u0433\\u043b\\u0430\\u0432\\u043d\\u044b\\u0439\", \"\\u0433\\u043b\\u0430\\u0432\\u043d\\u044b\\u0439\", \"\\u0433\\u043b\\u0430\\u0432\\u043d\\u044b\\u0439\", \"\\u0433\\u043b\\u0430\\u0432\\u043d\\u044b\\u0439\", \"\\u0433\\u043b\\u0430\\u0432\\u043d\\u044b\\u0439\", \"\\u0433\\u043e\\u0434\", \"\\u0433\\u043e\\u0434\", \"\\u0433\\u043e\\u0434\", \"\\u0433\\u043e\\u0434\", \"\\u0433\\u043e\\u0434\", \"\\u0433\\u043e\\u0434\", \"\\u0433\\u043e\\u0434\", \"\\u0433\\u043e\\u0434\\u043e\\u0432\\u043e\\u0439\", \"\\u0433\\u043e\\u043b\\u043e\\u0441\", \"\\u0433\\u043e\\u0440\\u043e\\u0434\", \"\\u0433\\u043e\\u0440\\u043e\\u0434\", \"\\u0433\\u043e\\u0440\\u043e\\u0434\", \"\\u0433\\u043e\\u0440\\u043e\\u0434\", \"\\u0433\\u043e\\u0441\\u0442\\u0438\\u043d\\u0438\\u0446\\u0430\", \"\\u0433\\u043e\\u0441\\u0443\\u0434\\u0430\\u0440\\u0441\\u0442\\u0432\\u043e\", \"\\u0433\\u043e\\u0441\\u0443\\u0434\\u0430\\u0440\\u0441\\u0442\\u0432\\u043e\", \"\\u0433\\u043e\\u0441\\u0443\\u0434\\u0430\\u0440\\u0441\\u0442\\u0432\\u043e\", \"\\u0433\\u043e\\u0441\\u0443\\u0434\\u0430\\u0440\\u0441\\u0442\\u0432\\u043e\", \"\\u0433\\u0440\\u0435\\u0446\\u0438\\u044f\", \"\\u0433\\u0440\\u0443\\u043f\\u043f\\u0430\", \"\\u0433\\u0440\\u0443\\u043f\\u043f\\u0430\", \"\\u0433\\u0440\\u0443\\u043f\\u043f\\u0430\", \"\\u0433\\u0440\\u0443\\u043f\\u043f\\u0430\", \"\\u0433\\u0440\\u0443\\u043f\\u043f\\u0430\", \"\\u0433\\u0440\\u0443\\u043f\\u043f\\u0430\", \"\\u0433\\u0440\\u0443\\u043f\\u043f\\u0430\", \"\\u0433\\u0440\\u0443\\u043f\\u043f\\u0438\\u0440\\u043e\\u0432\\u043a\\u0430\", \"\\u0433\\u0440\\u0443\\u043f\\u043f\\u0438\\u0440\\u043e\\u0432\\u043a\\u0430\", \"\\u0434\\u0430\\u043d\\u043d\\u044b\\u0435\", \"\\u0434\\u0430\\u043d\\u043d\\u044b\\u0435\", \"\\u0434\\u0430\\u043d\\u043d\\u044b\\u0435\", \"\\u0434\\u0430\\u043d\\u043d\\u044b\\u0435\", \"\\u0434\\u0430\\u043d\\u043d\\u044b\\u0435\", \"\\u0434\\u0430\\u043d\\u043d\\u044b\\u0435\", \"\\u0434\\u0432\\u043e\\u0435\", \"\\u0434\\u0435\\u0432\\u043e\\u0447\\u043a\\u0430\", \"\\u0434\\u0435\\u0432\\u0443\\u0448\\u043a\\u0430\", \"\\u0434\\u0435\\u0439\\u0441\\u0442\\u0432\\u0438\\u0435\", \"\\u0434\\u0435\\u0439\\u0441\\u0442\\u0432\\u0438\\u0435\", \"\\u0434\\u0435\\u043b\\u043e\", \"\\u0434\\u0435\\u043b\\u043e\", \"\\u0434\\u0435\\u043b\\u043e\\u0432\\u043e\\u0439\", \"\\u0434\\u0435\\u043f\\u0443\\u0442\\u0430\\u0442\", \"\\u0434\\u0435\\u0442\\u0441\\u043a\\u0438\\u0439\", \"\\u0434\\u043e\\u043a\\u0443\\u043c\\u0435\\u043d\\u0442\", \"\\u0434\\u043e\\u043a\\u0443\\u043c\\u0435\\u043d\\u0442\", \"\\u0434\\u043e\\u043a\\u0443\\u043c\\u0435\\u043d\\u0442\", \"\\u0434\\u043e\\u043b\\u0433\", \"\\u0434\\u043e\\u043b\\u0436\\u043d\\u043e\\u0441\\u0442\\u044c\", \"\\u0434\\u043e\\u043b\\u0436\\u043d\\u044b\\u0439\", \"\\u0434\\u043e\\u043b\\u0436\\u043d\\u044b\\u0439\", \"\\u0434\\u043e\\u043b\\u0436\\u043d\\u044b\\u0439\", \"\\u0434\\u043e\\u043b\\u0436\\u043d\\u044b\\u0439\", \"\\u0434\\u043e\\u043b\\u0436\\u043d\\u044b\\u0439\", \"\\u0434\\u043e\\u043b\\u0436\\u043d\\u044b\\u0439\", \"\\u0434\\u043e\\u043b\\u043b\\u0430\\u0440\", \"\\u0434\\u043e\\u043b\\u043b\\u0430\\u0440\", \"\\u0434\\u043e\\u043c\", \"\\u0434\\u043e\\u043c\", \"\\u0434\\u043e\\u043c\", \"\\u0434\\u043e\\u0441\\u0442\\u0438\\u0433\\u0430\\u0442\\u044c\", \"\\u0434\\u043e\\u0445\\u043e\\u0434\", \"\\u0434\\u043e\\u0445\\u043e\\u0434\", \"\\u0435\\u0432\\u0440\\u043e\", \"\\u0435\\u0432\\u0440\\u043e\", \"\\u0435\\u0432\\u0440\\u043e\", \"\\u0435\\u0432\\u0440\\u043e\", \"\\u0435\\u0432\\u0440\\u043e\\u0441\\u043e\\u044e\\u0437\", \"\\u0436\\u0430\\u043b\\u043e\\u0431\\u0430\", \"\\u0436\\u0435\\u043d\\u0449\\u0438\\u043d\\u0430\", \"\\u0436\\u0435\\u043d\\u0449\\u0438\\u043d\\u0430\", \"\\u0436\\u0438\\u043b\\u044c\\u0451\", \"\\u0436\\u0443\\u0440\\u043d\\u0430\\u043b\\u0438\\u0441\\u0442\", \"\\u0436\\u0443\\u0440\\u043d\\u0430\\u043b\\u0438\\u0441\\u0442\", \"\\u0436\\u0443\\u0440\\u043d\\u0430\\u043b\\u0438\\u0441\\u0442\", \"\\u0437\\u0430\\u0432\\u043e\\u0434\", \"\\u0437\\u0430\\u0434\\u0435\\u0440\\u0436\\u0430\\u0442\\u044c\", \"\\u0437\\u0430\\u0434\\u043e\\u043b\\u0436\\u0435\\u043d\\u043d\\u043e\\u0441\\u0442\\u044c\", \"\\u0437\\u0430\\u043a\\u043b\\u044e\\u0447\\u0435\\u043d\\u0438\\u0435\", \"\\u0437\\u0430\\u043a\\u043e\\u043d\", \"\\u0437\\u0430\\u043a\\u043e\\u043d\\u043e\\u0434\\u0430\\u0442\\u0435\\u043b\\u044c\\u0441\\u0442\\u0432\\u043e\", \"\\u0437\\u0430\\u043a\\u043e\\u043d\\u043e\\u043f\\u0440\\u043e\\u0435\\u043a\\u0442\", \"\\u0437\\u0430\\u043f\\u043b\\u0430\\u0442\\u0438\\u0442\\u044c\", \"\\u0437\\u0430\\u0440\\u043f\\u043b\\u0430\\u0442\\u0430\", \"\\u0437\\u0430\\u0449\\u0438\\u0442\\u043d\\u0438\\u043a\", \"\\u0437\\u0430\\u044f\\u0432\\u0438\\u0442\\u044c\", \"\\u0437\\u0430\\u044f\\u0432\\u0438\\u0442\\u044c\", \"\\u0437\\u0430\\u044f\\u0432\\u0438\\u0442\\u044c\", \"\\u0437\\u0430\\u044f\\u0432\\u0438\\u0442\\u044c\", \"\\u0437\\u0430\\u044f\\u0432\\u0438\\u0442\\u044c\", \"\\u0437\\u0432\\u0435\\u0437\\u0434\\u0430\", \"\\u0437\\u0435\\u043c\\u043b\\u044f\", \"\\u0437\\u0435\\u043c\\u043b\\u044f\", \"\\u0437\\u0435\\u043c\\u043b\\u044f\", \"\\u0438\\u0433\\u0440\\u0430\", \"\\u0438\\u0433\\u0440\\u043e\\u043a\", \"\\u0438\\u0437\\u0431\\u0438\\u0440\\u0430\\u0442\\u0435\\u043b\\u044c\\u043d\\u044b\\u0439\", \"\\u0438\\u0437\\u0432\\u0435\\u0441\\u0442\\u043d\\u044b\\u0439\", \"\\u0438\\u0437\\u0432\\u0435\\u0441\\u0442\\u043d\\u044b\\u0439\", \"\\u0438\\u0437\\u0432\\u0435\\u0441\\u0442\\u043d\\u044b\\u0439\", \"\\u0438\\u0437\\u0432\\u0435\\u0441\\u0442\\u043d\\u044b\\u0439\", \"\\u0438\\u0437\\u0440\\u0430\\u0438\\u043b\\u044c\", \"\\u0438\\u0437\\u0440\\u0430\\u0438\\u043b\\u044c\\u0441\\u043a\\u0438\\u0439\", \"\\u0438\\u043c\\u044f\", \"\\u0438\\u043c\\u044f\", \"\\u0438\\u043c\\u044f\", \"\\u0438\\u043d\\u0432\\u0435\\u0441\\u0442\\u043e\\u0440\", \"\\u0438\\u043d\\u0433\\u0443\\u0448\\u0435\\u0442\\u0438\\u044f\", \"\\u0438\\u043d\\u0434\\u0435\\u043a\\u0441\", \"\\u0438\\u043d\\u0442\\u0435\\u0440\\u0444\\u0430\\u043a\\u0441\", \"\\u0438\\u043d\\u0442\\u0435\\u0440\\u0444\\u0430\\u043a\\u0441\", \"\\u0438\\u043d\\u0442\\u0435\\u0440\\u0444\\u0430\\u043a\\u0441\", \"\\u0438\\u043d\\u0442\\u0435\\u0440\\u0444\\u0430\\u043a\\u0441\", \"\\u0438\\u043d\\u0442\\u0435\\u0440\\u0444\\u0430\\u043a\\u0441\", \"\\u0438\\u043d\\u0444\\u043e\\u0440\\u043c\\u0430\\u0446\\u0438\\u044f\", \"\\u0438\\u043d\\u0444\\u043e\\u0440\\u043c\\u0430\\u0446\\u0438\\u044f\", \"\\u0438\\u043d\\u0444\\u043e\\u0440\\u043c\\u0430\\u0446\\u0438\\u044f\", \"\\u0438\\u043d\\u0444\\u043e\\u0440\\u043c\\u0430\\u0446\\u0438\\u044f\", \"\\u0438\\u043d\\u0446\\u0438\\u0434\\u0435\\u043d\\u0442\", \"\\u0438\\u0440\\u0430\\u043a\", \"\\u0438\\u0440\\u0430\\u043a\\u0441\\u043a\\u0438\\u0439\", \"\\u0438\\u0440\\u0430\\u043d\", \"\\u0438\\u0441\\u043a\", \"\\u0438\\u0441\\u043a\\u0443\\u0441\\u0441\\u0442\\u0432\\u043e\", \"\\u0438\\u0441\\u0441\\u043b\\u0435\\u0434\\u043e\\u0432\\u0430\\u043d\\u0438\\u0435\", \"\\u0438\\u0441\\u0442\\u043e\\u0440\\u0438\\u0447\\u0435\\u0441\\u043a\\u0438\\u0439\", \"\\u0438\\u0441\\u0442\\u043e\\u0440\\u0438\\u044f\", \"\\u0438\\u0441\\u0442\\u043e\\u0440\\u0438\\u044f\", \"\\u0438\\u0441\\u0442\\u043e\\u0440\\u0438\\u044f\", \"\\u0439\\u043e\\u0440\\u043a\", \"\\u043a\\u0430\\u043d\\u0430\\u0434\\u0430\", \"\\u043a\\u0430\\u043d\\u0434\\u0438\\u0434\\u0430\\u0442\", \"\\u043a\\u0430\\u043f\\u0438\\u0442\\u0430\\u043b\", \"\\u043a\\u0430\\u0440\\u0442\\u0438\\u043d\\u0430\", \"\\u043a\\u0432\\u0430\\u0434\\u0440\\u0430\\u0442\\u043d\\u044b\\u0439\", \"\\u043a\\u0432\\u0430\\u0440\\u0442\\u0430\\u043b\", \"\\u043a\\u0432\\u0430\\u0440\\u0442\\u0430\\u043b\", \"\\u043a\\u0432\\u0430\\u0440\\u0442\\u0438\\u0440\\u0430\", \"\\u043a\\u0432\\u0430\\u0440\\u0442\\u0438\\u0440\\u0430\", \"\\u043a\\u0438\\u043b\\u043e\\u043c\\u0435\\u0442\\u0440\", \"\\u043a\\u0438\\u043b\\u043e\\u043c\\u0435\\u0442\\u0440\", \"\\u043a\\u0438\\u0442\\u0430\\u0439\\u0441\\u043a\\u0438\\u0439\", \"\\u043a\\u043b\\u0430\\u0441\\u0441\", \"\\u043a\\u043b\\u0443\\u0431\", \"\\u043a\\u043d\\u0438\\u0433\\u0430\", \"\\u043a\\u043e\\u043c\\u0430\\u043d\\u0434\\u0430\", \"\\u043a\\u043e\\u043c\\u0438\\u0442\\u0435\\u0442\", \"\\u043a\\u043e\\u043c\\u0438\\u0442\\u0435\\u0442\", \"\\u043a\\u043e\\u043c\\u043f\\u0430\\u043d\\u0438\\u044f\", \"\\u043a\\u043e\\u043c\\u043f\\u043b\\u0435\\u043a\\u0441\", \"\\u043a\\u043e\\u043c\\u043f\\u043b\\u0435\\u043a\\u0441\", \"\\u043a\\u043e\\u043c\\u043f\\u044c\\u044e\\u0442\\u0435\\u0440\", \"\\u043a\\u043e\\u043d\\u043a\\u0443\\u0440\\u0441\", \"\\u043a\\u043e\\u043d\\u0444\\u043b\\u0438\\u043a\\u0442\", \"\\u043a\\u043e\\u0440\\u0430\\u0431\\u043b\\u044c\", \"\\u043a\\u043e\\u0440\\u0440\\u0443\\u043f\\u0446\\u0438\\u044f\", \"\\u043a\\u043e\\u0441\\u043c\\u0438\\u0447\\u0435\\u0441\\u043a\\u0438\\u0439\", \"\\u043a\\u043e\\u0442\\u043e\\u0440\\u044b\\u0439\", \"\\u043a\\u043e\\u0442\\u043e\\u0440\\u044b\\u0439\", \"\\u043a\\u043e\\u0442\\u043e\\u0440\\u044b\\u0439\", \"\\u043a\\u043e\\u0442\\u043e\\u0440\\u044b\\u0439\", \"\\u043a\\u043e\\u0442\\u043e\\u0440\\u044b\\u0439\", \"\\u043a\\u043e\\u0442\\u043e\\u0440\\u044b\\u0439\", \"\\u043a\\u043e\\u0442\\u043e\\u0440\\u044b\\u0439\", \"\\u043a\\u043e\\u0442\\u043e\\u0440\\u044b\\u0439\", \"\\u043a\\u043e\\u0442\\u043e\\u0440\\u044b\\u0439\", \"\\u043a\\u0440\\u0430\\u0439\", \"\\u043a\\u0440\\u0435\\u0434\\u0438\\u0442\", \"\\u043a\\u0440\\u0435\\u0434\\u0438\\u0442\", \"\\u043a\\u0440\\u0435\\u0434\\u0438\\u0442\\u043d\\u044b\\u0439\", \"\\u043a\\u0440\\u0435\\u043c\\u043b\\u044c\", \"\\u043a\\u0440\\u0443\\u043f\\u043d\\u044b\\u0439\", \"\\u043a\\u0440\\u0443\\u043f\\u043d\\u044b\\u0439\", \"\\u043a\\u0440\\u0443\\u043f\\u043d\\u044b\\u0439\", \"\\u043a\\u0440\\u0443\\u043f\\u043d\\u044b\\u0439\", \"\\u043a\\u0440\\u0443\\u043f\\u043d\\u044b\\u0439\", \"\\u043a\\u0443\\u0431\\u043e\\u043a\", \"\\u043a\\u0443\\u043f\\u0438\\u0442\\u044c\", \"\\u043a\\u0443\\u043f\\u0438\\u0442\\u044c\", \"\\u043a\\u0443\\u0440\\u0441\", \"\\u043b\\u0430\\u0439\\u043d\\u0435\\u0440\", \"\\u043b\\u0438\\u0433\\u0430\", \"\\u043b\\u0438\\u0434\\u0435\\u0440\", \"\\u043b\\u0438\\u0434\\u0435\\u0440\", \"\\u043b\\u0438\\u0434\\u0435\\u0440\", \"\\u043b\\u0438\\u0434\\u0435\\u0440\", \"\\u043b\\u0438\\u0434\\u0435\\u0440\", \"\\u043b\\u0438\\u0446\\u043e\", \"\\u043b\\u0438\\u0446\\u043e\", \"\\u043b\\u0438\\u0446\\u043e\", \"\\u043b\\u0438\\u0447\\u043d\\u043e\\u0441\\u0442\\u044c\", \"\\u043b\\u043e\\u0434\\u043a\\u0430\", \"\\u043b\\u043e\\u043d\\u0434\\u043e\\u043d\", \"\\u043b\\u043e\\u043d\\u0434\\u043e\\u043d\", \"\\u043b\\u043e\\u043d\\u0434\\u043e\\u043d\\u0441\\u043a\\u0438\\u0439\", \"\\u043b\\u0443\\u0436\\u043a\\u043e\\u0432\", \"\\u043c\\u0430\\u0433\\u0430\\u0437\\u0438\\u043d\", \"\\u043c\\u0430\\u0433\\u0430\\u0437\\u0438\\u043d\", \"\\u043c\\u0430\\u0442\\u0435\\u0440\\u0438\\u0430\\u043b\", \"\\u043c\\u0430\\u0442\\u0435\\u0440\\u0438\\u0430\\u043b\", \"\\u043c\\u0430\\u0442\\u0447\", \"\\u043c\\u0430\\u0448\\u0438\\u043d\\u0430\", \"\\u043c\\u0432\\u0434\", \"\\u043c\\u0435\\u0434\\u0430\\u043b\\u044c\", \"\\u043c\\u0435\\u0436\\u0434\\u0443\\u043d\\u0430\\u0440\\u043e\\u0434\\u043d\\u044b\\u0439\", \"\\u043c\\u0435\\u0436\\u0434\\u0443\\u043d\\u0430\\u0440\\u043e\\u0434\\u043d\\u044b\\u0439\", \"\\u043c\\u0435\\u0436\\u0434\\u0443\\u043d\\u0430\\u0440\\u043e\\u0434\\u043d\\u044b\\u0439\", \"\\u043c\\u0435\\u0436\\u0434\\u0443\\u043d\\u0430\\u0440\\u043e\\u0434\\u043d\\u044b\\u0439\", \"\\u043c\\u0435\\u0436\\u0434\\u0443\\u043d\\u0430\\u0440\\u043e\\u0434\\u043d\\u044b\\u0439\", \"\\u043c\\u0435\\u0436\\u0434\\u0443\\u043d\\u0430\\u0440\\u043e\\u0434\\u043d\\u044b\\u0439\", \"\\u043c\\u0435\\u0436\\u0434\\u0443\\u043d\\u0430\\u0440\\u043e\\u0434\\u043d\\u044b\\u0439\", \"\\u043c\\u0435\\u0441\\u0442\\u043d\\u044b\\u0439\", \"\\u043c\\u0435\\u0441\\u0442\\u043d\\u044b\\u0439\", \"\\u043c\\u0435\\u0441\\u0442\\u043d\\u044b\\u0439\", \"\\u043c\\u0435\\u0441\\u0442\\u043e\", \"\\u043c\\u0435\\u0441\\u0442\\u043e\", \"\\u043c\\u0435\\u0441\\u0442\\u043e\", \"\\u043c\\u0435\\u0441\\u0442\\u043e\", \"\\u043c\\u0435\\u0441\\u0442\\u043e\", \"\\u043c\\u0435\\u0441\\u0442\\u043e\", \"\\u043c\\u0435\\u0441\\u044f\\u0446\", \"\\u043c\\u0435\\u0441\\u044f\\u0446\", \"\\u043c\\u0435\\u0441\\u044f\\u0446\", \"\\u043c\\u0435\\u0441\\u044f\\u0446\", \"\\u043c\\u0435\\u0441\\u044f\\u0446\", \"\\u043c\\u0435\\u0441\\u044f\\u0446\", \"\\u043c\\u0435\\u0442\\u0440\", \"\\u043c\\u0435\\u0442\\u0440\", \"\\u043c\\u0438\\u0434\", \"\\u043c\\u0438\\u043b\\u043b\\u0438\\u0430\\u0440\\u0434\", \"\\u043c\\u0438\\u043b\\u043b\\u0438\\u0430\\u0440\\u0434\", \"\\u043c\\u0438\\u043b\\u043b\\u0438\\u043e\\u043d\", \"\\u043c\\u0438\\u043b\\u043b\\u0438\\u043e\\u043d\", \"\\u043c\\u0438\\u043b\\u043b\\u0438\\u043e\\u043d\", \"\\u043c\\u0438\\u043b\\u043b\\u0438\\u043e\\u043d\", \"\\u043c\\u0438\\u043d\\u0438\\u0441\\u0442\\u0440\", \"\\u043c\\u0438\\u043d\\u0438\\u0441\\u0442\\u0440\", \"\\u043c\\u0438\\u043d\\u0438\\u0441\\u0442\\u0440\", \"\\u043c\\u0438\\u043d\\u0444\\u0438\\u043d\", \"\\u043c\\u0438\\u0440\", \"\\u043c\\u0438\\u0440\", \"\\u043c\\u0438\\u0440\", \"\\u043c\\u0438\\u0440\", \"\\u043c\\u0438\\u0440\", \"\\u043c\\u0438\\u0440\", \"\\u043c\\u0438\\u0440\\u043d\\u044b\\u0439\", \"\\u043c\\u043e\\u0434\\u0435\\u043b\\u044c\", \"\\u043c\\u043e\\u0441\\u043a\\u0432\\u0430\", \"\\u043c\\u043e\\u0441\\u043a\\u0432\\u0430\", \"\\u043c\\u043e\\u0441\\u043a\\u0432\\u0430\", \"\\u043c\\u043e\\u0441\\u043a\\u0432\\u0430\", \"\\u043c\\u043e\\u0441\\u043a\\u0432\\u0430\", \"\\u043c\\u043e\\u0441\\u043a\\u0432\\u0430\", \"\\u043c\\u043e\\u0441\\u043a\\u043e\\u0432\\u0441\\u043a\\u0438\\u0439\", \"\\u043c\\u043e\\u0441\\u043a\\u043e\\u0432\\u0441\\u043a\\u0438\\u0439\", \"\\u043c\\u043e\\u0441\\u043a\\u043e\\u0432\\u0441\\u043a\\u0438\\u0439\", \"\\u043c\\u043e\\u0441\\u043a\\u043e\\u0432\\u0441\\u043a\\u0438\\u0439\", \"\\u043c\\u043e\\u0441\\u043a\\u043e\\u0432\\u0441\\u043a\\u0438\\u0439\", \"\\u043c\\u043e\\u0447\\u044c\", \"\\u043c\\u043e\\u0447\\u044c\", \"\\u043c\\u043e\\u0447\\u044c\", \"\\u043c\\u043e\\u0447\\u044c\", \"\\u043c\\u043e\\u0447\\u044c\", \"\\u043c\\u043e\\u0447\\u044c\", \"\\u043c\\u043e\\u0447\\u044c\", \"\\u043c\\u043e\\u0447\\u044c\", \"\\u043c\\u0443\\u0436\\u0447\\u0438\\u043d\\u0430\", \"\\u043c\\u0443\\u0437\\u0435\\u0439\", \"\\u043c\\u0443\\u0437\\u044b\\u043a\\u0430\\u043b\\u044c\\u043d\\u044b\\u0439\", \"\\u043c\\u0447\\u0441\", \"\\u043d\\u0430\\u0431\\u0440\\u0430\\u0442\\u044c\", \"\\u043d\\u0430\\u0433\\u0440\\u0430\\u0434\\u0430\", \"\\u043d\\u0430\\u043b\\u043e\\u0433\", \"\\u043d\\u0430\\u043b\\u043e\\u0433\\u043e\\u0432\\u044b\\u0439\", \"\\u043d\\u0430\\u043f\\u0440\\u0438\\u043c\\u0435\\u0440\", \"\\u043d\\u0430\\u0440\\u0443\\u0448\\u0435\\u043d\\u0438\\u0435\", \"\\u043d\\u0430\\u0440\\u0443\\u0448\\u0435\\u043d\\u0438\\u0435\", \"\\u043d\\u0430\\u0440\\u0443\\u0448\\u0435\\u043d\\u0438\\u0435\", \"\\u043d\\u0430\\u0443\\u0447\\u043d\\u044b\\u0439\", \"\\u043d\\u0430\\u0445\\u043e\\u0434\\u0438\\u0442\\u044c\\u0441\\u044f\", \"\\u043d\\u0430\\u0445\\u043e\\u0434\\u0438\\u0442\\u044c\\u0441\\u044f\", \"\\u043d\\u0430\\u0445\\u043e\\u0434\\u0438\\u0442\\u044c\\u0441\\u044f\", \"\\u043d\\u0430\\u0445\\u043e\\u0434\\u0438\\u0442\\u044c\\u0441\\u044f\", \"\\u043d\\u0430\\u0445\\u043e\\u0434\\u0438\\u0442\\u044c\\u0441\\u044f\", \"\\u043d\\u0430\\u0445\\u043e\\u0434\\u0438\\u0442\\u044c\\u0441\\u044f\", \"\\u043d\\u0435\\u0434\\u0432\\u0438\\u0436\\u0438\\u043c\\u043e\\u0441\\u0442\\u044c\", \"\\u043d\\u0435\\u0437\\u0430\\u043a\\u043e\\u043d\\u043d\\u044b\\u0439\", \"\\u043d\\u0435\\u0441\\u043a\\u043e\\u043b\\u044c\\u043a\\u043e\", \"\\u043d\\u0435\\u0441\\u043a\\u043e\\u043b\\u044c\\u043a\\u043e\", \"\\u043d\\u0435\\u0441\\u043a\\u043e\\u043b\\u044c\\u043a\\u043e\", \"\\u043d\\u0435\\u0441\\u043a\\u043e\\u043b\\u044c\\u043a\\u043e\", \"\\u043d\\u0435\\u0441\\u043a\\u043e\\u043b\\u044c\\u043a\\u043e\", \"\\u043d\\u0435\\u0441\\u043a\\u043e\\u043b\\u044c\\u043a\\u043e\", \"\\u043d\\u0435\\u0441\\u043a\\u043e\\u043b\\u044c\\u043a\\u043e\", \"\\u043d\\u0435\\u0444\\u0442\\u044c\", \"\\u043d\\u0438\\u0436\\u0435\", \"\\u043d\\u0438\\u043a\\u0442\\u043e\", \"\\u043d\\u043e\\u0432\\u044b\\u0439\", \"\\u043d\\u043e\\u0432\\u044b\\u0439\", \"\\u043d\\u043e\\u0432\\u044b\\u0439\", \"\\u043d\\u043e\\u0432\\u044b\\u0439\", \"\\u043d\\u043e\\u0432\\u044b\\u0439\", \"\\u043d\\u043e\\u0447\\u044c\", \"\\u043d\\u044c\\u044e\", \"\\u043e\\u0430\\u043e\", \"\\u043e\\u0431\\u0430\\u043c\\u0430\", \"\\u043e\\u0431\\u0432\\u0438\\u043d\\u0435\\u043d\\u0438\\u0435\", \"\\u043e\\u0431\\u0432\\u0438\\u043d\\u044f\\u0442\\u044c\", \"\\u043e\\u0431\\u043d\\u0430\\u0440\\u0443\\u0436\\u0438\\u0442\\u044c\", \"\\u043e\\u0431\\u0440\\u0430\\u0449\\u0435\\u043d\\u0438\\u0435\", \"\\u043e\\u0431\\u0449\\u0438\\u0439\", \"\\u043e\\u0431\\u0449\\u0438\\u0439\", \"\\u043e\\u0431\\u0449\\u0438\\u0439\", \"\\u043e\\u0431\\u0449\\u0438\\u0439\", \"\\u043e\\u0431\\u0449\\u0438\\u0439\", \"\\u043e\\u0431\\u044a\\u0435\\u043a\\u0442\", \"\\u043e\\u0431\\u044a\\u0435\\u043a\\u0442\", \"\\u043e\\u0431\\u044a\\u0435\\u043a\\u0442\", \"\\u043e\\u0431\\u044a\\u0435\\u043a\\u0442\", \"\\u043e\\u0431\\u044a\\u0451\\u043c\", \"\\u043e\\u0431\\u044a\\u0451\\u043c\", \"\\u043e\\u0434\\u043d\\u0430\\u043a\\u043e\", \"\\u043e\\u0434\\u043d\\u0430\\u043a\\u043e\", \"\\u043e\\u0434\\u043d\\u0430\\u043a\\u043e\", \"\\u043e\\u0434\\u043d\\u0430\\u043a\\u043e\", \"\\u043e\\u0434\\u043d\\u0430\\u043a\\u043e\", \"\\u043e\\u0434\\u043d\\u0430\\u043a\\u043e\", \"\\u043e\\u0434\\u043d\\u0430\\u043a\\u043e\", \"\\u043e\\u043a\\u043e\\u043b\\u043e\", \"\\u043e\\u043a\\u043e\\u043b\\u043e\", \"\\u043e\\u043a\\u043e\\u043b\\u043e\", \"\\u043e\\u043a\\u043e\\u043b\\u043e\", \"\\u043e\\u043a\\u043e\\u043b\\u043e\", \"\\u043e\\u043a\\u043e\\u043d\\u0447\\u0430\\u043d\\u0438\\u0435\", \"\\u043e\\u043b\\u0438\\u043c\\u043f\\u0438\\u0439\\u0441\\u043a\\u0438\\u0439\", \"\\u043e\\u043e\\u043d\", \"\\u043e\\u043f\\u0435\\u0440\\u0430\\u0442\\u043e\\u0440\", \"\\u043e\\u043f\\u0435\\u0440\\u0430\\u0446\\u0438\\u044f\", \"\\u043e\\u043f\\u0435\\u0440\\u0430\\u0446\\u0438\\u044f\", \"\\u043e\\u043f\\u0435\\u0440\\u0430\\u0446\\u0438\\u044f\", \"\\u043e\\u043f\\u0440\\u043e\\u0441\", \"\\u043e\\u043f\\u0440\\u043e\\u0441\\u0438\\u0442\\u044c\", \"\\u043e\\u043f\\u0443\\u0431\\u043b\\u0438\\u043a\\u043e\\u0432\\u0430\\u0442\\u044c\", \"\\u043e\\u043f\\u0443\\u0431\\u043b\\u0438\\u043a\\u043e\\u0432\\u0430\\u0442\\u044c\", \"\\u043e\\u043f\\u0443\\u0431\\u043b\\u0438\\u043a\\u043e\\u0432\\u0430\\u0442\\u044c\", \"\\u043e\\u043f\\u0443\\u0431\\u043b\\u0438\\u043a\\u043e\\u0432\\u0430\\u0442\\u044c\", \"\\u043e\\u043f\\u0443\\u0431\\u043b\\u0438\\u043a\\u043e\\u0432\\u0430\\u0442\\u044c\", \"\\u043e\\u0440\\u0433\\u0430\\u043d\\u0438\\u0437\\u0430\\u0446\\u0438\\u044f\", \"\\u043e\\u0440\\u0433\\u0430\\u043d\\u0438\\u0437\\u0430\\u0446\\u0438\\u044f\", \"\\u043e\\u0440\\u0433\\u0430\\u043d\\u0438\\u0437\\u0430\\u0446\\u0438\\u044f\", \"\\u043e\\u0440\\u0433\\u0430\\u043d\\u0438\\u0437\\u0430\\u0446\\u0438\\u044f\", \"\\u043e\\u0441\\u0432\\u043e\\u0431\\u043e\\u0436\\u0434\\u0435\\u043d\\u0438\\u0435\", \"\\u043e\\u0441\\u043e\\u0431\\u043d\\u044f\\u043a\", \"\\u043e\\u0441\\u0443\\u0434\\u0438\\u0442\\u044c\", \"\\u043e\\u0442\\u0435\\u043b\\u044c\", \"\\u043e\\u0442\\u043d\\u043e\\u0448\\u0435\\u043d\\u0438\\u0435\", \"\\u043e\\u0442\\u043d\\u043e\\u0448\\u0435\\u043d\\u0438\\u0435\", \"\\u043e\\u0442\\u043d\\u043e\\u0448\\u0435\\u043d\\u0438\\u0435\", \"\\u043e\\u0442\\u043d\\u043e\\u0448\\u0435\\u043d\\u0438\\u0435\", \"\\u043e\\u0442\\u0441\\u0442\\u0430\\u0432\\u043a\\u0430\", \"\\u043e\\u0442\\u0441\\u0442\\u0430\\u0432\\u043a\\u0430\", \"\\u043e\\u0442\\u0441\\u0442\\u0430\\u0432\\u043a\\u0430\", \"\\u043e\\u0444\\u0438\\u0441\\u043d\\u044b\\u0439\", \"\\u043e\\u0447\\u043a\\u043e\", \"\\u043f\\u0430\\u043b\\u0430\\u0442\\u0430\", \"\\u043f\\u0430\\u043b\\u0435\\u0441\\u0442\\u0438\\u043d\\u0441\\u043a\\u0438\\u0439\", \"\\u043f\\u0430\\u0440\\u043b\\u0430\\u043c\\u0435\\u043d\\u0442\", \"\\u043f\\u0430\\u0440\\u0442\\u0438\\u044f\", \"\\u043f\\u0430\\u0441\\u0441\\u0430\\u0436\\u0438\\u0440\", \"\\u043f\\u0435\\u0440\\u0432\\u044b\\u0439\", \"\\u043f\\u0435\\u0440\\u0432\\u044b\\u0439\", \"\\u043f\\u0435\\u0440\\u0432\\u044b\\u0439\", \"\\u043f\\u0435\\u0440\\u0432\\u044b\\u0439\", \"\\u043f\\u0435\\u0440\\u0432\\u044b\\u0439\", \"\\u043f\\u0435\\u0440\\u0432\\u044b\\u0439\", \"\\u043f\\u0435\\u0440\\u0432\\u044b\\u0439\", \"\\u043f\\u0435\\u0440\\u0432\\u044b\\u0439\", \"\\u043f\\u0438\\u043b\\u043e\\u0442\", \"\\u043f\\u0438\\u0441\\u0430\\u0442\\u044c\", \"\\u043f\\u0438\\u0441\\u0430\\u0442\\u044c\", \"\\u043f\\u0438\\u0441\\u0430\\u0442\\u044c\", \"\\u043f\\u0438\\u0441\\u0430\\u0442\\u044c\", \"\\u043f\\u0438\\u0441\\u0430\\u0442\\u044c\", \"\\u043f\\u0438\\u0441\\u044c\\u043c\\u043e\", \"\\u043f\\u043b\\u0430\\u043d\\u0435\\u0442\\u0430\", \"\\u043f\\u043b\\u043e\\u0449\\u0430\\u0434\\u044c\", \"\\u043f\\u043b\\u043e\\u0449\\u0430\\u0434\\u044c\", \"\\u043f\\u043e\\u0431\\u0435\\u0434\\u0430\", \"\\u043f\\u043e\\u0431\\u0435\\u0434\\u0430\", \"\\u043f\\u043e\\u0432\\u043e\\u0434\", \"\\u043f\\u043e\\u0433\\u0438\\u0431\\u043d\\u0443\\u0442\\u044c\", \"\\u043f\\u043e\\u0434\\u0430\\u0442\\u044c\", \"\\u043f\\u043e\\u0434\\u0434\\u0435\\u0440\\u0436\\u0438\\u0432\\u0430\\u0442\\u044c\", \"\\u043f\\u043e\\u0434\\u0434\\u0435\\u0440\\u0436\\u043a\\u0430\", \"\\u043f\\u043e\\u0434\\u0440\\u043e\\u0441\\u0442\\u043e\\u043a\", \"\\u043f\\u043e\\u0435\\u0437\\u0434\", \"\\u043f\\u043e\\u0436\\u0430\\u0440\", \"\\u043f\\u043e\\u0437\\u0432\\u043e\\u043b\\u044f\\u0442\\u044c\", \"\\u043f\\u043e\\u043a\\u0430\\u0437\\u0430\\u0442\\u0435\\u043b\\u044c\", \"\\u043f\\u043e\\u043a\\u0430\\u0437\\u0430\\u0442\\u044c\", \"\\u043f\\u043e\\u043a\\u0443\\u043f\\u043a\\u0430\", \"\\u043f\\u043e\\u043b\\u0438\\u0446\\u0435\\u0439\\u0441\\u043a\\u0438\\u0439\", \"\\u043f\\u043e\\u043b\\u0438\\u0446\\u0438\\u044f\", \"\\u043f\\u043e\\u043b\\u0443\\u0447\\u0438\\u0442\\u044c\", \"\\u043f\\u043e\\u043b\\u0443\\u0447\\u0438\\u0442\\u044c\", \"\\u043f\\u043e\\u043b\\u0443\\u0447\\u0438\\u0442\\u044c\", \"\\u043f\\u043e\\u043b\\u0443\\u0447\\u0438\\u0442\\u044c\", \"\\u043f\\u043e\\u043b\\u0443\\u0447\\u0438\\u0442\\u044c\", \"\\u043f\\u043e\\u043b\\u0443\\u0447\\u0438\\u0442\\u044c\", \"\\u043f\\u043e\\u043b\\u0443\\u0447\\u0438\\u0442\\u044c\", \"\\u043f\\u043e\\u043b\\u0443\\u0447\\u0438\\u0442\\u044c\", \"\\u043f\\u043e\\u043b\\u044c\\u0437\\u043e\\u0432\\u0430\\u0442\\u0435\\u043b\\u044c\", \"\\u043f\\u043e\\u043b\\u0451\\u0442\", \"\\u043f\\u043e\\u043f\\u0440\\u0430\\u0432\\u043a\\u0430\", \"\\u043f\\u043e\\u0440\\u0430\\u0436\\u0435\\u043d\\u0438\\u0435\", \"\\u043f\\u043e\\u0441\\u043b\\u0435\\u0434\\u043d\\u0438\\u0439\", \"\\u043f\\u043e\\u0441\\u043b\\u0435\\u0434\\u043d\\u0438\\u0439\", \"\\u043f\\u043e\\u0441\\u043b\\u0435\\u0434\\u043d\\u0438\\u0439\", \"\\u043f\\u043e\\u0441\\u043b\\u0435\\u0434\\u043d\\u0438\\u0439\", \"\\u043f\\u043e\\u0441\\u043b\\u0435\\u0434\\u043d\\u0438\\u0439\", \"\\u043f\\u043e\\u0441\\u043b\\u0435\\u0434\\u043d\\u0438\\u0439\", \"\\u043f\\u043e\\u0441\\u043b\\u0435\\u0434\\u043d\\u0438\\u0439\", \"\\u043f\\u043e\\u0441\\u0442\\u0440\\u0430\\u0434\\u0430\\u0442\\u044c\", \"\\u043f\\u043e\\u0441\\u0442\\u0440\\u043e\\u0438\\u0442\\u044c\", \"\\u043f\\u043e\\u0445\\u0438\\u0442\\u0438\\u0442\\u044c\", \"\\u043f\\u043e\\u044f\\u0432\\u0438\\u0442\\u044c\\u0441\\u044f\", \"\\u043f\\u043e\\u044f\\u0432\\u0438\\u0442\\u044c\\u0441\\u044f\", \"\\u043f\\u043e\\u044f\\u0432\\u0438\\u0442\\u044c\\u0441\\u044f\", \"\\u043f\\u0440\\u0430\\u0432\\u0438\\u0442\\u0435\\u043b\\u044c\\u0441\\u0442\\u0432\\u043e\", \"\\u043f\\u0440\\u0430\\u0432\\u0438\\u0442\\u0435\\u043b\\u044c\\u0441\\u0442\\u0432\\u043e\", \"\\u043f\\u0440\\u0430\\u0432\\u0438\\u0442\\u0435\\u043b\\u044c\\u0441\\u0442\\u0432\\u043e\", \"\\u043f\\u0440\\u0430\\u0432\\u043e\", \"\\u043f\\u0440\\u0430\\u0432\\u043e\", \"\\u043f\\u0440\\u0430\\u0432\\u043e\", \"\\u043f\\u0440\\u0430\\u0432\\u043e\\u043e\\u0445\\u0440\\u0430\\u043d\\u0438\\u0442\\u0435\\u043b\\u044c\\u043d\\u044b\\u0439\", \"\\u043f\\u0440\\u0435\\u0434\\u043f\\u0440\\u0438\\u044f\\u0442\\u0438\\u0435\", \"\\u043f\\u0440\\u0435\\u0434\\u043f\\u0440\\u0438\\u044f\\u0442\\u0438\\u0435\", \"\\u043f\\u0440\\u0435\\u0434\\u043f\\u0440\\u0438\\u044f\\u0442\\u0438\\u0435\", \"\\u043f\\u0440\\u0435\\u0434\\u0441\\u0442\\u0430\\u0432\\u0438\\u0442\\u0435\\u043b\\u044c\", \"\\u043f\\u0440\\u0435\\u0434\\u0441\\u0442\\u0430\\u0432\\u0438\\u0442\\u0435\\u043b\\u044c\", \"\\u043f\\u0440\\u0435\\u0434\\u0441\\u0442\\u0430\\u0432\\u0438\\u0442\\u0435\\u043b\\u044c\", \"\\u043f\\u0440\\u0435\\u0434\\u0441\\u0442\\u0430\\u0432\\u0438\\u0442\\u0435\\u043b\\u044c\", \"\\u043f\\u0440\\u0435\\u0434\\u0441\\u0442\\u0430\\u0432\\u0438\\u0442\\u0435\\u043b\\u044c\", \"\\u043f\\u0440\\u0435\\u0434\\u0441\\u0442\\u0430\\u0432\\u0438\\u0442\\u0435\\u043b\\u044c\", \"\\u043f\\u0440\\u0435\\u0437\\u0438\\u0434\\u0435\\u043d\\u0442\", \"\\u043f\\u0440\\u0435\\u0437\\u0438\\u0434\\u0435\\u043d\\u0442\", \"\\u043f\\u0440\\u0435\\u0437\\u0438\\u0434\\u0435\\u043d\\u0442\", \"\\u043f\\u0440\\u0435\\u043c\\u0438\\u044f\", \"\\u043f\\u0440\\u0438\\u0433\\u043e\\u0432\\u043e\\u0440\", \"\\u043f\\u0440\\u0438\\u0433\\u043e\\u0432\\u043e\\u0440\\u0438\\u0442\\u044c\", \"\\u043f\\u0440\\u0438\\u0437\", \"\\u043f\\u0440\\u0438\\u0437\\u043d\\u0430\\u0442\\u044c\", \"\\u043f\\u0440\\u0438\\u0437\\u043d\\u0430\\u0442\\u044c\", \"\\u043f\\u0440\\u0438\\u043d\\u044f\\u0442\\u044c\", \"\\u043f\\u0440\\u0438\\u043d\\u044f\\u0442\\u044c\", \"\\u043f\\u0440\\u0438\\u043d\\u044f\\u0442\\u044c\", \"\\u043f\\u0440\\u0438\\u043d\\u044f\\u0442\\u044c\", \"\\u043f\\u0440\\u0438\\u043d\\u044f\\u0442\\u044c\", \"\\u043f\\u0440\\u0438\\u043e\\u0431\\u0440\\u0435\\u0441\\u0442\\u0438\", \"\\u043f\\u0440\\u0438\\u043e\\u0431\\u0440\\u0435\\u0441\\u0442\\u0438\", \"\\u043f\\u0440\\u043e\\u0432\\u0435\\u0441\\u0442\\u0438\", \"\\u043f\\u0440\\u043e\\u0432\\u0435\\u0441\\u0442\\u0438\", \"\\u043f\\u0440\\u043e\\u0432\\u0435\\u0441\\u0442\\u0438\", \"\\u043f\\u0440\\u043e\\u0432\\u0435\\u0441\\u0442\\u0438\", \"\\u043f\\u0440\\u043e\\u0432\\u0435\\u0441\\u0442\\u0438\", \"\\u043f\\u0440\\u043e\\u0432\\u0435\\u0441\\u0442\\u0438\", \"\\u043f\\u0440\\u043e\\u0432\\u0435\\u0441\\u0442\\u0438\", \"\\u043f\\u0440\\u043e\\u0432\\u0435\\u0441\\u0442\\u0438\", \"\\u043f\\u0440\\u043e\\u0433\\u043e\\u043b\\u043e\\u0441\\u043e\\u0432\\u0430\\u0442\\u044c\", \"\\u043f\\u0440\\u043e\\u0434\\u0430\\u0436\\u0430\", \"\\u043f\\u0440\\u043e\\u0434\\u0430\\u0436\\u0430\", \"\\u043f\\u0440\\u043e\\u0434\\u0430\\u0436\\u0430\", \"\\u043f\\u0440\\u043e\\u0434\\u0430\\u0442\\u044c\", \"\\u043f\\u0440\\u043e\\u0435\\u043a\\u0442\", \"\\u043f\\u0440\\u043e\\u0435\\u043a\\u0442\", \"\\u043f\\u0440\\u043e\\u0435\\u043a\\u0442\", \"\\u043f\\u0440\\u043e\\u0435\\u043a\\u0442\", \"\\u043f\\u0440\\u043e\\u0438\\u0437\\u043e\\u0439\\u0442\\u0438\", \"\\u043f\\u0440\\u043e\\u0438\\u0437\\u043e\\u0439\\u0442\\u0438\", \"\\u043f\\u0440\\u043e\\u0438\\u0437\\u043e\\u0439\\u0442\\u0438\", \"\\u043f\\u0440\\u043e\\u0438\\u0441\\u0448\\u0435\\u0441\\u0442\\u0432\\u0438\\u0435\", \"\\u043f\\u0440\\u043e\\u0439\\u0442\\u0438\", \"\\u043f\\u0440\\u043e\\u0439\\u0442\\u0438\", \"\\u043f\\u0440\\u043e\\u0439\\u0442\\u0438\", \"\\u043f\\u0440\\u043e\\u0442\\u0438\\u0432\", \"\\u043f\\u0440\\u043e\\u0442\\u0438\\u0432\", \"\\u043f\\u0440\\u043e\\u0442\\u0438\\u0432\", \"\\u043f\\u0440\\u043e\\u0442\\u0438\\u0432\", \"\\u043f\\u0440\\u043e\\u0446\\u0435\\u043d\\u0442\", \"\\u043f\\u0440\\u043e\\u0446\\u0435\\u043d\\u0442\", \"\\u043f\\u0440\\u043e\\u0446\\u0435\\u0441\\u0441\", \"\\u043f\\u0443\\u0442\\u0438\\u043d\", \"\\u043f\\u0443\\u0442\\u0438\\u043d\", \"\\u0440\\u0430\\u0431\\u043e\\u0442\\u0430\", \"\\u0440\\u0430\\u0431\\u043e\\u0442\\u0430\", \"\\u0440\\u0430\\u0431\\u043e\\u0442\\u0430\", \"\\u0440\\u0430\\u0431\\u043e\\u0442\\u0430\", \"\\u0440\\u0430\\u0431\\u043e\\u0442\\u0430\", \"\\u0440\\u0430\\u0431\\u043e\\u0442\\u0430\", \"\\u0440\\u0430\\u0431\\u043e\\u0442\\u0430\", \"\\u0440\\u0430\\u0431\\u043e\\u0442\\u043d\\u0438\\u043a\", \"\\u0440\\u0430\\u0437\\u0440\\u0430\\u0431\\u043e\\u0442\\u0447\\u0438\\u043a\", \"\\u0440\\u0430\\u0439\\u043e\\u043d\", \"\\u0440\\u0430\\u0439\\u043e\\u043d\", \"\\u0440\\u0430\\u0439\\u043e\\u043d\", \"\\u0440\\u0430\\u043a\\u0435\\u0442\\u0430\", \"\\u0440\\u0430\\u043d\\u0435\\u043d\\u0438\\u0435\", \"\\u0440\\u0430\\u0441\\u0445\\u043e\\u0434\", \"\\u0440\\u0435\\u0431\\u0451\\u043d\\u043e\\u043a\", \"\\u0440\\u0435\\u0431\\u0451\\u043d\\u043e\\u043a\", \"\\u0440\\u0435\\u0431\\u0451\\u043d\\u043e\\u043a\", \"\\u0440\\u0435\\u0436\\u0438\\u0441\\u0441\\u0451\\u0440\", \"\\u0440\\u0435\\u0437\\u0443\\u043b\\u044c\\u0442\\u0430\\u0442\", \"\\u0440\\u0435\\u0437\\u0443\\u043b\\u044c\\u0442\\u0430\\u0442\", \"\\u0440\\u0435\\u0437\\u0443\\u043b\\u044c\\u0442\\u0430\\u0442\", \"\\u0440\\u0435\\u0437\\u0443\\u043b\\u044c\\u0442\\u0430\\u0442\", \"\\u0440\\u0435\\u0437\\u0443\\u043b\\u044c\\u0442\\u0430\\u0442\", \"\\u0440\\u0435\\u0437\\u0443\\u043b\\u044c\\u0442\\u0430\\u0442\", \"\\u0440\\u0435\\u0437\\u0443\\u043b\\u044c\\u0442\\u0430\\u0442\", \"\\u0440\\u0435\\u0439\\u0442\\u0438\\u043d\\u0433\", \"\\u0440\\u0435\\u043b\\u0438\\u0437\", \"\\u0440\\u0435\\u043b\\u0438\\u0437\", \"\\u0440\\u0435\\u0441\\u043f\\u0443\\u0431\\u043b\\u0438\\u043a\\u0430\", \"\\u0440\\u0435\\u0441\\u043f\\u0443\\u0431\\u043b\\u0438\\u043a\\u0430\", \"\\u0440\\u0435\\u0441\\u043f\\u0443\\u0431\\u043b\\u0438\\u043a\\u0430\", \"\\u0440\\u0435\\u0441\\u0442\\u043e\\u0440\\u0430\\u043d\", \"\\u0440\\u0435\\u0448\\u0435\\u043d\\u0438\\u0435\", \"\\u0440\\u0435\\u0448\\u0435\\u043d\\u0438\\u0435\", \"\\u0440\\u0435\\u0448\\u0435\\u043d\\u0438\\u0435\", \"\\u0440\\u043e\\u043b\\u044c\", \"\\u0440\\u043e\\u0441\\u0441\\u0438\\u0439\\u0441\\u043a\\u0438\\u0439\", \"\\u0440\\u043e\\u0441\\u0441\\u0438\\u0439\\u0441\\u043a\\u0438\\u0439\", \"\\u0440\\u043e\\u0441\\u0441\\u0438\\u0439\\u0441\\u043a\\u0438\\u0439\", \"\\u0440\\u043e\\u0441\\u0441\\u0438\\u0439\\u0441\\u043a\\u0438\\u0439\", \"\\u0440\\u043e\\u0441\\u0441\\u0438\\u0439\\u0441\\u043a\\u0438\\u0439\", \"\\u0440\\u043e\\u0441\\u0441\\u0438\\u0439\\u0441\\u043a\\u0438\\u0439\", \"\\u0440\\u043e\\u0441\\u0441\\u0438\\u044f\", \"\\u0440\\u043e\\u0441\\u0441\\u0438\\u044f\", \"\\u0440\\u043e\\u0441\\u0441\\u0438\\u044f\", \"\\u0440\\u043e\\u0441\\u0441\\u0438\\u044f\", \"\\u0440\\u043e\\u0441\\u0441\\u0438\\u044f\", \"\\u0440\\u043e\\u0441\\u0441\\u0438\\u044f\\u043d\\u0438\\u043d\", \"\\u0440\\u043e\\u0441\\u0441\\u0438\\u044f\\u043d\\u0438\\u043d\", \"\\u0440\\u043e\\u0441\\u0442\", \"\\u0440\\u0443\\u0431\\u043b\\u044c\", \"\\u0440\\u0443\\u0431\\u043b\\u044c\", \"\\u0440\\u0443\\u0431\\u043b\\u044c\", \"\\u0440\\u0443\\u043a\\u043e\\u0432\\u043e\\u0434\\u0438\\u0442\\u0435\\u043b\\u044c\", \"\\u0440\\u044b\\u043d\\u043e\\u043a\", \"\\u0440\\u044b\\u043d\\u043e\\u043a\", \"\\u0441\\u0430\\u0439\\u0442\", \"\\u0441\\u0430\\u0439\\u0442\", \"\\u0441\\u0430\\u0439\\u0442\", \"\\u0441\\u0430\\u0439\\u0442\", \"\\u0441\\u0430\\u0439\\u0442\", \"\\u0441\\u0430\\u043c\\u043e\\u043b\\u0451\\u0442\", \"\\u0441\\u0430\\u043c\\u044b\\u0439\", \"\\u0441\\u0430\\u043c\\u044b\\u0439\", \"\\u0441\\u0430\\u043c\\u044b\\u0439\", \"\\u0441\\u0430\\u043c\\u044b\\u0439\", \"\\u0441\\u0430\\u043c\\u044b\\u0439\", \"\\u0441\\u0430\\u043c\\u044b\\u0439\", \"\\u0441\\u0431\\u0435\\u0440\\u0431\\u0430\\u043d\\u043a\", \"\\u0441\\u0431\\u0435\\u0440\\u0431\\u0430\\u043d\\u043a\", \"\\u0441\\u0431\\u043e\\u0440\\u043d\\u0430\\u044f\", \"\\u0441\\u0432\\u043e\\u0439\", \"\\u0441\\u0432\\u043e\\u0439\", \"\\u0441\\u0432\\u043e\\u0439\", \"\\u0441\\u0432\\u043e\\u0439\", \"\\u0441\\u0432\\u043e\\u0439\", \"\\u0441\\u0432\\u043e\\u0439\", \"\\u0441\\u0434\\u0435\\u043b\\u043a\\u0430\", \"\\u0441\\u0435\\u0437\\u043e\\u043d\", \"\\u0441\\u0435\\u043a\\u0442\\u043e\\u0440\", \"\\u0441\\u0435\\u0440\\u0433\\u0435\\u0439\", \"\\u0441\\u0435\\u0440\\u0433\\u0435\\u0439\", \"\\u0441\\u0435\\u0440\\u0433\\u0435\\u0439\", \"\\u0441\\u0435\\u0440\\u0438\\u0430\\u043b\", \"\\u0441\\u0435\\u0440\\u0438\\u044f\", \"\\u0441\\u0435\\u0440\\u0438\\u044f\", \"\\u0441\\u0435\\u0440\\u0438\\u044f\", \"\\u0441\\u0435\\u0440\\u0438\\u044f\", \"\\u0441\\u0435\\u0442\\u044c\", \"\\u0441\\u0435\\u0442\\u044c\", \"\\u0441\\u0435\\u0442\\u044c\", \"\\u0441\\u0438\\u043b\\u0430\", \"\\u0441\\u0438\\u043b\\u0430\", \"\\u0441\\u0438\\u043b\\u0430\", \"\\u0441\\u0438\\u043b\\u0430\", \"\\u0441\\u0438\\u0440\\u0438\\u0439\\u0441\\u043a\\u0438\\u0439\", \"\\u0441\\u0438\\u0440\\u0438\\u044f\", \"\\u0441\\u0438\\u0441\\u0442\\u0435\\u043c\\u0430\", \"\\u0441\\u0438\\u0441\\u0442\\u0435\\u043c\\u0430\", \"\\u0441\\u0438\\u0441\\u0442\\u0435\\u043c\\u0430\", \"\\u0441\\u0438\\u0441\\u0442\\u0435\\u043c\\u0430\", \"\\u0441\\u0438\\u0441\\u0442\\u0435\\u043c\\u0430\", \"\\u0441\\u043a\\u0430\\u0437\\u0430\\u0442\\u044c\", \"\\u0441\\u043a\\u0430\\u0437\\u0430\\u0442\\u044c\", \"\\u0441\\u043a\\u0430\\u0437\\u0430\\u0442\\u044c\", \"\\u0441\\u043a\\u0430\\u0437\\u0430\\u0442\\u044c\", \"\\u0441\\u043a\\u043e\\u0440\\u043e\\u0441\\u0442\\u044c\", \"\\u0441\\u043a\\u043e\\u0440\\u043e\\u0441\\u0442\\u044c\", \"\\u0441\\u043b\\u0435\\u0434\\u0441\\u0442\\u0432\\u0435\\u043d\\u043d\\u044b\\u0439\", \"\\u0441\\u043b\\u043e\\u0432\\u043e\", \"\\u0441\\u043b\\u043e\\u0432\\u043e\", \"\\u0441\\u043b\\u043e\\u0432\\u043e\", \"\\u0441\\u043b\\u043e\\u0432\\u043e\", \"\\u0441\\u043b\\u043e\\u0432\\u043e\", \"\\u0441\\u043b\\u043e\\u0432\\u043e\", \"\\u0441\\u043b\\u043e\\u0432\\u043e\", \"\\u0441\\u043b\\u0443\\u0436\\u0431\\u0430\", \"\\u0441\\u043b\\u0443\\u0436\\u0431\\u0430\", \"\\u0441\\u043b\\u0443\\u0436\\u0431\\u0430\", \"\\u0441\\u043b\\u0443\\u0436\\u0431\\u0430\", \"\\u0441\\u043d\\u0438\\u0437\\u0438\\u0442\\u044c\\u0441\\u044f\", \"\\u0441\\u043e\\u0431\\u0440\\u0430\\u0442\\u044c\", \"\\u0441\\u043e\\u0432\\u0435\\u0440\\u0448\\u0438\\u0442\\u044c\", \"\\u0441\\u043e\\u0432\\u0435\\u0442\\u0441\\u043a\\u0438\\u0439\", \"\\u0441\\u043e\\u043b\\u0434\\u0430\\u0442\", \"\\u0441\\u043e\\u043e\\u0431\\u0449\\u0430\\u0442\\u044c\", \"\\u0441\\u043e\\u043e\\u0431\\u0449\\u0430\\u0442\\u044c\", \"\\u0441\\u043e\\u043e\\u0431\\u0449\\u0430\\u0442\\u044c\", \"\\u0441\\u043e\\u043e\\u0431\\u0449\\u0430\\u0442\\u044c\", \"\\u0441\\u043e\\u043e\\u0431\\u0449\\u0430\\u0442\\u044c\", \"\\u0441\\u043e\\u043e\\u0431\\u0449\\u0430\\u0442\\u044c\", \"\\u0441\\u043e\\u043e\\u0431\\u0449\\u0430\\u0442\\u044c\", \"\\u0441\\u043e\\u043e\\u0431\\u0449\\u0430\\u0442\\u044c\", \"\\u0441\\u043e\\u043e\\u0431\\u0449\\u0430\\u0442\\u044c\", \"\\u0441\\u043e\\u043e\\u0431\\u0449\\u0430\\u0442\\u044c\\u0441\\u044f\", \"\\u0441\\u043e\\u043e\\u0431\\u0449\\u0430\\u0442\\u044c\\u0441\\u044f\", \"\\u0441\\u043e\\u043e\\u0431\\u0449\\u0430\\u0442\\u044c\\u0441\\u044f\", \"\\u0441\\u043e\\u043e\\u0431\\u0449\\u0430\\u0442\\u044c\\u0441\\u044f\", \"\\u0441\\u043e\\u043e\\u0431\\u0449\\u0438\\u0442\\u044c\", \"\\u0441\\u043e\\u043e\\u0431\\u0449\\u0438\\u0442\\u044c\", \"\\u0441\\u043e\\u043e\\u0431\\u0449\\u0438\\u0442\\u044c\", \"\\u0441\\u043e\\u043e\\u0431\\u0449\\u0438\\u0442\\u044c\", \"\\u0441\\u043e\\u043e\\u0431\\u0449\\u0438\\u0442\\u044c\", \"\\u0441\\u043e\\u0441\\u0442\\u0430\\u0432\\u0438\\u0442\\u044c\", \"\\u0441\\u043e\\u0441\\u0442\\u0430\\u0432\\u0438\\u0442\\u044c\", \"\\u0441\\u043e\\u0441\\u0442\\u0430\\u0432\\u0438\\u0442\\u044c\", \"\\u0441\\u043e\\u0441\\u0442\\u0430\\u0432\\u043b\\u044f\\u0442\\u044c\", \"\\u0441\\u043e\\u0441\\u0442\\u0430\\u0432\\u043b\\u044f\\u0442\\u044c\", \"\\u0441\\u043e\\u0441\\u0442\\u0430\\u0432\\u043b\\u044f\\u0442\\u044c\", \"\\u0441\\u043e\\u0441\\u0442\\u043e\\u044f\\u0442\\u044c\\u0441\\u044f\", \"\\u0441\\u043e\\u0441\\u0442\\u043e\\u044f\\u0442\\u044c\\u0441\\u044f\", \"\\u0441\\u043e\\u0441\\u0442\\u043e\\u044f\\u0442\\u044c\\u0441\\u044f\", \"\\u0441\\u043e\\u0442\\u0440\\u0443\\u0434\\u043d\\u0438\\u043a\", \"\\u0441\\u043e\\u0442\\u0440\\u0443\\u0434\\u043d\\u0438\\u043a\", \"\\u0441\\u043e\\u0442\\u0440\\u0443\\u0434\\u043d\\u0438\\u043a\", \"\\u0441\\u043e\\u0442\\u0440\\u0443\\u0434\\u043d\\u0438\\u0447\\u0435\\u0441\\u0442\\u0432\\u043e\", \"\\u0441\\u043f\\u0430\\u0440\\u0442\\u0430\\u043a\", \"\\u0441\\u043f\\u043e\\u0440\\u0442\", \"\\u0441\\u043f\\u043e\\u0440\\u0442\\u0438\\u0432\\u043d\\u044b\\u0439\", \"\\u0441\\u043f\\u043e\\u0440\\u0442\\u0441\\u043c\\u0435\\u043d\", \"\\u0441\\u0440\\u0430\\u0432\\u043d\\u0435\\u043d\\u0438\\u0435\", \"\\u0441\\u0440\\u0435\\u0434\\u043d\\u0438\\u0439\", \"\\u0441\\u0440\\u0435\\u0434\\u0441\\u0442\\u0432\\u043e\", \"\\u0441\\u0440\\u0435\\u0434\\u0441\\u0442\\u0432\\u043e\", \"\\u0441\\u0440\\u0435\\u0434\\u0441\\u0442\\u0432\\u043e\", \"\\u0441\\u0440\\u0435\\u0434\\u0441\\u0442\\u0432\\u043e\", \"\\u0441\\u0440\\u043e\\u043a\", \"\\u0441\\u0440\\u043e\\u043a\", \"\\u0441\\u0442\\u0430\\u0432\\u043a\\u0430\", \"\\u0441\\u0442\\u0430\\u0434\\u0438\\u043e\\u043d\", \"\\u0441\\u0442\\u0430\\u0442\\u044c\", \"\\u0441\\u0442\\u0430\\u0442\\u044c\", \"\\u0441\\u0442\\u0430\\u0442\\u044c\", \"\\u0441\\u0442\\u0430\\u0442\\u044c\", \"\\u0441\\u0442\\u0430\\u0442\\u044c\", \"\\u0441\\u0442\\u0430\\u0442\\u044c\", \"\\u0441\\u0442\\u0430\\u0442\\u044c\", \"\\u0441\\u0442\\u0430\\u0442\\u044c\", \"\\u0441\\u0442\\u043e\\u0440\\u043e\\u043d\\u0430\", \"\\u0441\\u0442\\u043e\\u0440\\u043e\\u043d\\u0430\", \"\\u0441\\u0442\\u043e\\u0440\\u043e\\u043d\\u0430\", \"\\u0441\\u0442\\u043e\\u0440\\u043e\\u043d\\u0430\", \"\\u0441\\u0442\\u043e\\u0440\\u043e\\u043d\\u0430\", \"\\u0441\\u0442\\u043e\\u0440\\u043e\\u043d\\u043d\\u0438\\u043a\", \"\\u0441\\u0442\\u0440\\u0430\\u043d\\u0430\", \"\\u0441\\u0442\\u0440\\u0430\\u043d\\u0430\", \"\\u0441\\u0442\\u0440\\u0430\\u043d\\u0430\", \"\\u0441\\u0442\\u0440\\u043e\\u0438\\u0442\\u0435\\u043b\\u044c\\u0441\\u0442\\u0432\\u043e\", \"\\u0441\\u0442\\u0443\\u0434\\u0438\\u044f\", \"\\u0441\\u0443\\u0434\", \"\\u0441\\u0443\\u0434\\u0435\\u0431\\u043d\\u044b\\u0439\", \"\\u0441\\u0443\\u0434\\u043d\\u043e\", \"\\u0441\\u0443\\u0434\\u044c\\u044f\", \"\\u0441\\u0443\\u043c\\u043c\\u0430\", \"\\u0441\\u0443\\u043c\\u043c\\u0430\", \"\\u0441\\u0447\\u0451\\u0442\", \"\\u0441\\u0447\\u0451\\u0442\", \"\\u0441\\u0447\\u0451\\u0442\", \"\\u0441\\u0448\\u0430\", \"\\u0441\\u0448\\u0430\", \"\\u0441\\u0448\\u0430\", \"\\u0441\\u0448\\u0430\", \"\\u0441\\u044b\\u0433\\u0440\\u0430\\u0442\\u044c\", \"\\u0441\\u044b\\u0433\\u0440\\u0430\\u0442\\u044c\", \"\\u0442\\u0430\\u043a\\u0436\\u0435\", \"\\u0442\\u0430\\u043a\\u0436\\u0435\", \"\\u0442\\u0430\\u043a\\u0436\\u0435\", \"\\u0442\\u0430\\u043a\\u0436\\u0435\", \"\\u0442\\u0430\\u043a\\u0436\\u0435\", \"\\u0442\\u0430\\u043a\\u0436\\u0435\", \"\\u0442\\u0430\\u043a\\u0436\\u0435\", \"\\u0442\\u0430\\u043a\\u0436\\u0435\", \"\\u0442\\u0430\\u043a\\u0436\\u0435\", \"\\u0442\\u0435\\u0430\\u0442\\u0440\", \"\\u0442\\u0435\\u043b\\u0435\\u0444\\u043e\\u043d\", \"\\u0442\\u0435\\u043b\\u043e\", \"\\u0442\\u0435\\u0440\\u0440\\u0438\\u0442\\u043e\\u0440\\u0438\\u044f\", \"\\u0442\\u0435\\u0440\\u0440\\u0438\\u0442\\u043e\\u0440\\u0438\\u044f\", \"\\u0442\\u0435\\u0440\\u0440\\u0438\\u0442\\u043e\\u0440\\u0438\\u044f\", \"\\u0442\\u0435\\u0440\\u0440\\u0438\\u0442\\u043e\\u0440\\u0438\\u044f\", \"\\u0442\\u0435\\u0440\\u0440\\u043e\\u0440\\u0438\\u0441\\u0442\", \"\\u0442\\u0435\\u0440\\u0440\\u043e\\u0440\\u0438\\u0441\\u0442\", \"\\u0442\\u0435\\u0440\\u0440\\u043e\\u0440\\u0438\\u0441\\u0442\\u0438\\u0447\\u0435\\u0441\\u043a\\u0438\\u0439\", \"\\u0442\\u043e\\u0432\\u0430\\u0440\", \"\\u0442\\u043e\\u043d\\u043d\\u0430\", \"\\u0442\\u0440\\u0430\\u043c\\u043f\", \"\\u0442\\u0440\\u0435\\u043d\\u0435\\u0440\", \"\\u0442\\u0440\\u0438\\u043b\\u043b\\u0438\\u043e\\u043d\", \"\\u0442\\u0443\\u0440\", \"\\u0442\\u0443\\u0440\\u0435\\u0446\\u043a\\u0438\\u0439\", \"\\u0442\\u0443\\u0440\\u043d\\u0438\\u0440\", \"\\u0442\\u0443\\u0440\\u0446\\u0438\\u044f\", \"\\u0442\\u044b\\u0441\\u044f\\u0447\\u0430\", \"\\u0442\\u044b\\u0441\\u044f\\u0447\\u0430\", \"\\u0442\\u044b\\u0441\\u044f\\u0447\\u0430\", \"\\u0442\\u044b\\u0441\\u044f\\u0447\\u0430\", \"\\u0442\\u044b\\u0441\\u044f\\u0447\\u0430\", \"\\u0442\\u044b\\u0441\\u044f\\u0447\\u0430\", \"\\u0442\\u044b\\u0441\\u044f\\u0447\\u0430\", \"\\u0443\\u0431\\u0438\\u0439\\u0441\\u0442\\u0432\\u043e\", \"\\u0443\\u0431\\u0438\\u0442\\u044c\", \"\\u0443\\u0432\\u0435\\u043b\\u0438\\u0447\\u0435\\u043d\\u0438\\u0435\", \"\\u0443\\u0432\\u0435\\u043b\\u0438\\u0447\\u0438\\u0442\\u044c\\u0441\\u044f\", \"\\u0443\\u043a\\u0440\\u0430\\u0438\\u043d\\u0430\", \"\\u0443\\u043a\\u0440\\u0430\\u0438\\u043d\\u0430\", \"\\u0443\\u043d\\u0438\\u0432\\u0435\\u0440\\u0441\\u0438\\u0442\\u0435\\u0442\", \"\\u0443\\u0440\\u043e\\u0432\\u0435\\u043d\\u044c\", \"\\u0443\\u0440\\u043e\\u0432\\u0435\\u043d\\u044c\", \"\\u0443\\u0440\\u043e\\u0432\\u0435\\u043d\\u044c\", \"\\u0443\\u0440\\u043e\\u0432\\u0435\\u043d\\u044c\", \"\\u0443\\u0447\\u0430\\u0441\\u0442\\u0438\\u0435\", \"\\u0443\\u0447\\u0430\\u0441\\u0442\\u0438\\u0435\", \"\\u0443\\u0447\\u0430\\u0441\\u0442\\u0438\\u0435\", \"\\u0443\\u0447\\u0430\\u0441\\u0442\\u0438\\u0435\", \"\\u0443\\u0447\\u0430\\u0441\\u0442\\u0438\\u0435\", \"\\u0443\\u0447\\u0430\\u0441\\u0442\\u0438\\u0435\", \"\\u0443\\u0447\\u0430\\u0441\\u0442\\u0438\\u0435\", \"\\u0443\\u0447\\u0451\\u043d\\u044b\\u0439\", \"\\u0444\\u0435\\u0434\\u0435\\u0440\\u0430\\u043b\\u044c\\u043d\\u044b\\u0439\", \"\\u0444\\u0435\\u0434\\u0435\\u0440\\u0430\\u043b\\u044c\\u043d\\u044b\\u0439\", \"\\u0444\\u0438\\u043b\\u044c\\u043c\", \"\\u0444\\u0438\\u043d\\u0430\\u043b\", \"\\u0444\\u0438\\u043d\\u0430\\u043d\\u0441\\u043e\\u0432\\u044b\\u0439\", \"\\u0444\\u043e\\u0440\\u0432\\u0430\\u0440\\u0434\", \"\\u0444\\u043e\\u0440\\u0443\\u043c\", \"\\u0444\\u0443\\u043d\\u0442\", \"\\u0444\\u0443\\u0442\\u0431\\u043e\\u043b\", \"\\u0444\\u0443\\u0442\\u0431\\u043e\\u043b\\u0438\\u0441\\u0442\", \"\\u0444\\u0443\\u0442\\u0431\\u043e\\u043b\\u044c\\u043d\\u044b\\u0439\", \"\\u0445\\u043e\\u0440\\u043e\\u0448\\u0438\\u0439\", \"\\u0445\\u043e\\u0440\\u043e\\u0448\\u0438\\u0439\", \"\\u0445\\u043e\\u0440\\u043e\\u0448\\u0438\\u0439\", \"\\u0445\\u043e\\u0440\\u043e\\u0448\\u0438\\u0439\", \"\\u0446\\u0435\\u043d\\u0430\", \"\\u0446\\u0435\\u043d\\u0430\", \"\\u0446\\u0435\\u043d\\u0442\\u0440\", \"\\u0446\\u0435\\u043d\\u0442\\u0440\", \"\\u0446\\u0435\\u043d\\u0442\\u0440\", \"\\u0446\\u0435\\u0440\\u043a\\u043e\\u0432\\u044c\", \"\\u0446\\u0441\\u043a\\u0430\", \"\\u0447\\u0435\\u043b\\u043e\\u0432\\u0435\\u043a\", \"\\u0447\\u0435\\u043b\\u043e\\u0432\\u0435\\u043a\", \"\\u0447\\u0435\\u043b\\u043e\\u0432\\u0435\\u043a\", \"\\u0447\\u0435\\u043b\\u043e\\u0432\\u0435\\u043a\", \"\\u0447\\u0435\\u043b\\u043e\\u0432\\u0435\\u043a\", \"\\u0447\\u0435\\u043b\\u043e\\u0432\\u0435\\u043a\", \"\\u0447\\u0435\\u043c\\u043f\\u0438\\u043e\\u043d\", \"\\u0447\\u0435\\u043c\\u043f\\u0438\\u043e\\u043d\\u0430\\u0442\", \"\\u0447\\u0435\\u0447\\u043d\\u044f\", \"\\u0447\\u0435\\u0447\\u043d\\u044f\", \"\\u0447\\u0438\\u043d\\u043e\\u0432\\u043d\\u0438\\u043a\", \"\\u0447\\u0438\\u043d\\u043e\\u0432\\u043d\\u0438\\u043a\", \"\\u0448\\u0432\\u0435\\u0446\\u0438\\u044f\", \"\\u0448\\u0442\\u0430\\u0431\", \"\\u0448\\u0442\\u0430\\u0442\", \"\\u044d\\u043a\\u0438\\u043f\\u0430\\u0436\", \"\\u044d\\u043a\\u043e\\u043d\\u043e\\u043c\\u0438\\u043a\\u0430\", \"\\u044d\\u043a\\u0440\\u0430\\u043d\", \"\\u044d\\u0442\\u043e\", \"\\u044d\\u0442\\u043e\", \"\\u044d\\u0442\\u043e\", \"\\u044d\\u0442\\u043e\", \"\\u044d\\u0442\\u043e\", \"\\u044d\\u0442\\u043e\", \"\\u044d\\u0442\\u043e\", \"\\u044d\\u0442\\u043e\", \"\\u044d\\u0442\\u043e\", \"\\u044e\\u043a\\u043e\\u0441\", \"\\u044f\\u0432\\u043b\\u044f\\u0442\\u044c\\u0441\\u044f\", \"\\u044f\\u0432\\u043b\\u044f\\u0442\\u044c\\u0441\\u044f\", \"\\u044f\\u0432\\u043b\\u044f\\u0442\\u044c\\u0441\\u044f\", \"\\u044f\\u0432\\u043b\\u044f\\u0442\\u044c\\u0441\\u044f\", \"\\u044f\\u0432\\u043b\\u044f\\u0442\\u044c\\u0441\\u044f\", \"\\u044f\\u0432\\u043b\\u044f\\u0442\\u044c\\u0441\\u044f\", \"\\u044f\\u0434\\u0435\\u0440\\u043d\\u044b\\u0439\"]}, \"R\": 30, \"lambda.step\": 0.01, \"plot.opts\": {\"xlab\": \"PC1\", \"ylab\": \"PC2\"}, \"topic.order\": [7, 8, 2, 4, 5, 9, 1, 3, 6]};\n",
       "\n",
       "function LDAvis_load_lib(url, callback){\n",
       "  var s = document.createElement('script');\n",
       "  s.src = url;\n",
       "  s.async = true;\n",
       "  s.onreadystatechange = s.onload = callback;\n",
       "  s.onerror = function(){console.warn(\"failed to load library \" + url);};\n",
       "  document.getElementsByTagName(\"head\")[0].appendChild(s);\n",
       "}\n",
       "\n",
       "if(typeof(LDAvis) !== \"undefined\"){\n",
       "   // already loaded: just create the visualization\n",
       "   !function(LDAvis){\n",
       "       new LDAvis(\"#\" + \"ldavis_el790824804384762323141415973\", ldavis_el790824804384762323141415973_data);\n",
       "   }(LDAvis);\n",
       "}else if(typeof define === \"function\" && define.amd){\n",
       "   // require.js is available: use it to load d3/LDAvis\n",
       "   require.config({paths: {d3: \"https://d3js.org/d3.v5\"}});\n",
       "   require([\"d3\"], function(d3){\n",
       "      window.d3 = d3;\n",
       "      LDAvis_load_lib(\"https://cdn.jsdelivr.net/gh/bmabey/pyLDAvis@3.3.1/pyLDAvis/js/ldavis.v3.0.0.js\", function(){\n",
       "        new LDAvis(\"#\" + \"ldavis_el790824804384762323141415973\", ldavis_el790824804384762323141415973_data);\n",
       "      });\n",
       "    });\n",
       "}else{\n",
       "    // require.js not available: dynamically load d3 & LDAvis\n",
       "    LDAvis_load_lib(\"https://d3js.org/d3.v5.js\", function(){\n",
       "         LDAvis_load_lib(\"https://cdn.jsdelivr.net/gh/bmabey/pyLDAvis@3.3.1/pyLDAvis/js/ldavis.v3.0.0.js\", function(){\n",
       "                 new LDAvis(\"#\" + \"ldavis_el790824804384762323141415973\", ldavis_el790824804384762323141415973_data);\n",
       "            })\n",
       "         });\n",
       "}\n",
       "</script>"
      ],
      "text/plain": [
       "<IPython.core.display.HTML object>"
      ]
     },
     "execution_count": 523,
     "metadata": {},
     "output_type": "execute_result"
    }
   ],
   "source": [
    "import pyLDAvis\n",
    "import pyLDAvis.gensim_models as gensimvis\n",
    "\n",
    "%time topicData = gensimvis.prepare(lda, corpus_twit, dictionary, mds='mmds')\n",
    "pyLDAvis.display(topicData)"
   ]
  },
  {
   "cell_type": "markdown",
   "id": "0ee1cd90",
   "metadata": {},
   "source": [
    "# Роспотребнадзор"
   ]
  },
  {
   "cell_type": "code",
   "execution_count": 524,
   "id": "cccb6ced",
   "metadata": {},
   "outputs": [],
   "source": [
    "df = pd.read_pickle(\"df_rospotreb_question.pkl\")"
   ]
  },
  {
   "cell_type": "code",
   "execution_count": 525,
   "id": "9e492bc4",
   "metadata": {},
   "outputs": [
    {
     "data": {
      "text/html": [
       "<div>\n",
       "<style scoped>\n",
       "    .dataframe tbody tr th:only-of-type {\n",
       "        vertical-align: middle;\n",
       "    }\n",
       "\n",
       "    .dataframe tbody tr th {\n",
       "        vertical-align: top;\n",
       "    }\n",
       "\n",
       "    .dataframe thead th {\n",
       "        text-align: right;\n",
       "    }\n",
       "</style>\n",
       "<table border=\"1\" class=\"dataframe\">\n",
       "  <thead>\n",
       "    <tr style=\"text-align: right;\">\n",
       "      <th></th>\n",
       "      <th>question</th>\n",
       "    </tr>\n",
       "  </thead>\n",
       "  <tbody>\n",
       "    <tr>\n",
       "      <th>0</th>\n",
       "      <td>Купил монитор в одном из магазинов днс. Монито...</td>\n",
       "    </tr>\n",
       "    <tr>\n",
       "      <th>1</th>\n",
       "      <td>Здравствуйте. Купил телефон на алиэкспресс. На...</td>\n",
       "    </tr>\n",
       "    <tr>\n",
       "      <th>2</th>\n",
       "      <td>Добрый день.  Планирую открыть магазин или лав...</td>\n",
       "    </tr>\n",
       "    <tr>\n",
       "      <th>3</th>\n",
       "      <td>Добрый день! Меня зовут Евгения. 25.12.2021г. ...</td>\n",
       "    </tr>\n",
       "    <tr>\n",
       "      <th>4</th>\n",
       "      <td>Добрый день! В ходе поиска проведения отпуска ...</td>\n",
       "    </tr>\n",
       "  </tbody>\n",
       "</table>\n",
       "</div>"
      ],
      "text/plain": [
       "                                            question\n",
       "0  Купил монитор в одном из магазинов днс. Монито...\n",
       "1  Здравствуйте. Купил телефон на алиэкспресс. На...\n",
       "2  Добрый день.  Планирую открыть магазин или лав...\n",
       "3  Добрый день! Меня зовут Евгения. 25.12.2021г. ...\n",
       "4  Добрый день! В ходе поиска проведения отпуска ..."
      ]
     },
     "execution_count": 525,
     "metadata": {},
     "output_type": "execute_result"
    }
   ],
   "source": [
    "df[:5]"
   ]
  },
  {
   "cell_type": "code",
   "execution_count": 526,
   "id": "24d29dfe",
   "metadata": {},
   "outputs": [],
   "source": [
    "stopwords_list = stopwords.words('russian')"
   ]
  },
  {
   "cell_type": "code",
   "execution_count": 527,
   "id": "395c530d",
   "metadata": {},
   "outputs": [],
   "source": [
    "pattern = r'[^а-яА-Я0-9]'\n",
    "df['question'] = df['question'].apply(lambda x: re.sub(pattern, ' ', x))"
   ]
  },
  {
   "cell_type": "code",
   "execution_count": 528,
   "id": "71d1545b",
   "metadata": {},
   "outputs": [
    {
     "data": {
      "application/vnd.jupyter.widget-view+json": {
       "model_id": "a68766f20a2f4a889d7ca013060f7a8c",
       "version_major": 2,
       "version_minor": 0
      },
      "text/plain": [
       "  0%|          | 0/245 [00:00<?, ?it/s]"
      ]
     },
     "metadata": {},
     "output_type": "display_data"
    }
   ],
   "source": [
    "df['token_question'] = list(tqdm(map(preprocess, df['question']), total=len(df)))"
   ]
  },
  {
   "cell_type": "code",
   "execution_count": 529,
   "id": "19e8bdf2",
   "metadata": {},
   "outputs": [],
   "source": [
    "top = []\n",
    "top = [{i:v} for i, v in df.token_question.apply(lambda x: topic_team(x))]"
   ]
  },
  {
   "cell_type": "code",
   "execution_count": 530,
   "id": "f1e06822",
   "metadata": {},
   "outputs": [],
   "source": [
    "df['topik'] = [i.keys() for i in top]"
   ]
  },
  {
   "cell_type": "code",
   "execution_count": 531,
   "id": "2df5d4d8",
   "metadata": {},
   "outputs": [],
   "source": [
    "df['topik_prob'] = [i.values() for i in top]"
   ]
  },
  {
   "cell_type": "code",
   "execution_count": 543,
   "id": "32c64c39",
   "metadata": {},
   "outputs": [
    {
     "data": {
      "text/html": [
       "<div>\n",
       "<style scoped>\n",
       "    .dataframe tbody tr th:only-of-type {\n",
       "        vertical-align: middle;\n",
       "    }\n",
       "\n",
       "    .dataframe tbody tr th {\n",
       "        vertical-align: top;\n",
       "    }\n",
       "\n",
       "    .dataframe thead th {\n",
       "        text-align: right;\n",
       "    }\n",
       "</style>\n",
       "<table border=\"1\" class=\"dataframe\">\n",
       "  <thead>\n",
       "    <tr style=\"text-align: right;\">\n",
       "      <th></th>\n",
       "      <th>question</th>\n",
       "      <th>token_question</th>\n",
       "      <th>topik</th>\n",
       "      <th>topik_prob</th>\n",
       "    </tr>\n",
       "  </thead>\n",
       "  <tbody>\n",
       "    <tr>\n",
       "      <th>223</th>\n",
       "      <td>Региональный оператор  в лице ООО  Чистая стан...</td>\n",
       "      <td>[региональный, оператор, лицо, ооо, чистый, ст...</td>\n",
       "      <td>(Россия)</td>\n",
       "      <td>(0.3680122)</td>\n",
       "    </tr>\n",
       "    <tr>\n",
       "      <th>228</th>\n",
       "      <td>Добрый день  Можно ли через границу Абхазия   ...</td>\n",
       "      <td>[добрый, день, граница, абхазия, россия, перев...</td>\n",
       "      <td>(Путешествия)</td>\n",
       "      <td>(0.3308541)</td>\n",
       "    </tr>\n",
       "    <tr>\n",
       "      <th>143</th>\n",
       "      <td>Добрый день  подскажите  пожалуйста  существуе...</td>\n",
       "      <td>[добрый, день, подсказать, пожалуйста, существ...</td>\n",
       "      <td>(Россия)</td>\n",
       "      <td>(0.33951744)</td>\n",
       "    </tr>\n",
       "    <tr>\n",
       "      <th>147</th>\n",
       "      <td>Добрый день  Оформил заказ по акции в магазине...</td>\n",
       "      <td>[добрый, день, оформить, заказ, акция, магазин...</td>\n",
       "      <td>(Россия)</td>\n",
       "      <td>(0.26615244)</td>\n",
       "    </tr>\n",
       "    <tr>\n",
       "      <th>85</th>\n",
       "      <td>Добрый день  Подскажите пожалуйста  купил смес...</td>\n",
       "      <td>[добрый, день, подсказать, пожалуйста, купить,...</td>\n",
       "      <td>(Россия)</td>\n",
       "      <td>(0.36805204)</td>\n",
       "    </tr>\n",
       "    <tr>\n",
       "      <th>210</th>\n",
       "      <td>Здравствуйте  такая ситуация даже не знаю как ...</td>\n",
       "      <td>[здравствуйте, ситуация, знать, написать, авто...</td>\n",
       "      <td>(Россия)</td>\n",
       "      <td>(0.7808274)</td>\n",
       "    </tr>\n",
       "    <tr>\n",
       "      <th>111</th>\n",
       "      <td>Добрый день  В посудацентре купила саше  от ко...</td>\n",
       "      <td>[добрый, день, посудацентр, купить, саша, кото...</td>\n",
       "      <td>(Культура)</td>\n",
       "      <td>(0.26194143)</td>\n",
       "    </tr>\n",
       "    <tr>\n",
       "      <th>0</th>\n",
       "      <td>Купил монитор в одном из магазинов днс  Монито...</td>\n",
       "      <td>[купить, монитор, магазин, днс, монитор, витри...</td>\n",
       "      <td>(Россия)</td>\n",
       "      <td>(0.27358606)</td>\n",
       "    </tr>\n",
       "    <tr>\n",
       "      <th>18</th>\n",
       "      <td>Я приобрела чехол для углового дивана в интерн...</td>\n",
       "      <td>[приобрести, чехол, угловой, диван, интернет, ...</td>\n",
       "      <td>(Россия)</td>\n",
       "      <td>(0.57852894)</td>\n",
       "    </tr>\n",
       "    <tr>\n",
       "      <th>139</th>\n",
       "      <td>Не прошло и месяца из которого я использовал з...</td>\n",
       "      <td>[пройти, месяц, который, использовать, зарядны...</td>\n",
       "      <td>(Силовые структуры)</td>\n",
       "      <td>(0.4478771)</td>\n",
       "    </tr>\n",
       "    <tr>\n",
       "      <th>124</th>\n",
       "      <td>не вывозятся длительный период ТБО  так в пери...</td>\n",
       "      <td>[вывозиться, длительный, период, тбо, период, ...</td>\n",
       "      <td>(Россия)</td>\n",
       "      <td>(0.26187468)</td>\n",
       "    </tr>\n",
       "    <tr>\n",
       "      <th>154</th>\n",
       "      <td>Ч отправила заявку диспетчеру в ДЕЗ Калининско...</td>\n",
       "      <td>[отправить, заявка, диспетчер, деза, калининск...</td>\n",
       "      <td>(Спорт)</td>\n",
       "      <td>(0.38762507)</td>\n",
       "    </tr>\n",
       "    <tr>\n",
       "      <th>230</th>\n",
       "      <td>Мы  жильцы дома по улице Н  Быстрых  3  г  Пер...</td>\n",
       "      <td>[жилец, дом, улица, быстрый, пермь, довольный,...</td>\n",
       "      <td>(Спорт)</td>\n",
       "      <td>(0.2297975)</td>\n",
       "    </tr>\n",
       "    <tr>\n",
       "      <th>212</th>\n",
       "      <td>Здравствуйте  Сегодня зашла в магазин  Ветапте...</td>\n",
       "      <td>[здравствуйте, сегодня, зайти, магазин, ветапт...</td>\n",
       "      <td>(Дом)</td>\n",
       "      <td>(0.22510926)</td>\n",
       "    </tr>\n",
       "    <tr>\n",
       "      <th>208</th>\n",
       "      <td>В квартире  в ванной комнате и туалете нет цир...</td>\n",
       "      <td>[квартира, ванная, комната, туалет, циркуляция...</td>\n",
       "      <td>(Россия)</td>\n",
       "      <td>(0.27241874)</td>\n",
       "    </tr>\n",
       "  </tbody>\n",
       "</table>\n",
       "</div>"
      ],
      "text/plain": [
       "                                              question  \\\n",
       "223  Региональный оператор  в лице ООО  Чистая стан...   \n",
       "228  Добрый день  Можно ли через границу Абхазия   ...   \n",
       "143  Добрый день  подскажите  пожалуйста  существуе...   \n",
       "147  Добрый день  Оформил заказ по акции в магазине...   \n",
       "85   Добрый день  Подскажите пожалуйста  купил смес...   \n",
       "210  Здравствуйте  такая ситуация даже не знаю как ...   \n",
       "111  Добрый день  В посудацентре купила саше  от ко...   \n",
       "0    Купил монитор в одном из магазинов днс  Монито...   \n",
       "18   Я приобрела чехол для углового дивана в интерн...   \n",
       "139  Не прошло и месяца из которого я использовал з...   \n",
       "124  не вывозятся длительный период ТБО  так в пери...   \n",
       "154  Ч отправила заявку диспетчеру в ДЕЗ Калининско...   \n",
       "230  Мы  жильцы дома по улице Н  Быстрых  3  г  Пер...   \n",
       "212  Здравствуйте  Сегодня зашла в магазин  Ветапте...   \n",
       "208  В квартире  в ванной комнате и туалете нет цир...   \n",
       "\n",
       "                                        token_question                topik  \\\n",
       "223  [региональный, оператор, лицо, ооо, чистый, ст...             (Россия)   \n",
       "228  [добрый, день, граница, абхазия, россия, перев...        (Путешествия)   \n",
       "143  [добрый, день, подсказать, пожалуйста, существ...             (Россия)   \n",
       "147  [добрый, день, оформить, заказ, акция, магазин...             (Россия)   \n",
       "85   [добрый, день, подсказать, пожалуйста, купить,...             (Россия)   \n",
       "210  [здравствуйте, ситуация, знать, написать, авто...             (Россия)   \n",
       "111  [добрый, день, посудацентр, купить, саша, кото...           (Культура)   \n",
       "0    [купить, монитор, магазин, днс, монитор, витри...             (Россия)   \n",
       "18   [приобрести, чехол, угловой, диван, интернет, ...             (Россия)   \n",
       "139  [пройти, месяц, который, использовать, зарядны...  (Силовые структуры)   \n",
       "124  [вывозиться, длительный, период, тбо, период, ...             (Россия)   \n",
       "154  [отправить, заявка, диспетчер, деза, калининск...              (Спорт)   \n",
       "230  [жилец, дом, улица, быстрый, пермь, довольный,...              (Спорт)   \n",
       "212  [здравствуйте, сегодня, зайти, магазин, ветапт...                (Дом)   \n",
       "208  [квартира, ванная, комната, туалет, циркуляция...             (Россия)   \n",
       "\n",
       "       topik_prob  \n",
       "223   (0.3680122)  \n",
       "228   (0.3308541)  \n",
       "143  (0.33951744)  \n",
       "147  (0.26615244)  \n",
       "85   (0.36805204)  \n",
       "210   (0.7808274)  \n",
       "111  (0.26194143)  \n",
       "0    (0.27358606)  \n",
       "18   (0.57852894)  \n",
       "139   (0.4478771)  \n",
       "124  (0.26187468)  \n",
       "154  (0.38762507)  \n",
       "230   (0.2297975)  \n",
       "212  (0.22510926)  \n",
       "208  (0.27241874)  "
      ]
     },
     "execution_count": 543,
     "metadata": {},
     "output_type": "execute_result"
    }
   ],
   "source": [
    "df.sample(15)"
   ]
  },
  {
   "cell_type": "code",
   "execution_count": 544,
   "id": "42e7a844",
   "metadata": {},
   "outputs": [
    {
     "name": "stdout",
     "output_type": "stream",
     "text": [
      "Здравствуйте  Сегодня зашла в магазин  Ветаптека и зоолавка  по адресу Московская область  городской округ Истра  деревня Давыдовское  50   Посмотрела на полку с наполнителями для лотка кошкам и увидела следующую картину  на вс м стеллаже  где стоял наполнитель  был один единственный ценник  хотя ассортимент товаров был намного богаче  На мой вопрос  где ценники   продавец сказала   Ценники постоянно переоформляются  а мы пробиваем по той цене  которую выдает при сканировании штрих кода   Т е  потребитель не имеет возможность узнать цену товара до того  как обратится за покупкой  узнает цену только на кассе  Не уверена  что отсутствие ценника к товару соответствует законодательству  \n",
      "dict_keys(['Дом'])\n"
     ]
    }
   ],
   "source": [
    "print(df.question.iloc[212])\n",
    "print(df.topik.iloc[212])"
   ]
  },
  {
   "cell_type": "code",
   "execution_count": 534,
   "id": "88e4bb7a",
   "metadata": {},
   "outputs": [],
   "source": [
    "corpus_question = [dictionary.doc2bow(text) for text in df['token_question']]"
   ]
  },
  {
   "cell_type": "code",
   "execution_count": 535,
   "id": "92b9d398",
   "metadata": {},
   "outputs": [
    {
     "name": "stderr",
     "output_type": "stream",
     "text": [
      "c:\\program files\\python37\\lib\\site-packages\\pyLDAvis\\_prepare.py:247: FutureWarning: In a future version of pandas all arguments of DataFrame.drop except for the argument 'labels' will be keyword-only\n",
      "  by='saliency', ascending=False).head(R).drop('saliency', 1)\n"
     ]
    },
    {
     "name": "stdout",
     "output_type": "stream",
     "text": [
      "Wall time: 1.6 s\n"
     ]
    },
    {
     "data": {
      "text/html": [
       "\n",
       "<link rel=\"stylesheet\" type=\"text/css\" href=\"https://cdn.jsdelivr.net/gh/bmabey/pyLDAvis@3.3.1/pyLDAvis/js/ldavis.v1.0.0.css\">\n",
       "\n",
       "\n",
       "<div id=\"ldavis_el790824804384763604231493343\"></div>\n",
       "<script type=\"text/javascript\">\n",
       "\n",
       "var ldavis_el790824804384763604231493343_data = {\"mdsDat\": {\"x\": [0.031767015795035436, 0.09477389346423885, -0.3707685028595564, -0.05604354925453611, 0.3477408759657031, 0.32682951998086435, 0.14856954871551514, -0.22063029785416513, -0.3022385039530993], \"y\": [-0.07317483131233062, -0.37241262266834396, -0.02492712358882354, 0.11684285300813986, -0.13370869785041212, 0.14233857762950683, 0.3778154940765935, -0.3339412778066558, 0.3011676285123258], \"topics\": [1, 2, 3, 4, 5, 6, 7, 8, 9], \"cluster\": [1, 1, 1, 1, 1, 1, 1, 1, 1], \"Freq\": [33.998122876131234, 12.588211394876476, 10.68684445160494, 10.35263005390211, 10.235013165349063, 9.53387331964529, 5.984377423817243, 4.8045513636092245, 1.8163759510644206]}, \"tinfo\": {\"Term\": [\"\\u043f\\u0440\\u043e\\u0446\\u0435\\u043d\\u0442\", \"\\u043a\\u043e\\u043c\\u043f\\u0430\\u043d\\u0438\\u044f\", \"\\u0433\\u043e\\u0434\", \"\\u0440\\u0443\\u0431\\u043b\\u044c\", \"\\u0434\\u043e\\u043b\\u043b\\u0430\\u0440\", \"\\u0440\\u043e\\u0441\\u0441\\u0438\\u044f\", \"\\u043c\\u0438\\u043b\\u043b\\u0438\\u043e\\u043d\", \"\\u0442\\u044b\\u0441\\u044f\\u0447\\u0430\", \"\\u0441\\u0442\\u0440\\u0430\\u043d\\u0430\", \"\\u043f\\u0440\\u0435\\u0437\\u0438\\u0434\\u0435\\u043d\\u0442\", \"\\u0441\\u0443\\u0434\", \"\\u0447\\u0435\\u043b\\u043e\\u0432\\u0435\\u043a\", \"\\u0437\\u0430\\u044f\\u0432\\u0438\\u0442\\u044c\", \"\\u043f\\u0440\\u043e\\u0435\\u043a\\u0442\", \"\\u043a\\u043e\\u0442\\u043e\\u0440\\u044b\\u0439\", \"\\u043c\\u0438\\u043b\\u043b\\u0438\\u0430\\u0440\\u0434\", \"\\u0441\\u0432\\u043e\\u0439\", \"\\u0444\\u0438\\u043b\\u044c\\u043c\", \"\\u043c\\u043e\\u0441\\u043a\\u0432\\u0430\", \"\\u0440\\u043e\\u0441\\u0441\\u0438\\u0439\\u0441\\u043a\\u0438\\u0439\", \"the\", \"\\u044d\\u0442\\u043e\", \"\\u043c\\u0435\\u0442\\u0440\", \"\\u0434\\u043e\\u043c\", \"\\u0434\\u0435\\u043b\\u043e\", \"\\u0441\\u0448\\u0430\", \"\\u043f\\u0435\\u0440\\u0432\\u044b\\u0439\", \"\\u0433\\u043e\\u0440\\u043e\\u0434\", \"\\u043d\\u043e\\u0432\\u044b\\u0439\", \"\\u043f\\u043e\\u0433\\u0438\\u0431\\u043d\\u0443\\u0442\\u044c\", \"\\u0441\\u0443\\u0434\", \"\\u043f\\u043e\\u0434\\u0434\\u0435\\u0440\\u0436\\u043a\\u0430\", \"\\u043f\\u043e\\u0434\\u0430\\u0442\\u044c\", \"\\u0430\\u0434\\u0432\\u043e\\u043a\\u0430\\u0442\", \"\\u0441\\u0443\\u0434\\u0435\\u0431\\u043d\\u044b\\u0439\", \"\\u0437\\u0430\\u043a\\u043e\\u043d\\u043e\\u043f\\u0440\\u043e\\u0435\\u043a\\u0442\", \"\\u043d\\u0435\\u0437\\u0430\\u043a\\u043e\\u043d\\u043d\\u044b\\u0439\", \"\\u043d\\u0430\\u043b\\u043e\\u0433\", \"\\u0437\\u0430\\u043a\\u043e\\u043d\\u043e\\u0434\\u0430\\u0442\\u0435\\u043b\\u044c\\u0441\\u0442\\u0432\\u043e\", \"\\u043f\\u043e\\u0434\\u0434\\u0435\\u0440\\u0436\\u0438\\u0432\\u0430\\u0442\\u044c\", \"\\u043f\\u043e\\u043f\\u0440\\u0430\\u0432\\u043a\\u0430\", \"\\u043e\\u0431\\u0440\\u0430\\u0449\\u0435\\u043d\\u0438\\u0435\", \"\\u044e\\u043a\\u043e\\u0441\", \"\\u0436\\u0430\\u043b\\u043e\\u0431\\u0430\", \"\\u043f\\u0438\\u0441\\u044c\\u043c\\u043e\", \"\\u043e\\u0431\\u0432\\u0438\\u043d\\u044f\\u0442\\u044c\", \"\\u0437\\u0430\\u043a\\u043b\\u044e\\u0447\\u0435\\u043d\\u0438\\u0435\", \"\\u043a\\u043e\\u0440\\u0440\\u0443\\u043f\\u0446\\u0438\\u044f\", \"\\u043d\\u0438\\u043a\\u0442\\u043e\", \"\\u043e\\u0441\\u0443\\u0434\\u0438\\u0442\\u044c\", \"\\u043f\\u043e\\u0445\\u0438\\u0442\\u0438\\u0442\\u044c\", \"\\u0432\\u0435\\u0440\\u0445\\u043e\\u0432\\u043d\\u044b\\u0439\", \"\\u0441\\u0443\\u0434\\u044c\\u044f\", \"\\u0441\\u043e\\u0432\\u0435\\u0442\\u0441\\u043a\\u0438\\u0439\", \"\\u0432\\u0438\\u043d\\u043e\\u0432\\u043d\\u044b\\u0439\", \"\\u043f\\u043e\\u043b\\u044c\\u0437\\u043e\\u0432\\u0430\\u0442\\u0435\\u043b\\u044c\", \"\\u0434\\u043e\\u043b\\u0433\", \"\\u0430\\u043b\\u044c\\u0431\\u043e\\u043c\", \"\\u043f\\u0440\\u0438\\u0433\\u043e\\u0432\\u043e\\u0440\\u0438\\u0442\\u044c\", \"\\u043f\\u0440\\u0438\\u0433\\u043e\\u0432\\u043e\\u0440\", \"\\u0437\\u0430\\u043a\\u043e\\u043d\", \"\\u043e\\u0431\\u0432\\u0438\\u043d\\u0435\\u043d\\u0438\\u0435\", \"\\u043f\\u0440\\u0438\\u0437\\u043d\\u0430\\u0442\\u044c\", \"\\u0434\\u043e\\u043b\\u0436\\u043d\\u043e\\u0441\\u0442\\u044c\", \"\\u043f\\u0440\\u043e\\u0446\\u0435\\u0441\\u0441\", \"\\u0440\\u0443\\u043a\\u043e\\u0432\\u043e\\u0434\\u0438\\u0442\\u0435\\u043b\\u044c\", \"\\u043f\\u0440\\u0430\\u0432\\u043e\", \"\\u0431\\u044b\\u0432\\u0448\\u0438\\u0439\", \"\\u0440\\u0435\\u0431\\u0451\\u043d\\u043e\\u043a\", \"\\u0440\\u0435\\u0448\\u0435\\u043d\\u0438\\u0435\", \"\\u0441\\u0440\\u043e\\u043a\", \"\\u043a\\u043e\\u043c\\u0438\\u0442\\u0435\\u0442\", \"\\u0441\\u0435\\u0440\\u0433\\u0435\\u0439\", \"\\u0430\\u043b\\u0435\\u043a\\u0441\\u0430\\u043d\\u0434\\u0440\", \"\\u0434\\u043e\\u043a\\u0443\\u043c\\u0435\\u043d\\u0442\", \"\\u0434\\u0435\\u043b\\u043e\", \"\\u0431\\u0435\\u043b\\u044b\\u0439\", \"\\u0434\\u0435\\u0439\\u0441\\u0442\\u0432\\u0438\\u0435\", \"\\u043d\\u0430\\u0440\\u0443\\u0448\\u0435\\u043d\\u0438\\u0435\", \"\\u043b\\u0438\\u0446\\u043e\", \"\\u0436\\u0443\\u0440\\u043d\\u0430\\u043b\\u0438\\u0441\\u0442\", \"\\u043e\\u0442\\u043d\\u043e\\u0448\\u0435\\u043d\\u0438\\u0435\", \"\\u0441\\u043b\\u043e\\u0432\\u043e\", \"\\u0434\\u0435\\u044f\\u0442\\u0435\\u043b\\u044c\\u043d\\u043e\\u0441\\u0442\\u044c\", \"\\u044d\\u0442\\u043e\", \"\\u0447\\u0438\\u043d\\u043e\\u0432\\u043d\\u0438\\u043a\", \"\\u0433\\u043e\\u0434\", \"\\u0432\\u043b\\u0430\\u0434\\u0438\\u043c\\u0438\\u0440\", \"\\u0437\\u0430\\u044f\\u0432\\u0438\\u0442\\u044c\", \"\\u0441\\u0432\\u043e\\u0439\", \"\\u043a\\u043e\\u0442\\u043e\\u0440\\u044b\\u0439\", \"\\u0433\\u043b\\u0430\\u0432\\u0430\", \"\\u043c\\u043e\\u0447\\u044c\", \"\\u0438\\u043d\\u0444\\u043e\\u0440\\u043c\\u0430\\u0446\\u0438\\u044f\", \"\\u0441\\u043a\\u0430\\u0437\\u0430\\u0442\\u044c\", \"\\u0442\\u0430\\u043a\\u0436\\u0435\", \"\\u043e\\u0434\\u043d\\u0430\\u043a\\u043e\", \"\\u0440\\u043e\\u0441\\u0441\\u0438\\u044f\", \"\\u0441\\u043e\\u043e\\u0431\\u0449\\u0430\\u0442\\u044c\\u0441\\u044f\", \"\\u0433\\u0430\\u0437\\u0435\\u0442\\u0430\", \"\\u0441\\u043e\\u043e\\u0431\\u0449\\u0438\\u0442\\u044c\", \"\\u043f\\u043e\\u0433\\u0438\\u0431\\u043d\\u0443\\u0442\\u044c\", \"\\u043f\\u043e\\u043b\\u0438\\u0446\\u0438\\u044f\", \"\\u0437\\u0430\\u0434\\u0435\\u0440\\u0436\\u0430\\u0442\\u044c\", \"\\u043e\\u0431\\u043d\\u0430\\u0440\\u0443\\u0436\\u0438\\u0442\\u044c\", \"\\u0432\\u0437\\u0440\\u044b\\u0432\", \"\\u0430\\u0432\\u0442\\u043e\\u043c\\u043e\\u0431\\u0438\\u043b\\u044c\", \"\\u0430\\u044d\\u0440\\u043e\\u043f\\u043e\\u0440\\u0442\", \"\\u043c\\u0432\\u0434\", \"\\u043c\\u0443\\u0436\\u0447\\u0438\\u043d\\u0430\", \"\\u043f\\u0440\\u0430\\u0432\\u043e\\u043e\\u0445\\u0440\\u0430\\u043d\\u0438\\u0442\\u0435\\u043b\\u044c\\u043d\\u044b\\u0439\", \"\\u043f\\u043e\\u0436\\u0430\\u0440\", \"\\u043f\\u043e\\u043b\\u0438\\u0446\\u0435\\u0439\\u0441\\u043a\\u0438\\u0439\", \"\\u0441\\u043e\\u0432\\u0435\\u0440\\u0448\\u0438\\u0442\\u044c\", \"\\u043c\\u0430\\u0448\\u0438\\u043d\\u0430\", \"\\u043f\\u0430\\u0441\\u0441\\u0430\\u0436\\u0438\\u0440\", \"\\u043f\\u0440\\u043e\\u0438\\u0441\\u0448\\u0435\\u0441\\u0442\\u0432\\u0438\\u0435\", \"\\u0431\\u043e\\u0440\\u0442\", \"\\u0438\\u043d\\u0446\\u0438\\u0434\\u0435\\u043d\\u0442\", \"\\u0440\\u0430\\u043d\\u0435\\u043d\\u0438\\u0435\", \"\\u0442\\u0435\\u043b\\u043e\", \"\\u0434\\u0432\\u043e\\u0435\", \"\\u043d\\u043e\\u0447\\u044c\", \"\\u0441\\u043b\\u0435\\u0434\\u0441\\u0442\\u0432\\u0435\\u043d\\u043d\\u044b\\u0439\", \"\\u0432\\u043e\\u0437\\u0431\\u0443\\u0434\\u0438\\u0442\\u044c\", \"\\u0432\\u043e\\u0434\\u0430\", \"\\u043a\\u0440\\u0430\\u0439\", \"\\u0431\\u043e\\u043b\\u044c\\u043d\\u0438\\u0446\\u0430\", \"\\u0443\\u0431\\u0438\\u0442\\u044c\", \"\\u044d\\u043a\\u0438\\u043f\\u0430\\u0436\", \"\\u043c\\u0447\\u0441\", \"\\u043f\\u043e\\u0441\\u0442\\u0440\\u0430\\u0434\\u0430\\u0442\\u044c\", \"\\u043f\\u0440\\u043e\\u0438\\u0437\\u043e\\u0439\\u0442\\u0438\", \"\\u0443\\u0431\\u0438\\u0439\\u0441\\u0442\\u0432\\u043e\", \"\\u0436\\u0435\\u043d\\u0449\\u0438\\u043d\\u0430\", \"\\u043a\\u043e\\u0440\\u0430\\u0431\\u043b\\u044c\", \"\\u0447\\u0435\\u043b\\u043e\\u0432\\u0435\\u043a\", \"\\u043d\\u0430\\u0445\\u043e\\u0434\\u0438\\u0442\\u044c\\u0441\\u044f\", \"\\u0440\\u0430\\u0439\\u043e\\u043d\", \"\\u043c\\u0435\\u0441\\u0442\\u043d\\u044b\\u0439\", \"\\u0440\\u0435\\u0437\\u0443\\u043b\\u044c\\u0442\\u0430\\u0442\", \"\\u0433\\u043e\\u0440\\u043e\\u0434\", \"\\u0441\\u043e\\u0442\\u0440\\u0443\\u0434\\u043d\\u0438\\u043a\", \"\\u0434\\u0430\\u043d\\u043d\\u044b\\u0435\", \"\\u0441\\u043e\\u043e\\u0431\\u0449\\u0430\\u0442\\u044c\", \"\\u043c\\u0435\\u0441\\u0442\\u043e\", \"\\u0432\\u0440\\u0435\\u043c\\u044f\", \"\\u043b\\u0435\\u0442\\u043d\\u0438\\u0439\", \"\\u043d\\u0435\\u0441\\u043a\\u043e\\u043b\\u044c\\u043a\\u043e\", \"\\u0434\\u043e\\u043c\", \"\\u0430\\u0433\\u0435\\u043d\\u0442\\u0441\\u0442\\u0432\\u043e\", \"\\u0441\\u043e\\u043e\\u0431\\u0449\\u0438\\u0442\\u044c\", \"\\u043e\\u043a\\u043e\\u043b\\u043e\", \"\\u0441\\u043b\\u0443\\u0436\\u0431\\u0430\", \"\\u043a\\u043e\\u0442\\u043e\\u0440\\u044b\\u0439\", \"\\u0438\\u043d\\u0442\\u0435\\u0440\\u0444\\u0430\\u043a\\u0441\", \"\\u043f\\u043e\\u043b\\u0443\\u0447\\u0438\\u0442\\u044c\", \"\\u044d\\u0442\\u043e\", \"\\u0443\\u0447\\u0451\\u043d\\u044b\\u0439\", \"\\u0430\\u043a\\u0442\\u0451\\u0440\", \"\\u043f\\u0440\\u0435\\u043c\\u0438\\u044f\", \"\\u0441\\u0442\\u0443\\u0434\\u0438\\u044f\", \"\\u043a\\u043d\\u0438\\u0433\\u0430\", \"\\u043a\\u043e\\u0441\\u043c\\u0438\\u0447\\u0435\\u0441\\u043a\\u0438\\u0439\", \"windows\", \"\\u0438\\u0441\\u043a\\u0443\\u0441\\u0441\\u0442\\u0432\\u043e\", \"\\u0438\\u0441\\u043a\", \"\\u043f\\u043b\\u0430\\u043d\\u0435\\u0442\\u0430\", \"\\u0442\\u0435\\u0430\\u0442\\u0440\", \"\\u043d\\u0430\\u043f\\u0440\\u0438\\u043c\\u0435\\u0440\", \"\\u043f\\u0440\\u0438\\u0437\", \"\\u043d\\u044c\\u044e\", \"apple\", \"\\u043d\\u0430\\u0433\\u0440\\u0430\\u0434\\u0430\", \"\\u0441\\u043e\\u0431\\u0440\\u0430\\u0442\\u044c\", \"\\u043c\\u0443\\u0437\\u044b\\u043a\\u0430\\u043b\\u044c\\u043d\\u044b\\u0439\", \"\\u0443\\u043d\\u0438\\u0432\\u0435\\u0440\\u0441\\u0438\\u0442\\u0435\\u0442\", \"\\u0432\\u0435\\u043a\", \"\\u0437\\u0432\\u0435\\u0437\\u0434\\u0430\", \"microsoft\", \"\\u043f\\u043e\\u0437\\u0432\\u043e\\u043b\\u044f\\u0442\\u044c\", \"\\u0430\\u043c\\u0435\\u0440\\u0438\\u043a\\u0430\\u043d\\u0435\\u0446\", \"\\u0439\\u043e\\u0440\\u043a\", \"\\u0432\\u044b\\u0441\\u0442\\u0430\\u0432\\u043a\\u0430\", \"\\u043a\\u043e\\u043c\\u043f\\u044c\\u044e\\u0442\\u0435\\u0440\", \"\\u0440\\u0430\\u0437\\u0440\\u0430\\u0431\\u043e\\u0442\\u0447\\u0438\\u043a\", \"\\u0444\\u0443\\u043d\\u0442\", \"\\u0438\\u0441\\u0441\\u043b\\u0435\\u0434\\u043e\\u0432\\u0430\\u0442\\u0435\\u043b\\u044c\", \"the\", \"\\u0440\\u043e\\u043b\\u044c\", \"\\u043f\\u043e\\u043a\\u0430\\u0437\\u0430\\u0442\\u044c\", \"\\u0431\\u0440\\u0438\\u0442\\u0430\\u043d\\u0441\\u043a\\u0438\\u0439\", \"\\u0438\\u0441\\u0442\\u043e\\u0440\\u0438\\u044f\", \"\\u043b\\u043e\\u043d\\u0434\\u043e\\u043d\", \"\\u0440\\u0435\\u043b\\u0438\\u0437\", \"\\u0438\\u0437\\u0432\\u0435\\u0441\\u0442\\u043d\\u044b\\u0439\", \"\\u0432\\u044b\\u0439\\u0442\\u0438\", \"\\u043f\\u043e\\u044f\\u0432\\u0438\\u0442\\u044c\\u0441\\u044f\", \"\\u043a\\u043e\\u0442\\u043e\\u0440\\u044b\\u0439\", \"\\u0440\\u0430\\u0431\\u043e\\u0442\\u0430\", \"\\u0433\\u043e\\u0434\", \"\\u043d\\u043e\\u0432\\u044b\\u0439\", \"\\u0430\\u043c\\u0435\\u0440\\u0438\\u043a\\u0430\\u043d\\u0441\\u043a\\u0438\\u0439\", \"\\u0438\\u043c\\u044f\", \"\\u0432\\u0440\\u0435\\u043c\\u044f\", \"\\u0433\\u0440\\u0443\\u043f\\u043f\\u0430\", \"\\u044d\\u0442\\u043e\", \"\\u0441\\u0432\\u043e\\u0439\", \"\\u0441\\u0442\\u0430\\u0442\\u044c\", \"\\u043e\\u043f\\u0443\\u0431\\u043b\\u0438\\u043a\\u043e\\u0432\\u0430\\u0442\\u044c\", \"\\u0433\\u043b\\u0430\\u0432\\u043d\\u044b\\u0439\", \"\\u043f\\u0435\\u0440\\u0432\\u044b\\u0439\", \"\\u043f\\u043e\\u043b\\u0443\\u0447\\u0438\\u0442\\u044c\", \"\\u0432\\u0435\\u0441\\u044c\", \"\\u0442\\u0430\\u043a\\u0436\\u0435\", \"\\u0432\\u0435\\u0440\\u0441\\u0438\\u044f\", \"\\u0441\\u0430\\u0439\\u0442\", \"\\u043f\\u043e\\u0441\\u043b\\u0435\\u0434\\u043d\\u0438\\u0439\", \"\\u043c\\u043e\\u0447\\u044c\", \"\\u0441\\u0430\\u043c\\u043e\\u043b\\u0451\\u0442\", \"\\u043f\\u0430\\u0440\\u0442\\u0438\\u044f\", \"\\u043a\\u0430\\u043d\\u0434\\u0438\\u0434\\u0430\\u0442\", \"\\u0438\\u0440\\u0430\\u043a\", \"\\u0433\\u043e\\u043b\\u043e\\u0441\", \"\\u0432\\u0435\\u0440\\u0442\\u043e\\u043b\\u0451\\u0442\", \"\\u043f\\u0430\\u0440\\u043b\\u0430\\u043c\\u0435\\u043d\\u0442\", \"\\u0438\\u0440\\u0430\\u043d\", \"\\u0440\\u0430\\u043a\\u0435\\u0442\\u0430\", \"\\u0442\\u0443\\u0440\\u0446\\u0438\\u044f\", \"\\u043e\\u0431\\u0430\\u043c\\u0430\", \"\\u044f\\u0434\\u0435\\u0440\\u043d\\u044b\\u0439\", \"\\u043f\\u043e\\u043b\\u0451\\u0442\", \"\\u0432\\u0430\\u0448\\u0438\\u043d\\u0433\\u0442\\u043e\\u043d\", \"\\u043f\\u0430\\u043b\\u0430\\u0442\\u0430\", \"\\u043f\\u0438\\u043b\\u043e\\u0442\", \"\\u0435\\u0432\\u0440\\u043e\\u0441\\u043e\\u044e\\u0437\", \"\\u0441\\u0442\\u043e\\u0440\\u043e\\u043d\\u043d\\u0438\\u043a\", \"\\u0432\\u043e\\u043e\\u0440\\u0443\\u0436\\u0435\\u043d\\u0438\\u0435\", \"\\u043c\\u0438\\u0434\", \"\\u0441\\u0443\\u0434\\u043d\\u043e\", \"\\u0431\\u043e\\u0435\\u0432\\u043e\\u0439\", \"\\u043e\\u0442\\u0435\\u043b\\u044c\", \"\\u043f\\u043e\\u0434\\u0440\\u043e\\u0441\\u0442\\u043e\\u043a\", \"\\u0441\\u043e\\u0442\\u0440\\u0443\\u0434\\u043d\\u0438\\u0447\\u0435\\u0441\\u0442\\u0432\\u043e\", \"\\u0442\\u0440\\u0430\\u043c\\u043f\", \"\\u0444\\u043e\\u0440\\u0443\\u043c\", \"\\u0442\\u0443\\u0440\\u0435\\u0446\\u043a\\u0438\\u0439\", \"\\u0432\\u0432\\u0441\", \"\\u043b\\u0430\\u0439\\u043d\\u0435\\u0440\", \"\\u0448\\u0442\\u0430\\u0442\", \"\\u0432\\u043e\\u0439\\u043d\\u0430\", \"\\u0441\\u0442\\u0440\\u0430\\u043d\\u0430\", \"\\u043f\\u0443\\u0442\\u0438\\u043d\", \"\\u0441\\u0448\\u0430\", \"\\u043f\\u0440\\u0435\\u0437\\u0438\\u0434\\u0435\\u043d\\u0442\", \"\\u0433\\u043e\\u0441\\u0443\\u0434\\u0430\\u0440\\u0441\\u0442\\u0432\\u043e\", \"\\u0432\\u043b\\u0430\\u0441\\u0442\\u044c\", \"\\u0444\\u0440\\u0430\\u043d\\u0446\\u0438\\u044f\", \"\\u043f\\u0440\\u043e\\u0439\\u0442\\u0438\", \"\\u0443\\u0447\\u0430\\u0441\\u0442\\u0438\\u0435\", \"\\u043b\\u0438\\u0434\\u0435\\u0440\", \"\\u0440\\u043e\\u0441\\u0441\\u0438\\u044f\", \"\\u0430\\u043c\\u0435\\u0440\\u0438\\u043a\\u0430\\u043d\\u0441\\u043a\\u0438\\u0439\", \"\\u043c\\u0438\\u043d\\u0438\\u0441\\u0442\\u0440\", \"\\u0440\\u043e\\u0441\\u0441\\u0438\\u0439\\u0441\\u043a\\u0438\\u0439\", \"\\u043a\\u043e\\u0442\\u043e\\u0440\\u044b\\u0439\", \"\\u043f\\u0440\\u0430\\u0432\\u0438\\u0442\\u0435\\u043b\\u044c\\u0441\\u0442\\u0432\\u043e\", \"\\u0437\\u0430\\u044f\\u0432\\u0438\\u0442\\u044c\", \"\\u043f\\u0440\\u0438\\u043d\\u044f\\u0442\\u044c\", \"\\u044d\\u0442\\u043e\", \"\\u0442\\u0430\\u043a\\u0436\\u0435\", \"\\u0441\\u043e\\u043e\\u0431\\u0449\\u0430\\u0442\\u044c\", \"\\u043c\\u0435\\u0436\\u0434\\u0443\\u043d\\u0430\\u0440\\u043e\\u0434\\u043d\\u044b\\u0439\", \"\\u0432\\u043e\\u0435\\u043d\\u043d\\u044b\\u0439\", \"\\u0434\\u043e\\u043b\\u0436\\u043d\\u044b\\u0439\", \"\\u0432\\u0440\\u0435\\u043c\\u044f\", \"\\u0441\\u0432\\u043e\\u0439\", \"\\u0433\\u043e\\u0434\", \"\\u043c\\u043e\\u0447\\u044c\", \"\\u043d\\u043e\\u0432\\u044b\\u0439\", \"\\u0432\\u0435\\u0441\\u044c\", \"\\u0441\\u043b\\u043e\\u0432\\u043e\", \"\\u0447\\u0435\\u043b\\u043e\\u0432\\u0435\\u043a\", \"\\u043d\\u0435\\u0444\\u0442\\u044c\", \"\\u0437\\u0430\\u0432\\u043e\\u0434\", \"\\u043a\\u0443\\u0440\\u0441\", \"\\u0442\\u0440\\u0438\\u043b\\u043b\\u0438\\u043e\\u043d\", \"\\u0441\\u0442\\u0430\\u0432\\u043a\\u0430\", \"\\u0432\\u0430\\u043b\\u044e\\u0442\\u0430\", \"\\u0430\\u0432\\u0430\\u0440\\u0438\\u044f\", \"\\u044d\\u043a\\u043e\\u043d\\u043e\\u043c\\u0438\\u043a\\u0430\", \"\\u0440\\u043e\\u0441\\u0442\", \"\\u043d\\u0430\\u043b\\u043e\\u0433\\u043e\\u0432\\u044b\\u0439\", \"\\u0432\\u044b\\u0440\\u0430\\u0441\\u0442\\u0438\", \"\\u0440\\u0430\\u0441\\u0445\\u043e\\u0434\", \"\\u043e\\u043f\\u0440\\u043e\\u0441\", \"\\u0437\\u0430\\u0440\\u043f\\u043b\\u0430\\u0442\\u0430\", \"\\u043e\\u043f\\u0435\\u0440\\u0430\\u0442\\u043e\\u0440\", \"\\u0441\\u0440\\u0430\\u0432\\u043d\\u0435\\u043d\\u0438\\u0435\", \"\\u0433\\u0430\\u0437\\u043f\\u0440\\u043e\\u043c\", \"\\u043e\\u043f\\u0440\\u043e\\u0441\\u0438\\u0442\\u044c\", \"\\u0440\\u0430\\u0431\\u043e\\u0442\\u043d\\u0438\\u043a\", \"\\u0443\\u0432\\u0435\\u043b\\u0438\\u0447\\u0435\\u043d\\u0438\\u0435\", \"\\u043c\\u0438\\u043d\\u0444\\u0438\\u043d\", \"\\u0442\\u043e\\u0432\\u0430\\u0440\", \"\\u0438\\u043d\\u0434\\u0435\\u043a\\u0441\", \"\\u043d\\u0438\\u0436\\u0435\", \"\\u0431\\u0430\\u0440\\u0440\\u0435\\u043b\\u044c\", \"\\u043b\\u0443\\u0436\\u043a\\u043e\\u0432\", \"\\u0443\\u0432\\u0435\\u043b\\u0438\\u0447\\u0438\\u0442\\u044c\\u0441\\u044f\", \"\\u0441\\u043d\\u0438\\u0437\\u0438\\u0442\\u044c\\u0441\\u044f\", \"\\u043f\\u043e\\u0435\\u0437\\u0434\", \"\\u0441\\u043e\\u043a\\u0440\\u0430\\u0449\\u0435\\u043d\\u0438\\u0435\", \"\\u043f\\u0440\\u043e\\u0446\\u0435\\u043d\\u0442\", \"\\u0441\\u0440\\u0435\\u0434\\u043d\\u0438\\u0439\", \"\\u0440\\u0443\\u0431\\u043b\\u044c\", \"\\u0446\\u0435\\u043d\\u0430\", \"\\u0431\\u044e\\u0434\\u0436\\u0435\\u0442\", \"\\u0431\\u0438\\u0440\\u0436\\u0430\", \"\\u0434\\u043e\\u0445\\u043e\\u0434\", \"\\u0433\\u0430\\u0437\", \"\\u0443\\u0440\\u043e\\u0432\\u0435\\u043d\\u044c\", \"\\u0441\\u043e\\u0441\\u0442\\u0430\\u0432\\u0438\\u0442\\u044c\", \"\\u0440\\u044b\\u043d\\u043e\\u043a\", \"\\u043c\\u0438\\u043b\\u043b\\u0438\\u0430\\u0440\\u0434\", \"\\u0435\\u0432\\u0440\\u043e\", \"\\u0433\\u043e\\u0434\", \"\\u0440\\u043e\\u0441\\u0441\\u0438\\u044f\", \"\\u043f\\u0440\\u0430\\u0432\\u0438\\u0442\\u0435\\u043b\\u044c\\u0441\\u0442\\u0432\\u043e\", \"\\u0434\\u043e\\u043b\\u043b\\u0430\\u0440\", \"\\u0441\\u043e\\u0441\\u0442\\u0430\\u0432\\u043b\\u044f\\u0442\\u044c\", \"\\u043e\\u0431\\u044a\\u0451\\u043c\", \"\\u044d\\u0442\\u043e\", \"\\u0442\\u044b\\u0441\\u044f\\u0447\\u0430\", \"\\u0440\\u043e\\u0441\\u0441\\u0438\\u0439\\u0441\\u043a\\u0438\\u0439\", \"\\u0434\\u0430\\u043d\\u043d\\u044b\\u0435\", \"\\u0441\\u0442\\u0440\\u0430\\u043d\\u0430\", \"\\u043c\\u0435\\u0441\\u044f\\u0446\", \"\\u0432\\u0435\\u0441\\u044c\", \"\\u0444\\u0438\\u043b\\u044c\\u043c\", \"\\u043a\\u0430\\u0440\\u0442\\u0438\\u043d\\u0430\", \"\\u0444\\u0438\\u043d\\u0430\\u043d\\u0441\\u043e\\u0432\\u044b\\u0439\", \"\\u0438\\u0441\\u0441\\u043b\\u0435\\u0434\\u043e\\u0432\\u0430\\u043d\\u0438\\u0435\", \"\\u043f\\u0440\\u043e\\u0434\\u0430\\u0442\\u044c\", \"\\u0440\\u0435\\u0436\\u0438\\u0441\\u0441\\u0451\\u0440\", \"\\u043a\\u043e\\u043c\\u043f\\u0430\\u043d\\u0438\\u044f\", \"\\u0441\\u0434\\u0435\\u043b\\u043a\\u0430\", \"\\u043e\\u0430\\u043e\", \"\\u043a\\u0430\\u043f\\u0438\\u0442\\u0430\\u043b\", \"\\u0442\\u043e\\u043d\\u043d\\u0430\", \"\\u0434\\u0435\\u0432\\u0443\\u0448\\u043a\\u0430\", \"\\u0438\\u043d\\u0432\\u0435\\u0441\\u0442\\u043e\\u0440\", \"\\u0437\\u0430\\u0434\\u043e\\u043b\\u0436\\u0435\\u043d\\u043d\\u043e\\u0441\\u0442\\u044c\", \"\\u0433\\u043e\\u0434\\u043e\\u0432\\u043e\\u0439\", \"group\", \"\\u0432\\u044b\\u043f\\u0443\\u0441\\u043a\", \"\\u0431\\u0430\\u043d\\u043a\\u043e\\u0432\\u0441\\u043a\\u0438\\u0439\", \"\\u043b\\u043e\\u043d\\u0434\\u043e\\u043d\\u0441\\u043a\\u0438\\u0439\", \"\\u0438\\u0441\\u0442\\u043e\\u0440\\u0438\\u0447\\u0435\\u0441\\u043a\\u0438\\u0439\", \"\\u0441\\u0435\\u0440\\u0438\\u0430\\u043b\", \"\\u044d\\u043a\\u0440\\u0430\\u043d\", \"\\u043f\\u043e\\u043a\\u0443\\u043f\\u043a\\u0430\", \"\\u0433\\u0440\\u0435\\u0446\\u0438\\u044f\", \"\\u0430\\u043a\\u0442\\u0440\\u0438\\u0441\\u0430\", \"\\u043a\\u0440\\u0435\\u0434\\u0438\\u0442\\u043d\\u044b\\u0439\", \"\\u0442\\u0435\\u043b\\u0435\\u0444\\u043e\\u043d\", \"\\u0432\\u043a\\u043b\\u0430\\u0434\", \"\\u0431\\u0443\\u043c\\u0430\\u0433\\u0430\", \"\\u0434\\u043e\\u0441\\u0442\\u0438\\u0433\\u0430\\u0442\\u044c\", \"\\u0430\\u043a\\u0442\\u0438\\u0432\", \"\\u0431\\u0430\\u043d\\u043a\", \"\\u043f\\u0440\\u043e\\u0434\\u0430\\u0436\\u0430\", \"\\u043c\\u0438\\u043b\\u043b\\u0438\\u043e\\u043d\", \"\\u0441\\u0443\\u043c\\u043c\\u0430\", \"\\u043a\\u0432\\u0430\\u0440\\u0442\\u0430\\u043b\", \"\\u0431\\u0435\\u043b\\u043e\\u0440\\u0443\\u0441\\u0441\\u0438\\u044f\", \"\\u043a\\u0440\\u0443\\u043f\\u043d\\u044b\\u0439\", \"\\u043f\\u0440\\u0435\\u0434\\u043f\\u0440\\u0438\\u044f\\u0442\\u0438\\u0435\", \"\\u0434\\u043e\\u043b\\u043b\\u0430\\u0440\", \"\\u0430\\u043a\\u0446\\u0438\\u044f\", \"\\u043a\\u0440\\u0435\\u0434\\u0438\\u0442\", \"\\u0441\\u0435\\u0442\\u044c\", \"\\u0432\\u0435\\u0434\\u043e\\u043c\\u043e\\u0441\\u0442\\u044c\", \"\\u0441\\u0431\\u0435\\u0440\\u0431\\u0430\\u043d\\u043a\", \"\\u043c\\u0430\\u0433\\u0430\\u0437\\u0438\\u043d\", \"\\u043c\\u0438\\u043b\\u043b\\u0438\\u0430\\u0440\\u0434\", \"\\u043f\\u0440\\u043e\\u0435\\u043a\\u0442\", \"\\u0433\\u043e\\u0434\", \"\\u043a\\u043e\\u0442\\u043e\\u0440\\u044b\\u0439\", \"\\u0441\\u0440\\u0435\\u0434\\u0441\\u0442\\u0432\\u043e\", \"\\u043f\\u043e\\u043b\\u0443\\u0447\\u0438\\u0442\\u044c\", \"\\u043f\\u0438\\u0441\\u0430\\u0442\\u044c\", \"\\u044f\\u0432\\u043b\\u044f\\u0442\\u044c\\u0441\\u044f\", \"\\u0440\\u044b\\u043d\\u043e\\u043a\", \"\\u043e\\u043a\\u043e\\u043b\\u043e\", \"\\u0442\\u0430\\u043a\\u0436\\u0435\", \"\\u0441\\u043e\\u043e\\u0431\\u0449\\u0430\\u0442\\u044c\", \"\\u0441\\u0442\\u0430\\u0442\\u044c\", \"\\u043d\\u043e\\u0432\\u044b\\u0439\", \"\\u0441\\u0442\\u0440\\u043e\\u0438\\u0442\\u0435\\u043b\\u044c\\u0441\\u0442\\u0432\\u043e\", \"\\u043a\\u0432\\u0430\\u0434\\u0440\\u0430\\u0442\\u043d\\u044b\\u0439\", \"\\u043f\\u043e\\u0441\\u0442\\u0440\\u043e\\u0438\\u0442\\u044c\", \"\\u043d\\u0435\\u0434\\u0432\\u0438\\u0436\\u0438\\u043c\\u043e\\u0441\\u0442\\u044c\", \"\\u0440\\u0435\\u0439\\u0442\\u0438\\u043d\\u0433\", \"\\u0436\\u0438\\u043b\\u044c\\u0451\", \"\\u0442\\u0443\\u0440\\u043d\\u0438\\u0440\", \"\\u043c\\u0443\\u0437\\u0435\\u0439\", \"\\u043f\\u043e\\u043a\\u0430\\u0437\\u0430\\u0442\\u0435\\u043b\\u044c\", \"\\u0432\\u044b\\u0438\\u0433\\u0440\\u0430\\u0442\\u044c\", \"\\u043c\\u043e\\u0434\\u0435\\u043b\\u044c\", \"\\u0433\\u043e\\u0441\\u0442\\u0438\\u043d\\u0438\\u0446\\u0430\", \"\\u043e\\u043b\\u0438\\u043c\\u043f\\u0438\\u0439\\u0441\\u043a\\u0438\\u0439\", \"\\u043a\\u0438\\u0442\\u0430\\u0439\\u0441\\u043a\\u0438\\u0439\", \"\\u0434\\u0435\\u0442\\u0441\\u043a\\u0438\\u0439\", \"\\u043a\\u043b\\u0430\\u0441\\u0441\", \"\\u043a\\u043e\\u043d\\u043a\\u0443\\u0440\\u0441\", \"\\u043d\\u0430\\u0443\\u0447\\u043d\\u044b\\u0439\", \"\\u0437\\u0430\\u043f\\u043b\\u0430\\u0442\\u0438\\u0442\\u044c\", \"new\", \"\\u0430\\u0440\\u0435\\u043d\\u0434\\u0430\", \"\\u0441\\u043f\\u043e\\u0440\\u0442\\u0438\\u0432\\u043d\\u044b\\u0439\", \"\\u0433\\u0435\\u043a\\u0442\\u0430\\u0440\", \"\\u0440\\u0435\\u0441\\u0442\\u043e\\u0440\\u0430\\u043d\", \"\\u043e\\u0444\\u0438\\u0441\\u043d\\u044b\\u0439\", \"\\u043c\\u0435\\u0434\\u0430\\u043b\\u044c\", \"\\u0448\\u0432\\u0435\\u0446\\u0438\\u044f\", \"\\u043e\\u0441\\u043e\\u0431\\u043d\\u044f\\u043a\", \"\\u043b\\u043e\\u0434\\u043a\\u0430\", \"\\u0434\\u0435\\u043b\\u043e\\u0432\\u043e\\u0439\", \"\\u0430\\u0443\\u043a\\u0446\\u0438\\u043e\\u043d\", \"\\u043c\\u0435\\u0442\\u0440\", \"\\u043f\\u043b\\u043e\\u0449\\u0430\\u0434\\u044c\", \"\\u043e\\u0431\\u044a\\u0435\\u043a\\u0442\", \"\\u043f\\u0440\\u0438\\u043e\\u0431\\u0440\\u0435\\u0441\\u0442\\u0438\", \"\\u043a\\u043e\\u043c\\u043f\\u043b\\u0435\\u043a\\u0441\", \"\\u043a\\u0432\\u0430\\u0440\\u0442\\u0438\\u0440\\u0430\", \"\\u0442\\u044b\\u0441\\u044f\\u0447\\u0430\", \"\\u0437\\u0435\\u043c\\u043b\\u044f\", \"\\u043f\\u0440\\u043e\\u0435\\u043a\\u0442\", \"\\u0445\\u043e\\u0440\\u043e\\u0448\\u0438\\u0439\", \"\\u0434\\u043e\\u043c\", \"\\u0441\\u043a\\u043e\\u0440\\u043e\\u0441\\u0442\\u044c\", \"\\u043c\\u043e\\u0441\\u043a\\u0432\\u0430\", \"\\u0433\\u043e\\u0434\", \"\\u0433\\u043e\\u0440\\u043e\\u0434\", \"\\u0446\\u0435\\u043d\\u0442\\u0440\", \"\\u043a\\u0438\\u043b\\u043e\\u043c\\u0435\\u0442\\u0440\", \"\\u043c\\u0435\\u0441\\u0442\\u043e\", \"\\u0441\\u043e\\u0441\\u0442\\u0430\\u0432\\u043b\\u044f\\u0442\\u044c\", \"\\u0441\\u0430\\u043c\\u044b\\u0439\", \"\\u043d\\u043e\\u0432\\u044b\\u0439\", \"\\u043f\\u0435\\u0440\\u0432\\u044b\\u0439\", \"\\u043c\\u0438\\u043b\\u043b\\u0438\\u043e\\u043d\", \"\\u0442\\u0435\\u0440\\u0440\\u0438\\u0442\\u043e\\u0440\\u0438\\u044f\", \"\\u043c\\u043e\\u0441\\u043a\\u043e\\u0432\\u0441\\u043a\\u0438\\u0439\", \"\\u0442\\u0430\\u043a\\u0436\\u0435\", \"\\u0431\\u043e\\u0435\\u0432\\u0438\\u043a\", \"\\u0434\\u0435\\u043f\\u0443\\u0442\\u0430\\u0442\", \"\\u0438\\u0437\\u0440\\u0430\\u0438\\u043b\\u044c\", \"\\u0441\\u0438\\u0440\\u0438\\u044f\", \"\\u0430\\u043b\\u044c\", \"\\u0430\\u0440\\u043c\\u0438\\u044f\", \"\\u043e\\u043e\\u043d\", \"\\u0441\\u0438\\u0440\\u0438\\u0439\\u0441\\u043a\\u0438\\u0439\", \"\\u0432\\u043e\\u0437\\u0433\\u043b\\u0430\\u0432\\u043b\\u044f\\u0442\\u044c\", \"\\u0433\\u0435\\u043d\\u0435\\u0440\\u0430\\u043b\", \"\\u0438\\u0437\\u0440\\u0430\\u0438\\u043b\\u044c\\u0441\\u043a\\u0438\\u0439\", \"\\u043e\\u0441\\u0432\\u043e\\u0431\\u043e\\u0436\\u0434\\u0435\\u043d\\u0438\\u0435\", \"\\u0448\\u0442\\u0430\\u0431\", \"\\u0438\\u0440\\u0430\\u043a\\u0441\\u043a\\u0438\\u0439\", \"\\u043f\\u043e\\u0432\\u043e\\u0434\", \"\\u043c\\u0438\\u0440\\u043d\\u044b\\u0439\", \"\\u0431\\u0435\\u0436\\u0435\\u043d\\u0435\\u0446\", \"\\u0431\\u0443\\u0448\", \"\\u0438\\u043d\\u0433\\u0443\\u0448\\u0435\\u0442\\u0438\\u044f\", \"\\u043a\\u0430\\u043d\\u0430\\u0434\\u0430\", \"\\u0434\\u0435\\u0432\\u043e\\u0447\\u043a\\u0430\", \"\\u043a\\u0440\\u0435\\u043c\\u043b\\u044c\", \"\\u0446\\u0435\\u0440\\u043a\\u043e\\u0432\\u044c\", \"\\u0438\\u0437\\u0431\\u0438\\u0440\\u0430\\u0442\\u0435\\u043b\\u044c\\u043d\\u044b\\u0439\", \"\\u043f\\u0430\\u043b\\u0435\\u0441\\u0442\\u0438\\u043d\\u0441\\u043a\\u0438\\u0439\", \"\\u043b\\u0438\\u0447\\u043d\\u043e\\u0441\\u0442\\u044c\", \"\\u0441\\u0435\\u043a\\u0442\\u043e\\u0440\", \"\\u0441\\u043e\\u043b\\u0434\\u0430\\u0442\", \"\\u043f\\u0440\\u043e\\u0433\\u043e\\u043b\\u043e\\u0441\\u043e\\u0432\\u0430\\u0442\\u044c\", \"\\u0432\\u043e\\u0441\\u0441\\u0442\\u0430\\u043d\\u043e\\u0432\\u043b\\u0435\\u043d\\u0438\\u0435\", \"\\u043a\\u043e\\u043d\\u0444\\u043b\\u0438\\u043a\\u0442\", \"\\u0432\\u043e\\u0439\\u0441\\u043a\\u043e\", \"\\u0442\\u0435\\u0440\\u0440\\u043e\\u0440\\u0438\\u0441\\u0442\\u0438\\u0447\\u0435\\u0441\\u043a\\u0438\\u0439\", \"\\u0430\\u0434\\u043c\\u0438\\u043d\\u0438\\u0441\\u0442\\u0440\\u0430\\u0446\\u0438\\u044f\", \"\\u0443\\u043a\\u0440\\u0430\\u0438\\u043d\\u0430\", \"\\u0433\\u0440\\u0443\\u043f\\u043f\\u0438\\u0440\\u043e\\u0432\\u043a\\u0430\", \"\\u043e\\u0442\\u0441\\u0442\\u0430\\u0432\\u043a\\u0430\", \"\\u0443\\u043a\\u0440\\u0430\\u0438\\u043d\\u0441\\u043a\\u0438\\u0439\", \"\\u0432\\u043e\\u0435\\u043d\\u043d\\u044b\\u0439\", \"\\u0447\\u0435\\u0447\\u043d\\u044f\", \"\\u0441\\u0438\\u043b\\u0430\", \"\\u043e\\u043f\\u0435\\u0440\\u0430\\u0446\\u0438\\u044f\", \"\\u0442\\u0435\\u0440\\u0440\\u043e\\u0440\\u0438\\u0441\\u0442\", \"\\u0440\\u0435\\u0441\\u043f\\u0443\\u0431\\u043b\\u0438\\u043a\\u0430\", \"\\u0432\\u043e\\u043e\\u0440\\u0443\\u0436\\u0451\\u043d\\u043d\\u044b\\u0439\", \"\\u0442\\u0435\\u0440\\u0440\\u0438\\u0442\\u043e\\u0440\\u0438\\u044f\", \"\\u043c\\u0438\\u043d\\u0438\\u0441\\u0442\\u0440\", \"\\u0432\\u044b\\u0431\\u043e\\u0440\\u044b\", \"\\u043f\\u0440\\u0435\\u0434\\u0441\\u0442\\u0430\\u0432\\u0438\\u0442\\u0435\\u043b\\u044c\", \"\\u0437\\u0430\\u044f\\u0432\\u0438\\u0442\\u044c\", \"\\u043e\\u0440\\u0433\\u0430\\u043d\\u0438\\u0437\\u0430\\u0446\\u0438\\u044f\", \"\\u043f\\u0440\\u0435\\u0437\\u0438\\u0434\\u0435\\u043d\\u0442\", \"\\u0433\\u043b\\u0430\\u0432\\u0430\", \"\\u043f\\u0440\\u043e\\u0442\\u0438\\u0432\", \"\\u043a\\u043e\\u0442\\u043e\\u0440\\u044b\\u0439\", \"\\u0441\\u0442\\u043e\\u0440\\u043e\\u043d\\u0430\", \"\\u0438\\u0433\\u0440\\u0430\", \"\\u043c\\u0430\\u0442\\u0447\", \"\\u043a\\u043e\\u043c\\u0430\\u043d\\u0434\\u0430\", \"\\u043a\\u043b\\u0443\\u0431\", \"\\u0441\\u0431\\u043e\\u0440\\u043d\\u0430\\u044f\", \"\\u0447\\u0435\\u043c\\u043f\\u0438\\u043e\\u043d\\u0430\\u0442\", \"\\u0441\\u0435\\u0437\\u043e\\u043d\", \"\\u0447\\u0435\\u043c\\u043f\\u0438\\u043e\\u043d\", \"\\u0442\\u0440\\u0435\\u043d\\u0435\\u0440\", \"\\u0441\\u043f\\u043e\\u0440\\u0442\", \"\\u0438\\u0433\\u0440\\u043e\\u043a\", \"\\u0442\\u0443\\u0440\", \"\\u043b\\u0438\\u0433\\u0430\", \"\\u0444\\u0443\\u0442\\u0431\\u043e\\u043b\\u044c\\u043d\\u044b\\u0439\", \"\\u043d\\u0430\\u0431\\u0440\\u0430\\u0442\\u044c\", \"\\u0444\\u0443\\u0442\\u0431\\u043e\\u043b\", \"\\u043a\\u0443\\u0431\\u043e\\u043a\", \"\\u043e\\u0447\\u043a\\u043e\", \"\\u0441\\u0442\\u0430\\u0434\\u0438\\u043e\\u043d\", \"\\u0444\\u0438\\u043d\\u0430\\u043b\", \"\\u0444\\u0443\\u0442\\u0431\\u043e\\u043b\\u0438\\u0441\\u0442\", \"\\u043e\\u043a\\u043e\\u043d\\u0447\\u0430\\u043d\\u0438\\u0435\", \"\\u0437\\u0430\\u0449\\u0438\\u0442\\u043d\\u0438\\u043a\", \"\\u0431\\u043e\\u043b\\u0435\\u043b\\u044c\\u0449\\u0438\\u043a\", \"\\u0444\\u043e\\u0440\\u0432\\u0430\\u0440\\u0434\", \"\\u043f\\u043e\\u0440\\u0430\\u0436\\u0435\\u043d\\u0438\\u0435\", \"\\u0441\\u043f\\u0430\\u0440\\u0442\\u0430\\u043a\", \"\\u0432\\u0438\\u0434\\u0435\\u043e\", \"\\u0441\\u043f\\u043e\\u0440\\u0442\\u0441\\u043c\\u0435\\u043d\", \"\\u0446\\u0441\\u043a\\u0430\", \"\\u043f\\u043e\\u0431\\u0435\\u0434\\u0430\", \"\\u0441\\u0447\\u0451\\u0442\", \"\\u043c\\u0438\\u0440\", \"\\u0440\\u043e\\u0441\\u0441\\u0438\\u044f\\u043d\\u0438\\u043d\", \"\\u0441\\u044b\\u0433\\u0440\\u0430\\u0442\\u044c\", \"\\u0441\\u043e\\u0441\\u0442\\u043e\\u044f\\u0442\\u044c\\u0441\\u044f\", \"\\u0441\\u0442\\u0430\\u0442\\u044c\", \"\\u043f\\u0435\\u0440\\u0432\\u044b\\u0439\", \"\\u044d\\u0442\\u043e\", \"\\u0440\\u043e\\u0441\\u0441\\u0438\\u044f\", \"\\u0440\\u043e\\u0441\\u0441\\u0438\\u0439\\u0441\\u043a\\u0438\\u0439\", \"\\u0432\\u0442\\u043e\\u0440\\u043e\\u0439\", \"\\u043a\\u043e\\u0442\\u043e\\u0440\\u044b\\u0439\", \"\\u043f\\u0440\\u043e\\u0432\\u0435\\u0441\\u0442\\u0438\", \"\\u0441\\u0432\\u043e\\u0439\", \"\\u043f\\u043e\\u0441\\u043b\\u0435\\u0434\\u043d\\u0438\\u0439\", \"\\u043c\\u0435\\u0441\\u0442\\u043e\", \"\\u0441\\u043e\\u043e\\u0431\\u0449\\u0430\\u0442\\u044c\", \"\\u0432\\u0440\\u0435\\u043c\\u044f\"], \"Freq\": [62.0, 51.0, 240.0, 44.0, 44.0, 67.0, 37.0, 38.0, 30.0, 30.0, 43.0, 41.0, 49.0, 25.0, 137.0, 25.0, 61.0, 17.0, 32.0, 33.0, 16.0, 139.0, 12.0, 18.0, 42.0, 22.0, 32.0, 20.0, 36.0, 14.0, 43.112158934731305, 12.811626543130068, 10.162583786907284, 9.342609558708647, 7.907927164444157, 7.685962896594522, 7.479652617627629, 7.470026163274745, 7.193350903211986, 7.152186424309562, 7.057886284751041, 6.890991717410919, 6.852372677868525, 6.827190532028322, 7.143672120069299, 6.650575844754335, 6.599172482700313, 6.465897683179305, 6.462757312986239, 6.364482047342625, 6.3959053058231605, 6.33242628886745, 6.258018763054027, 6.230032825537025, 6.097208855955238, 5.874311020172103, 5.578460562957025, 5.504063844710638, 5.418162728677329, 5.352702324431663, 18.210851326483823, 11.408537755188446, 14.406077200889484, 10.169899995144686, 8.053722787699531, 12.43935732334075, 17.579477377402227, 25.050456150514297, 15.563300014512022, 30.64331239276343, 16.278435695999825, 14.833753214350631, 15.814056155591924, 13.16425069392402, 17.32868418180677, 37.43516835633624, 8.353926635845967, 18.39922824921545, 9.881889655845237, 11.531042042188888, 11.507810919521729, 16.0846076423136, 34.09654827072792, 10.321505457651048, 70.5647090518615, 11.326766673701082, 101.24989922295173, 14.75014999292762, 30.696940569688746, 34.236610222347615, 59.03322853123857, 20.426097898426722, 24.99639361232334, 16.66735062760896, 13.74406843107494, 27.035616825302945, 19.084102743002124, 25.96672785958894, 16.36794499548505, 15.417099364815819, 14.270325924579058, 14.652074382546777, 11.537950348747204, 11.037164155618521, 9.159257472125622, 8.812396107060236, 7.5912896771887075, 7.39225999022654, 6.343980949393409, 6.197132910272362, 5.568413053336537, 5.134565760535473, 5.1081370846359535, 5.096562462579565, 4.974355323121942, 4.877816930803493, 4.680917635902674, 4.669177994210765, 4.659534825994612, 4.6450855085323655, 4.4759175156608855, 4.456609456089492, 4.387930417988685, 4.192611576733379, 4.109057523865759, 4.078105861743684, 4.071573675709424, 4.04443499615869, 3.9501039796576523, 3.712867483226024, 3.6502991260396462, 9.251303366837778, 15.400729977028664, 8.074399332823749, 7.494892294720474, 4.9569989160990575, 29.789609855257847, 16.015534448394543, 10.130057697989157, 6.897656126260504, 15.175777344089232, 11.826397811699692, 10.819724679941597, 13.979085435905377, 19.836139173799967, 9.975238029038554, 13.632288096934143, 6.680502481361042, 8.941832478541421, 8.560255250568641, 9.067119349349271, 10.287949857243623, 8.982526396882504, 8.873609626361445, 13.522253156411654, 7.36986610158167, 8.347693953493732, 8.453518416110358, 9.580131021554577, 6.410158100096501, 5.2035788539217265, 4.179578330557815, 4.017915101804477, 4.005520135800242, 3.8013338585746856, 3.657928534456822, 3.6373456435069014, 3.605785879374373, 3.600050740575337, 3.5483568408530517, 3.459152881519672, 3.4233252500793423, 3.1365916052868155, 3.072405676396597, 3.0077315197929773, 2.9742495814753496, 2.972263669146088, 2.9565417014341637, 2.809884761332417, 2.792924591195585, 2.7413445789187056, 2.681400148510151, 2.650566255070144, 2.5829858655734665, 2.5636136758187393, 2.537722885761993, 2.513053797392326, 2.510646792704555, 16.039097657060502, 5.741828392278353, 5.877533048532295, 10.840266486019123, 5.123407916145962, 3.5158681822439335, 4.323025715379948, 5.622967430364804, 7.3728810304984655, 5.769002842675005, 26.084488012046318, 9.273083350775574, 33.956320941358875, 11.491244535606858, 6.349366146496923, 5.292759841639698, 9.739950050197653, 6.396023115111039, 14.296716805517564, 10.317428636794466, 8.329264442135434, 5.125763315585034, 5.12932553369275, 7.0136082009478695, 6.808211546070999, 6.742082412643547, 7.979419034130946, 4.9280964475211935, 5.473199615866537, 5.179813261834148, 5.6530162445824335, 10.899906277219799, 7.881485978281842, 4.4183913016644825, 4.302637918319197, 3.4681734242074427, 3.21387529189677, 3.0582096723371883, 2.981629467762518, 2.9214925077458926, 2.861205103465923, 2.7822039999535946, 2.7455034353361625, 2.580956119292132, 2.4712781767815906, 2.442364826632773, 2.2393572182284984, 2.1256406308110187, 2.0719393942972935, 2.059353321253526, 2.039847595659767, 2.0388551336600136, 2.022969943291313, 1.989616293394981, 1.9644996236295553, 1.7894238732685477, 1.7640899995979176, 1.761278885852209, 1.745924011511799, 1.7450511213588502, 1.74416475390731, 4.186081538718309, 3.828394347530459, 23.980552299711253, 6.0657052103519185, 16.429526548632875, 19.819757934256828, 7.085675316806613, 9.079258010519572, 3.0154972922713856, 4.657739348730807, 6.0502545845064, 5.132638919192839, 17.02318838770709, 6.351890944555182, 6.5556219391257065, 10.094237755388898, 15.171581825865976, 5.7139163745638335, 9.091720437184403, 6.1788392963872605, 13.504565360340237, 10.017518076445084, 9.040892842813339, 4.587713185803646, 4.673936867658723, 5.894451997982065, 7.045124319324198, 7.550622685822833, 8.200933685408462, 5.9605064323569215, 5.692645436280161, 5.4077930143607915, 5.593966536547872, 5.309898305351188, 8.547984038284616, 7.617732402266879, 7.023059279641012, 5.903245433844011, 5.898279542145133, 5.8781302800952595, 5.631017519121108, 5.336693152566991, 5.276998957370303, 4.60120077709437, 4.429358180244121, 4.262665224860466, 4.263913669740959, 4.129167455169902, 4.035250872796174, 3.881059408776007, 3.8678430595472184, 3.850293562339077, 3.8115282487800797, 3.7328982217027935, 3.543717455370512, 3.536756034996931, 3.4856909519948243, 3.297440709359768, 3.2367434821258105, 3.224342696790161, 3.1222797714260735, 3.101602499925627, 3.078738513229936, 3.064475441041032, 61.40011192721011, 4.032142619980034, 40.12059235165602, 13.286277015601623, 7.741620647848769, 6.142125089711511, 6.8618496900069745, 6.267200736827789, 8.654123233790896, 11.905412074848257, 10.175676664487177, 12.624672497821562, 7.053088267818867, 44.60283235164445, 20.85420176582322, 8.739479184068971, 15.06045817922118, 8.085721679978064, 5.663667342940365, 18.33280914373768, 10.051817546187184, 8.676140979988045, 6.871945701696283, 6.550739332868081, 5.890322836351809, 5.791920342701115, 17.11116068022147, 9.489763807047014, 8.62004757360128, 8.311338569916437, 7.782606809369392, 7.2759904704925775, 51.213548452166286, 5.755184331201489, 4.173104734728668, 3.8726955085187305, 3.6951391526494275, 3.632384118080154, 3.364763847577817, 2.9006000550836113, 2.8041280945552405, 2.725621811278501, 2.686789936384163, 2.663881915550447, 2.631427202316015, 2.6017327315435046, 2.5487844519555374, 2.5234830471947847, 2.4847354545130242, 2.3353878067818346, 2.283336757528792, 2.2622177132483525, 2.2582658299829133, 2.2311959419465994, 2.18700276582786, 2.1745024436966376, 5.868188882729956, 13.2428784423545, 11.584562409590252, 29.154464245567237, 7.870542598134838, 4.016652413978659, 3.689485028463861, 11.262923013579867, 8.345611989388718, 28.970292601923724, 8.848461606093823, 5.0614112574397945, 6.378996818493942, 3.540716820944143, 4.058269354178349, 3.93274975999523, 12.661787223156676, 9.848429649048745, 26.92171297929709, 14.520361256658214, 5.6761201112229935, 7.520868398209211, 5.9862226577925135, 6.362999939091601, 5.584001384701806, 5.816975315804976, 7.376907451821282, 6.231459073550317, 5.738396584461945, 5.7074061303521955, 9.088836083765418, 6.811115663414602, 5.089570813043093, 4.967339496988113, 4.852695142197783, 4.738315667944489, 4.522296349972935, 4.235848159797561, 3.9364454633573813, 3.564247725210173, 3.4606348657269876, 3.010943989288702, 2.9646928037513476, 2.9094845977010086, 2.528054087893505, 2.491101803562286, 2.3486661900732178, 2.107175220458788, 2.101092026948857, 2.069236790598782, 1.9970486912987784, 1.9714259381730788, 1.934125431959382, 1.92544923554517, 1.8694690349884628, 1.8638192164748313, 1.8075063752437068, 1.8055748489746644, 1.7699368214257019, 1.7681486060354523, 2.749319200030133, 11.919725625647134, 8.299892846563752, 6.8171872616069065, 3.200542470163528, 4.570402786330569, 5.473992190090945, 17.754493803669266, 4.03227532823729, 11.870395520926202, 6.195207901742146, 8.876154767855665, 2.750043182674453, 10.043934424899525, 24.68988373316321, 6.979783327735288, 5.105556770159939, 3.937945969929017, 5.3793175087296, 4.828513831994559, 4.3583316740109215, 5.722578044678239, 5.417374065887929, 5.2267474064579185, 4.137678214879104, 4.210477604830243, 4.325576713483747, 6.6945238565792335, 6.218734821610739, 4.100171042824657, 3.9343827871991133, 3.8993597872842116, 3.8353371883734133, 3.033410303355511, 2.697351369435501, 2.507365944293458, 2.472634441491372, 2.378946920334169, 2.3756633595434034, 2.3466291416289184, 2.300334047272642, 2.27730621173315, 2.159958696128124, 1.9081491188632522, 1.8313765758772445, 1.7851307916613097, 1.7779374749347332, 1.7118741053189448, 1.694034307465474, 1.6733305941158845, 1.6106310779087631, 1.6007517403811642, 1.5872698534558116, 1.5855949087182521, 1.5746330754253979, 1.5482085130503445, 1.536350369772875, 2.8706990586703345, 3.2561251523271895, 2.3534576505915523, 4.8835773882286215, 4.054058352350352, 3.3852551732363, 3.0387055433230414, 2.0383981454055404, 7.052958248518287, 2.3642698079716884, 4.615587393880238, 4.03085727676028, 2.6129967014481887, 3.717037361591939, 3.2370795106287886, 4.356489516049136, 4.522924767262405, 3.412240474817892, 5.207972946652629, 6.2452674590131485, 3.7907296935694745, 3.888151694204932, 3.568879153901363, 2.7950543942336132, 2.9419584661424056, 2.6370295038302163, 5.272878900044346, 5.115253926752369, 3.6622953782273546, 3.6056661499165776, 2.772943145853925, 2.5543638137737763, 1.9683190823244727, 1.3860880676130563, 1.3178350099012373, 1.2785648136310972, 1.2494376565278627, 1.1988097859641231, 1.1863734136152353, 1.1691395404639662, 1.1307724018744925, 1.0641247433789307, 1.0355198881786902, 0.9795696853362404, 0.9731638158184696, 0.9689367887939008, 0.9514788834302925, 0.9425028574225089, 0.8617553571565417, 0.8415533596407634, 0.8298064060071668, 0.8252811092919431, 0.7998323367531623, 0.7988196275674875, 0.7647001925150615, 0.72813927926837, 2.2278654044754345, 2.3166312122881885, 2.3138522010258478, 1.623032761995454, 0.9810020837326598, 1.3874334706830347, 2.0064406323375334, 1.9061960606554387, 2.5538246847090305, 2.110458007658355, 1.8397638558191662, 1.5140040819347027, 2.0775218630195553, 1.416004011671076, 1.6289450347685128, 1.3434474898273854, 1.3374574601696314, 1.408212485872862, 1.3801021072689286], \"Total\": [62.0, 51.0, 240.0, 44.0, 44.0, 67.0, 37.0, 38.0, 30.0, 30.0, 43.0, 41.0, 49.0, 25.0, 137.0, 25.0, 61.0, 17.0, 32.0, 33.0, 16.0, 139.0, 12.0, 18.0, 42.0, 22.0, 32.0, 20.0, 36.0, 14.0, 43.12061396197133, 12.820088439280047, 10.171043750027854, 9.35106377310124, 7.916382147500029, 7.694419028190554, 7.488109237217483, 7.478485745838783, 7.20182037070334, 7.160656234542803, 7.066372284157164, 6.899451161594944, 6.860831277801833, 6.835645796048919, 7.15261711365331, 6.659030650557885, 6.607628222578808, 6.474355497778634, 6.471226909351968, 6.372937339022849, 6.4044039218789806, 6.34088216814742, 6.2664745089689236, 6.238491983412079, 6.105663979753411, 5.882773671946422, 5.5869258573682306, 5.512521884390176, 5.426617439318382, 5.361157646695924, 18.307227693089082, 11.43393853267131, 14.503847529203636, 10.20305199633119, 8.10959848084552, 12.705317086101878, 18.364670645090463, 26.710898194104438, 16.25032779230928, 33.62527986285027, 17.171361966176843, 15.574698377121956, 16.688918026271736, 13.735399070043599, 18.50456621011547, 42.403196062660896, 8.505430668958539, 20.451612324768707, 10.364599790923961, 12.421869213828021, 12.621118296916476, 19.01365179217122, 49.17299069703608, 11.254945831347126, 139.4129419585827, 12.775855190221424, 240.04722954017655, 18.294785984283457, 49.80262866367442, 61.93161299813342, 137.05516705411424, 30.092712275044732, 47.08843184502504, 24.56882053970765, 17.617385324496478, 67.64219608747052, 34.291031760025724, 67.7070529184629, 26.644166445858705, 23.021649222341924, 30.413629930918617, 14.661641822916565, 11.547517312104254, 11.046730810330306, 9.168829660107406, 8.821962239603033, 7.600862081943671, 7.401829845537699, 6.353552309535588, 6.206701014377799, 5.57798148966192, 5.144132481634111, 5.117703700838029, 5.106133533393387, 4.983924001008456, 4.887384320010178, 4.6904840871007165, 4.678744945732418, 4.669101038647239, 4.654651828761791, 4.485486560148152, 4.466181279599489, 4.397505469071427, 4.202179721365926, 4.118624977911649, 4.087678359239387, 4.081152626032836, 4.054002034759497, 3.9596721206644117, 3.722434101520242, 3.6598650082592896, 9.37124912647716, 16.045532615914087, 8.263011053727217, 7.765586161303363, 5.032087569403836, 41.670279260898184, 22.637670430851234, 12.758390420612386, 8.293761226744602, 25.901378690235408, 20.057536705563628, 17.965725950794102, 29.119719177429715, 58.67922710937823, 18.75109235758062, 46.43635573613595, 9.855231441443388, 19.707853905431634, 18.367737736216025, 21.572424557028327, 30.413629930918617, 21.54340903093325, 23.80265411401458, 137.05516705411424, 14.871072937617626, 31.287100696822108, 139.4129419585827, 9.58947685277211, 6.41950662808972, 5.212924636248425, 4.1889259140702295, 4.027260797767163, 4.014869293046256, 3.810681220288403, 3.6672756726307174, 3.646702852605876, 3.6151308850010277, 3.609396063329058, 3.557713334850589, 3.4685019632640928, 3.4326752595143946, 3.1459395944053647, 3.08175337691879, 3.0170887628139225, 2.9835954150615613, 2.981615352056308, 2.9658892822706715, 2.819232511141442, 2.8022747097706526, 2.750700759190359, 2.6907510914045014, 2.659916024957543, 2.5923352756364206, 2.5729594480964155, 2.5470707549161014, 2.522401839684548, 2.5199921435915518, 16.120622265875003, 5.804689512387123, 6.176882355046447, 12.184287241091337, 5.932302559689894, 3.829928823849887, 5.229698788060905, 7.583889214775088, 11.58518964794348, 9.565917944801974, 137.05516705411424, 22.526803726025815, 240.04722954017655, 36.14548450049046, 14.519860565267127, 10.741672527507875, 46.43635573613595, 17.30122817140896, 139.4129419585827, 61.93161299813342, 38.73214483520569, 10.68702297269462, 11.029012957817566, 32.00384983209963, 31.287100696822108, 33.01930094249745, 67.64219608747052, 10.16943961787972, 18.52003610613599, 16.453905197415622, 47.08843184502504, 10.909796561917428, 7.891375315942652, 4.428281385668765, 4.312527675013298, 3.4780651332527635, 3.223766205641746, 3.068099438622347, 2.9915169212221224, 2.931381544803522, 2.8710942411152347, 2.79209146247373, 2.7553911685225674, 2.5909598359061436, 2.481168406800571, 2.452258310162873, 2.249247690123031, 2.135538467076695, 2.0818298249818517, 2.069242180892554, 2.04973603820061, 2.0487454184769907, 2.0328729286817704, 1.9995230231370837, 1.9743992765423573, 1.7993139209973028, 1.7739791513451237, 1.771171344288435, 1.7558165297926023, 1.7549388586123418, 1.75405829098367, 4.288173422077329, 3.9190360840417098, 30.854070309901026, 7.21679189852284, 22.858276052457835, 30.939901633674165, 9.307668364901321, 13.921245183338456, 3.4218899096256594, 6.5175388314602145, 10.955931496569091, 8.642371876870651, 67.7070529184629, 14.519860565267127, 15.349410085645149, 33.17800585443421, 137.05516705411424, 15.89029967248498, 49.80262866367442, 19.502373606150357, 139.4129419585827, 67.64219608747052, 58.67922710937823, 9.650787430308778, 11.747899579291492, 25.133746715979974, 46.43635573613595, 61.93161299813342, 240.04722954017655, 47.08843184502504, 36.14548450049046, 33.01930094249745, 49.17299069703608, 41.670279260898184, 8.556961074895604, 7.62671700967185, 7.032043294956856, 5.91222215092214, 5.907256555123555, 5.887106699916047, 5.639997529358466, 5.345671205917601, 5.285977641149511, 4.610179516659255, 4.43833422792039, 4.271642851658899, 4.272895124629455, 4.138147220206224, 4.044235036271519, 3.89004138997055, 3.87681992318935, 3.859271929858593, 3.820516604637436, 3.742171556736201, 3.5526939411520315, 3.5457401843252536, 3.4946661887208093, 3.306425198867323, 3.245718275156505, 3.2333302494294305, 3.1312585360950225, 3.1105796736393643, 3.0877208679632573, 3.073455004766056, 62.910024687410456, 4.044264873824282, 44.87937891034221, 14.894500205677474, 8.360636367545974, 6.732592687597053, 7.812637058378715, 7.099638424120472, 11.026126664539406, 19.072111370473422, 15.767276625118662, 25.294048533347823, 10.489590798633662, 240.04722954017655, 67.7070529184629, 15.89029967248498, 44.05718664690564, 15.642801495590268, 8.269289801769126, 139.4129419585827, 38.61585035880565, 33.17800585443421, 29.119719177429715, 30.854070309901026, 13.701415435328174, 33.01930094249745, 17.120389038195242, 9.498992472811855, 8.629278224589076, 8.320575997138478, 7.79183497656708, 7.285219794258115, 51.282996667491155, 5.7644113774922126, 4.182341604114747, 3.881924829583799, 3.7043705117266392, 3.641625226431141, 3.3739912906950176, 2.909829308024744, 2.813357866641, 2.734851058757728, 2.69602188726745, 2.6731119910966004, 2.640661026369766, 2.610973283684937, 2.558011329202768, 2.532712196702144, 2.493962077837087, 2.3446215708594615, 2.292564794743957, 2.2714453891642363, 2.2674993592987405, 2.2404311631884997, 2.196231820085525, 2.1837438456002967, 5.97225973988357, 14.696802163545827, 13.317865862548127, 37.45463180044597, 9.045259067541206, 4.303557559920694, 3.9298994066797195, 14.250791831250735, 10.129252183718478, 44.05718664690564, 11.357475692336095, 5.844728751997661, 8.269851350669645, 3.8561185532867612, 4.6503258288830045, 4.527389429312463, 25.294048533347823, 25.417929229850493, 240.04722954017655, 137.05516705411424, 12.514228613283127, 31.287100696822108, 18.368545730677276, 24.297327165373588, 15.767276625118662, 21.54340903093325, 67.64219608747052, 58.67922710937823, 38.73214483520569, 36.14548450049046, 9.098258834962401, 6.8205354644648475, 5.098992225080075, 4.976762331545752, 4.862119611755457, 4.747738361309128, 4.53171834688719, 4.245269648912177, 3.9458787127665516, 3.5736728650262304, 3.470060359467146, 3.02036694011144, 2.974115832017731, 2.918909031760871, 2.537479439555173, 2.5005256033473504, 2.3580901736853055, 2.116603289657043, 2.110527476141935, 2.0786683163756106, 2.006469346421811, 1.9808511611909718, 1.9435459949734377, 1.934875749910788, 1.8788899414239315, 1.8732404923385704, 1.8169359307846393, 1.8149980474129344, 1.7793597027894923, 1.7775828945558685, 2.7948365194362523, 12.901240360458154, 9.1347663335123, 7.714096484182487, 3.466397550172135, 5.307175745424565, 7.2485381395029505, 38.61585035880565, 5.361002395621889, 25.417929229850493, 10.356325695009327, 18.367737736216025, 3.255805509980283, 32.3820345259007, 240.04722954017655, 20.057536705563628, 10.907330748770681, 7.067815490897568, 18.75109235758062, 15.642801495590268, 12.444067617047741, 36.14548450049046, 32.00384983209963, 37.45463180044597, 11.684954471234304, 14.751432218410828, 67.64219608747052, 6.704320379993184, 6.228534032007231, 4.109965474350286, 3.9441769231492083, 3.909177868065722, 3.8451331970789795, 3.0432059633580866, 2.7071456006966277, 2.517174193645516, 2.482430876829438, 2.388740759020171, 2.385464568583409, 2.3564291369985177, 2.310129555196424, 2.287111372079774, 2.1697537091936523, 1.9179478046882843, 1.8412546043895044, 1.7949283662980082, 1.7877405462813654, 1.721674953600949, 1.7038439990887668, 1.6831272365323477, 1.6204255167030732, 1.610545384763501, 1.59707083173914, 1.5954175798435333, 1.58442877184513, 1.558008587777506, 1.5461557437503644, 2.9465375161654226, 3.4735464686562096, 2.4475199420161675, 5.417665279042724, 4.643304288720285, 3.7909673004483952, 3.5044279824745384, 2.15789470908828, 11.747899579291492, 2.7463132977895888, 7.249697027819769, 6.0900651605049285, 3.2595262965279286, 5.81246093314075, 4.95945861688662, 11.684954471234304, 15.349410085645149, 7.4806871983332766, 26.093004297089422, 49.80262866367442, 20.09515647659467, 30.939901633674165, 30.092712275044732, 12.363725180960023, 137.05516705411424, 10.285474203676422, 5.2831251071066045, 5.125495460098015, 3.6725388672746826, 3.615911223845138, 2.7831846825488356, 2.564605617469398, 1.9785649234490856, 1.3963303571509353, 1.3280766663675316, 1.288809953222948, 1.2596882116834283, 1.2090554460617504, 1.1966158015943782, 1.1793836892849336, 1.1410193304530536, 1.0743670152746378, 1.0457617308352973, 0.989811441486373, 0.98340823666045, 0.979178702722967, 0.9617206208290904, 0.9527761939583379, 0.8720071879099462, 0.8517955224823748, 0.8400478323917916, 0.8355272856136029, 0.8100740215115321, 0.8090720962362925, 0.7749439184861358, 0.7383809675526484, 2.904487189500772, 8.233347881328797, 11.387459435029395, 5.9123688188865025, 1.493720063612716, 6.712101546531157, 38.73214483520569, 32.00384983209963, 139.4129419585827, 67.7070529184629, 33.17800585443421, 14.641935995020154, 137.05516705411424, 12.72467098651283, 61.93161299813342, 16.453905197415622, 18.75109235758062, 58.67922710937823, 46.43635573613595], \"Category\": [\"Default\", \"Default\", \"Default\", \"Default\", \"Default\", \"Default\", \"Default\", \"Default\", \"Default\", \"Default\", \"Default\", \"Default\", \"Default\", \"Default\", \"Default\", \"Default\", \"Default\", \"Default\", \"Default\", \"Default\", \"Default\", \"Default\", \"Default\", \"Default\", \"Default\", \"Default\", \"Default\", \"Default\", \"Default\", \"Default\", \"Topic1\", \"Topic1\", \"Topic1\", \"Topic1\", \"Topic1\", \"Topic1\", \"Topic1\", \"Topic1\", \"Topic1\", \"Topic1\", \"Topic1\", \"Topic1\", \"Topic1\", \"Topic1\", \"Topic1\", \"Topic1\", \"Topic1\", \"Topic1\", \"Topic1\", \"Topic1\", \"Topic1\", \"Topic1\", \"Topic1\", \"Topic1\", \"Topic1\", \"Topic1\", \"Topic1\", \"Topic1\", \"Topic1\", \"Topic1\", \"Topic1\", \"Topic1\", \"Topic1\", \"Topic1\", \"Topic1\", \"Topic1\", \"Topic1\", \"Topic1\", \"Topic1\", \"Topic1\", \"Topic1\", \"Topic1\", \"Topic1\", \"Topic1\", \"Topic1\", \"Topic1\", \"Topic1\", \"Topic1\", \"Topic1\", \"Topic1\", \"Topic1\", \"Topic1\", \"Topic1\", \"Topic1\", \"Topic1\", \"Topic1\", \"Topic1\", \"Topic1\", \"Topic1\", \"Topic1\", \"Topic1\", \"Topic1\", \"Topic1\", \"Topic1\", \"Topic1\", \"Topic1\", \"Topic1\", \"Topic1\", \"Topic1\", \"Topic1\", \"Topic1\", \"Topic2\", \"Topic2\", \"Topic2\", \"Topic2\", \"Topic2\", \"Topic2\", \"Topic2\", \"Topic2\", \"Topic2\", \"Topic2\", \"Topic2\", \"Topic2\", \"Topic2\", \"Topic2\", \"Topic2\", \"Topic2\", \"Topic2\", \"Topic2\", \"Topic2\", \"Topic2\", \"Topic2\", \"Topic2\", \"Topic2\", \"Topic2\", \"Topic2\", \"Topic2\", \"Topic2\", \"Topic2\", \"Topic2\", \"Topic2\", \"Topic2\", \"Topic2\", \"Topic2\", \"Topic2\", \"Topic2\", \"Topic2\", \"Topic2\", \"Topic2\", \"Topic2\", \"Topic2\", \"Topic2\", \"Topic2\", \"Topic2\", \"Topic2\", \"Topic2\", \"Topic2\", \"Topic2\", \"Topic2\", \"Topic2\", \"Topic2\", \"Topic2\", \"Topic2\", \"Topic2\", \"Topic2\", \"Topic2\", \"Topic2\", \"Topic2\", \"Topic3\", \"Topic3\", \"Topic3\", \"Topic3\", \"Topic3\", \"Topic3\", \"Topic3\", \"Topic3\", \"Topic3\", \"Topic3\", \"Topic3\", \"Topic3\", \"Topic3\", \"Topic3\", \"Topic3\", \"Topic3\", \"Topic3\", \"Topic3\", \"Topic3\", \"Topic3\", \"Topic3\", \"Topic3\", \"Topic3\", \"Topic3\", \"Topic3\", \"Topic3\", \"Topic3\", \"Topic3\", \"Topic3\", \"Topic3\", \"Topic3\", \"Topic3\", \"Topic3\", \"Topic3\", \"Topic3\", \"Topic3\", \"Topic3\", \"Topic3\", \"Topic3\", \"Topic3\", \"Topic3\", \"Topic3\", \"Topic3\", \"Topic3\", \"Topic3\", \"Topic3\", \"Topic3\", \"Topic3\", \"Topic3\", \"Topic3\", \"Topic3\", \"Topic3\", \"Topic3\", \"Topic3\", \"Topic3\", \"Topic3\", \"Topic3\", \"Topic3\", \"Topic3\", \"Topic3\", \"Topic3\", \"Topic4\", \"Topic4\", \"Topic4\", \"Topic4\", \"Topic4\", \"Topic4\", \"Topic4\", \"Topic4\", \"Topic4\", \"Topic4\", \"Topic4\", \"Topic4\", \"Topic4\", \"Topic4\", \"Topic4\", \"Topic4\", \"Topic4\", \"Topic4\", \"Topic4\", \"Topic4\", \"Topic4\", \"Topic4\", \"Topic4\", \"Topic4\", \"Topic4\", \"Topic4\", \"Topic4\", \"Topic4\", \"Topic4\", \"Topic4\", \"Topic4\", \"Topic4\", \"Topic4\", \"Topic4\", \"Topic4\", \"Topic4\", \"Topic4\", \"Topic4\", \"Topic4\", \"Topic4\", \"Topic4\", \"Topic4\", \"Topic4\", \"Topic4\", \"Topic4\", \"Topic4\", \"Topic4\", \"Topic4\", \"Topic4\", \"Topic4\", \"Topic4\", \"Topic4\", \"Topic4\", \"Topic4\", \"Topic4\", \"Topic4\", \"Topic4\", \"Topic4\", \"Topic4\", \"Topic4\", \"Topic4\", \"Topic4\", \"Topic4\", \"Topic4\", \"Topic5\", \"Topic5\", \"Topic5\", \"Topic5\", \"Topic5\", \"Topic5\", \"Topic5\", \"Topic5\", \"Topic5\", \"Topic5\", \"Topic5\", \"Topic5\", \"Topic5\", \"Topic5\", \"Topic5\", \"Topic5\", \"Topic5\", \"Topic5\", \"Topic5\", \"Topic5\", \"Topic5\", \"Topic5\", \"Topic5\", \"Topic5\", \"Topic5\", \"Topic5\", \"Topic5\", \"Topic5\", \"Topic5\", \"Topic5\", \"Topic5\", \"Topic5\", \"Topic5\", \"Topic5\", \"Topic5\", \"Topic5\", \"Topic5\", \"Topic5\", \"Topic5\", \"Topic5\", \"Topic5\", \"Topic5\", \"Topic5\", \"Topic5\", \"Topic5\", \"Topic5\", \"Topic5\", \"Topic5\", \"Topic5\", \"Topic5\", \"Topic5\", \"Topic5\", \"Topic5\", \"Topic5\", \"Topic5\", \"Topic5\", \"Topic6\", \"Topic6\", \"Topic6\", \"Topic6\", \"Topic6\", \"Topic6\", \"Topic6\", \"Topic6\", \"Topic6\", \"Topic6\", \"Topic6\", \"Topic6\", \"Topic6\", \"Topic6\", \"Topic6\", \"Topic6\", \"Topic6\", \"Topic6\", \"Topic6\", \"Topic6\", \"Topic6\", \"Topic6\", \"Topic6\", \"Topic6\", \"Topic6\", \"Topic6\", \"Topic6\", \"Topic6\", \"Topic6\", \"Topic6\", \"Topic6\", \"Topic6\", \"Topic6\", \"Topic6\", \"Topic6\", \"Topic6\", \"Topic6\", \"Topic6\", \"Topic6\", \"Topic6\", \"Topic6\", \"Topic6\", \"Topic6\", \"Topic6\", \"Topic6\", \"Topic6\", \"Topic6\", \"Topic6\", \"Topic6\", \"Topic6\", \"Topic6\", \"Topic6\", \"Topic6\", \"Topic6\", \"Topic6\", \"Topic6\", \"Topic6\", \"Topic6\", \"Topic6\", \"Topic6\", \"Topic7\", \"Topic7\", \"Topic7\", \"Topic7\", \"Topic7\", \"Topic7\", \"Topic7\", \"Topic7\", \"Topic7\", \"Topic7\", \"Topic7\", \"Topic7\", \"Topic7\", \"Topic7\", \"Topic7\", \"Topic7\", \"Topic7\", \"Topic7\", \"Topic7\", \"Topic7\", \"Topic7\", \"Topic7\", \"Topic7\", \"Topic7\", \"Topic7\", \"Topic7\", \"Topic7\", \"Topic7\", \"Topic7\", \"Topic7\", \"Topic7\", \"Topic7\", \"Topic7\", \"Topic7\", \"Topic7\", \"Topic7\", \"Topic7\", \"Topic7\", \"Topic7\", \"Topic7\", \"Topic7\", \"Topic7\", \"Topic7\", \"Topic7\", \"Topic7\", \"Topic7\", \"Topic7\", \"Topic7\", \"Topic7\", \"Topic7\", \"Topic7\", \"Topic7\", \"Topic7\", \"Topic7\", \"Topic7\", \"Topic7\", \"Topic7\", \"Topic8\", \"Topic8\", \"Topic8\", \"Topic8\", \"Topic8\", \"Topic8\", \"Topic8\", \"Topic8\", \"Topic8\", \"Topic8\", \"Topic8\", \"Topic8\", \"Topic8\", \"Topic8\", \"Topic8\", \"Topic8\", \"Topic8\", \"Topic8\", \"Topic8\", \"Topic8\", \"Topic8\", \"Topic8\", \"Topic8\", \"Topic8\", \"Topic8\", \"Topic8\", \"Topic8\", \"Topic8\", \"Topic8\", \"Topic8\", \"Topic8\", \"Topic8\", \"Topic8\", \"Topic8\", \"Topic8\", \"Topic8\", \"Topic8\", \"Topic8\", \"Topic8\", \"Topic8\", \"Topic8\", \"Topic8\", \"Topic8\", \"Topic8\", \"Topic8\", \"Topic8\", \"Topic8\", \"Topic8\", \"Topic8\", \"Topic8\", \"Topic8\", \"Topic8\", \"Topic8\", \"Topic8\", \"Topic8\", \"Topic8\", \"Topic9\", \"Topic9\", \"Topic9\", \"Topic9\", \"Topic9\", \"Topic9\", \"Topic9\", \"Topic9\", \"Topic9\", \"Topic9\", \"Topic9\", \"Topic9\", \"Topic9\", \"Topic9\", \"Topic9\", \"Topic9\", \"Topic9\", \"Topic9\", \"Topic9\", \"Topic9\", \"Topic9\", \"Topic9\", \"Topic9\", \"Topic9\", \"Topic9\", \"Topic9\", \"Topic9\", \"Topic9\", \"Topic9\", \"Topic9\", \"Topic9\", \"Topic9\", \"Topic9\", \"Topic9\", \"Topic9\", \"Topic9\", \"Topic9\", \"Topic9\", \"Topic9\", \"Topic9\", \"Topic9\", \"Topic9\", \"Topic9\", \"Topic9\", \"Topic9\", \"Topic9\", \"Topic9\", \"Topic9\", \"Topic9\"], \"logprob\": [30.0, 29.0, 28.0, 27.0, 26.0, 25.0, 24.0, 23.0, 22.0, 21.0, 20.0, 19.0, 18.0, 17.0, 16.0, 15.0, 14.0, 13.0, 12.0, 11.0, 10.0, 9.0, 8.0, 7.0, 6.0, 5.0, 4.0, 3.0, 2.0, 1.0, -4.6303, -5.8437, -6.0754, -6.1595, -6.3262, -6.3547, -6.3819, -6.3832, -6.4209, -6.4267, -6.4399, -6.4639, -6.4695, -6.4732, -6.4278, -6.4994, -6.5071, -6.5275, -6.528, -6.5433, -6.5384, -6.5484, -6.5602, -6.5647, -6.5862, -6.6235, -6.6752, -6.6886, -6.7043, -6.7165, -5.4921, -5.9597, -5.7264, -6.0746, -6.3079, -5.8732, -5.5273, -5.1732, -5.6492, -4.9717, -5.6042, -5.6972, -5.6332, -5.8166, -5.5417, -4.7715, -6.2713, -5.4818, -6.1034, -5.949, -5.951, -5.6162, -4.8649, -6.0598, -4.1375, -5.9669, -3.7765, -5.7028, -4.9699, -4.8608, -4.316, -5.3773, -5.1753, -5.5806, -5.7735, -5.0969, -5.4452, -5.1373, -5.5987, -5.6586, -5.7359, -4.7159, -4.9549, -4.9993, -5.1858, -5.2244, -5.3735, -5.4001, -5.553, -5.5764, -5.6834, -5.7645, -5.7697, -5.772, -5.7962, -5.8158, -5.857, -5.8595, -5.8616, -5.8647, -5.9018, -5.9061, -5.9217, -5.9672, -5.9873, -5.9949, -5.9965, -6.0032, -6.0268, -6.0887, -6.1057, -5.1758, -4.6661, -5.3118, -5.3863, -5.7997, -4.0064, -4.627, -5.085, -5.4693, -4.6808, -4.9302, -5.0192, -4.763, -4.413, -5.1004, -4.7881, -5.5013, -5.2098, -5.2534, -5.1959, -5.0696, -5.2052, -5.2174, -4.7962, -5.4031, -5.2785, -5.2659, -4.9771, -5.3789, -5.5874, -5.8066, -5.846, -5.8491, -5.9014, -5.9399, -5.9455, -5.9542, -5.9558, -5.9703, -5.9958, -6.0062, -6.0936, -6.1143, -6.1356, -6.1468, -6.1475, -6.1528, -6.2036, -6.2097, -6.2283, -6.2504, -6.262, -6.2878, -6.2954, -6.3055, -6.3153, -6.3162, -4.4617, -5.489, -5.4656, -4.8535, -5.603, -5.9795, -5.7728, -5.5099, -5.239, -5.4843, -3.9754, -5.0097, -3.7117, -4.7952, -5.3884, -5.5704, -4.9605, -5.3811, -4.5767, -4.9029, -5.117, -5.6025, -5.6018, -5.2889, -5.3186, -5.3284, -5.1599, -5.6418, -5.5369, -5.592, -5.5046, -4.8163, -5.1405, -5.7192, -5.7458, -5.9614, -6.0375, -6.0872, -6.1125, -6.1329, -6.1538, -6.1818, -6.195, -6.2568, -6.3003, -6.312, -6.3988, -6.4509, -6.4765, -6.4826, -6.4921, -6.4926, -6.5004, -6.5171, -6.5298, -6.6231, -6.6374, -6.639, -6.6477, -6.6482, -6.6487, -5.7732, -5.8626, -4.0278, -5.4024, -4.4059, -4.2183, -5.2469, -4.999, -6.1012, -5.6665, -5.4049, -5.5694, -4.3704, -5.3563, -5.3247, -4.893, -4.4856, -5.4621, -4.9976, -5.3839, -4.602, -4.9007, -5.0032, -5.6816, -5.663, -5.431, -5.2527, -5.1834, -5.1008, -5.4199, -5.4658, -5.5172, -5.4833, -5.5354, -5.0479, -5.1631, -5.2444, -5.4181, -5.4189, -5.4223, -5.4653, -5.519, -5.5302, -5.6673, -5.7053, -5.7437, -5.7434, -5.7755, -5.7985, -5.8375, -5.8409, -5.8454, -5.8555, -5.8764, -5.9284, -5.9304, -5.9449, -6.0004, -6.019, -6.0229, -6.055, -6.0617, -6.0691, -6.0737, -3.0762, -5.7993, -3.5017, -4.6068, -5.147, -5.3784, -5.2676, -5.3582, -5.0355, -4.7166, -4.8736, -4.6579, -5.2401, -3.3958, -4.156, -5.0257, -4.4815, -5.1035, -5.4595, -4.2849, -4.8858, -5.033, -5.2661, -5.314, -5.4203, -5.4371, -4.2829, -4.8724, -4.9685, -5.005, -5.0707, -5.138, -3.1866, -5.3725, -5.694, -5.7687, -5.8156, -5.8327, -5.9093, -6.0577, -6.0915, -6.1199, -6.1343, -6.1428, -6.1551, -6.1664, -6.187, -6.197, -6.2125, -6.2744, -6.297, -6.3063, -6.308, -6.3201, -6.3401, -6.3458, -5.3531, -4.5392, -4.6729, -3.75, -5.0595, -5.7322, -5.8171, -4.7011, -5.0009, -3.7563, -4.9424, -5.501, -5.2696, -5.8583, -5.7219, -5.7533, -4.584, -4.8353, -3.8297, -4.4471, -5.3863, -5.1049, -5.3332, -5.2721, -5.4027, -5.3618, -5.1243, -5.293, -5.3754, -5.3809, -4.4499, -4.7384, -5.0297, -5.054, -5.0774, -5.1012, -5.1479, -5.2133, -5.2866, -5.386, -5.4155, -5.5547, -5.5701, -5.5889, -5.7295, -5.7442, -5.8031, -5.9116, -5.9145, -5.9297, -5.9652, -5.9782, -5.9973, -6.0018, -6.0313, -6.0343, -6.065, -6.066, -6.086, -6.087, -5.6456, -4.1787, -4.5407, -4.7375, -5.4936, -5.1373, -4.9569, -3.7803, -5.2626, -4.1829, -4.8331, -4.4735, -5.6453, -4.3499, -3.4505, -4.7139, -5.0266, -5.2863, -4.9744, -5.0824, -5.1848, -4.9125, -4.9673, -5.0031, -5.2368, -5.2193, -5.1924, -4.536, -4.6098, -5.0263, -5.0676, -5.0765, -5.0931, -5.3276, -5.4451, -5.5181, -5.532, -5.5707, -5.5721, -5.5843, -5.6043, -5.6143, -5.6672, -5.7912, -5.8323, -5.8578, -5.8619, -5.8997, -5.9102, -5.9225, -5.9607, -5.9669, -5.9753, -5.9764, -5.9833, -6.0002, -6.0079, -5.3828, -5.2568, -5.5814, -4.8515, -5.0376, -5.2179, -5.3259, -5.7252, -4.4839, -5.5769, -4.9079, -5.0433, -5.4768, -5.1244, -5.2627, -4.9657, -4.9282, -5.21, -4.7871, -4.6055, -5.1048, -5.0794, -5.1651, -5.4095, -5.3583, -5.4677, -3.802, -3.8324, -4.1665, -4.1821, -4.4447, -4.5268, -4.7874, -5.1381, -5.1886, -5.2189, -5.2419, -5.2833, -5.2937, -5.3083, -5.3417, -5.4025, -5.4297, -5.4853, -5.4918, -5.4962, -5.5143, -5.5238, -5.6134, -5.6371, -5.6512, -5.6566, -5.688, -5.6892, -5.7329, -5.7819, -4.6636, -4.6245, -4.6257, -4.9803, -5.4838, -5.1372, -4.7682, -4.8195, -4.527, -4.7177, -4.855, -5.0499, -4.7334, -5.1168, -4.9767, -5.1694, -5.1738, -5.1223, -5.1425], \"loglift\": [30.0, 29.0, 28.0, 27.0, 26.0, 25.0, 24.0, 23.0, 22.0, 21.0, 20.0, 19.0, 18.0, 17.0, 16.0, 15.0, 14.0, 13.0, 12.0, 11.0, 10.0, 9.0, 8.0, 7.0, 6.0, 5.0, 4.0, 3.0, 2.0, 1.0, 1.0787, 1.0782, 1.078, 1.078, 1.0778, 1.0778, 1.0777, 1.0777, 1.0777, 1.0777, 1.0777, 1.0776, 1.0776, 1.0776, 1.0776, 1.0776, 1.0776, 1.0776, 1.0776, 1.0775, 1.0775, 1.0775, 1.0775, 1.0775, 1.0775, 1.0774, 1.0773, 1.0773, 1.0773, 1.0773, 1.0736, 1.0766, 1.0721, 1.0756, 1.072, 1.0577, 1.0352, 1.0147, 1.0357, 0.986, 1.0255, 1.0301, 1.025, 1.0364, 1.0132, 0.9543, 1.0609, 0.9731, 1.0312, 1.0044, 0.9865, 0.9116, 0.7127, 0.9923, 0.398, 0.9585, 0.2156, 0.8635, 0.595, 0.4861, 0.2366, 0.6914, 0.4456, 0.6908, 0.8306, 0.1618, 0.4928, 0.1205, 0.5916, 0.6779, 0.3222, 2.0718, 2.0716, 2.0715, 2.0714, 2.0713, 2.0711, 2.0711, 2.0709, 2.0709, 2.0707, 2.0705, 2.0705, 2.0705, 2.0705, 2.0704, 2.0704, 2.0704, 2.0704, 2.0704, 2.0703, 2.0703, 2.0702, 2.0701, 2.0701, 2.0701, 2.0701, 2.07, 2.07, 2.0698, 2.0698, 2.0595, 2.0314, 2.0493, 2.0369, 2.0574, 1.7368, 1.7264, 1.8417, 1.8881, 1.5378, 1.5441, 1.5653, 1.3386, 0.9878, 1.4413, 0.8468, 1.6836, 1.2821, 1.3089, 1.2056, 0.9885, 1.1976, 1.0857, -0.2436, 1.3704, 0.7512, -0.7304, 2.2352, 2.2347, 2.2344, 2.2339, 2.2338, 2.2338, 2.2337, 2.2336, 2.2336, 2.2336, 2.2336, 2.2335, 2.2335, 2.2334, 2.2332, 2.2331, 2.2331, 2.233, 2.233, 2.233, 2.2328, 2.2328, 2.2327, 2.2327, 2.2326, 2.2325, 2.2325, 2.2325, 2.2324, 2.2324, 2.2311, 2.2253, 2.1865, 2.1193, 2.0896, 2.1506, 2.0458, 1.937, 1.7842, 1.7304, 0.5771, 1.3486, 0.2804, 1.0902, 1.409, 1.5284, 0.6743, 1.2411, -0.0413, 0.444, 0.6993, 1.5014, 1.4706, 0.7182, 0.7111, 0.6474, 0.0988, 1.5117, 1.0172, 1.0804, 0.1163, 2.267, 2.2667, 2.2657, 2.2656, 2.2651, 2.2649, 2.2647, 2.2646, 2.2646, 2.2645, 2.2644, 2.2643, 2.2641, 2.2639, 2.2639, 2.2635, 2.2633, 2.2632, 2.2631, 2.2631, 2.2631, 2.263, 2.263, 2.2629, 2.2624, 2.2623, 2.2623, 2.2623, 2.2623, 2.2623, 2.2438, 2.2445, 2.0159, 2.0942, 1.9377, 1.8226, 1.9952, 1.8405, 2.1415, 1.932, 1.6741, 1.7469, 0.8873, 1.4412, 1.4172, 1.078, 0.067, 1.2451, 0.5672, 1.1185, -0.0665, 0.358, 0.3976, 1.5243, 1.3463, 0.8177, 0.3822, 0.1635, -1.1087, 0.2011, 0.4196, 0.4587, 0.0943, 0.2077, 2.2783, 2.2782, 2.2781, 2.2778, 2.2778, 2.2778, 2.2778, 2.2777, 2.2777, 2.2774, 2.2773, 2.2773, 2.2773, 2.2772, 2.2771, 2.277, 2.277, 2.277, 2.277, 2.2769, 2.2768, 2.2768, 2.2768, 2.2766, 2.2766, 2.2766, 2.2765, 2.2765, 2.2764, 2.2764, 2.2551, 2.2764, 2.1673, 2.1651, 2.2024, 2.1876, 2.1496, 2.1546, 2.0371, 1.8081, 1.8414, 1.5844, 1.8824, 0.5963, 1.1017, 1.6815, 1.2059, 1.6194, 1.9009, 0.2506, 0.9334, 0.938, 0.8354, 0.7297, 1.4352, 0.5387, 2.3498, 2.3493, 2.3492, 2.3492, 2.3491, 2.3491, 2.349, 2.3487, 2.3481, 2.3479, 2.3478, 2.3478, 2.3476, 2.3471, 2.347, 2.3469, 2.3469, 2.3469, 2.3468, 2.3468, 2.3467, 2.3467, 2.3466, 2.3464, 2.3463, 2.3462, 2.3462, 2.3462, 2.3461, 2.3461, 2.3327, 2.2461, 2.2109, 2.0998, 2.2112, 2.2813, 2.2872, 2.115, 2.1566, 1.9311, 2.1007, 2.2064, 2.0907, 2.265, 2.2141, 2.2095, 1.6583, 1.4022, 0.1624, 0.1055, 1.5597, 0.9248, 1.2291, 1.0105, 1.3123, 1.041, 0.1344, 0.1078, 0.4408, 0.5045, 2.815, 2.8146, 2.8142, 2.8141, 2.8141, 2.814, 2.8139, 2.8138, 2.8136, 2.8134, 2.8133, 2.8129, 2.8128, 2.8128, 2.8123, 2.8122, 2.812, 2.8116, 2.8115, 2.8115, 2.8113, 2.8112, 2.8112, 2.8111, 2.811, 2.811, 2.8108, 2.8108, 2.8107, 2.8107, 2.7996, 2.7369, 2.7202, 2.6924, 2.7362, 2.6666, 2.5352, 2.039, 2.5312, 2.0546, 2.3022, 2.0888, 2.6472, 1.6454, 0.5416, 1.7604, 2.0569, 2.2311, 1.5673, 1.6405, 1.7669, 0.9729, 1.0398, 0.8467, 1.7779, 1.5623, 0.0663, 3.0341, 3.034, 3.0332, 3.0331, 3.0331, 3.0331, 3.0324, 3.032, 3.0317, 3.0317, 3.0315, 3.0315, 3.0314, 3.0314, 3.0313, 3.0311, 3.0305, 3.0302, 3.0301, 3.0301, 3.0299, 3.0298, 3.0298, 3.0295, 3.0295, 3.0295, 3.0294, 3.0294, 3.0293, 3.0292, 3.0095, 2.971, 2.9964, 2.9318, 2.8999, 2.9224, 2.893, 2.9786, 2.5254, 2.8858, 2.5841, 2.6229, 2.8145, 2.5885, 2.609, 2.049, 1.8137, 2.2507, 1.4241, 0.9594, 1.3677, 0.9615, 0.9036, 1.5487, -0.8057, 1.6745, 4.0064, 4.0063, 4.0055, 4.0055, 4.0046, 4.0043, 4.0031, 4.001, 4.0006, 4.0003, 4.0002, 3.9998, 3.9997, 3.9996, 3.9993, 3.9987, 3.9985, 3.9979, 3.9979, 3.9978, 3.9976, 3.9975, 3.9965, 3.9962, 3.9961, 3.996, 3.9956, 3.9956, 3.995, 3.9944, 3.7431, 2.7402, 2.4147, 2.7156, 3.5879, 2.4319, 1.048, 1.1876, 0.0085, 0.54, 1.1161, 1.7392, -0.1809, 1.8126, 0.3702, 1.503, 1.3678, 0.2786, 0.4924]}, \"token.table\": {\"Topic\": [3, 6, 3, 7, 3, 3, 5, 2, 1, 2, 4, 5, 6, 8, 1, 4, 8, 6, 6, 3, 4, 6, 1, 9, 8, 1, 3, 3, 4, 5, 6, 7, 8, 7, 2, 5, 6, 6, 5, 8, 6, 1, 5, 6, 8, 4, 9, 2, 2, 3, 6, 6, 8, 1, 4, 5, 6, 5, 4, 4, 6, 3, 1, 2, 3, 4, 1, 1, 2, 3, 4, 5, 6, 7, 8, 2, 9, 1, 6, 1, 4, 1, 2, 4, 7, 8, 2, 4, 8, 2, 8, 4, 8, 4, 2, 8, 8, 1, 2, 3, 4, 5, 6, 7, 8, 9, 1, 2, 3, 4, 6, 7, 9, 4, 8, 7, 1, 2, 3, 6, 9, 6, 5, 3, 5, 8, 1, 6, 7, 8, 5, 7, 8, 1, 4, 5, 8, 1, 3, 6, 9, 1, 3, 4, 5, 6, 7, 6, 4, 2, 4, 7, 7, 4, 5, 8, 6, 1, 2, 3, 6, 8, 1, 2, 4, 5, 7, 8, 2, 8, 6, 1, 2, 1, 2, 7, 8, 7, 1, 8, 1, 8, 1, 1, 1, 3, 4, 5, 6, 7, 5, 6, 2, 7, 8, 6, 5, 6, 5, 6, 9, 4, 1, 2, 7, 1, 2, 5, 2, 6, 1, 1, 1, 1, 7, 5, 9, 1, 4, 5, 8, 3, 2, 7, 9, 9, 8, 1, 3, 8, 8, 1, 2, 3, 6, 8, 5, 1, 2, 5, 8, 1, 2, 6, 8, 2, 4, 8, 4, 3, 3, 6, 3, 6, 3, 3, 8, 4, 6, 6, 7, 6, 2, 7, 2, 7, 7, 7, 9, 3, 9, 1, 2, 6, 4, 7, 3, 7, 8, 2, 1, 3, 1, 2, 3, 4, 5, 6, 7, 8, 9, 2, 5, 6, 6, 8, 1, 2, 6, 7, 9, 5, 4, 1, 2, 3, 9, 9, 4, 8, 1, 2, 8, 7, 3, 6, 5, 2, 6, 9, 2, 2, 7, 1, 4, 5, 6, 8, 2, 4, 2, 3, 4, 7, 9, 1, 5, 7, 2, 7, 4, 5, 6, 1, 5, 6, 7, 4, 5, 8, 5, 3, 4, 6, 7, 9, 8, 7, 1, 2, 4, 7, 8, 1, 2, 5, 7, 9, 1, 3, 4, 5, 6, 2, 7, 3, 2, 9, 3, 1, 5, 3, 1, 7, 1, 2, 4, 6, 7, 7, 1, 1, 2, 3, 4, 6, 5, 5, 1, 1, 3, 4, 6, 7, 2, 3, 6, 4, 1, 1, 2, 1, 7, 5, 6, 1, 2, 3, 4, 6, 8, 2, 4, 5, 6, 7, 9, 7, 8, 5, 2, 8, 5, 5, 1, 3, 5, 1, 4, 6, 8, 8, 7, 1, 4, 1, 4, 5, 8, 7, 9, 4, 8, 4, 4, 2, 1, 3, 4, 5, 6, 7, 9, 4, 1, 3, 6, 7, 1, 3, 2, 7, 4, 9, 8, 2, 1, 1, 1, 4, 5, 2, 3, 7, 3, 6, 2, 2, 1, 2, 3, 4, 6, 9, 1, 4, 1, 9, 2, 3, 4, 5, 6, 9, 2, 7, 1, 1, 3, 7, 4, 5, 8, 1, 8, 2, 5, 6, 1, 2, 4, 6, 8, 1, 4, 8, 3, 1, 1, 3, 1, 1, 4, 5, 7, 1, 2, 4, 5, 7, 9, 8, 3, 6, 7, 6, 1, 3, 6, 7, 2, 2, 3, 4, 9, 1, 4, 8, 5, 6, 1, 1, 4, 1, 2, 3, 4, 5, 7, 5, 3, 2, 7, 4, 2, 5, 1, 6, 2, 3, 5, 6, 8, 9, 7, 3, 7, 2, 4, 8, 7, 1, 4, 3, 1, 4, 5, 6, 8, 9, 1, 4, 5, 8, 9, 5, 9, 5, 1, 5, 6, 1, 5, 6, 1, 2, 3, 7, 9, 4, 1, 3, 5, 6, 7, 5, 6, 9, 1, 3, 4, 6, 8, 9, 6, 9, 8, 1, 8, 6, 3, 6, 4, 8, 8, 8, 1, 4, 8, 7, 2, 1, 2, 4, 5, 8, 1, 2, 5, 5, 3, 2, 1, 5, 8, 1, 2, 3, 4, 5, 6, 7, 8, 9, 1, 4, 6, 7, 1, 2, 4, 5, 8, 5, 6, 7, 5, 6, 7, 3, 4, 9, 1, 2, 4, 9, 9, 7, 9, 5, 5, 1, 5, 6, 1, 7, 5, 9, 1, 2, 3, 4, 5, 6, 7, 9, 1, 4, 6, 8, 4, 4, 5, 7, 3, 1, 1, 4, 1, 1, 6, 5, 6, 9, 3, 4, 5, 6, 6, 9, 1, 2, 3, 4, 5, 6, 7, 8, 9, 3, 6, 2, 2, 4, 7, 8, 2, 8, 8, 5, 6, 4, 9, 5, 9, 4, 7, 4, 1, 2, 4, 5, 6, 7, 2, 2, 5, 5, 5, 8, 8, 3, 3, 4, 5, 7, 1, 3, 4, 3, 6, 9, 6, 9, 4, 4, 3, 9, 9, 9, 1, 4, 6, 7, 5, 6, 2, 4, 7, 8, 9, 1, 2, 3, 4, 5, 8, 9, 9, 8, 1, 5, 7, 8, 4, 2, 5, 6, 1, 2, 3, 4, 5, 6, 7, 8, 9, 1, 1, 3, 4, 6, 7, 4], \"Freq\": [0.9536101727239459, 1.0969518761883554, 1.070558853327242, 0.9621544641076852, 0.9925175180036107, 1.0496810855507008, 1.063830253252342, 1.0525121905585562, 0.18542190236548048, 0.41719928032233106, 0.13906642677411035, 0.09271095118274024, 0.09271095118274024, 0.04635547559137012, 0.9624573437183596, 0.18458135534292278, 0.9229067767146139, 1.0046448515845983, 0.8723853757962676, 0.9346512664611806, 0.264143202351238, 0.792429607053714, 0.9464595774543255, 0.07280458288110196, 1.0232330518076982, 1.0884310531247445, 1.1149303291498727, 0.4132271086922532, 0.4132271086922532, 0.0688711847820422, 0.0688711847820422, 0.9967757561642555, 1.0402760567666856, 1.0734080434175561, 0.9457120936412842, 0.06804201273664928, 0.8845461655764407, 1.1222874350166299, 0.9242946385589622, 1.042781245199241, 1.0178377576792752, 0.9405755347811886, 0.8911871367256995, 0.14853118945428326, 1.0441028476039382, 0.9838293243921119, 1.1739906745291584, 0.9866793271694297, 1.068662655903183, 0.9028020911147479, 0.08207291737406798, 0.9106506798185433, 1.0862158852078634, 0.9359475603676232, 0.07487580482940985, 0.9568649619847265, 0.11960812024809081, 1.0191763638470428, 0.8060718468437094, 1.13964084286186, 1.0373125060147856, 1.0115010084608465, 0.2950015057590249, 0.1966676705060166, 0.4916691762650415, 0.9305885751733036, 0.9462405767670946, 0.1514265855811852, 0.09085595134871113, 0.2119972198136593, 0.1514265855811852, 0.18171190269742227, 0.09085595134871113, 0.06057063423247409, 0.06057063423247409, 1.0201811972848547, 1.2359837950806627, 0.9826941049976226, 0.8926853156040166, 0.8199057377815779, 0.1639811475563156, 0.0718326548257941, 0.0718326548257941, 0.6464938934321469, 0.0718326548257941, 0.1436653096515882, 0.9785505728352605, 0.4256079962424693, 0.595851194739457, 0.9711979171330627, 1.1918126316300852, 1.0206591402125575, 0.8636706107347952, 0.9665374205436472, 0.20163491164036895, 0.6049047349211069, 1.2935307507565754, 0.17227880769667162, 0.30148791346917536, 0.21534850962083954, 0.15074395673458768, 0.08613940384833581, 0.021534850962083952, 0.021534850962083952, 0.021534850962083952, 0.021534850962083952, 0.13659395865958004, 0.13659395865958004, 0.13659395865958004, 0.06829697932979002, 0.20489093798937008, 0.20489093798937008, 0.13659395865958004, 0.534710233692329, 0.40103267526924674, 1.1192966315260757, 0.08631710229944427, 0.08631710229944427, 0.6042197160961098, 0.17263420459888854, 0.08631710229944427, 1.1127506101371627, 0.9012390222523249, 1.1572577159270023, 0.8451134609356252, 0.14085224348927086, 0.6515606182307253, 0.2171868727435751, 0.04343737454871502, 0.04343737454871502, 1.0317734842606032, 1.0290469097065715, 0.8056619093275222, 0.664612741357501, 0.16615318533937526, 0.06646127413575009, 0.13292254827150018, 0.272009835465244, 0.45334972577540666, 0.09066994515508132, 0.09066994515508132, 0.4207505339406373, 0.1416387936037789, 0.03332677496559503, 0.18746310918147205, 0.11247786550888324, 0.10414617176748447, 1.0663414120087895, 0.8625485392202341, 0.598278850297275, 0.04985657085810625, 0.34899599600674375, 0.9932567994169978, 0.7520680502967418, 0.10743829289953455, 0.10743829289953455, 0.8530161220289658, 0.28899682441404473, 0.17339809464842684, 0.3467961892968537, 0.17339809464842684, 0.791354755195372, 0.13736396205016785, 0.48077386717558745, 0.03434099051254196, 0.24038693358779373, 0.06868198102508392, 0.03434099051254196, 0.8956197139312504, 1.1616594618031257, 1.0984106686673172, 0.8801262078589477, 0.09779180087321641, 0.8725757356903857, 0.11791563995816023, 1.1251233380594061, 0.9633085360322607, 1.1822755894037542, 0.8884982788764858, 0.08884982788764859, 0.9186921653265774, 0.05404071560744573, 1.0739358554556426, 0.9800988962514154, 0.5570200160845432, 0.0397871440060388, 0.2387228640362328, 0.0795742880120776, 0.0795742880120776, 0.0397871440060388, 0.3404665876697219, 0.658235402828129, 0.4899895746145441, 0.4899895746145441, 0.05444328606828268, 0.9158583338560999, 0.8959842813244221, 0.12799775447491746, 0.6673282241774193, 0.28599781036175115, 0.09533260345391706, 0.9365319477189135, 1.0240436981164354, 0.9014129589961476, 1.0531330118665836, 0.9507873801429922, 0.07923228167858268, 1.0489441249563567, 0.9957697158432968, 1.0309883097701238, 1.0593816365273738, 0.9832182295299108, 0.9719764781242899, 1.0397146257163625, 0.9476304016927652, 0.9666161659180073, 1.1467795379036163, 0.6224571038076775, 0.18071335271835798, 0.060237784239452655, 0.12047556847890531, 1.0641193970856166, 0.1865322800110403, 0.7461291200441612, 0.9464095395496581, 0.7938472319778361, 1.234243709065512, 0.13185846624074882, 0.7911507974444929, 0.973244185374168, 0.8372612190953583, 0.3723814880556614, 0.1861907440278307, 0.4654768600695767, 0.8891546366090417, 1.1142505949276107, 0.8584510903166184, 0.3362232181211405, 0.47071250536959663, 0.06724464362422809, 0.06724464362422809, 0.6919339075526613, 0.2442119673715275, 0.04070199456192125, 0.04070199456192125, 1.0708699508992916, 0.9275302795564473, 0.8657523105148731, 1.0028357114471584, 1.0968812545671671, 1.0907279291416352, 0.9614718984300212, 1.1904799019429997, 1.148996819977422, 0.8428430528771564, 1.1278551547686115, 1.118730569802285, 0.9032849657985126, 1.0304166555509682, 0.9474689053349523, 1.0263123821392275, 0.9294635761938576, 0.2759177038885174, 0.6897942597212935, 0.4244592977651456, 0.5659457303535276, 1.0277812591474322, 0.7998318422825516, 1.106221849038214, 0.9932309330991733, 1.0891647834263276, 0.9631005132037649, 0.06420670088025099, 0.9944816667144853, 0.18842413516494577, 0.9421206758247288, 1.1659725155091454, 0.8481439863151333, 1.01814417211431, 0.9936234079869883, 0.9267331709015072, 0.9962964440531079, 0.43048358750826743, 0.1021486478833177, 0.1897046317833043, 0.10944497987498325, 0.00729633199166555, 0.10944497987498325, 0.02188899597499665, 0.02188899597499665, 0.0145926639833311, 0.9801152680458016, 0.17109433857956394, 0.8554716928978197, 0.8804966254266351, 1.1738163828787262, 0.07017153936717312, 0.07017153936717312, 0.7718869330389042, 0.07017153936717312, 0.9562407673890061, 0.9954432454959661, 1.1402129622946606, 0.10146895138299673, 0.7102826596809771, 0.20293790276599347, 0.10146895138299673, 0.8356901176364159, 0.5785448799514594, 0.34712692797087563, 0.9660381858345122, 0.08050318215287602, 1.2522926098538083, 1.1239998280643375, 1.0444058320590812, 1.1360791748891121, 0.9278359365021235, 0.2208778404449872, 0.8835113617799488, 0.9755154480040034, 1.00322557065242, 0.9443536005826273, 1.0676685712164924, 0.310855463521904, 0.5180924392031734, 0.10361848784063467, 0.10361848784063467, 0.10361848784063467, 0.8440079004719047, 0.1205725572102721, 0.5333022636389094, 0.05333022636389094, 0.05333022636389094, 0.2666511318194547, 0.05333022636389094, 0.4379109609748351, 0.4379109609748351, 0.07298516016247253, 0.07751192692021805, 0.9301431230426166, 0.9757353935952302, 0.5139548927037411, 0.5139548927037411, 0.026698967575702958, 0.053397935151405916, 0.7742700596953859, 0.1334948378785148, 0.4560435847985088, 0.2605963341705765, 0.3257454177132206, 1.1259061619878579, 0.1756318001755268, 0.1756318001755268, 0.3512636003510536, 0.0878159000877634, 0.1756318001755268, 0.9217636045628709, 0.8645382757724344, 0.37057585095222556, 0.21616924638879825, 0.061762641825370924, 0.3088132091268546, 0.030881320912685462, 0.0677900277880767, 0.4067401667284602, 0.2033700833642301, 0.2711601111523068, 0.0677900277880767, 0.530915960044681, 0.12741983041072344, 0.12741983041072344, 0.12741983041072344, 0.08494655360714896, 0.9666971207572305, 0.9422251896354745, 1.0054982605401612, 1.0929364856280548, 0.8764093414639519, 0.9734717977333641, 0.9360183649337, 1.0845564650860333, 1.12431767922864, 0.9648225885920619, 0.9449101821645868, 0.08834831331736084, 0.7067865065388867, 0.04417415665868042, 0.04417415665868042, 0.08834831331736084, 1.0046692341137036, 0.9348154224578513, 0.10148238410925021, 0.456670728491626, 0.20296476821850043, 0.05074119205462511, 0.15222357616387533, 1.0517752647495597, 0.907324321453788, 0.9271812106185044, 0.1936618113364898, 0.3043257035287697, 0.16599583828841982, 0.16599583828841982, 0.16599583828841982, 0.9096066004085349, 0.8739539202506434, 0.9564020299213837, 1.0744633692415175, 0.9620482013759848, 1.0512040516608148, 0.9815865637855652, 1.0145734546198037, 0.9074296665012268, 0.7255762155918594, 0.3627881077959297, 0.5540807326231862, 0.11664857528909184, 0.11664857528909184, 0.08748643146681888, 0.08748643146681888, 0.02916214382227296, 0.41776118102187487, 0.04641790900243054, 0.09283581800486108, 0.27850745401458327, 0.13925372700729163, 1.049564426925351, 1.0087031472357646, 0.9858024846565396, 0.9890621994333197, 0.3284037111737865, 0.656807422347573, 0.9361334372434145, 1.0364649272451147, 0.4678571397081317, 0.4678571397081317, 0.09357142794162635, 0.6469220588126011, 0.09952647058655402, 0.09952647058655402, 0.19905294117310804, 0.8384111113365584, 1.1019295601175791, 0.9414810911854924, 1.0002385453217577, 0.8415006320136736, 0.1051875790017092, 0.0525937895008546, 0.8560598234584484, 1.064458303760083, 1.0102934337658565, 0.8155747670265473, 1.2418153620015422, 0.9778040314583397, 1.0137649876869876, 1.0230421167266803, 0.15623120425296572, 0.21872368595415198, 0.09373872255177942, 0.12498496340237257, 0.18747744510355885, 0.15623120425296572, 0.062492481701186285, 0.8891861971371425, 0.5444089122035948, 0.10888178244071894, 0.32664534732215683, 0.05444089122035947, 0.9786627592071179, 1.10646063095413, 0.10947187519524673, 0.8757750015619739, 0.34429485646031777, 0.6885897129206355, 0.8744655045728312, 1.0230777822272654, 0.9831832647433666, 0.9775640347363972, 1.0140335662715643, 1.012966335513694, 0.9715904151591526, 0.9719811878584579, 1.0906311746113087, 1.0137159023814755, 0.9713638135099114, 0.801936812822158, 0.9770006808290298, 1.0391844130358174, 0.15981026968433223, 0.2556964314949316, 0.22373437755806513, 0.0639241078737329, 0.2556964314949316, 0.03196205393686645, 1.0199270505021472, 1.1578720590050373, 0.9906073043581399, 1.1968490044769873, 0.06077584549089706, 0.3038792274544853, 0.18232753647269118, 0.24310338196358824, 0.12155169098179412, 0.06077584549089706, 0.9603842431818137, 0.9805859235099107, 0.9368553378562774, 0.31361339469048766, 0.6272267893809753, 0.10453779823016256, 0.37758885129078873, 0.5663832769361831, 0.06293147521513145, 0.9801428159460103, 0.05445237866366724, 1.075657925921812, 0.09872397111480515, 0.7897917689184412, 0.4215689337554361, 0.15329779409288585, 0.15329779409288585, 0.03832444852322146, 0.19162224261610733, 0.22624506318343904, 0.6464144662383973, 0.12928289324767944, 0.9591544764012434, 0.9326343915817314, 0.9213842796016283, 0.8649267123887683, 0.9652611123917889, 0.6153097177984338, 0.3076548588992169, 0.05127580981653615, 0.8654518001984582, 0.39293746811211183, 0.07858749362242237, 0.23576248086726712, 0.07858749362242237, 0.07858749362242237, 0.07858749362242237, 1.283689971730511, 0.07508710557088225, 0.9010452668505871, 0.07508710557088225, 1.0267157895487968, 0.07868461596199683, 0.07868461596199683, 0.39342307980998414, 0.472107695771981, 0.9348396440965058, 1.0659880530776091, 0.15343215067212054, 0.7671607533606026, 0.15343215067212054, 0.4852906314384861, 0.24264531571924305, 0.24264531571924305, 0.9696387865542725, 0.03179143562473025, 0.9864853381946854, 0.1385657247792726, 0.8313943486756356, 0.3551324944851092, 0.04439156181063865, 0.39952405629574783, 0.0887831236212773, 0.04439156181063865, 0.04439156181063865, 1.0469788287648594, 1.1778235819361123, 0.7837979298583037, 0.15675958597166073, 1.023408230606527, 1.0741942005424017, 0.9364078737169222, 0.9845955235175162, 0.960849527905402, 0.5791197518630492, 0.11582395037260984, 0.15443193383014645, 0.03860798345753661, 0.07721596691507322, 0.03860798345753661, 1.0283580823291927, 0.764862406441412, 0.191215601610353, 0.17204416709251794, 0.17204416709251794, 0.6881766683700717, 1.0336581044504871, 0.9219254122624948, 0.08921858828346724, 1.0336470171567467, 0.2109831443972832, 0.30140449199611885, 0.27126404279650695, 0.15070224599805943, 0.030140449199611882, 0.060280898399223765, 0.38400726186252465, 0.2510816712178046, 0.31015971150434685, 0.029539020143271127, 0.029539020143271127, 0.676547780176091, 0.3382738900880455, 0.9458988174820729, 0.0668458448587992, 0.8912779314506559, 0.0222819482862664, 0.9444864633190924, 0.6342249354634344, 0.3805349612780606, 0.4859601756941582, 0.10799115015425739, 0.2699778753856435, 0.053995575077128696, 0.053995575077128696, 1.0082681136692726, 0.0803595762072243, 0.40179788103612146, 0.0803595762072243, 0.0803595762072243, 0.3214383048288972, 0.21503869552301827, 0.8601547820920731, 1.07790187938682, 0.5489926445323609, 0.16146842486245908, 0.12917473988996728, 0.08073421243122954, 0.048440527458737725, 0.03229368497249182, 1.0408695020323617, 1.0108336483159461, 1.2535902984071075, 0.9587200305503785, 0.059920001909398654, 1.1727860489714808, 0.24184231556206284, 0.7255269466861886, 0.27587359752073226, 0.6896839938018307, 1.108178296441836, 1.0141532892510867, 0.7946695688453492, 0.11352422412076418, 0.05676211206038209, 0.921430961033716, 0.9518869408802422, 0.6914364881623798, 0.0813454691955741, 0.12201820379336115, 0.06100910189668057, 0.04067273459778705, 0.5461575813239177, 0.3781090947627122, 0.0840242432806027, 0.9644504609296869, 0.9943360092601371, 0.979214501011521, 0.9617708920607384, 0.9761001854095316, 1.262284575702902, 0.2045016710535735, 0.3408361184226225, 0.0681672236845245, 0.15337625329018012, 0.051125417763393376, 0.10225083552678675, 0.03408361184226225, 0.03408361184226225, 0.017041805921131126, 0.6005066824857219, 0.15012667062143048, 0.07506333531071524, 0.11259500296607286, 0.4603199299721716, 0.3287999499801226, 0.03287999499801226, 0.06575998999602452, 0.09863998499403677, 0.6291909567274159, 0.20973031890913862, 0.15729773918185397, 0.5114173444095172, 0.19178150415356898, 0.3196358402559483, 0.29796927030009085, 0.44695390545013625, 0.14898463515004542, 0.3896307902709934, 0.6122769561401324, 1.1115347781511429, 1.2344550910719017, 0.7759095881431423, 1.0096669750782865, 1.2904159593296953, 1.0282666941058647, 0.9890549023851583, 0.3196361616531627, 0.23972712123987205, 0.4794542424797441, 0.9317839802990512, 0.0582364987686907, 1.0156999182295554, 1.016871694501862, 0.3098201778150062, 0.10327339260500207, 0.20654678521000414, 0.10327339260500207, 0.051636696302501034, 0.1549100889075031, 0.025818348151250517, 0.051636696302501034, 0.3888979662765813, 0.291673474707436, 0.09722449156914532, 0.291673474707436, 0.9606933170041576, 0.7778552313825005, 0.22687444248656263, 0.9892002594403211, 0.9548987215468184, 0.9972028700222659, 1.0105626346659349, 0.9762071860967346, 0.9574761680451216, 0.11055515298489205, 0.8844412238791364, 0.2429145505360592, 0.4858291010721184, 0.2429145505360592, 0.04374783110087058, 0.6999652976139292, 0.04374783110087058, 0.1749913244034823, 0.6694694838478616, 0.6694694838478616, 0.3991591279071623, 0.07391835701984487, 0.1182693712317518, 0.14783671403968973, 0.0591346856158759, 0.10348569982778281, 0.0591346856158759, 0.014783671403968975, 0.014783671403968975, 1.1082186409630745, 0.8820289151563558, 0.8917650173201909, 0.17116027323200483, 0.08558013661600242, 0.34232054646400967, 0.34232054646400967, 0.3067930456843399, 0.9203791370530197, 0.8171537096251323, 1.1281142418959247, 1.0798055937810511, 1.127408965592124, 0.7529685787908122, 1.0148468455408375, 0.8270919280478778, 1.1390711763240096, 1.1033342359933886, 1.0448977804485768, 0.07768830602265642, 0.10358440803020855, 0.07768830602265642, 0.2589610200755214, 0.025896102007552137, 0.4661298361359385, 0.968170071174166, 1.0101846511798611, 1.0688980821308653, 0.9580812205118283, 0.21536387404746296, 0.8614554961898518, 0.9268292802131245, 1.006166002576762, 0.09069367969588557, 0.09069367969588557, 0.81624311726297, 0.09069367969588557, 0.18254951672765668, 0.09127475836382834, 0.54764855018297, 1.0428097542265005, 0.9929680898064491, 1.021264042221437, 1.0429609250927332, 1.1904084046652335, 1.1291962273720595, 0.8767085088158747, 1.1893426149638318, 0.9307806231787304, 1.0398030138294314, 0.8479004831805883, 0.09655934251680556, 0.09655934251680556, 0.19311868503361113, 0.5793560551008334, 0.8728053859131621, 0.134277751678948, 0.4584072964472567, 0.09168145928945134, 0.4584072964472567, 1.1882642955267526, 1.3543144310916946, 0.02399791932612178, 0.7199375797836534, 0.09599167730448711, 0.11998959663060889, 0.02399791932612178, 0.02399791932612178, 0.7161629014786977, 1.169770501774157, 0.7282490317509404, 0.860999114049081, 0.07827264673173463, 1.1007542787357971, 0.848741839335548, 0.9327980951997672, 1.074565698387085, 0.9353362388739984, 1.1845009487877516, 0.5092783998568292, 0.05738348167400892, 0.1004210929295156, 0.1004210929295156, 0.12911283376652008, 0.035864676046255574, 0.02869174083700446, 0.01434587041850223, 0.021518805627753344, 1.0202845277143668, 0.3704111130719764, 0.16462716136532285, 0.12347037102399214, 0.24694074204798427, 0.04115679034133071, 1.0887746299951273], \"Term\": [\"apple\", \"group\", \"microsoft\", \"new\", \"the\", \"windows\", \"\\u0430\\u0432\\u0430\\u0440\\u0438\\u044f\", \"\\u0430\\u0432\\u0442\\u043e\\u043c\\u043e\\u0431\\u0438\\u043b\\u044c\", \"\\u0430\\u0433\\u0435\\u043d\\u0442\\u0441\\u0442\\u0432\\u043e\", \"\\u0430\\u0433\\u0435\\u043d\\u0442\\u0441\\u0442\\u0432\\u043e\", \"\\u0430\\u0433\\u0435\\u043d\\u0442\\u0441\\u0442\\u0432\\u043e\", \"\\u0430\\u0433\\u0435\\u043d\\u0442\\u0441\\u0442\\u0432\\u043e\", \"\\u0430\\u0433\\u0435\\u043d\\u0442\\u0441\\u0442\\u0432\\u043e\", \"\\u0430\\u0433\\u0435\\u043d\\u0442\\u0441\\u0442\\u0432\\u043e\", \"\\u0430\\u0434\\u0432\\u043e\\u043a\\u0430\\u0442\", \"\\u0430\\u0434\\u043c\\u0438\\u043d\\u0438\\u0441\\u0442\\u0440\\u0430\\u0446\\u0438\\u044f\", \"\\u0430\\u0434\\u043c\\u0438\\u043d\\u0438\\u0441\\u0442\\u0440\\u0430\\u0446\\u0438\\u044f\", \"\\u0430\\u043a\\u0442\\u0438\\u0432\", \"\\u0430\\u043a\\u0442\\u0440\\u0438\\u0441\\u0430\", \"\\u0430\\u043a\\u0442\\u0451\\u0440\", \"\\u0430\\u043a\\u0446\\u0438\\u044f\", \"\\u0430\\u043a\\u0446\\u0438\\u044f\", \"\\u0430\\u043b\\u0435\\u043a\\u0441\\u0430\\u043d\\u0434\\u0440\", \"\\u0430\\u043b\\u0435\\u043a\\u0441\\u0430\\u043d\\u0434\\u0440\", \"\\u0430\\u043b\\u044c\", \"\\u0430\\u043b\\u044c\\u0431\\u043e\\u043c\", \"\\u0430\\u043c\\u0435\\u0440\\u0438\\u043a\\u0430\\u043d\\u0435\\u0446\", \"\\u0430\\u043c\\u0435\\u0440\\u0438\\u043a\\u0430\\u043d\\u0441\\u043a\\u0438\\u0439\", \"\\u0430\\u043c\\u0435\\u0440\\u0438\\u043a\\u0430\\u043d\\u0441\\u043a\\u0438\\u0439\", \"\\u0430\\u043c\\u0435\\u0440\\u0438\\u043a\\u0430\\u043d\\u0441\\u043a\\u0438\\u0439\", \"\\u0430\\u043c\\u0435\\u0440\\u0438\\u043a\\u0430\\u043d\\u0441\\u043a\\u0438\\u0439\", \"\\u0430\\u0440\\u0435\\u043d\\u0434\\u0430\", \"\\u0430\\u0440\\u043c\\u0438\\u044f\", \"\\u0430\\u0443\\u043a\\u0446\\u0438\\u043e\\u043d\", \"\\u0430\\u044d\\u0440\\u043e\\u043f\\u043e\\u0440\\u0442\", \"\\u0431\\u0430\\u043d\\u043a\", \"\\u0431\\u0430\\u043d\\u043a\", \"\\u0431\\u0430\\u043d\\u043a\\u043e\\u0432\\u0441\\u043a\\u0438\\u0439\", \"\\u0431\\u0430\\u0440\\u0440\\u0435\\u043b\\u044c\", \"\\u0431\\u0435\\u0436\\u0435\\u043d\\u0435\\u0446\", \"\\u0431\\u0435\\u043b\\u043e\\u0440\\u0443\\u0441\\u0441\\u0438\\u044f\", \"\\u0431\\u0435\\u043b\\u044b\\u0439\", \"\\u0431\\u0438\\u0440\\u0436\\u0430\", \"\\u0431\\u0438\\u0440\\u0436\\u0430\", \"\\u0431\\u043e\\u0435\\u0432\\u0438\\u043a\", \"\\u0431\\u043e\\u0435\\u0432\\u043e\\u0439\", \"\\u0431\\u043e\\u043b\\u0435\\u043b\\u044c\\u0449\\u0438\\u043a\", \"\\u0431\\u043e\\u043b\\u044c\\u043d\\u0438\\u0446\\u0430\", \"\\u0431\\u043e\\u0440\\u0442\", \"\\u0431\\u0440\\u0438\\u0442\\u0430\\u043d\\u0441\\u043a\\u0438\\u0439\", \"\\u0431\\u0440\\u0438\\u0442\\u0430\\u043d\\u0441\\u043a\\u0438\\u0439\", \"\\u0431\\u0443\\u043c\\u0430\\u0433\\u0430\", \"\\u0431\\u0443\\u0448\", \"\\u0431\\u044b\\u0432\\u0448\\u0438\\u0439\", \"\\u0431\\u044b\\u0432\\u0448\\u0438\\u0439\", \"\\u0431\\u044e\\u0434\\u0436\\u0435\\u0442\", \"\\u0431\\u044e\\u0434\\u0436\\u0435\\u0442\", \"\\u0432\\u0430\\u043b\\u044e\\u0442\\u0430\", \"\\u0432\\u0430\\u0448\\u0438\\u043d\\u0433\\u0442\\u043e\\u043d\", \"\\u0432\\u0432\\u0441\", \"\\u0432\\u0435\\u0434\\u043e\\u043c\\u043e\\u0441\\u0442\\u044c\", \"\\u0432\\u0435\\u043a\", \"\\u0432\\u0435\\u0440\\u0441\\u0438\\u044f\", \"\\u0432\\u0435\\u0440\\u0441\\u0438\\u044f\", \"\\u0432\\u0435\\u0440\\u0441\\u0438\\u044f\", \"\\u0432\\u0435\\u0440\\u0442\\u043e\\u043b\\u0451\\u0442\", \"\\u0432\\u0435\\u0440\\u0445\\u043e\\u0432\\u043d\\u044b\\u0439\", \"\\u0432\\u0435\\u0441\\u044c\", \"\\u0432\\u0435\\u0441\\u044c\", \"\\u0432\\u0435\\u0441\\u044c\", \"\\u0432\\u0435\\u0441\\u044c\", \"\\u0432\\u0435\\u0441\\u044c\", \"\\u0432\\u0435\\u0441\\u044c\", \"\\u0432\\u0435\\u0441\\u044c\", \"\\u0432\\u0435\\u0441\\u044c\", \"\\u0432\\u0437\\u0440\\u044b\\u0432\", \"\\u0432\\u0438\\u0434\\u0435\\u043e\", \"\\u0432\\u0438\\u043d\\u043e\\u0432\\u043d\\u044b\\u0439\", \"\\u0432\\u043a\\u043b\\u0430\\u0434\", \"\\u0432\\u043b\\u0430\\u0434\\u0438\\u043c\\u0438\\u0440\", \"\\u0432\\u043b\\u0430\\u0434\\u0438\\u043c\\u0438\\u0440\", \"\\u0432\\u043b\\u0430\\u0441\\u0442\\u044c\", \"\\u0432\\u043b\\u0430\\u0441\\u0442\\u044c\", \"\\u0432\\u043b\\u0430\\u0441\\u0442\\u044c\", \"\\u0432\\u043b\\u0430\\u0441\\u0442\\u044c\", \"\\u0432\\u043b\\u0430\\u0441\\u0442\\u044c\", \"\\u0432\\u043e\\u0434\\u0430\", \"\\u0432\\u043e\\u0435\\u043d\\u043d\\u044b\\u0439\", \"\\u0432\\u043e\\u0435\\u043d\\u043d\\u044b\\u0439\", \"\\u0432\\u043e\\u0437\\u0431\\u0443\\u0434\\u0438\\u0442\\u044c\", \"\\u0432\\u043e\\u0437\\u0433\\u043b\\u0430\\u0432\\u043b\\u044f\\u0442\\u044c\", \"\\u0432\\u043e\\u0439\\u043d\\u0430\", \"\\u0432\\u043e\\u0439\\u0441\\u043a\\u043e\", \"\\u0432\\u043e\\u043e\\u0440\\u0443\\u0436\\u0435\\u043d\\u0438\\u0435\", \"\\u0432\\u043e\\u043e\\u0440\\u0443\\u0436\\u0451\\u043d\\u043d\\u044b\\u0439\", \"\\u0432\\u043e\\u043e\\u0440\\u0443\\u0436\\u0451\\u043d\\u043d\\u044b\\u0439\", \"\\u0432\\u043e\\u0441\\u0441\\u0442\\u0430\\u043d\\u043e\\u0432\\u043b\\u0435\\u043d\\u0438\\u0435\", \"\\u0432\\u0440\\u0435\\u043c\\u044f\", \"\\u0432\\u0440\\u0435\\u043c\\u044f\", \"\\u0432\\u0440\\u0435\\u043c\\u044f\", \"\\u0432\\u0440\\u0435\\u043c\\u044f\", \"\\u0432\\u0440\\u0435\\u043c\\u044f\", \"\\u0432\\u0440\\u0435\\u043c\\u044f\", \"\\u0432\\u0440\\u0435\\u043c\\u044f\", \"\\u0432\\u0440\\u0435\\u043c\\u044f\", \"\\u0432\\u0440\\u0435\\u043c\\u044f\", \"\\u0432\\u0442\\u043e\\u0440\\u043e\\u0439\", \"\\u0432\\u0442\\u043e\\u0440\\u043e\\u0439\", \"\\u0432\\u0442\\u043e\\u0440\\u043e\\u0439\", \"\\u0432\\u0442\\u043e\\u0440\\u043e\\u0439\", \"\\u0432\\u0442\\u043e\\u0440\\u043e\\u0439\", \"\\u0432\\u0442\\u043e\\u0440\\u043e\\u0439\", \"\\u0432\\u0442\\u043e\\u0440\\u043e\\u0439\", \"\\u0432\\u044b\\u0431\\u043e\\u0440\\u044b\", \"\\u0432\\u044b\\u0431\\u043e\\u0440\\u044b\", \"\\u0432\\u044b\\u0438\\u0433\\u0440\\u0430\\u0442\\u044c\", \"\\u0432\\u044b\\u0439\\u0442\\u0438\", \"\\u0432\\u044b\\u0439\\u0442\\u0438\", \"\\u0432\\u044b\\u0439\\u0442\\u0438\", \"\\u0432\\u044b\\u0439\\u0442\\u0438\", \"\\u0432\\u044b\\u0439\\u0442\\u0438\", \"\\u0432\\u044b\\u043f\\u0443\\u0441\\u043a\", \"\\u0432\\u044b\\u0440\\u0430\\u0441\\u0442\\u0438\", \"\\u0432\\u044b\\u0441\\u0442\\u0430\\u0432\\u043a\\u0430\", \"\\u0433\\u0430\\u0437\", \"\\u0433\\u0430\\u0437\", \"\\u0433\\u0430\\u0437\\u0435\\u0442\\u0430\", \"\\u0433\\u0430\\u0437\\u0435\\u0442\\u0430\", \"\\u0433\\u0430\\u0437\\u0435\\u0442\\u0430\", \"\\u0433\\u0430\\u0437\\u0435\\u0442\\u0430\", \"\\u0433\\u0430\\u0437\\u043f\\u0440\\u043e\\u043c\", \"\\u0433\\u0435\\u043a\\u0442\\u0430\\u0440\", \"\\u0433\\u0435\\u043d\\u0435\\u0440\\u0430\\u043b\", \"\\u0433\\u043b\\u0430\\u0432\\u0430\", \"\\u0433\\u043b\\u0430\\u0432\\u0430\", \"\\u0433\\u043b\\u0430\\u0432\\u0430\", \"\\u0433\\u043b\\u0430\\u0432\\u0430\", \"\\u0433\\u043b\\u0430\\u0432\\u043d\\u044b\\u0439\", \"\\u0433\\u043b\\u0430\\u0432\\u043d\\u044b\\u0439\", \"\\u0433\\u043b\\u0430\\u0432\\u043d\\u044b\\u0439\", \"\\u0433\\u043b\\u0430\\u0432\\u043d\\u044b\\u0439\", \"\\u0433\\u043e\\u0434\", \"\\u0433\\u043e\\u0434\", \"\\u0433\\u043e\\u0434\", \"\\u0433\\u043e\\u0434\", \"\\u0433\\u043e\\u0434\", \"\\u0433\\u043e\\u0434\", \"\\u0433\\u043e\\u0434\\u043e\\u0432\\u043e\\u0439\", \"\\u0433\\u043e\\u043b\\u043e\\u0441\", \"\\u0433\\u043e\\u0440\\u043e\\u0434\", \"\\u0433\\u043e\\u0440\\u043e\\u0434\", \"\\u0433\\u043e\\u0440\\u043e\\u0434\", \"\\u0433\\u043e\\u0441\\u0442\\u0438\\u043d\\u0438\\u0446\\u0430\", \"\\u0433\\u043e\\u0441\\u0443\\u0434\\u0430\\u0440\\u0441\\u0442\\u0432\\u043e\", \"\\u0433\\u043e\\u0441\\u0443\\u0434\\u0430\\u0440\\u0441\\u0442\\u0432\\u043e\", \"\\u0433\\u043e\\u0441\\u0443\\u0434\\u0430\\u0440\\u0441\\u0442\\u0432\\u043e\", \"\\u0433\\u0440\\u0435\\u0446\\u0438\\u044f\", \"\\u0433\\u0440\\u0443\\u043f\\u043f\\u0430\", \"\\u0433\\u0440\\u0443\\u043f\\u043f\\u0430\", \"\\u0433\\u0440\\u0443\\u043f\\u043f\\u0430\", \"\\u0433\\u0440\\u0443\\u043f\\u043f\\u0430\", \"\\u0433\\u0440\\u0443\\u043f\\u043f\\u0438\\u0440\\u043e\\u0432\\u043a\\u0430\", \"\\u0434\\u0430\\u043d\\u043d\\u044b\\u0435\", \"\\u0434\\u0430\\u043d\\u043d\\u044b\\u0435\", \"\\u0434\\u0430\\u043d\\u043d\\u044b\\u0435\", \"\\u0434\\u0430\\u043d\\u043d\\u044b\\u0435\", \"\\u0434\\u0430\\u043d\\u043d\\u044b\\u0435\", \"\\u0434\\u0430\\u043d\\u043d\\u044b\\u0435\", \"\\u0434\\u0432\\u043e\\u0435\", \"\\u0434\\u0435\\u0432\\u043e\\u0447\\u043a\\u0430\", \"\\u0434\\u0435\\u0432\\u0443\\u0448\\u043a\\u0430\", \"\\u0434\\u0435\\u0439\\u0441\\u0442\\u0432\\u0438\\u0435\", \"\\u0434\\u0435\\u0439\\u0441\\u0442\\u0432\\u0438\\u0435\", \"\\u0434\\u0435\\u043b\\u043e\", \"\\u0434\\u0435\\u043b\\u043e\", \"\\u0434\\u0435\\u043b\\u043e\\u0432\\u043e\\u0439\", \"\\u0434\\u0435\\u043f\\u0443\\u0442\\u0430\\u0442\", \"\\u0434\\u0435\\u0442\\u0441\\u043a\\u0438\\u0439\", \"\\u0434\\u0435\\u044f\\u0442\\u0435\\u043b\\u044c\\u043d\\u043e\\u0441\\u0442\\u044c\", \"\\u0434\\u0435\\u044f\\u0442\\u0435\\u043b\\u044c\\u043d\\u043e\\u0441\\u0442\\u044c\", \"\\u0434\\u043e\\u043a\\u0443\\u043c\\u0435\\u043d\\u0442\", \"\\u0434\\u043e\\u043a\\u0443\\u043c\\u0435\\u043d\\u0442\", \"\\u0434\\u043e\\u043b\\u0433\", \"\\u0434\\u043e\\u043b\\u0436\\u043d\\u043e\\u0441\\u0442\\u044c\", \"\\u0434\\u043e\\u043b\\u0436\\u043d\\u044b\\u0439\", \"\\u0434\\u043e\\u043b\\u0436\\u043d\\u044b\\u0439\", \"\\u0434\\u043e\\u043b\\u0436\\u043d\\u044b\\u0439\", \"\\u0434\\u043e\\u043b\\u0436\\u043d\\u044b\\u0439\", \"\\u0434\\u043e\\u043b\\u0436\\u043d\\u044b\\u0439\", \"\\u0434\\u043e\\u043b\\u0436\\u043d\\u044b\\u0439\", \"\\u0434\\u043e\\u043b\\u043b\\u0430\\u0440\", \"\\u0434\\u043e\\u043b\\u043b\\u0430\\u0440\", \"\\u0434\\u043e\\u043c\", \"\\u0434\\u043e\\u043c\", \"\\u0434\\u043e\\u043c\", \"\\u0434\\u043e\\u0441\\u0442\\u0438\\u0433\\u0430\\u0442\\u044c\", \"\\u0434\\u043e\\u0445\\u043e\\u0434\", \"\\u0434\\u043e\\u0445\\u043e\\u0434\", \"\\u0435\\u0432\\u0440\\u043e\", \"\\u0435\\u0432\\u0440\\u043e\", \"\\u0435\\u0432\\u0440\\u043e\", \"\\u0435\\u0432\\u0440\\u043e\\u0441\\u043e\\u044e\\u0437\", \"\\u0436\\u0430\\u043b\\u043e\\u0431\\u0430\", \"\\u0436\\u0435\\u043d\\u0449\\u0438\\u043d\\u0430\", \"\\u0436\\u0438\\u043b\\u044c\\u0451\", \"\\u0436\\u0443\\u0440\\u043d\\u0430\\u043b\\u0438\\u0441\\u0442\", \"\\u0436\\u0443\\u0440\\u043d\\u0430\\u043b\\u0438\\u0441\\u0442\", \"\\u0437\\u0430\\u0432\\u043e\\u0434\", \"\\u0437\\u0430\\u0434\\u0435\\u0440\\u0436\\u0430\\u0442\\u044c\", \"\\u0437\\u0430\\u0434\\u043e\\u043b\\u0436\\u0435\\u043d\\u043d\\u043e\\u0441\\u0442\\u044c\", \"\\u0437\\u0430\\u043a\\u043b\\u044e\\u0447\\u0435\\u043d\\u0438\\u0435\", \"\\u0437\\u0430\\u043a\\u043e\\u043d\", \"\\u0437\\u0430\\u043a\\u043e\\u043d\\u043e\\u0434\\u0430\\u0442\\u0435\\u043b\\u044c\\u0441\\u0442\\u0432\\u043e\", \"\\u0437\\u0430\\u043a\\u043e\\u043d\\u043e\\u043f\\u0440\\u043e\\u0435\\u043a\\u0442\", \"\\u0437\\u0430\\u043f\\u043b\\u0430\\u0442\\u0438\\u0442\\u044c\", \"\\u0437\\u0430\\u0440\\u043f\\u043b\\u0430\\u0442\\u0430\", \"\\u0437\\u0430\\u0449\\u0438\\u0442\\u043d\\u0438\\u043a\", \"\\u0437\\u0430\\u044f\\u0432\\u0438\\u0442\\u044c\", \"\\u0437\\u0430\\u044f\\u0432\\u0438\\u0442\\u044c\", \"\\u0437\\u0430\\u044f\\u0432\\u0438\\u0442\\u044c\", \"\\u0437\\u0430\\u044f\\u0432\\u0438\\u0442\\u044c\", \"\\u0437\\u0432\\u0435\\u0437\\u0434\\u0430\", \"\\u0437\\u0435\\u043c\\u043b\\u044f\", \"\\u0437\\u0435\\u043c\\u043b\\u044f\", \"\\u0438\\u0433\\u0440\\u0430\", \"\\u0438\\u0433\\u0440\\u043e\\u043a\", \"\\u0438\\u0437\\u0431\\u0438\\u0440\\u0430\\u0442\\u0435\\u043b\\u044c\\u043d\\u044b\\u0439\", \"\\u0438\\u0437\\u0432\\u0435\\u0441\\u0442\\u043d\\u044b\\u0439\", \"\\u0438\\u0437\\u0432\\u0435\\u0441\\u0442\\u043d\\u044b\\u0439\", \"\\u0438\\u0437\\u0440\\u0430\\u0438\\u043b\\u044c\", \"\\u0438\\u0437\\u0440\\u0430\\u0438\\u043b\\u044c\\u0441\\u043a\\u0438\\u0439\", \"\\u0438\\u043c\\u044f\", \"\\u0438\\u043c\\u044f\", \"\\u0438\\u043c\\u044f\", \"\\u0438\\u043d\\u0432\\u0435\\u0441\\u0442\\u043e\\u0440\", \"\\u0438\\u043d\\u0433\\u0443\\u0448\\u0435\\u0442\\u0438\\u044f\", \"\\u0438\\u043d\\u0434\\u0435\\u043a\\u0441\", \"\\u0438\\u043d\\u0442\\u0435\\u0440\\u0444\\u0430\\u043a\\u0441\", \"\\u0438\\u043d\\u0442\\u0435\\u0440\\u0444\\u0430\\u043a\\u0441\", \"\\u0438\\u043d\\u0442\\u0435\\u0440\\u0444\\u0430\\u043a\\u0441\", \"\\u0438\\u043d\\u0442\\u0435\\u0440\\u0444\\u0430\\u043a\\u0441\", \"\\u0438\\u043d\\u0444\\u043e\\u0440\\u043c\\u0430\\u0446\\u0438\\u044f\", \"\\u0438\\u043d\\u0444\\u043e\\u0440\\u043c\\u0430\\u0446\\u0438\\u044f\", \"\\u0438\\u043d\\u0444\\u043e\\u0440\\u043c\\u0430\\u0446\\u0438\\u044f\", \"\\u0438\\u043d\\u0444\\u043e\\u0440\\u043c\\u0430\\u0446\\u0438\\u044f\", \"\\u0438\\u043d\\u0446\\u0438\\u0434\\u0435\\u043d\\u0442\", \"\\u0438\\u0440\\u0430\\u043a\", \"\\u0438\\u0440\\u0430\\u043a\\u0441\\u043a\\u0438\\u0439\", \"\\u0438\\u0440\\u0430\\u043d\", \"\\u0438\\u0441\\u043a\", \"\\u0438\\u0441\\u043a\\u0443\\u0441\\u0441\\u0442\\u0432\\u043e\", \"\\u0438\\u0441\\u0441\\u043b\\u0435\\u0434\\u043e\\u0432\\u0430\\u043d\\u0438\\u0435\", \"\\u0438\\u0441\\u0441\\u043b\\u0435\\u0434\\u043e\\u0432\\u0430\\u0442\\u0435\\u043b\\u044c\", \"\\u0438\\u0441\\u0442\\u043e\\u0440\\u0438\\u0447\\u0435\\u0441\\u043a\\u0438\\u0439\", \"\\u0438\\u0441\\u0442\\u043e\\u0440\\u0438\\u044f\", \"\\u0439\\u043e\\u0440\\u043a\", \"\\u043a\\u0430\\u043d\\u0430\\u0434\\u0430\", \"\\u043a\\u0430\\u043d\\u0434\\u0438\\u0434\\u0430\\u0442\", \"\\u043a\\u0430\\u043f\\u0438\\u0442\\u0430\\u043b\", \"\\u043a\\u0430\\u0440\\u0442\\u0438\\u043d\\u0430\", \"\\u043a\\u0432\\u0430\\u0434\\u0440\\u0430\\u0442\\u043d\\u044b\\u0439\", \"\\u043a\\u0432\\u0430\\u0440\\u0442\\u0430\\u043b\", \"\\u043a\\u0432\\u0430\\u0440\\u0442\\u0438\\u0440\\u0430\", \"\\u043a\\u0432\\u0430\\u0440\\u0442\\u0438\\u0440\\u0430\", \"\\u043a\\u0438\\u043b\\u043e\\u043c\\u0435\\u0442\\u0440\", \"\\u043a\\u0438\\u043b\\u043e\\u043c\\u0435\\u0442\\u0440\", \"\\u043a\\u0438\\u0442\\u0430\\u0439\\u0441\\u043a\\u0438\\u0439\", \"\\u043a\\u043b\\u0430\\u0441\\u0441\", \"\\u043a\\u043b\\u0443\\u0431\", \"\\u043a\\u043d\\u0438\\u0433\\u0430\", \"\\u043a\\u043e\\u043c\\u0430\\u043d\\u0434\\u0430\", \"\\u043a\\u043e\\u043c\\u0438\\u0442\\u0435\\u0442\", \"\\u043a\\u043e\\u043c\\u0438\\u0442\\u0435\\u0442\", \"\\u043a\\u043e\\u043c\\u043f\\u0430\\u043d\\u0438\\u044f\", \"\\u043a\\u043e\\u043c\\u043f\\u043b\\u0435\\u043a\\u0441\", \"\\u043a\\u043e\\u043c\\u043f\\u043b\\u0435\\u043a\\u0441\", \"\\u043a\\u043e\\u043c\\u043f\\u044c\\u044e\\u0442\\u0435\\u0440\", \"\\u043a\\u043e\\u043d\\u043a\\u0443\\u0440\\u0441\", \"\\u043a\\u043e\\u043d\\u0444\\u043b\\u0438\\u043a\\u0442\", \"\\u043a\\u043e\\u0440\\u0430\\u0431\\u043b\\u044c\", \"\\u043a\\u043e\\u0440\\u0440\\u0443\\u043f\\u0446\\u0438\\u044f\", \"\\u043a\\u043e\\u0441\\u043c\\u0438\\u0447\\u0435\\u0441\\u043a\\u0438\\u0439\", \"\\u043a\\u043e\\u0442\\u043e\\u0440\\u044b\\u0439\", \"\\u043a\\u043e\\u0442\\u043e\\u0440\\u044b\\u0439\", \"\\u043a\\u043e\\u0442\\u043e\\u0440\\u044b\\u0439\", \"\\u043a\\u043e\\u0442\\u043e\\u0440\\u044b\\u0439\", \"\\u043a\\u043e\\u0442\\u043e\\u0440\\u044b\\u0439\", \"\\u043a\\u043e\\u0442\\u043e\\u0440\\u044b\\u0439\", \"\\u043a\\u043e\\u0442\\u043e\\u0440\\u044b\\u0439\", \"\\u043a\\u043e\\u0442\\u043e\\u0440\\u044b\\u0439\", \"\\u043a\\u043e\\u0442\\u043e\\u0440\\u044b\\u0439\", \"\\u043a\\u0440\\u0430\\u0439\", \"\\u043a\\u0440\\u0435\\u0434\\u0438\\u0442\", \"\\u043a\\u0440\\u0435\\u0434\\u0438\\u0442\", \"\\u043a\\u0440\\u0435\\u0434\\u0438\\u0442\\u043d\\u044b\\u0439\", \"\\u043a\\u0440\\u0435\\u043c\\u043b\\u044c\", \"\\u043a\\u0440\\u0443\\u043f\\u043d\\u044b\\u0439\", \"\\u043a\\u0440\\u0443\\u043f\\u043d\\u044b\\u0439\", \"\\u043a\\u0440\\u0443\\u043f\\u043d\\u044b\\u0439\", \"\\u043a\\u0440\\u0443\\u043f\\u043d\\u044b\\u0439\", \"\\u043a\\u0443\\u0431\\u043e\\u043a\", \"\\u043a\\u0443\\u0440\\u0441\", \"\\u043b\\u0430\\u0439\\u043d\\u0435\\u0440\", \"\\u043b\\u0435\\u0442\\u043d\\u0438\\u0439\", \"\\u043b\\u0435\\u0442\\u043d\\u0438\\u0439\", \"\\u043b\\u0435\\u0442\\u043d\\u0438\\u0439\", \"\\u043b\\u0435\\u0442\\u043d\\u0438\\u0439\", \"\\u043b\\u0438\\u0433\\u0430\", \"\\u043b\\u0438\\u0434\\u0435\\u0440\", \"\\u043b\\u0438\\u0434\\u0435\\u0440\", \"\\u043b\\u0438\\u0446\\u043e\", \"\\u043b\\u0438\\u0446\\u043e\", \"\\u043b\\u0438\\u0447\\u043d\\u043e\\u0441\\u0442\\u044c\", \"\\u043b\\u043e\\u0434\\u043a\\u0430\", \"\\u043b\\u043e\\u043d\\u0434\\u043e\\u043d\", \"\\u043b\\u043e\\u043d\\u0434\\u043e\\u043d\\u0441\\u043a\\u0438\\u0439\", \"\\u043b\\u0443\\u0436\\u043a\\u043e\\u0432\", \"\\u043c\\u0430\\u0433\\u0430\\u0437\\u0438\\u043d\", \"\\u043c\\u0430\\u0433\\u0430\\u0437\\u0438\\u043d\", \"\\u043c\\u0430\\u0442\\u0447\", \"\\u043c\\u0430\\u0448\\u0438\\u043d\\u0430\", \"\\u043c\\u0432\\u0434\", \"\\u043c\\u0435\\u0434\\u0430\\u043b\\u044c\", \"\\u043c\\u0435\\u0436\\u0434\\u0443\\u043d\\u0430\\u0440\\u043e\\u0434\\u043d\\u044b\\u0439\", \"\\u043c\\u0435\\u0436\\u0434\\u0443\\u043d\\u0430\\u0440\\u043e\\u0434\\u043d\\u044b\\u0439\", \"\\u043c\\u0435\\u0436\\u0434\\u0443\\u043d\\u0430\\u0440\\u043e\\u0434\\u043d\\u044b\\u0439\", \"\\u043c\\u0435\\u0436\\u0434\\u0443\\u043d\\u0430\\u0440\\u043e\\u0434\\u043d\\u044b\\u0439\", \"\\u043c\\u0435\\u0436\\u0434\\u0443\\u043d\\u0430\\u0440\\u043e\\u0434\\u043d\\u044b\\u0439\", \"\\u043c\\u0435\\u0441\\u0442\\u043d\\u044b\\u0439\", \"\\u043c\\u0435\\u0441\\u0442\\u043d\\u044b\\u0439\", \"\\u043c\\u0435\\u0441\\u0442\\u043e\", \"\\u043c\\u0435\\u0441\\u0442\\u043e\", \"\\u043c\\u0435\\u0441\\u0442\\u043e\", \"\\u043c\\u0435\\u0441\\u0442\\u043e\", \"\\u043c\\u0435\\u0441\\u0442\\u043e\", \"\\u043c\\u0435\\u0441\\u044f\\u0446\", \"\\u043c\\u0435\\u0441\\u044f\\u0446\", \"\\u043c\\u0435\\u0441\\u044f\\u0446\", \"\\u043c\\u0435\\u0442\\u0440\", \"\\u043c\\u0435\\u0442\\u0440\", \"\\u043c\\u0438\\u0434\", \"\\u043c\\u0438\\u043b\\u043b\\u0438\\u0430\\u0440\\u0434\", \"\\u043c\\u0438\\u043b\\u043b\\u0438\\u0430\\u0440\\u0434\", \"\\u043c\\u0438\\u043b\\u043b\\u0438\\u043e\\u043d\", \"\\u043c\\u0438\\u043b\\u043b\\u0438\\u043e\\u043d\", \"\\u043c\\u0438\\u043b\\u043b\\u0438\\u043e\\u043d\", \"\\u043c\\u0438\\u043b\\u043b\\u0438\\u043e\\u043d\", \"\\u043c\\u0438\\u043d\\u0438\\u0441\\u0442\\u0440\", \"\\u043c\\u0438\\u043d\\u0438\\u0441\\u0442\\u0440\", \"\\u043c\\u0438\\u043d\\u0438\\u0441\\u0442\\u0440\", \"\\u043c\\u0438\\u043d\\u0444\\u0438\\u043d\", \"\\u043c\\u0438\\u0440\", \"\\u043c\\u0438\\u0440\", \"\\u043c\\u0438\\u0440\", \"\\u043c\\u0438\\u0440\", \"\\u043c\\u0438\\u0440\", \"\\u043c\\u0438\\u0440\\u043d\\u044b\\u0439\", \"\\u043c\\u043e\\u0434\\u0435\\u043b\\u044c\", \"\\u043c\\u043e\\u0441\\u043a\\u0432\\u0430\", \"\\u043c\\u043e\\u0441\\u043a\\u0432\\u0430\", \"\\u043c\\u043e\\u0441\\u043a\\u0432\\u0430\", \"\\u043c\\u043e\\u0441\\u043a\\u0432\\u0430\", \"\\u043c\\u043e\\u0441\\u043a\\u0432\\u0430\", \"\\u043c\\u043e\\u0441\\u043a\\u043e\\u0432\\u0441\\u043a\\u0438\\u0439\", \"\\u043c\\u043e\\u0441\\u043a\\u043e\\u0432\\u0441\\u043a\\u0438\\u0439\", \"\\u043c\\u043e\\u0441\\u043a\\u043e\\u0432\\u0441\\u043a\\u0438\\u0439\", \"\\u043c\\u043e\\u0441\\u043a\\u043e\\u0432\\u0441\\u043a\\u0438\\u0439\", \"\\u043c\\u043e\\u0441\\u043a\\u043e\\u0432\\u0441\\u043a\\u0438\\u0439\", \"\\u043c\\u043e\\u0447\\u044c\", \"\\u043c\\u043e\\u0447\\u044c\", \"\\u043c\\u043e\\u0447\\u044c\", \"\\u043c\\u043e\\u0447\\u044c\", \"\\u043c\\u043e\\u0447\\u044c\", \"\\u043c\\u0443\\u0436\\u0447\\u0438\\u043d\\u0430\", \"\\u043c\\u0443\\u0437\\u0435\\u0439\", \"\\u043c\\u0443\\u0437\\u044b\\u043a\\u0430\\u043b\\u044c\\u043d\\u044b\\u0439\", \"\\u043c\\u0447\\u0441\", \"\\u043d\\u0430\\u0431\\u0440\\u0430\\u0442\\u044c\", \"\\u043d\\u0430\\u0433\\u0440\\u0430\\u0434\\u0430\", \"\\u043d\\u0430\\u043b\\u043e\\u0433\", \"\\u043d\\u0430\\u043b\\u043e\\u0433\\u043e\\u0432\\u044b\\u0439\", \"\\u043d\\u0430\\u043f\\u0440\\u0438\\u043c\\u0435\\u0440\", \"\\u043d\\u0430\\u0440\\u0443\\u0448\\u0435\\u043d\\u0438\\u0435\", \"\\u043d\\u0430\\u0443\\u0447\\u043d\\u044b\\u0439\", \"\\u043d\\u0430\\u0445\\u043e\\u0434\\u0438\\u0442\\u044c\\u0441\\u044f\", \"\\u043d\\u0430\\u0445\\u043e\\u0434\\u0438\\u0442\\u044c\\u0441\\u044f\", \"\\u043d\\u0430\\u0445\\u043e\\u0434\\u0438\\u0442\\u044c\\u0441\\u044f\", \"\\u043d\\u0430\\u0445\\u043e\\u0434\\u0438\\u0442\\u044c\\u0441\\u044f\", \"\\u043d\\u0430\\u0445\\u043e\\u0434\\u0438\\u0442\\u044c\\u0441\\u044f\", \"\\u043d\\u0435\\u0434\\u0432\\u0438\\u0436\\u0438\\u043c\\u043e\\u0441\\u0442\\u044c\", \"\\u043d\\u0435\\u0437\\u0430\\u043a\\u043e\\u043d\\u043d\\u044b\\u0439\", \"\\u043d\\u0435\\u0441\\u043a\\u043e\\u043b\\u044c\\u043a\\u043e\", \"\\u043d\\u0435\\u0441\\u043a\\u043e\\u043b\\u044c\\u043a\\u043e\", \"\\u043d\\u0435\\u0441\\u043a\\u043e\\u043b\\u044c\\u043a\\u043e\", \"\\u043d\\u0435\\u0441\\u043a\\u043e\\u043b\\u044c\\u043a\\u043e\", \"\\u043d\\u0435\\u0441\\u043a\\u043e\\u043b\\u044c\\u043a\\u043e\", \"\\u043d\\u0435\\u0444\\u0442\\u044c\", \"\\u043d\\u0438\\u0436\\u0435\", \"\\u043d\\u0438\\u043a\\u0442\\u043e\", \"\\u043d\\u043e\\u0432\\u044b\\u0439\", \"\\u043d\\u043e\\u0432\\u044b\\u0439\", \"\\u043d\\u043e\\u0432\\u044b\\u0439\", \"\\u043d\\u043e\\u0432\\u044b\\u0439\", \"\\u043d\\u043e\\u0432\\u044b\\u0439\", \"\\u043d\\u043e\\u0447\\u044c\", \"\\u043d\\u044c\\u044e\", \"\\u043e\\u0430\\u043e\", \"\\u043e\\u0431\\u0430\\u043c\\u0430\", \"\\u043e\\u0431\\u0432\\u0438\\u043d\\u0435\\u043d\\u0438\\u0435\", \"\\u043e\\u0431\\u0432\\u0438\\u043d\\u044f\\u0442\\u044c\", \"\\u043e\\u0431\\u043d\\u0430\\u0440\\u0443\\u0436\\u0438\\u0442\\u044c\", \"\\u043e\\u0431\\u0440\\u0430\\u0449\\u0435\\u043d\\u0438\\u0435\", \"\\u043e\\u0431\\u044a\\u0435\\u043a\\u0442\", \"\\u043e\\u0431\\u044a\\u0451\\u043c\", \"\\u043e\\u0431\\u044a\\u0451\\u043c\", \"\\u043e\\u0434\\u043d\\u0430\\u043a\\u043e\", \"\\u043e\\u0434\\u043d\\u0430\\u043a\\u043e\", \"\\u043e\\u0434\\u043d\\u0430\\u043a\\u043e\", \"\\u043e\\u0434\\u043d\\u0430\\u043a\\u043e\", \"\\u043e\\u0434\\u043d\\u0430\\u043a\\u043e\", \"\\u043e\\u0434\\u043d\\u0430\\u043a\\u043e\", \"\\u043e\\u043a\\u043e\\u043b\\u043e\", \"\\u043e\\u043a\\u043e\\u043b\\u043e\", \"\\u043e\\u043a\\u043e\\u043b\\u043e\", \"\\u043e\\u043a\\u043e\\u043b\\u043e\", \"\\u043e\\u043a\\u043e\\u043b\\u043e\", \"\\u043e\\u043a\\u043e\\u043d\\u0447\\u0430\\u043d\\u0438\\u0435\", \"\\u043e\\u043b\\u0438\\u043c\\u043f\\u0438\\u0439\\u0441\\u043a\\u0438\\u0439\", \"\\u043e\\u043e\\u043d\", \"\\u043e\\u043f\\u0435\\u0440\\u0430\\u0442\\u043e\\u0440\", \"\\u043e\\u043f\\u0435\\u0440\\u0430\\u0446\\u0438\\u044f\", \"\\u043e\\u043f\\u0435\\u0440\\u0430\\u0446\\u0438\\u044f\", \"\\u043e\\u043f\\u0440\\u043e\\u0441\", \"\\u043e\\u043f\\u0440\\u043e\\u0441\\u0438\\u0442\\u044c\", \"\\u043e\\u043f\\u0443\\u0431\\u043b\\u0438\\u043a\\u043e\\u0432\\u0430\\u0442\\u044c\", \"\\u043e\\u043f\\u0443\\u0431\\u043b\\u0438\\u043a\\u043e\\u0432\\u0430\\u0442\\u044c\", \"\\u043e\\u043f\\u0443\\u0431\\u043b\\u0438\\u043a\\u043e\\u0432\\u0430\\u0442\\u044c\", \"\\u043e\\u0440\\u0433\\u0430\\u043d\\u0438\\u0437\\u0430\\u0446\\u0438\\u044f\", \"\\u043e\\u0440\\u0433\\u0430\\u043d\\u0438\\u0437\\u0430\\u0446\\u0438\\u044f\", \"\\u043e\\u0440\\u0433\\u0430\\u043d\\u0438\\u0437\\u0430\\u0446\\u0438\\u044f\", \"\\u043e\\u0440\\u0433\\u0430\\u043d\\u0438\\u0437\\u0430\\u0446\\u0438\\u044f\", \"\\u043e\\u0441\\u0432\\u043e\\u0431\\u043e\\u0436\\u0434\\u0435\\u043d\\u0438\\u0435\", \"\\u043e\\u0441\\u043e\\u0431\\u043d\\u044f\\u043a\", \"\\u043e\\u0441\\u0443\\u0434\\u0438\\u0442\\u044c\", \"\\u043e\\u0442\\u0435\\u043b\\u044c\", \"\\u043e\\u0442\\u043d\\u043e\\u0448\\u0435\\u043d\\u0438\\u0435\", \"\\u043e\\u0442\\u043d\\u043e\\u0448\\u0435\\u043d\\u0438\\u0435\", \"\\u043e\\u0442\\u043d\\u043e\\u0448\\u0435\\u043d\\u0438\\u0435\", \"\\u043e\\u0442\\u0441\\u0442\\u0430\\u0432\\u043a\\u0430\", \"\\u043e\\u0444\\u0438\\u0441\\u043d\\u044b\\u0439\", \"\\u043e\\u0447\\u043a\\u043e\", \"\\u043f\\u0430\\u043b\\u0430\\u0442\\u0430\", \"\\u043f\\u0430\\u043b\\u0435\\u0441\\u0442\\u0438\\u043d\\u0441\\u043a\\u0438\\u0439\", \"\\u043f\\u0430\\u0440\\u043b\\u0430\\u043c\\u0435\\u043d\\u0442\", \"\\u043f\\u0430\\u0440\\u0442\\u0438\\u044f\", \"\\u043f\\u0430\\u0441\\u0441\\u0430\\u0436\\u0438\\u0440\", \"\\u043f\\u0435\\u0440\\u0432\\u044b\\u0439\", \"\\u043f\\u0435\\u0440\\u0432\\u044b\\u0439\", \"\\u043f\\u0435\\u0440\\u0432\\u044b\\u0439\", \"\\u043f\\u0435\\u0440\\u0432\\u044b\\u0439\", \"\\u043f\\u0435\\u0440\\u0432\\u044b\\u0439\", \"\\u043f\\u0435\\u0440\\u0432\\u044b\\u0439\", \"\\u043f\\u0435\\u0440\\u0432\\u044b\\u0439\", \"\\u043f\\u0438\\u043b\\u043e\\u0442\", \"\\u043f\\u0438\\u0441\\u0430\\u0442\\u044c\", \"\\u043f\\u0438\\u0441\\u0430\\u0442\\u044c\", \"\\u043f\\u0438\\u0441\\u0430\\u0442\\u044c\", \"\\u043f\\u0438\\u0441\\u0430\\u0442\\u044c\", \"\\u043f\\u0438\\u0441\\u044c\\u043c\\u043e\", \"\\u043f\\u043b\\u0430\\u043d\\u0435\\u0442\\u0430\", \"\\u043f\\u043b\\u043e\\u0449\\u0430\\u0434\\u044c\", \"\\u043f\\u043b\\u043e\\u0449\\u0430\\u0434\\u044c\", \"\\u043f\\u043e\\u0431\\u0435\\u0434\\u0430\", \"\\u043f\\u043e\\u0431\\u0435\\u0434\\u0430\", \"\\u043f\\u043e\\u0432\\u043e\\u0434\", \"\\u043f\\u043e\\u0433\\u0438\\u0431\\u043d\\u0443\\u0442\\u044c\", \"\\u043f\\u043e\\u0434\\u0430\\u0442\\u044c\", \"\\u043f\\u043e\\u0434\\u0434\\u0435\\u0440\\u0436\\u0438\\u0432\\u0430\\u0442\\u044c\", \"\\u043f\\u043e\\u0434\\u0434\\u0435\\u0440\\u0436\\u043a\\u0430\", \"\\u043f\\u043e\\u0434\\u0440\\u043e\\u0441\\u0442\\u043e\\u043a\", \"\\u043f\\u043e\\u0435\\u0437\\u0434\", \"\\u043f\\u043e\\u0436\\u0430\\u0440\", \"\\u043f\\u043e\\u0437\\u0432\\u043e\\u043b\\u044f\\u0442\\u044c\", \"\\u043f\\u043e\\u043a\\u0430\\u0437\\u0430\\u0442\\u0435\\u043b\\u044c\", \"\\u043f\\u043e\\u043a\\u0430\\u0437\\u0430\\u0442\\u044c\", \"\\u043f\\u043e\\u043a\\u0443\\u043f\\u043a\\u0430\", \"\\u043f\\u043e\\u043b\\u0438\\u0446\\u0435\\u0439\\u0441\\u043a\\u0438\\u0439\", \"\\u043f\\u043e\\u043b\\u0438\\u0446\\u0438\\u044f\", \"\\u043f\\u043e\\u043b\\u0443\\u0447\\u0438\\u0442\\u044c\", \"\\u043f\\u043e\\u043b\\u0443\\u0447\\u0438\\u0442\\u044c\", \"\\u043f\\u043e\\u043b\\u0443\\u0447\\u0438\\u0442\\u044c\", \"\\u043f\\u043e\\u043b\\u0443\\u0447\\u0438\\u0442\\u044c\", \"\\u043f\\u043e\\u043b\\u0443\\u0447\\u0438\\u0442\\u044c\", \"\\u043f\\u043e\\u043b\\u0443\\u0447\\u0438\\u0442\\u044c\", \"\\u043f\\u043e\\u043b\\u044c\\u0437\\u043e\\u0432\\u0430\\u0442\\u0435\\u043b\\u044c\", \"\\u043f\\u043e\\u043b\\u0451\\u0442\", \"\\u043f\\u043e\\u043f\\u0440\\u0430\\u0432\\u043a\\u0430\", \"\\u043f\\u043e\\u0440\\u0430\\u0436\\u0435\\u043d\\u0438\\u0435\", \"\\u043f\\u043e\\u0441\\u043b\\u0435\\u0434\\u043d\\u0438\\u0439\", \"\\u043f\\u043e\\u0441\\u043b\\u0435\\u0434\\u043d\\u0438\\u0439\", \"\\u043f\\u043e\\u0441\\u043b\\u0435\\u0434\\u043d\\u0438\\u0439\", \"\\u043f\\u043e\\u0441\\u043b\\u0435\\u0434\\u043d\\u0438\\u0439\", \"\\u043f\\u043e\\u0441\\u043b\\u0435\\u0434\\u043d\\u0438\\u0439\", \"\\u043f\\u043e\\u0441\\u043b\\u0435\\u0434\\u043d\\u0438\\u0439\", \"\\u043f\\u043e\\u0441\\u0442\\u0440\\u0430\\u0434\\u0430\\u0442\\u044c\", \"\\u043f\\u043e\\u0441\\u0442\\u0440\\u043e\\u0438\\u0442\\u044c\", \"\\u043f\\u043e\\u0445\\u0438\\u0442\\u0438\\u0442\\u044c\", \"\\u043f\\u043e\\u044f\\u0432\\u0438\\u0442\\u044c\\u0441\\u044f\", \"\\u043f\\u043e\\u044f\\u0432\\u0438\\u0442\\u044c\\u0441\\u044f\", \"\\u043f\\u043e\\u044f\\u0432\\u0438\\u0442\\u044c\\u0441\\u044f\", \"\\u043f\\u0440\\u0430\\u0432\\u0438\\u0442\\u0435\\u043b\\u044c\\u0441\\u0442\\u0432\\u043e\", \"\\u043f\\u0440\\u0430\\u0432\\u0438\\u0442\\u0435\\u043b\\u044c\\u0441\\u0442\\u0432\\u043e\", \"\\u043f\\u0440\\u0430\\u0432\\u0438\\u0442\\u0435\\u043b\\u044c\\u0441\\u0442\\u0432\\u043e\", \"\\u043f\\u0440\\u0430\\u0432\\u043e\", \"\\u043f\\u0440\\u0430\\u0432\\u043e\", \"\\u043f\\u0440\\u0430\\u0432\\u043e\\u043e\\u0445\\u0440\\u0430\\u043d\\u0438\\u0442\\u0435\\u043b\\u044c\\u043d\\u044b\\u0439\", \"\\u043f\\u0440\\u0435\\u0434\\u043f\\u0440\\u0438\\u044f\\u0442\\u0438\\u0435\", \"\\u043f\\u0440\\u0435\\u0434\\u043f\\u0440\\u0438\\u044f\\u0442\\u0438\\u0435\", \"\\u043f\\u0440\\u0435\\u0434\\u0441\\u0442\\u0430\\u0432\\u0438\\u0442\\u0435\\u043b\\u044c\", \"\\u043f\\u0440\\u0435\\u0434\\u0441\\u0442\\u0430\\u0432\\u0438\\u0442\\u0435\\u043b\\u044c\", \"\\u043f\\u0440\\u0435\\u0434\\u0441\\u0442\\u0430\\u0432\\u0438\\u0442\\u0435\\u043b\\u044c\", \"\\u043f\\u0440\\u0435\\u0434\\u0441\\u0442\\u0430\\u0432\\u0438\\u0442\\u0435\\u043b\\u044c\", \"\\u043f\\u0440\\u0435\\u0434\\u0441\\u0442\\u0430\\u0432\\u0438\\u0442\\u0435\\u043b\\u044c\", \"\\u043f\\u0440\\u0435\\u0437\\u0438\\u0434\\u0435\\u043d\\u0442\", \"\\u043f\\u0440\\u0435\\u0437\\u0438\\u0434\\u0435\\u043d\\u0442\", \"\\u043f\\u0440\\u0435\\u0437\\u0438\\u0434\\u0435\\u043d\\u0442\", \"\\u043f\\u0440\\u0435\\u043c\\u0438\\u044f\", \"\\u043f\\u0440\\u0438\\u0433\\u043e\\u0432\\u043e\\u0440\", \"\\u043f\\u0440\\u0438\\u0433\\u043e\\u0432\\u043e\\u0440\\u0438\\u0442\\u044c\", \"\\u043f\\u0440\\u0438\\u0437\", \"\\u043f\\u0440\\u0438\\u0437\\u043d\\u0430\\u0442\\u044c\", \"\\u043f\\u0440\\u0438\\u043d\\u044f\\u0442\\u044c\", \"\\u043f\\u0440\\u0438\\u043d\\u044f\\u0442\\u044c\", \"\\u043f\\u0440\\u0438\\u043d\\u044f\\u0442\\u044c\", \"\\u043f\\u0440\\u0438\\u043e\\u0431\\u0440\\u0435\\u0441\\u0442\\u0438\", \"\\u043f\\u0440\\u043e\\u0432\\u0435\\u0441\\u0442\\u0438\", \"\\u043f\\u0440\\u043e\\u0432\\u0435\\u0441\\u0442\\u0438\", \"\\u043f\\u0440\\u043e\\u0432\\u0435\\u0441\\u0442\\u0438\", \"\\u043f\\u0440\\u043e\\u0432\\u0435\\u0441\\u0442\\u0438\", \"\\u043f\\u0440\\u043e\\u0432\\u0435\\u0441\\u0442\\u0438\", \"\\u043f\\u0440\\u043e\\u0432\\u0435\\u0441\\u0442\\u0438\", \"\\u043f\\u0440\\u043e\\u0433\\u043e\\u043b\\u043e\\u0441\\u043e\\u0432\\u0430\\u0442\\u044c\", \"\\u043f\\u0440\\u043e\\u0434\\u0430\\u0436\\u0430\", \"\\u043f\\u0440\\u043e\\u0434\\u0430\\u0436\\u0430\", \"\\u043f\\u0440\\u043e\\u0434\\u0430\\u0436\\u0430\", \"\\u043f\\u0440\\u043e\\u0434\\u0430\\u0442\\u044c\", \"\\u043f\\u0440\\u043e\\u0435\\u043a\\u0442\", \"\\u043f\\u0440\\u043e\\u0435\\u043a\\u0442\", \"\\u043f\\u0440\\u043e\\u0435\\u043a\\u0442\", \"\\u043f\\u0440\\u043e\\u0435\\u043a\\u0442\", \"\\u043f\\u0440\\u043e\\u0438\\u0437\\u043e\\u0439\\u0442\\u0438\", \"\\u043f\\u0440\\u043e\\u0438\\u0441\\u0448\\u0435\\u0441\\u0442\\u0432\\u0438\\u0435\", \"\\u043f\\u0440\\u043e\\u0439\\u0442\\u0438\", \"\\u043f\\u0440\\u043e\\u0439\\u0442\\u0438\", \"\\u043f\\u0440\\u043e\\u0439\\u0442\\u0438\", \"\\u043f\\u0440\\u043e\\u0442\\u0438\\u0432\", \"\\u043f\\u0440\\u043e\\u0442\\u0438\\u0432\", \"\\u043f\\u0440\\u043e\\u0442\\u0438\\u0432\", \"\\u043f\\u0440\\u043e\\u0446\\u0435\\u043d\\u0442\", \"\\u043f\\u0440\\u043e\\u0446\\u0435\\u043d\\u0442\", \"\\u043f\\u0440\\u043e\\u0446\\u0435\\u0441\\u0441\", \"\\u043f\\u0443\\u0442\\u0438\\u043d\", \"\\u043f\\u0443\\u0442\\u0438\\u043d\", \"\\u0440\\u0430\\u0431\\u043e\\u0442\\u0430\", \"\\u0440\\u0430\\u0431\\u043e\\u0442\\u0430\", \"\\u0440\\u0430\\u0431\\u043e\\u0442\\u0430\", \"\\u0440\\u0430\\u0431\\u043e\\u0442\\u0430\", \"\\u0440\\u0430\\u0431\\u043e\\u0442\\u0430\", \"\\u0440\\u0430\\u0431\\u043e\\u0442\\u0430\", \"\\u0440\\u0430\\u0431\\u043e\\u0442\\u043d\\u0438\\u043a\", \"\\u0440\\u0430\\u0437\\u0440\\u0430\\u0431\\u043e\\u0442\\u0447\\u0438\\u043a\", \"\\u0440\\u0430\\u0439\\u043e\\u043d\", \"\\u0440\\u0430\\u0439\\u043e\\u043d\", \"\\u0440\\u0430\\u043a\\u0435\\u0442\\u0430\", \"\\u0440\\u0430\\u043d\\u0435\\u043d\\u0438\\u0435\", \"\\u0440\\u0430\\u0441\\u0445\\u043e\\u0434\", \"\\u0440\\u0435\\u0431\\u0451\\u043d\\u043e\\u043a\", \"\\u0440\\u0435\\u0436\\u0438\\u0441\\u0441\\u0451\\u0440\", \"\\u0440\\u0435\\u0437\\u0443\\u043b\\u044c\\u0442\\u0430\\u0442\", \"\\u0440\\u0435\\u0437\\u0443\\u043b\\u044c\\u0442\\u0430\\u0442\", \"\\u0440\\u0435\\u0437\\u0443\\u043b\\u044c\\u0442\\u0430\\u0442\", \"\\u0440\\u0435\\u0437\\u0443\\u043b\\u044c\\u0442\\u0430\\u0442\", \"\\u0440\\u0435\\u0437\\u0443\\u043b\\u044c\\u0442\\u0430\\u0442\", \"\\u0440\\u0435\\u0437\\u0443\\u043b\\u044c\\u0442\\u0430\\u0442\", \"\\u0440\\u0435\\u0439\\u0442\\u0438\\u043d\\u0433\", \"\\u0440\\u0435\\u043b\\u0438\\u0437\", \"\\u0440\\u0435\\u043b\\u0438\\u0437\", \"\\u0440\\u0435\\u0441\\u043f\\u0443\\u0431\\u043b\\u0438\\u043a\\u0430\", \"\\u0440\\u0435\\u0441\\u043f\\u0443\\u0431\\u043b\\u0438\\u043a\\u0430\", \"\\u0440\\u0435\\u0441\\u043f\\u0443\\u0431\\u043b\\u0438\\u043a\\u0430\", \"\\u0440\\u0435\\u0441\\u0442\\u043e\\u0440\\u0430\\u043d\", \"\\u0440\\u0435\\u0448\\u0435\\u043d\\u0438\\u0435\", \"\\u0440\\u0435\\u0448\\u0435\\u043d\\u0438\\u0435\", \"\\u0440\\u043e\\u043b\\u044c\", \"\\u0440\\u043e\\u0441\\u0441\\u0438\\u0439\\u0441\\u043a\\u0438\\u0439\", \"\\u0440\\u043e\\u0441\\u0441\\u0438\\u0439\\u0441\\u043a\\u0438\\u0439\", \"\\u0440\\u043e\\u0441\\u0441\\u0438\\u0439\\u0441\\u043a\\u0438\\u0439\", \"\\u0440\\u043e\\u0441\\u0441\\u0438\\u0439\\u0441\\u043a\\u0438\\u0439\", \"\\u0440\\u043e\\u0441\\u0441\\u0438\\u0439\\u0441\\u043a\\u0438\\u0439\", \"\\u0440\\u043e\\u0441\\u0441\\u0438\\u0439\\u0441\\u043a\\u0438\\u0439\", \"\\u0440\\u043e\\u0441\\u0441\\u0438\\u044f\", \"\\u0440\\u043e\\u0441\\u0441\\u0438\\u044f\", \"\\u0440\\u043e\\u0441\\u0441\\u0438\\u044f\", \"\\u0440\\u043e\\u0441\\u0441\\u0438\\u044f\", \"\\u0440\\u043e\\u0441\\u0441\\u0438\\u044f\", \"\\u0440\\u043e\\u0441\\u0441\\u0438\\u044f\\u043d\\u0438\\u043d\", \"\\u0440\\u043e\\u0441\\u0441\\u0438\\u044f\\u043d\\u0438\\u043d\", \"\\u0440\\u043e\\u0441\\u0442\", \"\\u0440\\u0443\\u0431\\u043b\\u044c\", \"\\u0440\\u0443\\u0431\\u043b\\u044c\", \"\\u0440\\u0443\\u0431\\u043b\\u044c\", \"\\u0440\\u0443\\u043a\\u043e\\u0432\\u043e\\u0434\\u0438\\u0442\\u0435\\u043b\\u044c\", \"\\u0440\\u044b\\u043d\\u043e\\u043a\", \"\\u0440\\u044b\\u043d\\u043e\\u043a\", \"\\u0441\\u0430\\u0439\\u0442\", \"\\u0441\\u0430\\u0439\\u0442\", \"\\u0441\\u0430\\u0439\\u0442\", \"\\u0441\\u0430\\u0439\\u0442\", \"\\u0441\\u0430\\u0439\\u0442\", \"\\u0441\\u0430\\u043c\\u043e\\u043b\\u0451\\u0442\", \"\\u0441\\u0430\\u043c\\u044b\\u0439\", \"\\u0441\\u0430\\u043c\\u044b\\u0439\", \"\\u0441\\u0430\\u043c\\u044b\\u0439\", \"\\u0441\\u0430\\u043c\\u044b\\u0439\", \"\\u0441\\u0430\\u043c\\u044b\\u0439\", \"\\u0441\\u0431\\u0435\\u0440\\u0431\\u0430\\u043d\\u043a\", \"\\u0441\\u0431\\u0435\\u0440\\u0431\\u0430\\u043d\\u043a\", \"\\u0441\\u0431\\u043e\\u0440\\u043d\\u0430\\u044f\", \"\\u0441\\u0432\\u043e\\u0439\", \"\\u0441\\u0432\\u043e\\u0439\", \"\\u0441\\u0432\\u043e\\u0439\", \"\\u0441\\u0432\\u043e\\u0439\", \"\\u0441\\u0432\\u043e\\u0439\", \"\\u0441\\u0432\\u043e\\u0439\", \"\\u0441\\u0434\\u0435\\u043b\\u043a\\u0430\", \"\\u0441\\u0435\\u0437\\u043e\\u043d\", \"\\u0441\\u0435\\u043a\\u0442\\u043e\\u0440\", \"\\u0441\\u0435\\u0440\\u0433\\u0435\\u0439\", \"\\u0441\\u0435\\u0440\\u0433\\u0435\\u0439\", \"\\u0441\\u0435\\u0440\\u0438\\u0430\\u043b\", \"\\u0441\\u0435\\u0442\\u044c\", \"\\u0441\\u0435\\u0442\\u044c\", \"\\u0441\\u0438\\u043b\\u0430\", \"\\u0441\\u0438\\u043b\\u0430\", \"\\u0441\\u0438\\u0440\\u0438\\u0439\\u0441\\u043a\\u0438\\u0439\", \"\\u0441\\u0438\\u0440\\u0438\\u044f\", \"\\u0441\\u043a\\u0430\\u0437\\u0430\\u0442\\u044c\", \"\\u0441\\u043a\\u0430\\u0437\\u0430\\u0442\\u044c\", \"\\u0441\\u043a\\u0430\\u0437\\u0430\\u0442\\u044c\", \"\\u0441\\u043a\\u043e\\u0440\\u043e\\u0441\\u0442\\u044c\", \"\\u0441\\u043b\\u0435\\u0434\\u0441\\u0442\\u0432\\u0435\\u043d\\u043d\\u044b\\u0439\", \"\\u0441\\u043b\\u043e\\u0432\\u043e\", \"\\u0441\\u043b\\u043e\\u0432\\u043e\", \"\\u0441\\u043b\\u043e\\u0432\\u043e\", \"\\u0441\\u043b\\u043e\\u0432\\u043e\", \"\\u0441\\u043b\\u043e\\u0432\\u043e\", \"\\u0441\\u043b\\u0443\\u0436\\u0431\\u0430\", \"\\u0441\\u043b\\u0443\\u0436\\u0431\\u0430\", \"\\u0441\\u043b\\u0443\\u0436\\u0431\\u0430\", \"\\u0441\\u043d\\u0438\\u0437\\u0438\\u0442\\u044c\\u0441\\u044f\", \"\\u0441\\u043e\\u0431\\u0440\\u0430\\u0442\\u044c\", \"\\u0441\\u043e\\u0432\\u0435\\u0440\\u0448\\u0438\\u0442\\u044c\", \"\\u0441\\u043e\\u0432\\u0435\\u0442\\u0441\\u043a\\u0438\\u0439\", \"\\u0441\\u043e\\u043a\\u0440\\u0430\\u0449\\u0435\\u043d\\u0438\\u0435\", \"\\u0441\\u043e\\u043b\\u0434\\u0430\\u0442\", \"\\u0441\\u043e\\u043e\\u0431\\u0449\\u0430\\u0442\\u044c\", \"\\u0441\\u043e\\u043e\\u0431\\u0449\\u0430\\u0442\\u044c\", \"\\u0441\\u043e\\u043e\\u0431\\u0449\\u0430\\u0442\\u044c\", \"\\u0441\\u043e\\u043e\\u0431\\u0449\\u0430\\u0442\\u044c\", \"\\u0441\\u043e\\u043e\\u0431\\u0449\\u0430\\u0442\\u044c\", \"\\u0441\\u043e\\u043e\\u0431\\u0449\\u0430\\u0442\\u044c\", \"\\u0441\\u043e\\u043e\\u0431\\u0449\\u0430\\u0442\\u044c\", \"\\u0441\\u043e\\u043e\\u0431\\u0449\\u0430\\u0442\\u044c\", \"\\u0441\\u043e\\u043e\\u0431\\u0449\\u0430\\u0442\\u044c\", \"\\u0441\\u043e\\u043e\\u0431\\u0449\\u0430\\u0442\\u044c\\u0441\\u044f\", \"\\u0441\\u043e\\u043e\\u0431\\u0449\\u0430\\u0442\\u044c\\u0441\\u044f\", \"\\u0441\\u043e\\u043e\\u0431\\u0449\\u0430\\u0442\\u044c\\u0441\\u044f\", \"\\u0441\\u043e\\u043e\\u0431\\u0449\\u0430\\u0442\\u044c\\u0441\\u044f\", \"\\u0441\\u043e\\u043e\\u0431\\u0449\\u0438\\u0442\\u044c\", \"\\u0441\\u043e\\u043e\\u0431\\u0449\\u0438\\u0442\\u044c\", \"\\u0441\\u043e\\u043e\\u0431\\u0449\\u0438\\u0442\\u044c\", \"\\u0441\\u043e\\u043e\\u0431\\u0449\\u0438\\u0442\\u044c\", \"\\u0441\\u043e\\u043e\\u0431\\u0449\\u0438\\u0442\\u044c\", \"\\u0441\\u043e\\u0441\\u0442\\u0430\\u0432\\u0438\\u0442\\u044c\", \"\\u0441\\u043e\\u0441\\u0442\\u0430\\u0432\\u0438\\u0442\\u044c\", \"\\u0441\\u043e\\u0441\\u0442\\u0430\\u0432\\u0438\\u0442\\u044c\", \"\\u0441\\u043e\\u0441\\u0442\\u0430\\u0432\\u043b\\u044f\\u0442\\u044c\", \"\\u0441\\u043e\\u0441\\u0442\\u0430\\u0432\\u043b\\u044f\\u0442\\u044c\", \"\\u0441\\u043e\\u0441\\u0442\\u0430\\u0432\\u043b\\u044f\\u0442\\u044c\", \"\\u0441\\u043e\\u0441\\u0442\\u043e\\u044f\\u0442\\u044c\\u0441\\u044f\", \"\\u0441\\u043e\\u0441\\u0442\\u043e\\u044f\\u0442\\u044c\\u0441\\u044f\", \"\\u0441\\u043e\\u0441\\u0442\\u043e\\u044f\\u0442\\u044c\\u0441\\u044f\", \"\\u0441\\u043e\\u0442\\u0440\\u0443\\u0434\\u043d\\u0438\\u043a\", \"\\u0441\\u043e\\u0442\\u0440\\u0443\\u0434\\u043d\\u0438\\u043a\", \"\\u0441\\u043e\\u0442\\u0440\\u0443\\u0434\\u043d\\u0438\\u0447\\u0435\\u0441\\u0442\\u0432\\u043e\", \"\\u0441\\u043f\\u0430\\u0440\\u0442\\u0430\\u043a\", \"\\u0441\\u043f\\u043e\\u0440\\u0442\", \"\\u0441\\u043f\\u043e\\u0440\\u0442\\u0438\\u0432\\u043d\\u044b\\u0439\", \"\\u0441\\u043f\\u043e\\u0440\\u0442\\u0441\\u043c\\u0435\\u043d\", \"\\u0441\\u0440\\u0430\\u0432\\u043d\\u0435\\u043d\\u0438\\u0435\", \"\\u0441\\u0440\\u0435\\u0434\\u043d\\u0438\\u0439\", \"\\u0441\\u0440\\u0435\\u0434\\u0441\\u0442\\u0432\\u043e\", \"\\u0441\\u0440\\u0435\\u0434\\u0441\\u0442\\u0432\\u043e\", \"\\u0441\\u0440\\u0435\\u0434\\u0441\\u0442\\u0432\\u043e\", \"\\u0441\\u0440\\u043e\\u043a\", \"\\u0441\\u0440\\u043e\\u043a\", \"\\u0441\\u0442\\u0430\\u0432\\u043a\\u0430\", \"\\u0441\\u0442\\u0430\\u0434\\u0438\\u043e\\u043d\", \"\\u0441\\u0442\\u0430\\u0442\\u044c\", \"\\u0441\\u0442\\u0430\\u0442\\u044c\", \"\\u0441\\u0442\\u0430\\u0442\\u044c\", \"\\u0441\\u0442\\u0430\\u0442\\u044c\", \"\\u0441\\u0442\\u0430\\u0442\\u044c\", \"\\u0441\\u0442\\u0430\\u0442\\u044c\", \"\\u0441\\u0442\\u0430\\u0442\\u044c\", \"\\u0441\\u0442\\u0430\\u0442\\u044c\", \"\\u0441\\u0442\\u043e\\u0440\\u043e\\u043d\\u0430\", \"\\u0441\\u0442\\u043e\\u0440\\u043e\\u043d\\u0430\", \"\\u0441\\u0442\\u043e\\u0440\\u043e\\u043d\\u0430\", \"\\u0441\\u0442\\u043e\\u0440\\u043e\\u043d\\u0430\", \"\\u0441\\u0442\\u043e\\u0440\\u043e\\u043d\\u043d\\u0438\\u043a\", \"\\u0441\\u0442\\u0440\\u0430\\u043d\\u0430\", \"\\u0441\\u0442\\u0440\\u0430\\u043d\\u0430\", \"\\u0441\\u0442\\u0440\\u043e\\u0438\\u0442\\u0435\\u043b\\u044c\\u0441\\u0442\\u0432\\u043e\", \"\\u0441\\u0442\\u0443\\u0434\\u0438\\u044f\", \"\\u0441\\u0443\\u0434\", \"\\u0441\\u0443\\u0434\\u0435\\u0431\\u043d\\u044b\\u0439\", \"\\u0441\\u0443\\u0434\\u043d\\u043e\", \"\\u0441\\u0443\\u0434\\u044c\\u044f\", \"\\u0441\\u0443\\u043c\\u043c\\u0430\", \"\\u0441\\u0443\\u043c\\u043c\\u0430\", \"\\u0441\\u0447\\u0451\\u0442\", \"\\u0441\\u0447\\u0451\\u0442\", \"\\u0441\\u0447\\u0451\\u0442\", \"\\u0441\\u0448\\u0430\", \"\\u0441\\u0448\\u0430\", \"\\u0441\\u0448\\u0430\", \"\\u0441\\u0448\\u0430\", \"\\u0441\\u044b\\u0433\\u0440\\u0430\\u0442\\u044c\", \"\\u0441\\u044b\\u0433\\u0440\\u0430\\u0442\\u044c\", \"\\u0442\\u0430\\u043a\\u0436\\u0435\", \"\\u0442\\u0430\\u043a\\u0436\\u0435\", \"\\u0442\\u0430\\u043a\\u0436\\u0435\", \"\\u0442\\u0430\\u043a\\u0436\\u0435\", \"\\u0442\\u0430\\u043a\\u0436\\u0435\", \"\\u0442\\u0430\\u043a\\u0436\\u0435\", \"\\u0442\\u0430\\u043a\\u0436\\u0435\", \"\\u0442\\u0430\\u043a\\u0436\\u0435\", \"\\u0442\\u0430\\u043a\\u0436\\u0435\", \"\\u0442\\u0435\\u0430\\u0442\\u0440\", \"\\u0442\\u0435\\u043b\\u0435\\u0444\\u043e\\u043d\", \"\\u0442\\u0435\\u043b\\u043e\", \"\\u0442\\u0435\\u0440\\u0440\\u0438\\u0442\\u043e\\u0440\\u0438\\u044f\", \"\\u0442\\u0435\\u0440\\u0440\\u0438\\u0442\\u043e\\u0440\\u0438\\u044f\", \"\\u0442\\u0435\\u0440\\u0440\\u0438\\u0442\\u043e\\u0440\\u0438\\u044f\", \"\\u0442\\u0435\\u0440\\u0440\\u0438\\u0442\\u043e\\u0440\\u0438\\u044f\", \"\\u0442\\u0435\\u0440\\u0440\\u043e\\u0440\\u0438\\u0441\\u0442\", \"\\u0442\\u0435\\u0440\\u0440\\u043e\\u0440\\u0438\\u0441\\u0442\", \"\\u0442\\u0435\\u0440\\u0440\\u043e\\u0440\\u0438\\u0441\\u0442\\u0438\\u0447\\u0435\\u0441\\u043a\\u0438\\u0439\", \"\\u0442\\u043e\\u0432\\u0430\\u0440\", \"\\u0442\\u043e\\u043d\\u043d\\u0430\", \"\\u0442\\u0440\\u0430\\u043c\\u043f\", \"\\u0442\\u0440\\u0435\\u043d\\u0435\\u0440\", \"\\u0442\\u0440\\u0438\\u043b\\u043b\\u0438\\u043e\\u043d\", \"\\u0442\\u0443\\u0440\", \"\\u0442\\u0443\\u0440\\u0435\\u0446\\u043a\\u0438\\u0439\", \"\\u0442\\u0443\\u0440\\u043d\\u0438\\u0440\", \"\\u0442\\u0443\\u0440\\u0446\\u0438\\u044f\", \"\\u0442\\u044b\\u0441\\u044f\\u0447\\u0430\", \"\\u0442\\u044b\\u0441\\u044f\\u0447\\u0430\", \"\\u0442\\u044b\\u0441\\u044f\\u0447\\u0430\", \"\\u0442\\u044b\\u0441\\u044f\\u0447\\u0430\", \"\\u0442\\u044b\\u0441\\u044f\\u0447\\u0430\", \"\\u0442\\u044b\\u0441\\u044f\\u0447\\u0430\", \"\\u0443\\u0431\\u0438\\u0439\\u0441\\u0442\\u0432\\u043e\", \"\\u0443\\u0431\\u0438\\u0442\\u044c\", \"\\u0443\\u0432\\u0435\\u043b\\u0438\\u0447\\u0435\\u043d\\u0438\\u0435\", \"\\u0443\\u0432\\u0435\\u043b\\u0438\\u0447\\u0438\\u0442\\u044c\\u0441\\u044f\", \"\\u0443\\u043a\\u0440\\u0430\\u0438\\u043d\\u0430\", \"\\u0443\\u043a\\u0440\\u0430\\u0438\\u043d\\u0430\", \"\\u0443\\u043a\\u0440\\u0430\\u0438\\u043d\\u0441\\u043a\\u0438\\u0439\", \"\\u0443\\u043d\\u0438\\u0432\\u0435\\u0440\\u0441\\u0438\\u0442\\u0435\\u0442\", \"\\u0443\\u0440\\u043e\\u0432\\u0435\\u043d\\u044c\", \"\\u0443\\u0440\\u043e\\u0432\\u0435\\u043d\\u044c\", \"\\u0443\\u0440\\u043e\\u0432\\u0435\\u043d\\u044c\", \"\\u0443\\u0440\\u043e\\u0432\\u0435\\u043d\\u044c\", \"\\u0443\\u0447\\u0430\\u0441\\u0442\\u0438\\u0435\", \"\\u0443\\u0447\\u0430\\u0441\\u0442\\u0438\\u0435\", \"\\u0443\\u0447\\u0430\\u0441\\u0442\\u0438\\u0435\", \"\\u0443\\u0447\\u0451\\u043d\\u044b\\u0439\", \"\\u0444\\u0438\\u043b\\u044c\\u043c\", \"\\u0444\\u0438\\u043d\\u0430\\u043b\", \"\\u0444\\u0438\\u043d\\u0430\\u043d\\u0441\\u043e\\u0432\\u044b\\u0439\", \"\\u0444\\u043e\\u0440\\u0432\\u0430\\u0440\\u0434\", \"\\u0444\\u043e\\u0440\\u0443\\u043c\", \"\\u0444\\u0440\\u0430\\u043d\\u0446\\u0438\\u044f\", \"\\u0444\\u0443\\u043d\\u0442\", \"\\u0444\\u0443\\u0442\\u0431\\u043e\\u043b\", \"\\u0444\\u0443\\u0442\\u0431\\u043e\\u043b\\u0438\\u0441\\u0442\", \"\\u0444\\u0443\\u0442\\u0431\\u043e\\u043b\\u044c\\u043d\\u044b\\u0439\", \"\\u0445\\u043e\\u0440\\u043e\\u0448\\u0438\\u0439\", \"\\u0445\\u043e\\u0440\\u043e\\u0448\\u0438\\u0439\", \"\\u0445\\u043e\\u0440\\u043e\\u0448\\u0438\\u0439\", \"\\u0445\\u043e\\u0440\\u043e\\u0448\\u0438\\u0439\", \"\\u0446\\u0435\\u043d\\u0430\", \"\\u0446\\u0435\\u043d\\u0430\", \"\\u0446\\u0435\\u043d\\u0442\\u0440\", \"\\u0446\\u0435\\u043d\\u0442\\u0440\", \"\\u0446\\u0435\\u043d\\u0442\\u0440\", \"\\u0446\\u0435\\u0440\\u043a\\u043e\\u0432\\u044c\", \"\\u0446\\u0441\\u043a\\u0430\", \"\\u0447\\u0435\\u043b\\u043e\\u0432\\u0435\\u043a\", \"\\u0447\\u0435\\u043b\\u043e\\u0432\\u0435\\u043a\", \"\\u0447\\u0435\\u043b\\u043e\\u0432\\u0435\\u043a\", \"\\u0447\\u0435\\u043b\\u043e\\u0432\\u0435\\u043a\", \"\\u0447\\u0435\\u043b\\u043e\\u0432\\u0435\\u043a\", \"\\u0447\\u0435\\u043b\\u043e\\u0432\\u0435\\u043a\", \"\\u0447\\u0435\\u043c\\u043f\\u0438\\u043e\\u043d\", \"\\u0447\\u0435\\u043c\\u043f\\u0438\\u043e\\u043d\\u0430\\u0442\", \"\\u0447\\u0435\\u0447\\u043d\\u044f\", \"\\u0447\\u0438\\u043d\\u043e\\u0432\\u043d\\u0438\\u043a\", \"\\u0447\\u0438\\u043d\\u043e\\u0432\\u043d\\u0438\\u043a\", \"\\u0448\\u0432\\u0435\\u0446\\u0438\\u044f\", \"\\u0448\\u0442\\u0430\\u0431\", \"\\u0448\\u0442\\u0430\\u0442\", \"\\u044d\\u043a\\u0438\\u043f\\u0430\\u0436\", \"\\u044d\\u043a\\u043e\\u043d\\u043e\\u043c\\u0438\\u043a\\u0430\", \"\\u044d\\u043a\\u0440\\u0430\\u043d\", \"\\u044d\\u0442\\u043e\", \"\\u044d\\u0442\\u043e\", \"\\u044d\\u0442\\u043e\", \"\\u044d\\u0442\\u043e\", \"\\u044d\\u0442\\u043e\", \"\\u044d\\u0442\\u043e\", \"\\u044d\\u0442\\u043e\", \"\\u044d\\u0442\\u043e\", \"\\u044d\\u0442\\u043e\", \"\\u044e\\u043a\\u043e\\u0441\", \"\\u044f\\u0432\\u043b\\u044f\\u0442\\u044c\\u0441\\u044f\", \"\\u044f\\u0432\\u043b\\u044f\\u0442\\u044c\\u0441\\u044f\", \"\\u044f\\u0432\\u043b\\u044f\\u0442\\u044c\\u0441\\u044f\", \"\\u044f\\u0432\\u043b\\u044f\\u0442\\u044c\\u0441\\u044f\", \"\\u044f\\u0432\\u043b\\u044f\\u0442\\u044c\\u0441\\u044f\", \"\\u044f\\u0434\\u0435\\u0440\\u043d\\u044b\\u0439\"]}, \"R\": 30, \"lambda.step\": 0.01, \"plot.opts\": {\"xlab\": \"PC1\", \"ylab\": \"PC2\"}, \"topic.order\": [8, 2, 7, 4, 6, 3, 1, 9, 5]};\n",
       "\n",
       "function LDAvis_load_lib(url, callback){\n",
       "  var s = document.createElement('script');\n",
       "  s.src = url;\n",
       "  s.async = true;\n",
       "  s.onreadystatechange = s.onload = callback;\n",
       "  s.onerror = function(){console.warn(\"failed to load library \" + url);};\n",
       "  document.getElementsByTagName(\"head\")[0].appendChild(s);\n",
       "}\n",
       "\n",
       "if(typeof(LDAvis) !== \"undefined\"){\n",
       "   // already loaded: just create the visualization\n",
       "   !function(LDAvis){\n",
       "       new LDAvis(\"#\" + \"ldavis_el790824804384763604231493343\", ldavis_el790824804384763604231493343_data);\n",
       "   }(LDAvis);\n",
       "}else if(typeof define === \"function\" && define.amd){\n",
       "   // require.js is available: use it to load d3/LDAvis\n",
       "   require.config({paths: {d3: \"https://d3js.org/d3.v5\"}});\n",
       "   require([\"d3\"], function(d3){\n",
       "      window.d3 = d3;\n",
       "      LDAvis_load_lib(\"https://cdn.jsdelivr.net/gh/bmabey/pyLDAvis@3.3.1/pyLDAvis/js/ldavis.v3.0.0.js\", function(){\n",
       "        new LDAvis(\"#\" + \"ldavis_el790824804384763604231493343\", ldavis_el790824804384763604231493343_data);\n",
       "      });\n",
       "    });\n",
       "}else{\n",
       "    // require.js not available: dynamically load d3 & LDAvis\n",
       "    LDAvis_load_lib(\"https://d3js.org/d3.v5.js\", function(){\n",
       "         LDAvis_load_lib(\"https://cdn.jsdelivr.net/gh/bmabey/pyLDAvis@3.3.1/pyLDAvis/js/ldavis.v3.0.0.js\", function(){\n",
       "                 new LDAvis(\"#\" + \"ldavis_el790824804384763604231493343\", ldavis_el790824804384763604231493343_data);\n",
       "            })\n",
       "         });\n",
       "}\n",
       "</script>"
      ],
      "text/plain": [
       "<IPython.core.display.HTML object>"
      ]
     },
     "execution_count": 535,
     "metadata": {},
     "output_type": "execute_result"
    }
   ],
   "source": [
    "import pyLDAvis\n",
    "import pyLDAvis.gensim_models as gensimvis\n",
    "\n",
    "%time topicData = gensimvis.prepare(lda, corpus_question, dictionary, mds='mmds')\n",
    "pyLDAvis.display(topicData)"
   ]
  },
  {
   "cell_type": "code",
   "execution_count": 547,
   "id": "04ce9786",
   "metadata": {},
   "outputs": [
    {
     "data": {
      "text/plain": [
       "['Россия',\n",
       " 'Мир',\n",
       " 'Экономика',\n",
       " 'Спорт',\n",
       " 'Культура',\n",
       " 'Путешествия',\n",
       " 'Наука и техника',\n",
       " 'Дом',\n",
       " 'Силовые структуры']"
      ]
     },
     "execution_count": 547,
     "metadata": {},
     "output_type": "execute_result"
    }
   ],
   "source": [
    "topics"
   ]
  },
  {
   "cell_type": "markdown",
   "id": "5945a1ac",
   "metadata": {},
   "source": [
    "## Вывод"
   ]
  },
  {
   "cell_type": "markdown",
   "id": "68232bb1",
   "metadata": {},
   "source": [
    "некоторые темы содержат одни и теже токены, из-за того,   \n",
    "что взял для обучения названия текстов где большое содержание строк, такие как 'Россия',   \n",
    "'Мир', можно сказатьБ что на них модель переобучилась, в общем где-то видно правильное определение тем, но в   \n",
    "твитах тяжело определить тему, т.к.  \n",
    "большенство токенов не несут никакого смысла  "
   ]
  },
  {
   "cell_type": "code",
   "execution_count": null,
   "id": "8e45d5fb",
   "metadata": {},
   "outputs": [],
   "source": []
  }
 ],
 "metadata": {
  "kernelspec": {
   "display_name": "Python 3 (ipykernel)",
   "language": "python",
   "name": "python3"
  },
  "language_info": {
   "codemirror_mode": {
    "name": "ipython",
    "version": 3
   },
   "file_extension": ".py",
   "mimetype": "text/x-python",
   "name": "python",
   "nbconvert_exporter": "python",
   "pygments_lexer": "ipython3",
   "version": "3.7.9"
  }
 },
 "nbformat": 4,
 "nbformat_minor": 5
}
